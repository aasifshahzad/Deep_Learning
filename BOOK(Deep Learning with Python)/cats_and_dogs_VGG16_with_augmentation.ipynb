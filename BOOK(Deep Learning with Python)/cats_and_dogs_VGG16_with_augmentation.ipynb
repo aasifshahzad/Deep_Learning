{
 "cells": [
  {
   "cell_type": "code",
   "execution_count": 2,
   "id": "earned-summary",
   "metadata": {},
   "outputs": [
    {
     "name": "stdout",
     "output_type": "stream",
     "text": [
      "Downloading data from https://storage.googleapis.com/tensorflow/keras-applications/vgg16/vgg16_weights_tf_dim_ordering_tf_kernels_notop.h5\n",
      "58892288/58889256 [==============================] - 258s 4us/step\n"
     ]
    }
   ],
   "source": [
    "from keras.applications import VGG16\n",
    "conv_base = VGG16(\n",
    "                weights = \"imagenet\",\n",
    "                include_top = False,\n",
    "                input_shape = (150,150,3))"
   ]
  },
  {
   "cell_type": "code",
   "execution_count": 3,
   "id": "advanced-cholesterol",
   "metadata": {},
   "outputs": [
    {
     "name": "stdout",
     "output_type": "stream",
     "text": [
      "Model: \"vgg16\"\n",
      "_________________________________________________________________\n",
      "Layer (type)                 Output Shape              Param #   \n",
      "=================================================================\n",
      "input_1 (InputLayer)         [(None, 150, 150, 3)]     0         \n",
      "_________________________________________________________________\n",
      "block1_conv1 (Conv2D)        (None, 150, 150, 64)      1792      \n",
      "_________________________________________________________________\n",
      "block1_conv2 (Conv2D)        (None, 150, 150, 64)      36928     \n",
      "_________________________________________________________________\n",
      "block1_pool (MaxPooling2D)   (None, 75, 75, 64)        0         \n",
      "_________________________________________________________________\n",
      "block2_conv1 (Conv2D)        (None, 75, 75, 128)       73856     \n",
      "_________________________________________________________________\n",
      "block2_conv2 (Conv2D)        (None, 75, 75, 128)       147584    \n",
      "_________________________________________________________________\n",
      "block2_pool (MaxPooling2D)   (None, 37, 37, 128)       0         \n",
      "_________________________________________________________________\n",
      "block3_conv1 (Conv2D)        (None, 37, 37, 256)       295168    \n",
      "_________________________________________________________________\n",
      "block3_conv2 (Conv2D)        (None, 37, 37, 256)       590080    \n",
      "_________________________________________________________________\n",
      "block3_conv3 (Conv2D)        (None, 37, 37, 256)       590080    \n",
      "_________________________________________________________________\n",
      "block3_pool (MaxPooling2D)   (None, 18, 18, 256)       0         \n",
      "_________________________________________________________________\n",
      "block4_conv1 (Conv2D)        (None, 18, 18, 512)       1180160   \n",
      "_________________________________________________________________\n",
      "block4_conv2 (Conv2D)        (None, 18, 18, 512)       2359808   \n",
      "_________________________________________________________________\n",
      "block4_conv3 (Conv2D)        (None, 18, 18, 512)       2359808   \n",
      "_________________________________________________________________\n",
      "block4_pool (MaxPooling2D)   (None, 9, 9, 512)         0         \n",
      "_________________________________________________________________\n",
      "block5_conv1 (Conv2D)        (None, 9, 9, 512)         2359808   \n",
      "_________________________________________________________________\n",
      "block5_conv2 (Conv2D)        (None, 9, 9, 512)         2359808   \n",
      "_________________________________________________________________\n",
      "block5_conv3 (Conv2D)        (None, 9, 9, 512)         2359808   \n",
      "_________________________________________________________________\n",
      "block5_pool (MaxPooling2D)   (None, 4, 4, 512)         0         \n",
      "=================================================================\n",
      "Total params: 14,714,688\n",
      "Trainable params: 14,714,688\n",
      "Non-trainable params: 0\n",
      "_________________________________________________________________\n"
     ]
    }
   ],
   "source": [
    "conv_base.summary()"
   ]
  },
  {
   "cell_type": "code",
   "execution_count": 4,
   "id": "reliable-shooting",
   "metadata": {},
   "outputs": [],
   "source": [
    "import os\n",
    "import numpy as np\n",
    "from keras.preprocessing.image import ImageDataGenerator\n",
    "base_dir = 'C:/Users/asif1/Git/Deep_Learning/DATA/cat_dog_small'\n",
    "train_dir = os.path.join(base_dir,'train')\n",
    "test_dir = os.path.join(base_dir,'test')\n",
    "validation_dir = os.path.join(base_dir,'validation')"
   ]
  },
  {
   "cell_type": "code",
   "execution_count": 8,
   "id": "psychological-falls",
   "metadata": {},
   "outputs": [],
   "source": [
    "#Directory with training cat pictures\n",
    "train_cats_dir = os.path.join(train_dir, 'cats')\n",
    "\n",
    "#Directory with training dog pictures\n",
    "train_dogs_dir = os.path.join(train_dir, 'dogs')\n",
    "\n",
    "#Directory with validation cat pictures\n",
    "validation_cats_dir = os.path.join(validation_dir, 'cats')\n",
    "\n",
    "#Directory with validation dog pictures\n",
    "validation_dogs_dir = os.path.join(validation_dir, 'dogs')\n",
    "\n",
    "#Directory with test cat pictures\n",
    "test_cats_dir = os.path.join(test_dir, 'cats')\n",
    "\n",
    "#Directory with test cat pictures\n",
    "test_dogs_dir = os.path.join(test_dir, 'dogs')\n"
   ]
  },
  {
   "cell_type": "code",
   "execution_count": 10,
   "id": "vertical-tuning",
   "metadata": {},
   "outputs": [
    {
     "name": "stdout",
     "output_type": "stream",
     "text": [
      "total training cat images: 500\n",
      "total training dog images: 500\n",
      "total validation cat images: 250\n",
      "total validation dog images: 250\n",
      "total test cat images: 250\n",
      "total test dog images: 250\n"
     ]
    }
   ],
   "source": [
    "print('total training cat images:', len(os.listdir(train_cats_dir)))\n",
    "\n",
    "print('total training dog images:', len(os.listdir(train_dogs_dir)))\n",
    "\n",
    "print('total validation cat images:', len(os.listdir(validation_cats_dir)))\n",
    "\n",
    "print('total validation dog images:', len(os.listdir(validation_dogs_dir)))\n",
    "\n",
    "print('total test cat images:', len(os.listdir(test_cats_dir)))\n",
    "\n",
    "print('total test dog images:', len(os.listdir(test_dogs_dir)))\n"
   ]
  },
  {
   "cell_type": "code",
   "execution_count": 16,
   "id": "conditional-aberdeen",
   "metadata": {},
   "outputs": [],
   "source": [
    "datagen = ImageDataGenerator(rescale = 1./255)\n",
    "batch_size = 20\n",
    "def extract_features(directory,sample_count):\n",
    "    features = np.zeros(shape= (sample_count,4,4,512))\n",
    "    labels  = np.zeros(shape= (sample_count))\n",
    "    generator= datagen.flow_from_directory(\n",
    "                                    directory,\n",
    "                                    target_size=(150,150),\n",
    "                                    batch_size = batch_size,\n",
    "                                    class_mode = 'binary')\n",
    "    i = 0\n",
    "    for inputs_batch, labels_batch in generator:\n",
    "        features_batch = conv_base.predict(inputs_batch)\n",
    "        features[i*batch_size : (i+1)*batch_size] = features_batch\n",
    "        labels[i*batch_size : (i+1)*batch_size] = labels_batch\n",
    "        i += 1\n",
    "        if i*batch_size >= sample_count:\n",
    "            break\n",
    "    return features,labels"
   ]
  },
  {
   "cell_type": "code",
   "execution_count": 17,
   "id": "sought-ridge",
   "metadata": {},
   "outputs": [
    {
     "name": "stdout",
     "output_type": "stream",
     "text": [
      "Found 1000 images belonging to 2 classes.\n"
     ]
    }
   ],
   "source": [
    "train_features, train_labels = extract_features(train_dir,1000)"
   ]
  },
  {
   "cell_type": "code",
   "execution_count": 18,
   "id": "utility-house",
   "metadata": {},
   "outputs": [
    {
     "name": "stdout",
     "output_type": "stream",
     "text": [
      "Found 500 images belonging to 2 classes.\n"
     ]
    }
   ],
   "source": [
    "test_features, test_labels = extract_features(test_dir,500)"
   ]
  },
  {
   "cell_type": "code",
   "execution_count": 19,
   "id": "casual-singapore",
   "metadata": {},
   "outputs": [
    {
     "name": "stdout",
     "output_type": "stream",
     "text": [
      "Found 500 images belonging to 2 classes.\n"
     ]
    }
   ],
   "source": [
    "validation_features, validation_labels = extract_features(validation_dir,500)"
   ]
  },
  {
   "cell_type": "code",
   "execution_count": 20,
   "id": "chronic-frame",
   "metadata": {},
   "outputs": [],
   "source": [
    "train_features = np.reshape(train_features, (1000, 4 * 4 * 512))\n"
   ]
  },
  {
   "cell_type": "code",
   "execution_count": 21,
   "id": "virgin-choice",
   "metadata": {},
   "outputs": [],
   "source": [
    "validation_features = np.reshape(validation_features, (500, 4 * 4 * 512))\n"
   ]
  },
  {
   "cell_type": "code",
   "execution_count": 22,
   "id": "billion-princess",
   "metadata": {},
   "outputs": [],
   "source": [
    "test_features = np.reshape(test_features, (500, 4 * 4 * 512))"
   ]
  },
  {
   "cell_type": "code",
   "execution_count": 23,
   "id": "continuous-community",
   "metadata": {},
   "outputs": [
    {
     "name": "stdout",
     "output_type": "stream",
     "text": [
      "Epoch 1/30\n",
      "50/50 [==============================] - 3s 47ms/step - loss: 0.6721 - acc: 0.6084 - val_loss: 0.5336 - val_acc: 0.7720\n",
      "Epoch 2/30\n",
      "50/50 [==============================] - 2s 34ms/step - loss: 0.5258 - acc: 0.7409 - val_loss: 0.4598 - val_acc: 0.8100\n",
      "Epoch 3/30\n",
      "50/50 [==============================] - 2s 34ms/step - loss: 0.4429 - acc: 0.8036 - val_loss: 0.4161 - val_acc: 0.8380\n",
      "Epoch 4/30\n",
      "50/50 [==============================] - 2s 34ms/step - loss: 0.3701 - acc: 0.8526 - val_loss: 0.3901 - val_acc: 0.8380\n",
      "Epoch 5/30\n",
      "50/50 [==============================] - 2s 34ms/step - loss: 0.3390 - acc: 0.8710 - val_loss: 0.3609 - val_acc: 0.8480\n",
      "Epoch 6/30\n",
      "50/50 [==============================] - 2s 35ms/step - loss: 0.3162 - acc: 0.8840 - val_loss: 0.3671 - val_acc: 0.8420\n",
      "Epoch 7/30\n",
      "50/50 [==============================] - 2s 38ms/step - loss: 0.2721 - acc: 0.9018 - val_loss: 0.3405 - val_acc: 0.8600\n",
      "Epoch 8/30\n",
      "50/50 [==============================] - 2s 35ms/step - loss: 0.2525 - acc: 0.8903 - val_loss: 0.3202 - val_acc: 0.8700\n",
      "Epoch 9/30\n",
      "50/50 [==============================] - 2s 34ms/step - loss: 0.2553 - acc: 0.9208 - val_loss: 0.3149 - val_acc: 0.8740\n",
      "Epoch 10/30\n",
      "50/50 [==============================] - 2s 35ms/step - loss: 0.2616 - acc: 0.8941 - val_loss: 0.3079 - val_acc: 0.8740\n",
      "Epoch 11/30\n",
      "50/50 [==============================] - 2s 37ms/step - loss: 0.2361 - acc: 0.9061 - val_loss: 0.3001 - val_acc: 0.8760\n",
      "Epoch 12/30\n",
      "50/50 [==============================] - 2s 37ms/step - loss: 0.1962 - acc: 0.9364 - val_loss: 0.2955 - val_acc: 0.8720\n",
      "Epoch 13/30\n",
      "50/50 [==============================] - 2s 38ms/step - loss: 0.2027 - acc: 0.9343 - val_loss: 0.2957 - val_acc: 0.8840\n",
      "Epoch 14/30\n",
      "50/50 [==============================] - 2s 42ms/step - loss: 0.2003 - acc: 0.9333 - val_loss: 0.2858 - val_acc: 0.8820\n",
      "Epoch 15/30\n",
      "50/50 [==============================] - 2s 35ms/step - loss: 0.1732 - acc: 0.9464 - val_loss: 0.2849 - val_acc: 0.8860\n",
      "Epoch 16/30\n",
      "50/50 [==============================] - 2s 35ms/step - loss: 0.1611 - acc: 0.9451 - val_loss: 0.2937 - val_acc: 0.8780\n",
      "Epoch 17/30\n",
      "50/50 [==============================] - 2s 35ms/step - loss: 0.1763 - acc: 0.9378 - val_loss: 0.2792 - val_acc: 0.8840\n",
      "Epoch 18/30\n",
      "50/50 [==============================] - 2s 42ms/step - loss: 0.1486 - acc: 0.9591 - val_loss: 0.2856 - val_acc: 0.8800\n",
      "Epoch 19/30\n",
      "50/50 [==============================] - 2s 36ms/step - loss: 0.1470 - acc: 0.9543 - val_loss: 0.2759 - val_acc: 0.8900\n",
      "Epoch 20/30\n",
      "50/50 [==============================] - 2s 36ms/step - loss: 0.1420 - acc: 0.9654 - val_loss: 0.2781 - val_acc: 0.8840\n",
      "Epoch 21/30\n",
      "50/50 [==============================] - 2s 37ms/step - loss: 0.1293 - acc: 0.9586 - val_loss: 0.2742 - val_acc: 0.8840\n",
      "Epoch 22/30\n",
      "50/50 [==============================] - 2s 39ms/step - loss: 0.1262 - acc: 0.9597 - val_loss: 0.2771 - val_acc: 0.8880\n",
      "Epoch 23/30\n",
      "50/50 [==============================] - 2s 39ms/step - loss: 0.1274 - acc: 0.9651 - val_loss: 0.2773 - val_acc: 0.8860\n",
      "Epoch 24/30\n",
      "50/50 [==============================] - 2s 42ms/step - loss: 0.1321 - acc: 0.9627 - val_loss: 0.2785 - val_acc: 0.8820\n",
      "Epoch 25/30\n",
      "50/50 [==============================] - 2s 35ms/step - loss: 0.1269 - acc: 0.9672 - val_loss: 0.2755 - val_acc: 0.8880\n",
      "Epoch 26/30\n",
      "50/50 [==============================] - 2s 36ms/step - loss: 0.1033 - acc: 0.9755 - val_loss: 0.2793 - val_acc: 0.8880\n",
      "Epoch 27/30\n",
      "50/50 [==============================] - 2s 42ms/step - loss: 0.0914 - acc: 0.9809 - val_loss: 0.2836 - val_acc: 0.8840\n",
      "Epoch 28/30\n",
      "50/50 [==============================] - 2s 37ms/step - loss: 0.1002 - acc: 0.9751 - val_loss: 0.2759 - val_acc: 0.8880\n",
      "Epoch 29/30\n",
      "50/50 [==============================] - 2s 35ms/step - loss: 0.0920 - acc: 0.9806 - val_loss: 0.3025 - val_acc: 0.8860\n",
      "Epoch 30/30\n",
      "50/50 [==============================] - 2s 39ms/step - loss: 0.0923 - acc: 0.9808 - val_loss: 0.2771 - val_acc: 0.8880\n"
     ]
    }
   ],
   "source": [
    "from keras import models\n",
    "from keras import layers\n",
    "from keras import optimizers\n",
    "model = models.Sequential()\n",
    "model.add(layers.Dense(256, activation='relu', input_dim=4 * 4 * 512))\n",
    "model.add(layers.Dropout(0.5))\n",
    "model.add(layers.Dense(1, activation='sigmoid'))\n",
    "model.compile(optimizer=optimizers.RMSprop(lr=2e-5),\n",
    "              loss='binary_crossentropy',\n",
    "              metrics=['acc'])\n",
    "history = model.fit(train_features, train_labels,\n",
    "                    epochs=30,\n",
    "                    batch_size=20,\n",
    "                    validation_data=(validation_features, validation_labels))"
   ]
  },
  {
   "cell_type": "code",
   "execution_count": 24,
   "id": "atomic-decimal",
   "metadata": {},
   "outputs": [
    {
     "data": {
      "image/png": "[encoded data removed]",
      "text/plain": [
       "<Figure size 432x288 with 1 Axes>"
      ]
     },
     "metadata": {
      "needs_background": "light"
     },
     "output_type": "display_data"
    },
    {
     "data": {
      "image/png": "[encoded data removed]",
      "text/plain": [
       "<Figure size 432x288 with 1 Axes>"
      ]
     },
     "metadata": {
      "needs_background": "light"
     },
     "output_type": "display_data"
    }
   ],
   "source": [
    "import matplotlib.pyplot as plt\n",
    "acc = history.history['acc']\n",
    "val_acc = history.history['val_acc']\n",
    "loss = history.history['loss']\n",
    "val_loss = history.history['val_loss']\n",
    "epochs = range(1, len(acc) + 1)\n",
    "plt.plot(epochs, acc, 'bo', label='Training acc')\n",
    "plt.plot(epochs, val_acc, 'b', label='Validation acc')\n",
    "plt.title('Training and validation accuracy')\n",
    "plt.legend()\n",
    "plt.figure()\n",
    "plt.plot(epochs, loss, 'bo', label='Training loss')\n",
    "plt.plot(epochs, val_loss, 'b', label='Validation loss')\n",
    "plt.title('Training and validation loss')\n",
    "plt.legend()\n",
    "plt.show()"
   ]
  },
  {
   "cell_type": "code",
   "execution_count": null,
   "id": "gentle-chase",
   "metadata": {},
   "outputs": [],
   "source": []
  },
  {
   "cell_type": "code",
   "execution_count": 25,
   "id": "recorded-clinton",
   "metadata": {},
   "outputs": [],
   "source": [
    "from keras import models\n",
    "from keras import layers\n",
    "model = models.Sequential()\n",
    "model.add(conv_base)\n",
    "model.add(layers.Flatten())\n",
    "model.add(layers.Dense(256, activation='relu'))\n",
    "model.add(layers.Dense(1, activation='sigmoid'))"
   ]
  },
  {
   "cell_type": "code",
   "execution_count": 26,
   "id": "north-baseball",
   "metadata": {},
   "outputs": [
    {
     "name": "stdout",
     "output_type": "stream",
     "text": [
      "Model: \"sequential_1\"\n",
      "_________________________________________________________________\n",
      "Layer (type)                 Output Shape              Param #   \n",
      "=================================================================\n",
      "vgg16 (Functional)           (None, 4, 4, 512)         14714688  \n",
      "_________________________________________________________________\n",
      "flatten (Flatten)            (None, 8192)              0         \n",
      "_________________________________________________________________\n",
      "dense_2 (Dense)              (None, 256)               2097408   \n",
      "_________________________________________________________________\n",
      "dense_3 (Dense)              (None, 1)                 257       \n",
      "=================================================================\n",
      "Total params: 16,812,353\n",
      "Trainable params: 16,812,353\n",
      "Non-trainable params: 0\n",
      "_________________________________________________________________\n"
     ]
    }
   ],
   "source": [
    "model.summary()"
   ]
  },
  {
   "cell_type": "code",
   "execution_count": 27,
   "id": "rough-punishment",
   "metadata": {},
   "outputs": [
    {
     "name": "stdout",
     "output_type": "stream",
     "text": [
      "This is the number of trainable weights before freezing the conv base: 30\n",
      "This is the number of trainable weights after freezing the conv base: 4\n"
     ]
    }
   ],
   "source": [
    "print('This is the number of trainable weights '\n",
    "'before freezing the conv base:', len(model.trainable_weights))\n",
    "\n",
    "conv_base.trainable = False\n",
    "\n",
    "print('This is the number of trainable weights '\n",
    "'after freezing the conv base:', len(model.trainable_weights))\n"
   ]
  },
  {
   "cell_type": "code",
   "execution_count": 29,
   "id": "thorough-sussex",
   "metadata": {},
   "outputs": [
    {
     "name": "stdout",
     "output_type": "stream",
     "text": [
      "Found 1000 images belonging to 2 classes.\n",
      "Found 500 images belonging to 2 classes.\n"
     ]
    }
   ],
   "source": [
    "from keras.preprocessing.image import ImageDataGenerator\n",
    "from keras import optimizers\n",
    "train_datagen = ImageDataGenerator(\n",
    "                        rescale=1./255,\n",
    "                        rotation_range=40,\n",
    "                        width_shift_range=0.2,\n",
    "                        height_shift_range=0.2,\n",
    "                        shear_range=0.2,\n",
    "                        zoom_range=0.2,\n",
    "                        horizontal_flip=True,\n",
    "                        fill_mode='nearest')\n",
    "\n",
    "train_generator = train_datagen.flow_from_directory(\n",
    "                        train_dir,\n",
    "                        target_size=(150, 150),\n",
    "                        batch_size=20,\n",
    "                        class_mode='binary')\n",
    "\n",
    "test_datagen = ImageDataGenerator(rescale=1./255)   \n",
    "\n",
    "validation_generator = test_datagen.flow_from_directory(\n",
    "                                        validation_dir,\n",
    "                                        target_size=(150, 150),\n",
    "                                        batch_size=20,\n",
    "                                        class_mode='binary')"
   ]
  },
  {
   "cell_type": "code",
   "execution_count": 30,
   "id": "statewide-burning",
   "metadata": {},
   "outputs": [],
   "source": [
    "model.compile(loss='binary_crossentropy',\n",
    "            optimizer=optimizers.RMSprop(lr=2e-5),\n",
    "            metrics=['acc'])"
   ]
  },
  {
   "cell_type": "code",
   "execution_count": 38,
   "id": "isolated-manitoba",
   "metadata": {},
   "outputs": [
    {
     "name": "stderr",
     "output_type": "stream",
     "text": [
      "C:\\Users\\asif1\\anaconda3\\lib\\site-packages\\tensorflow\\python\\keras\\engine\\training.py:1844: UserWarning: `Model.fit_generator` is deprecated and will be removed in a future version. Please use `Model.fit`, which supports generators.\n",
      "  warnings.warn('`Model.fit_generator` is deprecated and '\n"
     ]
    },
    {
     "name": "stdout",
     "output_type": "stream",
     "text": [
      "Epoch 1/20\n",
      "50/50 [==============================] - 612s 12s/step - loss: 0.5284 - acc: 0.7750 - val_loss: 0.4766 - val_acc: 0.7940\n",
      "Epoch 2/20\n",
      "50/50 [==============================] - 645s 13s/step - loss: 0.4835 - acc: 0.7770 - val_loss: 0.4323 - val_acc: 0.8240\n",
      "Epoch 3/20\n",
      "50/50 [==============================] - 646s 13s/step - loss: 0.4545 - acc: 0.7960 - val_loss: 0.4037 - val_acc: 0.8260\n",
      "Epoch 4/20\n",
      "50/50 [==============================] - 1180s 15s/step - loss: 0.4289 - acc: 0.8080 - val_loss: 0.3914 - val_acc: 0.8280\n",
      "Epoch 5/20\n",
      "50/50 [==============================] - 847s 17s/step - loss: 0.4029 - acc: 0.8270 - val_loss: 0.3806 - val_acc: 0.8400\n",
      "Epoch 6/20\n",
      "50/50 [==============================] - 857s 17s/step - loss: 0.3967 - acc: 0.8160 - val_loss: 0.3573 - val_acc: 0.8400\n",
      "Epoch 7/20\n",
      "50/50 [==============================] - 850s 17s/step - loss: 0.3847 - acc: 0.8370 - val_loss: 0.3477 - val_acc: 0.8460\n",
      "Epoch 8/20\n",
      "50/50 [==============================] - 858s 17s/step - loss: 0.3732 - acc: 0.8230 - val_loss: 0.3459 - val_acc: 0.8540\n",
      "Epoch 9/20\n",
      "50/50 [==============================] - 858s 17s/step - loss: 0.3628 - acc: 0.8450 - val_loss: 0.3553 - val_acc: 0.8480\n",
      "Epoch 10/20\n",
      "50/50 [==============================] - 859s 17s/step - loss: 0.3507 - acc: 0.8480 - val_loss: 0.3378 - val_acc: 0.8400\n",
      "Epoch 11/20\n",
      "50/50 [==============================] - 736s 15s/step - loss: 0.3443 - acc: 0.8500 - val_loss: 0.3261 - val_acc: 0.8440\n",
      "Epoch 12/20\n",
      "50/50 [==============================] - 712s 14s/step - loss: 0.3279 - acc: 0.8650 - val_loss: 0.3348 - val_acc: 0.8520\n",
      "Epoch 13/20\n",
      "50/50 [==============================] - 693s 14s/step - loss: 0.3375 - acc: 0.8580 - val_loss: 0.3318 - val_acc: 0.8580\n",
      "Epoch 14/20\n",
      "50/50 [==============================] - 735s 15s/step - loss: 0.3428 - acc: 0.8440 - val_loss: 0.3211 - val_acc: 0.8460\n",
      "Epoch 15/20\n",
      "50/50 [==============================] - 841s 17s/step - loss: 0.3304 - acc: 0.8510 - val_loss: 0.3115 - val_acc: 0.8680\n",
      "Epoch 16/20\n",
      "50/50 [==============================] - 827s 17s/step - loss: 0.3124 - acc: 0.8680 - val_loss: 0.3089 - val_acc: 0.8620\n",
      "Epoch 17/20\n",
      "50/50 [==============================] - 837s 17s/step - loss: 0.3067 - acc: 0.8620 - val_loss: 0.3109 - val_acc: 0.8600\n",
      "Epoch 18/20\n",
      "50/50 [==============================] - 812s 16s/step - loss: 0.3269 - acc: 0.8670 - val_loss: 0.3109 - val_acc: 0.8580\n",
      "Epoch 19/20\n",
      "50/50 [==============================] - 812s 16s/step - loss: 0.3278 - acc: 0.8420 - val_loss: 0.3583 - val_acc: 0.8320\n",
      "Epoch 20/20\n",
      "50/50 [==============================] - 821s 17s/step - loss: 0.3074 - acc: 0.8660 - val_loss: 0.3042 - val_acc: 0.8720\n"
     ]
    }
   ],
   "source": [
    "history = model.fit(\n",
    "                train_generator,\n",
    "                steps_per_epoch=50,\n",
    "                epochs=20,\n",
    "                validation_data=validation_generator,\n",
    "                validation_steps=25)"
   ]
  },
  {
   "cell_type": "code",
   "execution_count": 39,
   "id": "balanced-farmer",
   "metadata": {},
   "outputs": [],
   "source": [
    "model.save('cats_and_dogs_VGG16_with_augmentation.h5')"
   ]
  },
  {
   "cell_type": "code",
   "execution_count": 40,
   "id": "lesser-spell",
   "metadata": {},
   "outputs": [
    {
     "data": {
      "image/png": "[encoded data removed]",
      "text/plain": [
       "<Figure size 432x288 with 1 Axes>"
      ]
     },
     "metadata": {
      "needs_background": "light"
     },
     "output_type": "display_data"
    },
    {
     "data": {
      "image/png": "[encoded data removed]",
      "text/plain": [
       "<Figure size 432x288 with 1 Axes>"
      ]
     },
     "metadata": {
      "needs_background": "light"
     },
     "output_type": "display_data"
    }
   ],
   "source": [
    "import matplotlib.pyplot as plt\n",
    "acc = history.history['acc']\n",
    "val_acc = history.history['val_acc']\n",
    "loss = history.history['loss']\n",
    "val_loss = history.history['val_loss']\n",
    "epochs = range(1, len(acc) + 1)\n",
    "plt.plot(epochs, acc, 'bo', label='Training acc')\n",
    "plt.plot(epochs, val_acc, 'b', label='Validation acc')\n",
    "plt.title('Training and validation accuracy')\n",
    "plt.legend()\n",
    "plt.figure()\n",
    "plt.plot(epochs, loss, 'bo', label='Training loss')\n",
    "plt.plot(epochs, val_loss, 'b', label='Validation loss')\n",
    "plt.title('Training and validation loss')\n",
    "plt.legend()\n",
    "plt.show()"
   ]
  },
  {
   "cell_type": "code",
   "execution_count": 35,
   "id": "according-sight",
   "metadata": {},
   "outputs": [
    {
     "data": {
      "text/plain": [
       "50"
      ]
     },
     "execution_count": 35,
     "metadata": {},
     "output_type": "execute_result"
    }
   ],
   "source": [
    "steps_per_epoch = len(train_features)//batch_size\n",
    "steps_per_epoch"
   ]
  },
  {
   "cell_type": "code",
   "execution_count": 37,
   "id": "vertical-satellite",
   "metadata": {},
   "outputs": [
    {
     "data": {
      "text/plain": [
       "25"
      ]
     },
     "execution_count": 37,
     "metadata": {},
     "output_type": "execute_result"
    }
   ],
   "source": [
    "validation_steps = len(validation_features)//batch_size # if you have test data\n",
    "validation_steps"
   ]
  },
  {
   "cell_type": "code",
   "execution_count": 41,
   "id": "assisted-carnival",
   "metadata": {},
   "outputs": [
    {
     "name": "stdout",
     "output_type": "stream",
     "text": [
      "Found 500 images belonging to 2 classes.\n",
      "500/500 [==============================] - 218s 437ms/step - loss: 0.2631 - acc: 0.8880\n",
      "test acc: 0.8880000114440918\n"
     ]
    }
   ],
   "source": [
    "test_generator = test_datagen.flow_from_directory(\n",
    "                                    test_dir,\n",
    "                                    target_size=(150, 150),\n",
    "                                    batch_size=1,\n",
    "                                    class_mode='binary')\n",
    "test_loss, test_acc = model.evaluate(test_generator)\n",
    "print('test acc:', test_acc)"
   ]
  },
  {
   "cell_type": "code",
   "execution_count": null,
   "id": "beginning-steel",
   "metadata": {},
   "outputs": [],
   "source": []
  }
 ],
 "metadata": {
  "kernelspec": {
   "display_name": "Python 3",
   "language": "python",
   "name": "python3"
  },
  "language_info": {
   "codemirror_mode": {
    "name": "ipython",
    "version": 3
   },
   "file_extension": ".py",
   "mimetype": "text/x-python",
   "name": "python",
   "nbconvert_exporter": "python",
   "pygments_lexer": "ipython3",
   "version": "3.8.5"
  }
 },
 "nbformat": 4,
 "nbformat_minor": 5
}
