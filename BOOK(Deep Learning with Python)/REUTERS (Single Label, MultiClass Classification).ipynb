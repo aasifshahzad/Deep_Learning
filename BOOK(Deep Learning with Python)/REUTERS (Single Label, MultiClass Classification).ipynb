{
 "cells": [
  {
   "cell_type": "code",
   "execution_count": 2,
   "metadata": {},
   "outputs": [],
   "source": [
    "# Loading Dependencies\n",
    "\n",
    "from tensorflow import keras"
   ]
  },
  {
   "cell_type": "code",
   "execution_count": 3,
   "metadata": {},
   "outputs": [],
   "source": [
    "# Loading Reuters Dataset\n",
    "from tensorflow.keras.datasets import reuters\n",
    "(train_data, train_labels),(test_data, test_labels) = reuters.load_data(num_words = 10000)"
   ]
  },
  {
   "cell_type": "code",
   "execution_count": 4,
   "metadata": {},
   "outputs": [
    {
     "data": {
      "text/plain": [
       "8982"
      ]
     },
     "execution_count": 4,
     "metadata": {},
     "output_type": "execute_result"
    }
   ],
   "source": [
    "len(train_data)\n"
   ]
  },
  {
   "cell_type": "code",
   "execution_count": 5,
   "metadata": {},
   "outputs": [
    {
     "data": {
      "text/plain": [
       "2246"
      ]
     },
     "execution_count": 5,
     "metadata": {},
     "output_type": "execute_result"
    }
   ],
   "source": [
    "len(test_data)"
   ]
  },
  {
   "cell_type": "code",
   "execution_count": 6,
   "metadata": {},
   "outputs": [
    {
     "data": {
      "text/plain": [
       "[1,\n",
       " 245,\n",
       " 273,\n",
       " 207,\n",
       " 156,\n",
       " 53,\n",
       " 74,\n",
       " 160,\n",
       " 26,\n",
       " 14,\n",
       " 46,\n",
       " 296,\n",
       " 26,\n",
       " 39,\n",
       " 74,\n",
       " 2979,\n",
       " 3554,\n",
       " 14,\n",
       " 46,\n",
       " 4689,\n",
       " 4329,\n",
       " 86,\n",
       " 61,\n",
       " 3499,\n",
       " 4795,\n",
       " 14,\n",
       " 61,\n",
       " 451,\n",
       " 4329,\n",
       " 17,\n",
       " 12]"
      ]
     },
     "execution_count": 6,
     "metadata": {},
     "output_type": "execute_result"
    }
   ],
   "source": [
    "train_data[10]"
   ]
  },
  {
   "cell_type": "code",
   "execution_count": 7,
   "metadata": {},
   "outputs": [
    {
     "data": {
      "text/plain": [
       "9999"
      ]
     },
     "execution_count": 7,
     "metadata": {},
     "output_type": "execute_result"
    }
   ],
   "source": [
    "max([max(sequence) for sequence in train_data])"
   ]
  },
  {
   "cell_type": "code",
   "execution_count": 8,
   "metadata": {},
   "outputs": [
    {
     "name": "stdout",
     "output_type": "stream",
     "text": [
      ", generale de banque sa lt , br and lt heller overseas corp of chicago have each taken 50 pct stakes in , company sa , factors generale de banque said in a statement it gave no financial details of the transaction sa , , turnover in 1986 was 17 5 billion belgian francs reuter 3\n"
     ]
    },
    {
     "data": {
      "text/plain": [
       "4"
      ]
     },
     "execution_count": 8,
     "metadata": {},
     "output_type": "execute_result"
    }
   ],
   "source": [
    "# Decoding reviews back to English\n",
    "word_index = keras.datasets.reuters.get_word_index()\n",
    "reverse_word_index = dict([(value,key) for (key,value) in word_index.items()])\n",
    "decode_reviews = ' '.join([reverse_word_index.get(i - 3,',') for i in train_data[1]])\n",
    "print(decode_reviews)\n",
    "train_labels[1]"
   ]
  },
  {
   "cell_type": "code",
   "execution_count": 9,
   "metadata": {},
   "outputs": [
    {
     "name": "stdout",
     "output_type": "stream",
     "text": [
      "[ 0  1  2  3  4  5  6  7  8  9 10 11 12 13 14 15 16 17 18 19 20 21 22 23\n",
      " 24 25 26 27 28 29 30 31 32 33 34 35 36 37 38 39 40 41 42 43 44 45]\n"
     ]
    }
   ],
   "source": [
    "# Preparing the data by Encoding it.\n",
    "\n",
    "import numpy as np\n",
    "print(np.unique(train_labels))\n",
    "# Vectorizing training and test data\n",
    "def vectorize_sequence(sequences, dimension = 10000):\n",
    "    results = np.zeros((len(sequences),dimension))\n",
    "    for i , sequence in enumerate(sequences):\n",
    "        results[i,sequence] = 1.\n",
    "        return results\n",
    "x_train = vectorize_sequence(train_data)\n",
    "x_test  = vectorize_sequence(test_data)"
   ]
  },
  {
   "cell_type": "code",
   "execution_count": 10,
   "metadata": {},
   "outputs": [
    {
     "data": {
      "text/plain": [
       "array([[0., 1., 1., ..., 0., 0., 0.],\n",
       "       [0., 0., 0., ..., 0., 0., 0.],\n",
       "       [0., 0., 0., ..., 0., 0., 0.],\n",
       "       ...,\n",
       "       [0., 0., 0., ..., 0., 0., 0.],\n",
       "       [0., 0., 0., ..., 0., 0., 0.],\n",
       "       [0., 0., 0., ..., 0., 0., 0.]])"
      ]
     },
     "execution_count": 10,
     "metadata": {},
     "output_type": "execute_result"
    }
   ],
   "source": [
    "x_train    #Vectorised training data"
   ]
  },
  {
   "cell_type": "code",
   "execution_count": 11,
   "metadata": {},
   "outputs": [
    {
     "data": {
      "text/plain": [
       "array([[0., 1., 1., ..., 0., 0., 0.],\n",
       "       [0., 0., 0., ..., 0., 0., 0.],\n",
       "       [0., 0., 0., ..., 0., 0., 0.],\n",
       "       ...,\n",
       "       [0., 0., 0., ..., 0., 0., 0.],\n",
       "       [0., 0., 0., ..., 0., 0., 0.],\n",
       "       [0., 0., 0., ..., 0., 0., 0.]])"
      ]
     },
     "execution_count": 11,
     "metadata": {},
     "output_type": "execute_result"
    }
   ],
   "source": [
    "x_test   #Vectorised testing data"
   ]
  },
  {
   "cell_type": "code",
   "execution_count": 12,
   "metadata": {},
   "outputs": [],
   "source": [
    "# Vectorizing training and test labels\n",
    "def to_one_hot(labels,dimention = 46):\n",
    "    results = np.zeros((len(labels),dimention))\n",
    "    for i , label in enumerate(labels):\n",
    "        results[i,label] = 1.\n",
    "    return results\n",
    "one_hot_train_labels = to_one_hot(train_labels)\n",
    "one_hot_test_labels  = to_one_hot(test_labels)"
   ]
  },
  {
   "cell_type": "code",
   "execution_count": 13,
   "metadata": {},
   "outputs": [
    {
     "data": {
      "text/plain": [
       "array([[0., 0., 0., ..., 0., 0., 0.],\n",
       "       [0., 0., 0., ..., 0., 0., 0.],\n",
       "       [0., 0., 0., ..., 0., 0., 0.],\n",
       "       ...,\n",
       "       [0., 0., 0., ..., 0., 0., 0.],\n",
       "       [0., 0., 0., ..., 0., 0., 0.],\n",
       "       [0., 0., 0., ..., 0., 0., 0.]])"
      ]
     },
     "execution_count": 13,
     "metadata": {},
     "output_type": "execute_result"
    }
   ],
   "source": [
    "one_hot_train_labels"
   ]
  },
  {
   "cell_type": "code",
   "execution_count": 14,
   "metadata": {},
   "outputs": [
    {
     "data": {
      "text/plain": [
       "array([[0., 0., 0., ..., 0., 0., 0.],\n",
       "       [0., 0., 0., ..., 0., 0., 0.],\n",
       "       [0., 1., 0., ..., 0., 0., 0.],\n",
       "       ...,\n",
       "       [0., 0., 0., ..., 0., 0., 0.],\n",
       "       [0., 0., 0., ..., 0., 0., 0.],\n",
       "       [0., 0., 0., ..., 0., 0., 0.]])"
      ]
     },
     "execution_count": 14,
     "metadata": {},
     "output_type": "execute_result"
    }
   ],
   "source": [
    "one_hot_test_labels"
   ]
  },
  {
   "cell_type": "code",
   "execution_count": 15,
   "metadata": {},
   "outputs": [
    {
     "ename": "ModuleNotFoundError",
     "evalue": "No module named 'tensorflow.keras.utils.np_utils'",
     "output_type": "error",
     "traceback": [
      "\u001b[1;31m---------------------------------------------------------------------------\u001b[0m",
      "\u001b[1;31mModuleNotFoundError\u001b[0m                       Traceback (most recent call last)",
      "\u001b[1;32m<ipython-input-15-1b94332ab828>\u001b[0m in \u001b[0;36m<module>\u001b[1;34m\u001b[0m\n\u001b[0;32m      1\u001b[0m \u001b[1;31m# Vectorizing training and test labels using Keras( Alternate way)\u001b[0m\u001b[1;33m\u001b[0m\u001b[1;33m\u001b[0m\u001b[1;33m\u001b[0m\u001b[0m\n\u001b[0;32m      2\u001b[0m \u001b[1;32mimport\u001b[0m \u001b[0mnumpy\u001b[0m \u001b[1;32mas\u001b[0m \u001b[0mnp\u001b[0m\u001b[1;33m\u001b[0m\u001b[1;33m\u001b[0m\u001b[0m\n\u001b[1;32m----> 3\u001b[1;33m \u001b[1;32mfrom\u001b[0m \u001b[0mtensorflow\u001b[0m\u001b[1;33m.\u001b[0m\u001b[0mkeras\u001b[0m\u001b[1;33m.\u001b[0m\u001b[0mutils\u001b[0m\u001b[1;33m.\u001b[0m\u001b[0mnp_utils\u001b[0m \u001b[1;32mimport\u001b[0m \u001b[0mto_catedgorical\u001b[0m\u001b[1;33m\u001b[0m\u001b[1;33m\u001b[0m\u001b[0m\n\u001b[0m\u001b[0;32m      4\u001b[0m \u001b[1;33m\u001b[0m\u001b[0m\n\u001b[0;32m      5\u001b[0m \u001b[0mone_hot_train_labels\u001b[0m \u001b[1;33m=\u001b[0m \u001b[0mto_catedgorical\u001b[0m\u001b[1;33m(\u001b[0m\u001b[0mtrain_data\u001b[0m\u001b[1;33m)\u001b[0m\u001b[1;33m\u001b[0m\u001b[1;33m\u001b[0m\u001b[0m\n",
      "\u001b[1;31mModuleNotFoundError\u001b[0m: No module named 'tensorflow.keras.utils.np_utils'"
     ]
    }
   ],
   "source": [
    "# Vectorizing training and test labels using Keras( Alternate way)\n",
    "import numpy as np\n",
    "from tensorflow.keras.utils.np_utils import to_catedgorical\n",
    "\n",
    "one_hot_train_labels = to_catedgorical(train_data)\n",
    "one_hot_test_labels  = to_catedgorical(test_data)\n",
    "\n",
    "# ModuleNotFoundError: No module named 'tensorflow.keras.utils.np_utils'"
   ]
  },
  {
   "cell_type": "code",
   "execution_count": 16,
   "metadata": {},
   "outputs": [],
   "source": [
    "# Model Definition\n",
    "\n",
    "from tensorflow.keras import layers\n",
    "from tensorflow.keras import models\n",
    "\n",
    "model = models.Sequential()\n",
    "model.add(layers.Dense(64, activation = 'relu', input_shape = (10000,)))\n",
    "model.add(layers.Dense(64, activation = 'relu'))\n",
    "model.add(layers.Dense(46,  activation = 'softmax'))"
   ]
  },
  {
   "cell_type": "code",
   "execution_count": 17,
   "metadata": {},
   "outputs": [],
   "source": [
    "# Validation approach by setting apart 1000 samples in the training data as validation set.\n",
    "x_val = x_train[:1000]\n",
    "partial_x_train = x_train[1000:]\n",
    "\n",
    "y_val = one_hot_train_labels[:1000]\n",
    "partial_y_train = one_hot_train_labels[1000:]\n",
    "\n",
    "#y_val = y_train[:10000]\n",
    "#partial_y_train = y_train[10000:]"
   ]
  },
  {
   "cell_type": "code",
   "execution_count": 18,
   "metadata": {},
   "outputs": [],
   "source": [
    "# Model Compilation\n",
    "\n",
    "model.compile(\n",
    "            optimizer = 'rmsprop',\n",
    "            loss      = 'categorical_crossentropy',\n",
    "            metrics   = ['accuracy'])"
   ]
  },
  {
   "cell_type": "code",
   "execution_count": 19,
   "metadata": {},
   "outputs": [
    {
     "name": "stdout",
     "output_type": "stream",
     "text": [
      "Epoch 1/20\n",
      "16/16 [==============================] - 4s 226ms/step - loss: 3.8121 - accuracy: 0.0656 - val_loss: 3.7981 - val_accuracy: 0.0460\n",
      "Epoch 2/20\n",
      "16/16 [==============================] - 3s 166ms/step - loss: 3.7882 - accuracy: 0.1944 - val_loss: 3.7772 - val_accuracy: 0.3530\n",
      "Epoch 3/20\n",
      "16/16 [==============================] - 2s 97ms/step - loss: 3.7678 - accuracy: 0.2717 - val_loss: 3.7572 - val_accuracy: 0.3530\n",
      "Epoch 4/20\n",
      "16/16 [==============================] - 1s 75ms/step - loss: 3.7478 - accuracy: 0.3414 - val_loss: 3.7374 - val_accuracy: 0.3530\n",
      "Epoch 5/20\n",
      "16/16 [==============================] - 1s 63ms/step - loss: 3.7281 - accuracy: 0.3514 - val_loss: 3.7179 - val_accuracy: 0.3530\n",
      "Epoch 6/20\n",
      "16/16 [==============================] - 1s 61ms/step - loss: 3.7085 - accuracy: 0.3514 - val_loss: 3.6985 - val_accuracy: 0.3530\n",
      "Epoch 7/20\n",
      "16/16 [==============================] - 1s 64ms/step - loss: 3.6891 - accuracy: 0.3514 - val_loss: 3.6792 - val_accuracy: 0.3530\n",
      "Epoch 8/20\n",
      "16/16 [==============================] - 1s 62ms/step - loss: 3.6698 - accuracy: 0.3514 - val_loss: 3.6600 - val_accuracy: 0.3530\n",
      "Epoch 9/20\n",
      "16/16 [==============================] - 1s 61ms/step - loss: 3.6507 - accuracy: 0.3514 - val_loss: 3.6410 - val_accuracy: 0.3530\n",
      "Epoch 10/20\n",
      "16/16 [==============================] - 1s 61ms/step - loss: 3.6317 - accuracy: 0.3514 - val_loss: 3.6221 - val_accuracy: 0.3530\n",
      "Epoch 11/20\n",
      "16/16 [==============================] - 1s 66ms/step - loss: 3.6129 - accuracy: 0.3514 - val_loss: 3.6035 - val_accuracy: 0.3530\n",
      "Epoch 12/20\n",
      "16/16 [==============================] - 1s 70ms/step - loss: 3.5942 - accuracy: 0.3514 - val_loss: 3.5850 - val_accuracy: 0.3530\n",
      "Epoch 13/20\n",
      "16/16 [==============================] - 1s 62ms/step - loss: 3.5756 - accuracy: 0.3514 - val_loss: 3.5665 - val_accuracy: 0.3530\n",
      "Epoch 14/20\n",
      "16/16 [==============================] - 1s 60ms/step - loss: 3.5573 - accuracy: 0.3514 - val_loss: 3.5482 - val_accuracy: 0.3530\n",
      "Epoch 15/20\n",
      "16/16 [==============================] - 1s 60ms/step - loss: 3.5390 - accuracy: 0.3514 - val_loss: 3.5301 - val_accuracy: 0.3530\n",
      "Epoch 16/20\n",
      "16/16 [==============================] - 1s 61ms/step - loss: 3.5209 - accuracy: 0.3514 - val_loss: 3.5121 - val_accuracy: 0.3530\n",
      "Epoch 17/20\n",
      "16/16 [==============================] - 1s 68ms/step - loss: 3.5031 - accuracy: 0.3514 - val_loss: 3.4943 - val_accuracy: 0.3530\n",
      "Epoch 18/20\n",
      "16/16 [==============================] - 1s 67ms/step - loss: 3.4853 - accuracy: 0.3514 - val_loss: 3.4767 - val_accuracy: 0.3530\n",
      "Epoch 19/20\n",
      "16/16 [==============================] - 1s 65ms/step - loss: 3.4677 - accuracy: 0.3514 - val_loss: 3.4591 - val_accuracy: 0.3530\n",
      "Epoch 20/20\n",
      "16/16 [==============================] - 1s 66ms/step - loss: 3.4502 - accuracy: 0.3514 - val_loss: 3.4418 - val_accuracy: 0.3530\n"
     ]
    }
   ],
   "source": [
    "# Training the Model\n",
    "\n",
    "history = model.fit(partial_x_train,\n",
    "                    partial_y_train,\n",
    "                    epochs = 20,\n",
    "                    batch_size= 512,\n",
    "                    validation_data=(x_val,y_val))"
   ]
  },
  {
   "cell_type": "code",
   "execution_count": 20,
   "metadata": {},
   "outputs": [
    {
     "data": {
      "text/plain": [
       "dict_keys(['loss', 'accuracy', 'val_loss', 'val_accuracy'])"
      ]
     },
     "execution_count": 20,
     "metadata": {},
     "output_type": "execute_result"
    }
   ],
   "source": [
    "history_dict = history.history\n",
    "history_dict.keys()\n"
   ]
  },
  {
   "cell_type": "code",
   "execution_count": 21,
   "metadata": {},
   "outputs": [
    {
     "data": {
      "text/plain": [
       "<Figure size 640x480 with 1 Axes>"
      ]
     },
     "metadata": {},
     "output_type": "display_data"
    }
   ],
   "source": [
    "# Ploting the Training and Validation loss\n",
    "\n",
    "\n",
    "import matplotlib.pyplot as plt\n",
    "\n",
    "history_dict = history.history\n",
    "loss_values  = history_dict['loss']\n",
    "val_loss_values = history_dict['val_loss']\n",
    "\n",
    "epochs = range(1,len(history_dict['val_loss']) + 1)\n",
    "\n",
    "plt.plot(epochs,loss_values,'bo',label = 'Trainging Loss')\n",
    "plt.plot(epochs,val_loss_values,'b',label = 'Validation Loss')\n",
    "plt.title('Training and Validation Loss')\n",
    "plt.xlabel('Epochs')\n",
    "plt.ylabel('Loss')\n",
    "plt.legend()\n",
    "\n",
    "plt.show()\n"
   ]
  },
  {
   "cell_type": "code",
   "execution_count": 89,
   "metadata": {},
   "outputs": [
    {
     "data": {
      "image/png": "[encoded data removed]",
      "text/plain": [
       "<Figure size 432x288 with 1 Axes>"
      ]
     },
     "metadata": {
      "needs_background": "light"
     },
     "output_type": "display_data"
    }
   ],
   "source": [
    "# Ploting the Training and Validation Accuracy\n",
    "\n",
    "# plt.clf() # To clear the figure\n",
    "\n",
    "acc_values = history_dict['accuracy']\n",
    "val_acc_values = history_dict['val_accuracy']\n",
    "\n",
    "plt.plot(epochs, acc_values, 'bo', label = 'Training Accuracy')\n",
    "plt.plot(epochs , val_acc_values, 'b', label = 'Validation Accuracy')\n",
    "plt.title('Training and Validation Accuracy')\n",
    "plt.xlabel('Epochs')\n",
    "plt.ylabel('Accuracy')\n",
    "plt.legend()\n",
    "\n",
    "plt.show()"
   ]
  },
  {
   "cell_type": "code",
   "execution_count": 22,
   "metadata": {},
   "outputs": [
    {
     "name": "stdout",
     "output_type": "stream",
     "text": [
      "Epoch 1/9\n",
      "18/18 [==============================] - 3s 172ms/step - loss: 3.8002 - accuracy: 0.3320 - val_loss: 3.7639 - val_accuracy: 0.3540\n",
      "Epoch 2/9\n",
      "18/18 [==============================] - 2s 85ms/step - loss: 3.7232 - accuracy: 0.3517 - val_loss: 3.6697 - val_accuracy: 0.3540\n",
      "Epoch 3/9\n",
      "18/18 [==============================] - 1s 70ms/step - loss: 3.6139 - accuracy: 0.3517 - val_loss: 3.5435 - val_accuracy: 0.3540\n",
      "Epoch 4/9\n",
      "18/18 [==============================] - 1s 61ms/step - loss: 3.4737 - accuracy: 0.3517 - val_loss: 3.3886 - val_accuracy: 0.3540\n",
      "Epoch 5/9\n",
      "18/18 [==============================] - 1s 59ms/step - loss: 3.3066 - accuracy: 0.3517 - val_loss: 3.2110 - val_accuracy: 0.3540\n",
      "Epoch 6/9\n",
      "18/18 [==============================] - 1s 58ms/step - loss: 3.1232 - accuracy: 0.3517 - val_loss: 3.0245 - val_accuracy: 0.3540\n",
      "Epoch 7/9\n",
      "18/18 [==============================] - 1s 58ms/step - loss: 2.9393 - accuracy: 0.3517 - val_loss: 2.8478 - val_accuracy: 0.3540\n",
      "Epoch 8/9\n",
      "18/18 [==============================] - 1s 65ms/step - loss: 2.7781 - accuracy: 0.3517 - val_loss: 2.7063 - val_accuracy: 0.3540\n",
      "Epoch 9/9\n",
      "18/18 [==============================] - 1s 65ms/step - loss: 2.6602 - accuracy: 0.3517 - val_loss: 2.6073 - val_accuracy: 0.3540\n",
      "71/71 [==============================] - 0s 4ms/step - loss: 2.6329 - accuracy: 0.3620\n"
     ]
    }
   ],
   "source": [
    "# Retraining a Model from Scratch\n",
    "\n",
    "model = models.Sequential()\n",
    "model.add(layers.Dense(64, activation = 'relu', input_shape = (10000,)))\n",
    "model.add(layers.Dense(64, activation = 'relu'))\n",
    "model.add(layers.Dense(46, activation = 'sigmoid'))\n",
    "\n",
    "model.compile(\n",
    "            optimizer  ='rmsprop',\n",
    "            loss       = 'categorical_crossentropy',\n",
    "            metrics    = ['accuracy'])\n",
    "\n",
    "model.fit(x_train,one_hot_train_labels,epochs = 9,batch_size = 512,validation_data=(x_val,y_val))\n",
    "results = model.evaluate(x_test,one_hot_test_labels)"
   ]
  },
  {
   "cell_type": "code",
   "execution_count": 1,
   "metadata": {},
   "outputs": [
    {
     "ename": "NameError",
     "evalue": "name 'results' is not defined",
     "output_type": "error",
     "traceback": [
      "\u001b[1;31m---------------------------------------------------------------------------\u001b[0m",
      "\u001b[1;31mNameError\u001b[0m                                 Traceback (most recent call last)",
      "\u001b[1;32m<ipython-input-1-100f62972f2f>\u001b[0m in \u001b[0;36m<module>\u001b[1;34m\u001b[0m\n\u001b[1;32m----> 1\u001b[1;33m \u001b[0mresults\u001b[0m\u001b[1;33m\u001b[0m\u001b[1;33m\u001b[0m\u001b[0m\n\u001b[0m",
      "\u001b[1;31mNameError\u001b[0m: name 'results' is not defined"
     ]
    }
   ],
   "source": [
    "results"
   ]
  },
  {
   "cell_type": "code",
   "execution_count": null,
   "metadata": {},
   "outputs": [],
   "source": [
    "predictions = model.predict(x_test)\n",
    "predictions[0].shape\n",
    "predictions[0]"
   ]
  }
 ],
 "metadata": {
  "kernelspec": {
   "display_name": "Python 3",
   "language": "python",
   "name": "python3"
  },
  "language_info": {
   "codemirror_mode": {
    "name": "ipython",
    "version": 3
   },
   "file_extension": ".py",
   "mimetype": "text/x-python",
   "name": "python",
   "nbconvert_exporter": "python",
   "pygments_lexer": "ipython3",
   "version": "3.7.3"
  }
 },
 "nbformat": 4,
 "nbformat_minor": 2
}
