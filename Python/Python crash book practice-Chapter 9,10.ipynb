{
 "cells": [
  {
   "cell_type": "markdown",
   "metadata": {},
   "source": [
    "# CHAPTER 9 CLASSES"
   ]
  },
  {
   "cell_type": "code",
   "execution_count": 1,
   "metadata": {},
   "outputs": [],
   "source": [
    "class Dog():\n",
    "    \"\"\"A simple machine demonstration of dog\"\"\"\n",
    "    def __init__(self,name,age):\n",
    "        self.name = name\n",
    "        self.age = age\n",
    "        \n",
    "    def sit(self):\n",
    "        print(self.name.title() + \" is sitting\")\n",
    "        \n",
    "    def roll(self):\n",
    "        print(self.name.title() + \" is rolling\")\n",
    "        \n",
    "    \n",
    "        "
   ]
  },
  {
   "cell_type": "code",
   "execution_count": 2,
   "metadata": {},
   "outputs": [
    {
     "name": "stdout",
     "output_type": "stream",
     "text": [
      "Tony is sitting\n",
      "Tony is rolling\n"
     ]
    }
   ],
   "source": [
    "my_dog = Dog(\"Tony\",\"5\")\n",
    "my_dog.sit()\n",
    "my_dog.roll()\n",
    "#Dog.roll(\"Tony\")"
   ]
  },
  {
   "cell_type": "code",
   "execution_count": 3,
   "metadata": {},
   "outputs": [],
   "source": [
    "class Resturant():\n",
    "    def __init__(self, resturant_name, cusine_type):\n",
    "        self.resturant_name = resturant_name\n",
    "        self.cusine_type    = cusine_type\n",
    "        \n",
    "        \n",
    "    def describe_resturant(self):\n",
    "        print(\"Welcome to the \" + self.resturant_name.title() + \".\\n\" )\n",
    "        print(\"It would be our plesure to serve you\")\n",
    "        \n",
    "    def open_resturant(self):\n",
    "        print(\"The resturant is open now\")\n",
    "        \n",
    "\n",
    "        "
   ]
  },
  {
   "cell_type": "code",
   "execution_count": 4,
   "metadata": {},
   "outputs": [],
   "source": [
    "resturant_1 = Resturant(\"Savour\",\"Rice\")"
   ]
  },
  {
   "cell_type": "code",
   "execution_count": 5,
   "metadata": {},
   "outputs": [
    {
     "data": {
      "text/plain": [
       "'Savour'"
      ]
     },
     "execution_count": 5,
     "metadata": {},
     "output_type": "execute_result"
    }
   ],
   "source": [
    "resturant_1.resturant_name"
   ]
  },
  {
   "cell_type": "code",
   "execution_count": 6,
   "metadata": {},
   "outputs": [
    {
     "data": {
      "text/plain": [
       "'Rice'"
      ]
     },
     "execution_count": 6,
     "metadata": {},
     "output_type": "execute_result"
    }
   ],
   "source": [
    "resturant_1.cusine_type"
   ]
  },
  {
   "cell_type": "code",
   "execution_count": 7,
   "metadata": {},
   "outputs": [
    {
     "name": "stdout",
     "output_type": "stream",
     "text": [
      "Welcome to the Savour Food.\n",
      "\n",
      "It would be our plesure to serve you\n"
     ]
    }
   ],
   "source": [
    "resturant_1 = Resturant(\"Savour Food\",\"Rice\")\n",
    "resturant_1.describe_resturant()"
   ]
  },
  {
   "cell_type": "code",
   "execution_count": 8,
   "metadata": {},
   "outputs": [
    {
     "name": "stdout",
     "output_type": "stream",
     "text": [
      "The resturant is open now\n"
     ]
    }
   ],
   "source": [
    "resturant_1.open_resturant()"
   ]
  },
  {
   "cell_type": "code",
   "execution_count": 9,
   "metadata": {},
   "outputs": [],
   "source": [
    "class User():\n",
    "    def __init__(self, full_name, father_name, course, institute):\n",
    "        self.full_name = full_name\n",
    "        self.father_name= father_name\n",
    "        self.course     = course\n",
    "        self.institute  = institute\n",
    "        \n",
    "        \n",
    "    def describe_user(self):\n",
    "        full_name   = self.full_name \n",
    "        father_name = self.father_name\n",
    "        course      = self.course     \n",
    "        institute   = self.institute  \n",
    "        message =  \"\"\"\n",
    "        STUDENT INFORMATION\n",
    "        Name     : {}\n",
    "        Father   : {}\n",
    "        Course   : {}\n",
    "        Institute: {}            \n",
    "        \"\"\".format(full_name, father_name, course, institute)\n",
    "        print(message)\n",
    "        \n",
    "    def greet_user(self):\n",
    "        print(\"Welcome \" + self.full_name.title() + \"\\nSon of \" + self.father_name.title() +\n",
    "              \"\\nIn \" + self.institute.upper() + \"\\nFor \" + self.course.upper() + \" course.\")"
   ]
  },
  {
   "cell_type": "code",
   "execution_count": 10,
   "metadata": {},
   "outputs": [],
   "source": [
    "std_1 = User(\"Muhammad Asif\",\"Irshad Ali\",\"Artificial Inteligence\",\"PIAIC\")"
   ]
  },
  {
   "cell_type": "code",
   "execution_count": 11,
   "metadata": {},
   "outputs": [
    {
     "name": "stdout",
     "output_type": "stream",
     "text": [
      "\n",
      "        STUDENT INFORMATION\n",
      "        Name     : Muhammad Asif\n",
      "        Father   : Irshad Ali\n",
      "        Course   : Artificial Inteligence\n",
      "        Institute: PIAIC            \n",
      "        \n"
     ]
    }
   ],
   "source": [
    "std_1.describe_user()"
   ]
  },
  {
   "cell_type": "code",
   "execution_count": 12,
   "metadata": {},
   "outputs": [
    {
     "name": "stdout",
     "output_type": "stream",
     "text": [
      "Welcome Muhammad Asif\n",
      "Son of Irshad Ali\n",
      "In PIAIC\n",
      "For ARTIFICIAL INTELIGENCE course.\n"
     ]
    }
   ],
   "source": [
    "std_1.greet_user()"
   ]
  },
  {
   "cell_type": "code",
   "execution_count": 16,
   "metadata": {},
   "outputs": [],
   "source": [
    "class Resturant():\n",
    "    def __init__(self, resturant_name, cusine_type):\n",
    "        self.resturant_name = resturant_name\n",
    "        self.cusine_type    = cusine_type\n",
    "        self.number_served  = 0\n",
    "        \n",
    "        \n",
    "    def describe_resturant(self):\n",
    "        print(\"Welcome to the \" + self.resturant_name.title() + \".\\n\" )\n",
    "        print(\"It would be our plesure to serve you\")\n",
    "        \n",
    "    def open_resturant(self):\n",
    "        print(\"The resturant is open now\")\n",
    "        \n",
    "    def customer_served(self):\n",
    "        print(\"The number of customer served are \"+ str(self.number_served))\n",
    "        \n",
    "    def update_customer_served(self,num):\n",
    "        self.number_served = num\n",
    "    \n",
    "        "
   ]
  },
  {
   "cell_type": "code",
   "execution_count": 14,
   "metadata": {},
   "outputs": [
    {
     "name": "stdout",
     "output_type": "stream",
     "text": [
      "The number of customer served are 0\n"
     ]
    }
   ],
   "source": [
    "resturant_1 = Resturant(\"Cusine Hub\",\"B.B.Q\")\n",
    "resturant_1.customer_served()"
   ]
  },
  {
   "cell_type": "code",
   "execution_count": 15,
   "metadata": {},
   "outputs": [
    {
     "name": "stdout",
     "output_type": "stream",
     "text": [
      "The number of customer served are 25\n"
     ]
    }
   ],
   "source": [
    "resturant_1.number_served = 25\n",
    "resturant_1.customer_served()"
   ]
  },
  {
   "cell_type": "code",
   "execution_count": 16,
   "metadata": {},
   "outputs": [],
   "source": [
    "resturant_1.update_customer_served(48)"
   ]
  },
  {
   "cell_type": "code",
   "execution_count": 17,
   "metadata": {},
   "outputs": [
    {
     "name": "stdout",
     "output_type": "stream",
     "text": [
      "The number of customer served are 48\n"
     ]
    }
   ],
   "source": [
    "resturant_1.customer_served()"
   ]
  },
  {
   "cell_type": "code",
   "execution_count": 40,
   "metadata": {},
   "outputs": [],
   "source": [
    "class User():\n",
    "    def __init__(self, full_name, father_name, course, institute):\n",
    "        self.full_name     = full_name\n",
    "        self.father_name   = father_name\n",
    "        self.course        = course\n",
    "        self.institute     = institute\n",
    "        self.login_attempts= 0\n",
    "        \n",
    "        \n",
    "    def describe_user(self):\n",
    "        full_name   = self.full_name \n",
    "        father_name = self.father_name\n",
    "        course      = self.course     \n",
    "        institute   = self.institute  \n",
    "        message =  \"\"\"\n",
    "        STUDENT INFORMATION\n",
    "        Name     : {}\n",
    "        Father   : {}\n",
    "        Course   : {}\n",
    "        Institute: {}            \n",
    "        \"\"\".format(full_name, father_name, course, institute)\n",
    "        print(message)\n",
    "        \n",
    "    def greet_user(self):\n",
    "        print(\"Welcome \" + self.full_name.title() + \"\\nSon of \" + self.father_name.title() +\n",
    "              \"\\nIn \" + self.institute.upper() + \"\\nFor \" + self.course.upper() + \" course.\")\n",
    "    \n",
    "    def increment_login(self):\n",
    "        self.login_attempts += 1\n",
    "        print(\"You login for \" + str(self.login_attempts) + \" times.\")\n",
    "        if self.login_attempts == 5:\n",
    "            self.login_attempts = 0\n",
    "            \n",
    "        \n",
    "    def reset_login_attempts(self):\n",
    "        if self.login_attempts == 5:\n",
    "            self.login_attempts = 0"
   ]
  },
  {
   "cell_type": "code",
   "execution_count": 41,
   "metadata": {},
   "outputs": [],
   "source": [
    "std_1 = User(\"Muhammad Asif\",\"Irshad Ali\",\"Artificial Inteligence\",\"PIAIC\")\n"
   ]
  },
  {
   "cell_type": "code",
   "execution_count": 42,
   "metadata": {},
   "outputs": [
    {
     "data": {
      "text/plain": [
       "0"
      ]
     },
     "execution_count": 42,
     "metadata": {},
     "output_type": "execute_result"
    }
   ],
   "source": [
    "std_1.login_attempts"
   ]
  },
  {
   "cell_type": "code",
   "execution_count": 43,
   "metadata": {},
   "outputs": [
    {
     "name": "stdout",
     "output_type": "stream",
     "text": [
      "You login for 1 times.\n"
     ]
    },
    {
     "data": {
      "text/plain": [
       "1"
      ]
     },
     "execution_count": 43,
     "metadata": {},
     "output_type": "execute_result"
    }
   ],
   "source": [
    "std_1.increment_login()\n",
    "std_1.login_attempts"
   ]
  },
  {
   "cell_type": "code",
   "execution_count": 44,
   "metadata": {},
   "outputs": [],
   "source": [
    "std_1.reset_login_attempts()"
   ]
  },
  {
   "cell_type": "code",
   "execution_count": 45,
   "metadata": {},
   "outputs": [
    {
     "data": {
      "text/plain": [
       "1"
      ]
     },
     "execution_count": 45,
     "metadata": {},
     "output_type": "execute_result"
    }
   ],
   "source": [
    "std_1.login_attempts"
   ]
  },
  {
   "cell_type": "code",
   "execution_count": 1,
   "metadata": {},
   "outputs": [],
   "source": [
    "# Inheritance"
   ]
  },
  {
   "cell_type": "code",
   "execution_count": 57,
   "metadata": {},
   "outputs": [],
   "source": [
    "class Car(): # Parent Class\n",
    "    \"\"\"A simple attempt to represent a car.\"\"\"\n",
    "    def __init__(self, make, model, year):\n",
    "        self.make = make\n",
    "        self.model = model\n",
    "        self.year = year\n",
    "        self.odometer_reading = 0\n",
    "        self.gas_required  = 100\n",
    "\n",
    "    def get_descriptive_name(self):\n",
    "        long_name = str(self.year) + ' ' + self.make + ' ' + self.model\n",
    "        return long_name.title()\n",
    "    def read_odometer(self):\n",
    "        print(\"This car has \" + str(self.odometer_reading) + \" miles on it.\")\n",
    "    def update_odometer(self, mileage):\n",
    "        if mileage >= self.odometer_reading:\n",
    "            self.odometer_reading = mileage\n",
    "        else:\n",
    "            print(\"You can't roll back an odometer!\")\n",
    "    def increment_odometer(self, miles):\n",
    "        self.odometer_reading += miles\n",
    "    def fill_gas_tank(self):\n",
    "        \"\"\"Electric cars don't have gas tanks.\"\"\"\n",
    "        print(\"This car need \" + str(self.gas_required) + \"kg to fill the tank!\")\n",
    "\n",
    "\n",
    "class ElectricCar(Car): # Child Class\n",
    "    \"\"\"Represent aspects of a car, specific to electric vehicles.\"\"\"\n",
    "    def __init__(self, make, model, year):\n",
    "            \"\"\"Initialize attributes of the parent class.\"\"\"\n",
    "            super().__init__(make, model, year)\n",
    "            \"\"\"Then initialize attributes specific to an electric car.\"\"\"\n",
    "            self.battery_size = 80\n",
    "            \n",
    "    def describe_battery(self):\n",
    "        print(\"This car has a \" + str(self.battery_size) + \"-kWh battery.\")\n",
    "    \n",
    "    def fill_gas_tank(self):\n",
    "        \"\"\"Electric cars don't have gas tanks.\"\"\"\n",
    "        print(\"This car doesn't need a gas tank!\")\n",
    "        \n",
    "\n"
   ]
  },
  {
   "cell_type": "code",
   "execution_count": 29,
   "metadata": {},
   "outputs": [],
   "source": [
    "my_car = Car('Honda','Sports',\"2019\")"
   ]
  },
  {
   "cell_type": "code",
   "execution_count": 30,
   "metadata": {},
   "outputs": [
    {
     "name": "stdout",
     "output_type": "stream",
     "text": [
      "<__main__.Car object at 0x000002A5DB3D72B0>\n"
     ]
    }
   ],
   "source": [
    "print(my_car)"
   ]
  },
  {
   "cell_type": "code",
   "execution_count": 31,
   "metadata": {},
   "outputs": [
    {
     "data": {
      "text/plain": [
       "'2019 Honda Sports'"
      ]
     },
     "execution_count": 31,
     "metadata": {},
     "output_type": "execute_result"
    }
   ],
   "source": [
    "my_car.get_descriptive_name()"
   ]
  },
  {
   "cell_type": "code",
   "execution_count": 32,
   "metadata": {},
   "outputs": [],
   "source": [
    "my_car.update_odometer(150)"
   ]
  },
  {
   "cell_type": "code",
   "execution_count": 33,
   "metadata": {},
   "outputs": [
    {
     "name": "stdout",
     "output_type": "stream",
     "text": [
      "This car has 150 miles on it.\n"
     ]
    }
   ],
   "source": [
    "my_car.read_odometer()"
   ]
  },
  {
   "cell_type": "code",
   "execution_count": 34,
   "metadata": {},
   "outputs": [],
   "source": [
    "my_car.increment_odometer(6)"
   ]
  },
  {
   "cell_type": "code",
   "execution_count": 35,
   "metadata": {},
   "outputs": [
    {
     "name": "stdout",
     "output_type": "stream",
     "text": [
      "This car has 156 miles on it.\n"
     ]
    }
   ],
   "source": [
    "my_car.read_odometer()"
   ]
  },
  {
   "cell_type": "code",
   "execution_count": 36,
   "metadata": {},
   "outputs": [
    {
     "data": {
      "text/plain": [
       "<__main__.ElectricCar at 0x2a5db3c4be0>"
      ]
     },
     "execution_count": 36,
     "metadata": {},
     "output_type": "execute_result"
    }
   ],
   "source": [
    "ElectricCar('Tayota','Sunny','2009')"
   ]
  },
  {
   "cell_type": "code",
   "execution_count": 37,
   "metadata": {},
   "outputs": [],
   "source": [
    "my_car2 = ElectricCar('Tayota','Sunny','2009')"
   ]
  },
  {
   "cell_type": "code",
   "execution_count": 38,
   "metadata": {},
   "outputs": [
    {
     "data": {
      "text/plain": [
       "'2009 Tayota Sunny'"
      ]
     },
     "execution_count": 38,
     "metadata": {},
     "output_type": "execute_result"
    }
   ],
   "source": [
    "my_car2.get_descriptive_name()"
   ]
  },
  {
   "cell_type": "code",
   "execution_count": 39,
   "metadata": {},
   "outputs": [
    {
     "name": "stdout",
     "output_type": "stream",
     "text": [
      "2016 Tesla Model S\n"
     ]
    }
   ],
   "source": [
    "my_tesla = ElectricCar('tesla', 'model s', 2016)\n",
    "print(my_tesla.get_descriptive_name())"
   ]
  },
  {
   "cell_type": "code",
   "execution_count": 49,
   "metadata": {},
   "outputs": [
    {
     "name": "stdout",
     "output_type": "stream",
     "text": [
      "2016 Tesla Model S\n",
      "This car has a 80-kWh battery.\n"
     ]
    }
   ],
   "source": [
    "my_tesla = ElectricCar('tesla', 'model s', 2016)\n",
    "print(my_tesla.get_descriptive_name())\n",
    "my_tesla.describe_battery()"
   ]
  },
  {
   "cell_type": "code",
   "execution_count": 41,
   "metadata": {},
   "outputs": [
    {
     "name": "stdout",
     "output_type": "stream",
     "text": [
      "This car has a 80-kWh battery.\n"
     ]
    }
   ],
   "source": [
    "my_tesla.describe_battery()"
   ]
  },
  {
   "cell_type": "code",
   "execution_count": 27,
   "metadata": {},
   "outputs": [],
   "source": [
    "# Overriding Methods from the Parent Class\n",
    "# you define a method in the child class with the same name as the method you want to override in the parent class"
   ]
  },
  {
   "cell_type": "code",
   "execution_count": 50,
   "metadata": {},
   "outputs": [
    {
     "name": "stdout",
     "output_type": "stream",
     "text": [
      "This car doesn't need a gas tank!\n"
     ]
    }
   ],
   "source": [
    "my_tesla.fill_gas_tank()"
   ]
  },
  {
   "cell_type": "code",
   "execution_count": 51,
   "metadata": {},
   "outputs": [],
   "source": [
    "# Instances as Attributes"
   ]
  },
  {
   "cell_type": "code",
   "execution_count": 12,
   "metadata": {},
   "outputs": [],
   "source": [
    "class Car(): # Parent Class\n",
    "    \"\"\"A simple attempt to represent a car.\"\"\"\n",
    "    def __init__(self, make, model, year):\n",
    "        self.make = make\n",
    "        self.model = model\n",
    "        self.year = year\n",
    "        self.odometer_reading = 0\n",
    "        self.gas_required  = 100\n",
    "\n",
    "    def get_descriptive_name(self):\n",
    "        long_name = str(self.year) + ' ' + self.make + ' ' + self.model\n",
    "        return long_name.title()\n",
    "    def read_odometer(self):\n",
    "        print(\"This car has \" + str(self.odometer_reading) + \" miles on it.\")\n",
    "    def update_odometer(self, mileage):\n",
    "        if mileage >= self.odometer_reading:\n",
    "            self.odometer_reading = mileage\n",
    "        else:\n",
    "            print(\"You can't roll back an odometer!\")\n",
    "    def increment_odometer(self, miles):\n",
    "        self.odometer_reading += miles\n",
    "    def fill_gas_tank(self):\n",
    "        \"\"\"Electric cars don't have gas tanks.\"\"\"\n",
    "        print(\"This car need \" + str(self.gas_required) + \"kg to fill the tank!\")\n",
    "\n",
    "\n",
    "class Battery(): # Additional class defining special properties\n",
    "    \"\"\"A simple attempt to model a battery for an electric car.\"\"\"\n",
    "    def __init__(self, battery_size=70):\n",
    "        \"\"\"Initialize the battery's attributes.\"\"\"\n",
    "        self.battery_size = battery_size\n",
    "        \n",
    "        \n",
    "    def describe_battery(self):\n",
    "        \"\"\"Print a statement describing the battery size.\"\"\"\n",
    "        print(\"This car has a \" + str(self.battery_size) + \"-kWh battery.\")\n",
    "    def get_range(self):\n",
    "        \"\"\"Print a statement about the range this battery provides.\"\"\"\n",
    "        if self.battery_size == 70:\n",
    "            range = 240\n",
    "        elif self.battery_size == 85:\n",
    "            range = 270\n",
    "        message = \"This car can go approximately \" + str(range)\n",
    "        message += \" miles on a full charge.\"\n",
    "        print(message)\n",
    "        \n",
    "class ElectricCar(Car): # Child Class\n",
    "    \"\"\"Represent aspects of a car, specific to electric vehicles.\"\"\"\n",
    "    def __init__(self, make, model, year):\n",
    "            \"\"\"Initialize attributes of the parent class.\"\"\"\n",
    "            super().__init__(make, model, year)\n",
    "            \"\"\"Then initialize attributes specific to an electric car.\"\"\"\n",
    "            self.battery = Battery()\n",
    "            \n",
    "    def describe_battery(self):\n",
    "        print(\"This car has a \" + str(self.battery) + \"-kWh battery.\")\n",
    "    \n",
    "    def fill_gas_tank(self):\n",
    "        \"\"\"Electric cars don't have gas tanks.\"\"\"\n",
    "        print(\"This car doesn't need a gas tank!\")\n",
    "        \n",
    "\n"
   ]
  },
  {
   "cell_type": "code",
   "execution_count": 13,
   "metadata": {},
   "outputs": [
    {
     "name": "stdout",
     "output_type": "stream",
     "text": [
      "2016 Tesla Model S\n",
      "This car has a 70-kWh battery.\n"
     ]
    }
   ],
   "source": [
    "my_tesla = ElectricCar('tesla', 'model s', 2016)\n",
    "print(my_tesla.get_descriptive_name())\n",
    "my_tesla.battery.describe_battery() # important that instance.class_reference.calling_method\n"
   ]
  },
  {
   "cell_type": "code",
   "execution_count": 14,
   "metadata": {},
   "outputs": [
    {
     "name": "stdout",
     "output_type": "stream",
     "text": [
      "This car can go approximately 240 miles on a full charge.\n"
     ]
    }
   ],
   "source": [
    "my_tesla.battery.get_range()"
   ]
  },
  {
   "cell_type": "code",
   "execution_count": 15,
   "metadata": {},
   "outputs": [],
   "source": [
    "# Modeling Real World Objects"
   ]
  },
  {
   "cell_type": "code",
   "execution_count": 17,
   "metadata": {},
   "outputs": [
    {
     "data": {
      "text/plain": [
       "'9-6. Ice Cream Stand: An ice cream stand is a specific kind of restaurant. Write\\na class called IceCreamStand that inherits from the Restaurant class you wrote\\nin Exercise 9-1 (page 166) or Exercise 9-4 (page 171). Either version of\\nthe class will work; just pick the one you like better. Add an attribute called\\nflavors that stores a list of ice cream flavors. Write a method that displays\\nthese flavors. Create an instance of IceCreamStand, and call this method.'"
      ]
     },
     "execution_count": 17,
     "metadata": {},
     "output_type": "execute_result"
    }
   ],
   "source": [
    "# Exercise\n",
    "\"\"\"9-6. Ice Cream Stand: An ice cream stand is a specific kind of restaurant. Write\n",
    "a class called IceCreamStand that inherits from the Restaurant class you wrote\n",
    "in Exercise 9-1 (page 166) or Exercise 9-4 (page 171). Either version of\n",
    "the class will work; just pick the one you like better. Add an attribute called\n",
    "flavors that stores a list of ice cream flavors. Write a method that displays\n",
    "these flavors. Create an instance of IceCreamStand, and call this method.\"\"\""
   ]
  },
  {
   "cell_type": "code",
   "execution_count": 24,
   "metadata": {},
   "outputs": [],
   "source": [
    "class Resturant():\n",
    "    def __init__(self, resturant_name, cusine_type):\n",
    "        self.resturant_name = resturant_name\n",
    "        self.cusine_type    = cusine_type\n",
    "        self.number_served  = 0\n",
    "        \n",
    "        \n",
    "    def describe_resturant(self):\n",
    "        print(\"Welcome to the \" + self.resturant_name.title() + \".\\n\" )\n",
    "        print(\"It would be our plesure to serve you\")\n",
    "        \n",
    "    def open_resturant(self):\n",
    "        print(\"The resturant is open now\")\n",
    "        \n",
    "    def customer_served(self):\n",
    "        print(\"The number of customer served are \"+ str(self.number_served))\n",
    "        \n",
    "    def update_customer_served(self,num):\n",
    "        self.number_served = num\n",
    "    \n",
    "class IceCreamStand(Resturant):\n",
    "    def __init__(self, resturant_name, cusine_type):\n",
    "        super().__init__(resturant_name, cusine_type)\n",
    "        self.flavors = ['Mango','Chocolate','Vanila']\n",
    "        \n",
    "        \n",
    "    def display_flavors(self):\n",
    "        offered_flavour = self.flavors\n",
    "        print(\"Availible flavours for ice-Cream are \" + str(self.flavors) + \".\")\n",
    "    def select_flavour(self):\n",
    "        order1 = (input('Please Select the flavour: '))\n",
    "        if order1 in self.flavors:\n",
    "            print('The ' + order1 + 'flavor ice-cream is hazir....')\n",
    "        else:\n",
    "            print(\"This flavour is not availible\")\n",
    "        "
   ]
  },
  {
   "cell_type": "code",
   "execution_count": 25,
   "metadata": {},
   "outputs": [],
   "source": [
    "rest1 = Resturant('Ali Baba','BBQ')"
   ]
  },
  {
   "cell_type": "code",
   "execution_count": 26,
   "metadata": {},
   "outputs": [
    {
     "name": "stdout",
     "output_type": "stream",
     "text": [
      "Welcome to the Ali Baba.\n",
      "\n",
      "It would be our plesure to serve you\n"
     ]
    }
   ],
   "source": [
    "rest1.describe_resturant()"
   ]
  },
  {
   "cell_type": "code",
   "execution_count": 27,
   "metadata": {},
   "outputs": [],
   "source": [
    "ice = IceCreamStand('Ice Hutt','Ice Cream')"
   ]
  },
  {
   "cell_type": "code",
   "execution_count": 28,
   "metadata": {},
   "outputs": [
    {
     "name": "stdout",
     "output_type": "stream",
     "text": [
      "Welcome to the Ice Hutt.\n",
      "\n",
      "It would be our plesure to serve you\n"
     ]
    }
   ],
   "source": [
    "ice.describe_resturant()"
   ]
  },
  {
   "cell_type": "code",
   "execution_count": 29,
   "metadata": {},
   "outputs": [
    {
     "name": "stdout",
     "output_type": "stream",
     "text": [
      "The resturant is open now\n"
     ]
    }
   ],
   "source": [
    "ice.open_resturant()"
   ]
  },
  {
   "cell_type": "code",
   "execution_count": 30,
   "metadata": {},
   "outputs": [
    {
     "name": "stdout",
     "output_type": "stream",
     "text": [
      "Availible flavours for ice-Cream are ['Mango', 'Chocolate', 'Vanila'].\n"
     ]
    }
   ],
   "source": [
    "ice.display_flavors()"
   ]
  },
  {
   "cell_type": "code",
   "execution_count": 31,
   "metadata": {},
   "outputs": [
    {
     "name": "stdout",
     "output_type": "stream",
     "text": [
      "Please Select the flavour: Mango\n",
      "The Mangoflavor ice-cream is hazir....\n"
     ]
    }
   ],
   "source": [
    "ice.select_flavour()"
   ]
  },
  {
   "cell_type": "code",
   "execution_count": 32,
   "metadata": {},
   "outputs": [
    {
     "name": "stdout",
     "output_type": "stream",
     "text": [
      "Please Select the flavour: Banana\n",
      "This flavour is not availible\n"
     ]
    }
   ],
   "source": [
    "ice.select_flavour()"
   ]
  },
  {
   "cell_type": "code",
   "execution_count": 33,
   "metadata": {},
   "outputs": [
    {
     "data": {
      "text/plain": [
       "'9-9. Battery Upgrade: Use the final version of electric_car.py from this section.\\nAdd a method to the Battery class called upgrade_battery(). This method\\nshould check the battery size and set the capacity to 85 if it isn’t already.\\nMake an electric car with a default battery size, call get_range() once, and\\nthen call get_range() a second time after upgrading the battery. You should\\nsee an increase in the car’s range'"
      ]
     },
     "execution_count": 33,
     "metadata": {},
     "output_type": "execute_result"
    }
   ],
   "source": [
    "\"\"\"9-9. Battery Upgrade: Use the final version of electric_car.py from this section.\n",
    "Add a method to the Battery class called upgrade_battery(). This method\n",
    "should check the battery size and set the capacity to 85 if it isn’t already.\n",
    "Make an electric car with a default battery size, call get_range() once, and\n",
    "then call get_range() a second time after upgrading the battery. You should\n",
    "see an increase in the car’s range\"\"\""
   ]
  },
  {
   "cell_type": "code",
   "execution_count": 35,
   "metadata": {},
   "outputs": [],
   "source": [
    "class Car(): # Parent Class\n",
    "    \"\"\"A simple attempt to represent a car.\"\"\"\n",
    "    def __init__(self, make, model, year):\n",
    "        self.make = make\n",
    "        self.model = model\n",
    "        self.year = year\n",
    "        self.odometer_reading = 0\n",
    "        self.gas_required  = 100\n",
    "\n",
    "    def get_descriptive_name(self):\n",
    "        long_name = str(self.year) + ' ' + self.make + ' ' + self.model\n",
    "        return long_name.title()\n",
    "    def read_odometer(self):\n",
    "        print(\"This car has \" + str(self.odometer_reading) + \" miles on it.\")\n",
    "    def update_odometer(self, mileage):\n",
    "        if mileage >= self.odometer_reading:\n",
    "            self.odometer_reading = mileage\n",
    "        else:\n",
    "            print(\"You can't roll back an odometer!\")\n",
    "    def increment_odometer(self, miles):\n",
    "        self.odometer_reading += miles\n",
    "    def fill_gas_tank(self):\n",
    "        \"\"\"Electric cars don't have gas tanks.\"\"\"\n",
    "        print(\"This car need \" + str(self.gas_required) + \"kg to fill the tank!\")\n",
    "\n",
    "\n",
    "class Battery(): # Additional class defining special properties\n",
    "    \"\"\"A simple attempt to model a battery for an electric car.\"\"\"\n",
    "    def __init__(self, battery_size=70):\n",
    "        \"\"\"Initialize the battery's attributes.\"\"\"\n",
    "        self.battery_size = battery_size\n",
    "        \n",
    "        \n",
    "    def describe_battery(self):\n",
    "        \"\"\"Print a statement describing the battery size.\"\"\"\n",
    "        print(\"This car has a \" + str(self.battery_size) + \"-kWh battery.\")\n",
    "    def get_range(self):\n",
    "        \"\"\"Print a statement about the range this battery provides.\"\"\"\n",
    "        if self.battery_size == 70:\n",
    "            range = 240\n",
    "        elif self.battery_size == 85:\n",
    "            range = 270\n",
    "        message = \"This car can go approximately \" + str(range)\n",
    "        message += \" miles on a full charge.\"\n",
    "        print(message)\n",
    "    def upgrade_battery(self):\n",
    "        upgraded_battery = 85\n",
    "        if self.battery_size < 85:\n",
    "            self.battery_size = upgraded_battery\n",
    "        print('The Battery of this car is upgraded')\n",
    "            \n",
    "        \n",
    "class ElectricCar(Car): # Child Class\n",
    "    \"\"\"Represent aspects of a car, specific to electric vehicles.\"\"\"\n",
    "    def __init__(self, make, model, year):\n",
    "            \"\"\"Initialize attributes of the parent class.\"\"\"\n",
    "            super().__init__(make, model, year)\n",
    "            \"\"\"Then initialize attributes specific to an electric car.\"\"\"\n",
    "            self.battery = Battery()\n",
    "            \n",
    "    def describe_battery(self):\n",
    "        print(\"This car has a \" + str(self.battery) + \"-kWh battery.\")\n",
    "    \n",
    "    def fill_gas_tank(self):\n",
    "        \"\"\"Electric cars don't have gas tanks.\"\"\"\n",
    "        print(\"This car doesn't need a gas tank!\")\n"
   ]
  },
  {
   "cell_type": "code",
   "execution_count": 36,
   "metadata": {},
   "outputs": [
    {
     "name": "stdout",
     "output_type": "stream",
     "text": [
      "2016 Tesla Model S\n",
      "This car has a 70-kWh battery.\n"
     ]
    }
   ],
   "source": [
    "my_tesla = ElectricCar('tesla', 'model s', 2016)\n",
    "print(my_tesla.get_descriptive_name())\n",
    "my_tesla.battery.describe_battery()"
   ]
  },
  {
   "cell_type": "code",
   "execution_count": 39,
   "metadata": {},
   "outputs": [
    {
     "name": "stdout",
     "output_type": "stream",
     "text": [
      "This car can go approximately 240 miles on a full charge.\n"
     ]
    }
   ],
   "source": [
    "my_tesla.battery.get_range()"
   ]
  },
  {
   "cell_type": "code",
   "execution_count": 40,
   "metadata": {},
   "outputs": [
    {
     "name": "stdout",
     "output_type": "stream",
     "text": [
      "The Battery of this car is upgraded\n"
     ]
    }
   ],
   "source": [
    "my_tesla.battery.upgrade_battery()"
   ]
  },
  {
   "cell_type": "code",
   "execution_count": 41,
   "metadata": {},
   "outputs": [
    {
     "name": "stdout",
     "output_type": "stream",
     "text": [
      "This car can go approximately 270 miles on a full charge.\n"
     ]
    }
   ],
   "source": [
    "my_tesla.battery.get_range()"
   ]
  },
  {
   "cell_type": "markdown",
   "metadata": {},
   "source": [
    "# Importing Classes"
   ]
  },
  {
   "cell_type": "raw",
   "metadata": {},
   "source": [
    "# Importing a Single Class\n",
    "from car import Car #(from car.py import class 'Car')\n",
    "# Storing Multiple Classes in a Module\n",
    "from car import ElectricCar #(Multiple classed are stored in car.py)\n",
    "# Importing Multiple Classes from a Module\n",
    "from car import Car, ElectricCar\n",
    "# Importing an Entire Module\n",
    "import car\n",
    "# Importing All Classes from a Module\n",
    "from module_name import *\n",
    "# Importing a Module into a Module\n",
    "from car import Car"
   ]
  },
  {
   "cell_type": "markdown",
   "metadata": {},
   "source": [
    "# Styling Class"
   ]
  },
  {
   "cell_type": "raw",
   "metadata": {},
   "source": [
    "Class names should be written in CamelCaps.\n",
    "Every class should have a docstring immediately following the class definition.\n",
    "The docstring should be a brief description of what the class does,\n",
    "Each module should also have a docstring describing\n",
    "what the classes in a module can be used for.\n",
    "You can use blank lines to organize code"
   ]
  },
  {
   "cell_type": "markdown",
   "metadata": {},
   "source": [
    "# Chapter  10 File and EXception Handeling"
   ]
  },
  {
   "cell_type": "code",
   "execution_count": 45,
   "metadata": {},
   "outputs": [
    {
     "name": "stdout",
     "output_type": "stream",
     "text": [
      "1\n",
      "2\n",
      "3\n",
      "4\n",
      "5\n",
      "6\n",
      "7\n",
      "8\n",
      "9\n",
      "0\n",
      "123\n",
      "456\n",
      "789\n",
      "asdf\n",
      "jkl;\n",
      "gh\n",
      "qwer\n",
      "uiop\n",
      "ty\n",
      "zxcv\n",
      "nm,.\n",
      "b\n"
     ]
    }
   ],
   "source": [
    "# Reading an Entire File\n",
    "with open('Digits.txt') as file_object:\n",
    "    contents = file_object.read()\n",
    "    print(contents)"
   ]
  },
  {
   "cell_type": "code",
   "execution_count": 47,
   "metadata": {},
   "outputs": [
    {
     "data": {
      "text/plain": [
       "'To get Python to open files from a directory other\\nthan the one where your program file is stored, you need to provide a file\\npath, which tells Python to look in a specific location on your system.'"
      ]
     },
     "execution_count": 47,
     "metadata": {},
     "output_type": "execute_result"
    }
   ],
   "source": [
    "# File Paths\n",
    "\"\"\"To get Python to open files from a directory other\n",
    "than the one where your program file is stored, you need to provide a file\n",
    "path, which tells Python to look in a specific location on your system.\"\"\"\n"
   ]
  },
  {
   "cell_type": "code",
   "execution_count": 54,
   "metadata": {},
   "outputs": [
    {
     "name": "stdout",
     "output_type": "stream",
     "text": [
      "1\n",
      "2\n",
      "3\n",
      "4\n",
      "5\n",
      "6\n",
      "7\n",
      "8\n",
      "9\n",
      "0\n",
      "123\n",
      "456\n",
      "789\n",
      "asdf\n",
      "jkl;\n",
      "gh\n",
      "qwer\n",
      "uiop\n",
      "ty\n",
      "zxcv\n",
      "nm,.\n",
      "b\n"
     ]
    }
   ],
   "source": [
    "# Absolute Path\n",
    "with open('C:/Users/Asif/QUARTER 1/Digits.txt') as file_object:\n",
    "    contents = file_object.read()\n",
    "    print(contents)"
   ]
  },
  {
   "cell_type": "code",
   "execution_count": 55,
   "metadata": {},
   "outputs": [
    {
     "name": "stdout",
     "output_type": "stream",
     "text": [
      "1\n",
      "2\n",
      "3\n",
      "4\n",
      "5\n",
      "6\n",
      "7\n",
      "8\n",
      "9\n",
      "0\n",
      "123\n",
      "456\n",
      "789\n",
      "asdf\n",
      "jkl;\n",
      "gh\n",
      "qwer\n",
      "uiop\n",
      "ty\n",
      "zxcv\n",
      "nm,.\n",
      "b\n"
     ]
    }
   ],
   "source": [
    "with open('C:/Users/Asif/QUARTER 2/new_digits.txt') as file_object:\n",
    "    contents = file_object.read()\n",
    "    print(contents)"
   ]
  },
  {
   "cell_type": "code",
   "execution_count": null,
   "metadata": {},
   "outputs": [],
   "source": []
  },
  {
   "cell_type": "code",
   "execution_count": 5,
   "metadata": {},
   "outputs": [
    {
     "name": "stdout",
     "output_type": "stream",
     "text": [
      "1\n",
      "2\n",
      "3\n",
      "4\n",
      "5\n",
      "6\n",
      "7\n",
      "8\n",
      "9\n",
      "0\n",
      "123\n",
      "456\n",
      "789\n",
      "asdf\n",
      "jkl;\n",
      "gh\n",
      "qwer\n",
      "uiop\n",
      "ty\n",
      "zxcv\n",
      "nm,.\n",
      "b\n"
     ]
    }
   ],
   "source": [
    "filename = 'Digits.txt'\n",
    "with open(filename) as file_object:\n",
    "    for line in file_object:\n",
    "        print(line.rstrip())"
   ]
  },
  {
   "cell_type": "code",
   "execution_count": 10,
   "metadata": {},
   "outputs": [
    {
     "name": "stdout",
     "output_type": "stream",
     "text": [
      "1234567890123456789asdfjkl;ghqweruioptyzxcvnm,.b\n",
      "48\n",
      "1234567890123456789asdfjkl;ghqwerui...\n",
      "12345678901234567890000jkl;ghqweruioptyzxcvnm,.b\n"
     ]
    }
   ],
   "source": [
    "filename = 'Digits.txt'\n",
    "with open(filename) as file_object:\n",
    "    lines = file_object.readlines() #Return a list of lines from the stream\n",
    "    \n",
    "    string = ''\n",
    "    for line in lines:\n",
    "        string += line.strip()\n",
    "\n",
    "    print(string)\n",
    "    print(len(string))\n",
    "    print(string[:35] + \"...\")\n",
    "    print(string.replace('asdf','0000'))\n",
    "  "
   ]
  },
  {
   "cell_type": "code",
   "execution_count": 15,
   "metadata": {},
   "outputs": [],
   "source": [
    "#Writing to a File\n",
    "filename = 'Digits.txt'\n",
    "with open(filename, 'w') as file_object:\n",
    "    file_object.write(\"Hello World!\\n\")\n",
    "    file_object.write(\"I love programming.\\n\")\n",
    "    file_object.write(\"I love creating new games.\\n\")\n",
    "    "
   ]
  },
  {
   "cell_type": "code",
   "execution_count": 16,
   "metadata": {},
   "outputs": [],
   "source": [
    "# Appending to a File\n",
    "filename = 'Digits.txt'\n",
    "with open(filename, 'a') as file_object:\n",
    "    file_object.write(\"Hello World!\\n\")\n",
    "    file_object.write(\"I love programming.\\n\")\n",
    "    file_object.write(\"I love creating new games.\\n\")"
   ]
  },
  {
   "cell_type": "code",
   "execution_count": 2,
   "metadata": {},
   "outputs": [
    {
     "name": "stdout",
     "output_type": "stream",
     "text": [
      "Please enter your name: nasifg\n",
      "Welcome to the party\n"
     ]
    }
   ],
   "source": [
    "user_name = input(\"Please enter your name: \")\n",
    "with open('guest.txt', 'a') as file_object:\n",
    "    file_object.write('\\n'+ user_name)\n",
    "    print('Welcome to the party')\n",
    "   \n",
    "    "
   ]
  },
  {
   "cell_type": "code",
   "execution_count": 3,
   "metadata": {},
   "outputs": [],
   "source": [
    "import json\n",
    "\n",
    "numbers = [2, 3, 5, 7, 11, 13]\n",
    "filename = 'numbers.json'\n",
    "with open(filename, 'w') as f_obj:\n",
    "    json.dump(numbers, f_obj)"
   ]
  },
  {
   "cell_type": "code",
   "execution_count": 4,
   "metadata": {},
   "outputs": [
    {
     "name": "stdout",
     "output_type": "stream",
     "text": [
      "What is your name? asif\n",
      "We'll remember you when you come back, asif!\n"
     ]
    }
   ],
   "source": [
    "username = input(\"What is your name? \")\n",
    "filename = 'username.json'\n",
    "with open(filename, 'w') as f_obj:\n",
    "    json.dump(username, f_obj)\n",
    "    print(\"We'll remember you when you come back, \" + username + \"!\")"
   ]
  },
  {
   "cell_type": "code",
   "execution_count": null,
   "metadata": {},
   "outputs": [],
   "source": []
  }
 ],
 "metadata": {
  "kernelspec": {
   "display_name": "Python 3",
   "language": "python",
   "name": "python3"
  },
  "language_info": {
   "codemirror_mode": {
    "name": "ipython",
    "version": 3
   },
   "file_extension": ".py",
   "mimetype": "text/x-python",
   "name": "python",
   "nbconvert_exporter": "python",
   "pygments_lexer": "ipython3",
   "version": "3.7.3"
  }
 },
 "nbformat": 4,
 "nbformat_minor": 2
}
