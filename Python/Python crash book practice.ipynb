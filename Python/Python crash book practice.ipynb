{
 "cells": [
  {
   "cell_type": "markdown",
   "metadata": {},
   "source": [
    "# CHAPTER 1 AND 2\n",
    "Variable and strings"
   ]
  },
  {
   "cell_type": "code",
   "execution_count": 2,
   "metadata": {},
   "outputs": [
    {
     "data": {
      "text/plain": [
       "\"the book 'Python' is intrusting\""
      ]
     },
     "execution_count": 2,
     "metadata": {},
     "output_type": "execute_result"
    }
   ],
   "source": [
    "a = \"the book 'Python' is intrusting\"\n",
    "a"
   ]
  },
  {
   "cell_type": "code",
   "execution_count": 6,
   "metadata": {},
   "outputs": [
    {
     "name": "stdout",
     "output_type": "stream",
     "text": [
      "Ada Lovelace\n",
      "ada lovelace\n",
      "Hello, Ada Lovelace!\n"
     ]
    }
   ],
   "source": [
    "name = \"ada lovelace\"\n",
    "print(name.title())\n",
    "print(name.lower())\n",
    "print(\"Hello, \" + name.title() + \"!\")"
   ]
  },
  {
   "cell_type": "raw",
   "metadata": {},
   "source": [
    "Adding Whitespace to Strings with Tabs or Newlines"
   ]
  },
  {
   "cell_type": "code",
   "execution_count": 8,
   "metadata": {},
   "outputs": [
    {
     "name": "stdout",
     "output_type": "stream",
     "text": [
      "Languages:\n",
      "\tPython\n",
      "\tC\n",
      "\tJavaScript\n",
      "Languages:\n",
      "Python\n",
      "C\n",
      "JavaScript\n"
     ]
    }
   ],
   "source": [
    "print(\"Languages:\\n\\tPython\\n\\tC\\n\\tJavaScript\")\n",
    "print(\"Languages:\\nPython\\nC\\nJavaScript\")"
   ]
  },
  {
   "cell_type": "code",
   "execution_count": 9,
   "metadata": {},
   "outputs": [
    {
     "name": "stdout",
     "output_type": "stream",
     "text": [
      "Albert Einstein once said, “A person who never made a mistake never tried anything new.”\n"
     ]
    }
   ],
   "source": [
    "print('Albert Einstein once said, “A person who never made a mistake never tried anything new.”')"
   ]
  },
  {
   "cell_type": "raw",
   "metadata": {},
   "source": [
    "Avoiding Type Errors with the str() Function"
   ]
  },
  {
   "cell_type": "code",
   "execution_count": 10,
   "metadata": {},
   "outputs": [
    {
     "name": "stdout",
     "output_type": "stream",
     "text": [
      "Happy 23rd Birthday!\n"
     ]
    }
   ],
   "source": [
    "age = 23\n",
    "message = \"Happy \" + str(age) + \"rd Birthday!\"\n",
    "print(message)"
   ]
  },
  {
   "cell_type": "markdown",
   "metadata": {},
   "source": [
    "# CHAPTER 3\n",
    "Lists"
   ]
  },
  {
   "cell_type": "code",
   "execution_count": 13,
   "metadata": {},
   "outputs": [
    {
     "name": "stdout",
     "output_type": "stream",
     "text": [
      "['trek', 'cannondale', 'redline', 'specialized']\n",
      "trek\n",
      "Trek\n"
     ]
    }
   ],
   "source": [
    "bicycles = ['trek', 'cannondale', 'redline', 'specialized']\n",
    "print(bicycles)\n",
    "print(bicycles[0])\n",
    "print(bicycles[0].title())"
   ]
  },
  {
   "cell_type": "raw",
   "metadata": {},
   "source": [
    "Index Positions Start at 0, Not 1"
   ]
  },
  {
   "cell_type": "code",
   "execution_count": 15,
   "metadata": {},
   "outputs": [
    {
     "name": "stdout",
     "output_type": "stream",
     "text": [
      "specialized\n",
      "redline\n",
      "cannondale\n",
      "trek\n"
     ]
    }
   ],
   "source": [
    "print(bicycles[-1])\n",
    "print(bicycles[-2])\n",
    "print(bicycles[-3])\n",
    "print(bicycles[-4])"
   ]
  },
  {
   "cell_type": "code",
   "execution_count": 16,
   "metadata": {},
   "outputs": [
    {
     "name": "stdout",
     "output_type": "stream",
     "text": [
      "My first bicycle was a Trek.\n"
     ]
    }
   ],
   "source": [
    "message = \"My first bicycle was a \" + bicycles[0].title() + \".\"\n",
    "print(message)"
   ]
  },
  {
   "cell_type": "code",
   "execution_count": 18,
   "metadata": {},
   "outputs": [
    {
     "name": "stdout",
     "output_type": "stream",
     "text": [
      "['honda', 'yamaha', 'suzuki']\n",
      "['ducati', 'yamaha', 'suzuki']\n"
     ]
    }
   ],
   "source": [
    "motorcycles = ['honda', 'yamaha', 'suzuki']\n",
    "print(motorcycles)\n",
    "motorcycles[0] = 'ducati'\n",
    "print(motorcycles)"
   ]
  },
  {
   "cell_type": "code",
   "execution_count": 21,
   "metadata": {},
   "outputs": [
    {
     "name": "stdout",
     "output_type": "stream",
     "text": [
      "['honda', 'yamaha', 'suzuki']\n",
      "['honda', 'yamaha', 'suzuki', 'ducati']\n",
      "['ducati', 'honda', 'yamaha', 'suzuki', 'ducati']\n",
      "['honda', 'yamaha', 'suzuki', 'ducati']\n"
     ]
    }
   ],
   "source": [
    "motorcycles = ['honda', 'yamaha', 'suzuki']\n",
    "print(motorcycles)\n",
    "motorcycles.append('ducati')\n",
    "print(motorcycles)\n",
    "motorcycles.insert(0, 'ducati')\n",
    "print(motorcycles)\n",
    "del motorcycles[0]\n",
    "print(motorcycles)"
   ]
  },
  {
   "cell_type": "raw",
   "metadata": {},
   "source": [
    "Removing an Item Using the pop() Method"
   ]
  },
  {
   "cell_type": "code",
   "execution_count": 25,
   "metadata": {},
   "outputs": [
    {
     "name": "stdout",
     "output_type": "stream",
     "text": [
      "['yamaha', 'suzuki', 'ducati']\n",
      "['yamaha', 'ducati']\n"
     ]
    }
   ],
   "source": [
    "print(motorcycles)\n",
    "motorcycles.remove('suzuki')\n",
    "print(motorcycles)"
   ]
  },
  {
   "cell_type": "code",
   "execution_count": 29,
   "metadata": {},
   "outputs": [
    {
     "name": "stdout",
     "output_type": "stream",
     "text": [
      "['honda', 'yamaha', 'suzuki']\n",
      "['honda', 'yamaha']\n",
      "suzuki\n"
     ]
    }
   ],
   "source": [
    "motorcycles = ['honda', 'yamaha', 'suzuki']\n",
    "print(motorcycles)\n",
    "popped_motorcycle = motorcycles.pop()\n",
    "print(motorcycles)\n",
    "print(popped_motorcycle)"
   ]
  },
  {
   "cell_type": "code",
   "execution_count": 31,
   "metadata": {},
   "outputs": [
    {
     "name": "stdout",
     "output_type": "stream",
     "text": [
      "The last motorcycle I owned was a Suzuki.\n",
      "The first motorcycle I owned was a Honda.\n"
     ]
    }
   ],
   "source": [
    "motorcycles = ['honda', 'yamaha', 'suzuki']\n",
    "last_owned = motorcycles.pop()\n",
    "print(\"The last motorcycle I owned was a \" + last_owned.title() + \".\")\n",
    "first_owned = motorcycles.pop(0)\n",
    "print('The first motorcycle I owned was a ' + first_owned.title() + '.')"
   ]
  },
  {
   "cell_type": "raw",
   "metadata": {},
   "source": [
    "The remove() method deletes only the first occurrence of the value you specify. If there’s\n",
    "a possibility the value appears more than once in the list, you’ll need to use a loop to\n",
    "determine if all occurrences of the value have been removed."
   ]
  },
  {
   "cell_type": "raw",
   "metadata": {},
   "source": [
    "organizing Lists"
   ]
  },
  {
   "cell_type": "code",
   "execution_count": 35,
   "metadata": {},
   "outputs": [
    {
     "name": "stdout",
     "output_type": "stream",
     "text": [
      "['audi', 'bmw', 'subaru', 'toyota']\n",
      "['toyota', 'subaru', 'bmw', 'audi']\n"
     ]
    }
   ],
   "source": [
    "cars = ['bmw', 'audi', 'toyota', 'subaru']\n",
    "cars.sort()\n",
    "print(cars)\n",
    "cars.sort(reverse=True)\n",
    "print(cars)"
   ]
  },
  {
   "cell_type": "code",
   "execution_count": 36,
   "metadata": {},
   "outputs": [
    {
     "name": "stdout",
     "output_type": "stream",
     "text": [
      "Here is the original list:\n",
      "['toyota', 'subaru', 'bmw', 'audi']\n",
      "\n",
      "Here is the sorted list:\n",
      "['audi', 'bmw', 'subaru', 'toyota']\n",
      "\n",
      "Here is the original list again:\n",
      "['toyota', 'subaru', 'bmw', 'audi']\n"
     ]
    }
   ],
   "source": [
    "print(\"Here is the original list:\")\n",
    "print(cars)\n",
    "print(\"\\nHere is the sorted list:\")\n",
    "print(sorted(cars))\n",
    "print(\"\\nHere is the original list again:\")\n",
    "print(cars)"
   ]
  },
  {
   "cell_type": "code",
   "execution_count": 41,
   "metadata": {},
   "outputs": [
    {
     "data": {
      "text/plain": [
       "4"
      ]
     },
     "execution_count": 41,
     "metadata": {},
     "output_type": "execute_result"
    }
   ],
   "source": [
    "cars.reverse()\n",
    "cars\n",
    "len(cars)"
   ]
  },
  {
   "cell_type": "markdown",
   "metadata": {},
   "source": [
    "# CHAPTER 4\n",
    "Looping Through an Entire List"
   ]
  },
  {
   "cell_type": "code",
   "execution_count": 52,
   "metadata": {},
   "outputs": [
    {
     "name": "stdout",
     "output_type": "stream",
     "text": [
      "alice\n",
      "Alice, that was a great trick!\n",
      "I can't wait to see your next trick, Alice.\n",
      "\n",
      "carolina\n",
      "Carolina, that was a great trick!\n",
      "I can't wait to see your next trick, Carolina.\n",
      "\n",
      "david\n",
      "David, that was a great trick!\n",
      "I can't wait to see your next trick, David.\n",
      "\n",
      "Thank you, everyone. That was a great magic show!\n"
     ]
    }
   ],
   "source": [
    "magicians = ['alice', 'david', 'carolina']\n",
    "for magician in sorted(magicians):\n",
    "    print(magician)\n",
    "    print(magician.title() + \", that was a great trick!\")\n",
    "    print(\"I can't wait to see your next trick, \" + magician.title() + \".\\n\")\n",
    "print(\"Thank you, everyone. That was a great magic show!\")"
   ]
  },
  {
   "cell_type": "code",
   "execution_count": 46,
   "metadata": {},
   "outputs": [
    {
     "name": "stdout",
     "output_type": "stream",
     "text": [
      "david\n"
     ]
    }
   ],
   "source": [
    "print(magician)"
   ]
  },
  {
   "cell_type": "code",
   "execution_count": 63,
   "metadata": {},
   "outputs": [
    {
     "name": "stdout",
     "output_type": "stream",
     "text": [
      "None\n",
      "None\n",
      "None\n",
      "None\n",
      "None\n",
      "None\n",
      "None\n",
      "None\n",
      "None\n",
      "None\n",
      "[5, 10, 15, 20, 25, 30, 35, 40, 45, 50]\n"
     ]
    }
   ],
   "source": [
    "x = []\n",
    "for value in range(1,11):\n",
    "    print(x.append(value*5))\n",
    "print(x)"
   ]
  },
  {
   "cell_type": "code",
   "execution_count": 59,
   "metadata": {},
   "outputs": [
    {
     "name": "stdout",
     "output_type": "stream",
     "text": [
      "[1, 2, 3, 4, 5, 6, 7, 8, 9, 10]\n"
     ]
    }
   ],
   "source": [
    "numbers = list(range(1,11))\n",
    "print(numbers)"
   ]
  },
  {
   "cell_type": "code",
   "execution_count": 60,
   "metadata": {},
   "outputs": [
    {
     "name": "stdout",
     "output_type": "stream",
     "text": [
      "[2, 4, 6, 8, 10]\n"
     ]
    }
   ],
   "source": [
    "even_numbers = list(range(2,11,2))\n",
    "print(even_numbers)"
   ]
  },
  {
   "cell_type": "code",
   "execution_count": 62,
   "metadata": {},
   "outputs": [
    {
     "name": "stdout",
     "output_type": "stream",
     "text": [
      "[1, 4, 9, 16, 25, 36, 49, 64, 81, 100]\n"
     ]
    }
   ],
   "source": [
    "squares = []\n",
    "for value in range(1,11):\n",
    "    square = value**2\n",
    "    squares.append(square)\n",
    "print(squares)"
   ]
  },
  {
   "cell_type": "code",
   "execution_count": 66,
   "metadata": {},
   "outputs": [
    {
     "name": "stdout",
     "output_type": "stream",
     "text": [
      "0\n",
      "9\n",
      "45\n"
     ]
    }
   ],
   "source": [
    "digits = [1, 2, 3, 4, 5, 6, 7, 8, 9, 0]\n",
    "print(min(digits))\n",
    "print(max(digits))\n",
    "print(sum(digits))"
   ]
  },
  {
   "cell_type": "raw",
   "metadata": {},
   "source": [
    "List Comprehensions"
   ]
  },
  {
   "cell_type": "code",
   "execution_count": 67,
   "metadata": {},
   "outputs": [
    {
     "name": "stdout",
     "output_type": "stream",
     "text": [
      "[1, 4, 9, 16, 25, 36, 49, 64, 81, 100]\n"
     ]
    }
   ],
   "source": [
    "squares = [value**2 for value in range(1,11)]\n",
    "print(squares)"
   ]
  },
  {
   "cell_type": "code",
   "execution_count": 68,
   "metadata": {},
   "outputs": [
    {
     "name": "stdout",
     "output_type": "stream",
     "text": [
      "5000050000\n"
     ]
    }
   ],
   "source": [
    "millsum = [value for value in range(1,100001)]\n",
    "print(sum(millsum))"
   ]
  },
  {
   "cell_type": "code",
   "execution_count": 71,
   "metadata": {},
   "outputs": [
    {
     "name": "stdout",
     "output_type": "stream",
     "text": [
      "['charles', 'martina', 'michael']\n",
      "['martina', 'michael', 'florence']\n",
      "['charles', 'martina', 'michael', 'florence']\n",
      "['michael', 'florence', 'eli']\n"
     ]
    }
   ],
   "source": [
    "players = ['charles', 'martina', 'michael', 'florence', 'eli']\n",
    "print(players[0:3])\n",
    "print(players[1:4])\n",
    "print(players[:4])\n",
    "print(players[2:])"
   ]
  },
  {
   "cell_type": "code",
   "execution_count": 73,
   "metadata": {},
   "outputs": [
    {
     "name": "stdout",
     "output_type": "stream",
     "text": [
      "Here are the first three players on my team:\n",
      "Charles\n",
      "Martina\n",
      "Michael\n"
     ]
    }
   ],
   "source": [
    "players = ['charles', 'martina', 'michael', 'florence', 'eli']\n",
    "print(\"Here are the first three players on my team:\")\n",
    "for player in players[:3]:\n",
    "    print(player.title())"
   ]
  },
  {
   "cell_type": "code",
   "execution_count": 82,
   "metadata": {},
   "outputs": [
    {
     "name": "stdout",
     "output_type": "stream",
     "text": [
      "My favorite foods are:\n",
      "['pizza', 'falafel', 'carrot cake']\n",
      "\n",
      "My friend's favorite foods are:\n",
      "['pizza', 'falafel', 'carrot cake']\n",
      "['pizza', 'falafel', 'carrot cake', 'cannoli']\n",
      "['pizza', 'falafel', 'carrot cake', 'ice cream']\n"
     ]
    }
   ],
   "source": [
    "my_foods = ['pizza', 'falafel', 'carrot cake']\n",
    "friend_foods = my_foods[:]\n",
    "print(\"My favorite foods are:\")\n",
    "print(my_foods)\n",
    "print(\"\\nMy friend's favorite foods are:\")\n",
    "print(friend_foods)\n",
    "my_foods.append('cannoli')\n",
    "print(my_foods)\n",
    "friend_foods.append('ice cream')\n",
    "print(friend_foods)\n"
   ]
  },
  {
   "cell_type": "raw",
   "metadata": {},
   "source": [
    "Tuples\n",
    "Python refers to values that cannot change as immutable, and an immutable list is called a tuple."
   ]
  },
  {
   "cell_type": "code",
   "execution_count": 84,
   "metadata": {},
   "outputs": [
    {
     "name": "stdout",
     "output_type": "stream",
     "text": [
      "200\n",
      "50\n"
     ]
    }
   ],
   "source": [
    "dimensions = (200, 50)\n",
    "print(dimensions[0])\n",
    "print(dimensions[1])"
   ]
  },
  {
   "cell_type": "code",
   "execution_count": 85,
   "metadata": {},
   "outputs": [
    {
     "ename": "TypeError",
     "evalue": "'tuple' object does not support item assignment",
     "output_type": "error",
     "traceback": [
      "\u001b[1;31m---------------------------------------------------------------------------\u001b[0m",
      "\u001b[1;31mTypeError\u001b[0m                                 Traceback (most recent call last)",
      "\u001b[1;32m<ipython-input-85-00271e61a311>\u001b[0m in \u001b[0;36m<module>\u001b[1;34m\u001b[0m\n\u001b[1;32m----> 1\u001b[1;33m \u001b[0mdimensions\u001b[0m\u001b[1;33m[\u001b[0m\u001b[1;36m0\u001b[0m\u001b[1;33m]\u001b[0m \u001b[1;33m=\u001b[0m \u001b[1;36m250\u001b[0m\u001b[1;33m\u001b[0m\u001b[1;33m\u001b[0m\u001b[0m\n\u001b[0m",
      "\u001b[1;31mTypeError\u001b[0m: 'tuple' object does not support item assignment"
     ]
    }
   ],
   "source": [
    "dimensions[0] = 250"
   ]
  },
  {
   "cell_type": "code",
   "execution_count": 87,
   "metadata": {},
   "outputs": [
    {
     "name": "stdout",
     "output_type": "stream",
     "text": [
      "200\n",
      "50\n"
     ]
    }
   ],
   "source": [
    "for dimension in dimensions:\n",
    "    print(dimension)"
   ]
  },
  {
   "cell_type": "code",
   "execution_count": 91,
   "metadata": {},
   "outputs": [
    {
     "name": "stdout",
     "output_type": "stream",
     "text": [
      "\n",
      "Modified dimensions:\n",
      "\n",
      "\t 400\n",
      "\t 100\n"
     ]
    }
   ],
   "source": [
    "dimensions = (400, 100)\n",
    "print(\"\\nModified dimensions:\\n\")\n",
    "for dimension in dimensions:\n",
    "    print('\\t',dimension)"
   ]
  },
  {
   "cell_type": "raw",
   "metadata": {},
   "source": [
    "The Style Guide\n",
    "When someone wants to make a change to the Python language, they write\n",
    "a Python Enhancement Proposal (PEP). One of the oldest PEPs is PEP 8, which\n",
    "instructs Python programmers on how to style their code. PEP 8 is fairly\n",
    "lengthy"
   ]
  },
  {
   "cell_type": "raw",
   "metadata": {},
   "source": [
    "https://legacy.python.org/dev/peps/pep-0008/"
   ]
  },
  {
   "cell_type": "markdown",
   "metadata": {},
   "source": [
    "# chapter 5 "
   ]
  },
  {
   "cell_type": "raw",
   "metadata": {},
   "source": [
    "if else"
   ]
  },
  {
   "cell_type": "code",
   "execution_count": 3,
   "metadata": {},
   "outputs": [
    {
     "name": "stdout",
     "output_type": "stream",
     "text": [
      "Audi\n",
      "BMW\n",
      "Subaru\n",
      "Toyota\n"
     ]
    }
   ],
   "source": [
    "cars = ['audi', 'bmw', 'subaru', 'toyota']\n",
    "for car in cars:\n",
    "    if car == 'bmw':\n",
    "        print(car.upper())\n",
    "    else:\n",
    "        print(car.title())"
   ]
  },
  {
   "cell_type": "code",
   "execution_count": 4,
   "metadata": {},
   "outputs": [
    {
     "data": {
      "text/plain": [
       "True"
      ]
     },
     "execution_count": 4,
     "metadata": {},
     "output_type": "execute_result"
    }
   ],
   "source": [
    "# checking conditions\n",
    "car = 'Audi'\n",
    "car.lower() == 'audi'"
   ]
  },
  {
   "cell_type": "code",
   "execution_count": 13,
   "metadata": {},
   "outputs": [
    {
     "name": "stdout",
     "output_type": "stream",
     "text": [
      "Hold the anchovies!\n"
     ]
    }
   ],
   "source": [
    "requested_topping = 'mushrooms'\n",
    "if requested_topping != 'mashrooms':\n",
    "    print(\"Hold the anchovies!\")\n",
    "else:\n",
    "    print(\"hello\")"
   ]
  },
  {
   "cell_type": "code",
   "execution_count": 16,
   "metadata": {},
   "outputs": [
    {
     "name": "stdout",
     "output_type": "stream",
     "text": [
      "the number is not 15\n"
     ]
    }
   ],
   "source": [
    "num = 16\n",
    "if num != 15:\n",
    "    print('the number is not 15')\n",
    "else:\n",
    "    print('the num is 15')"
   ]
  },
  {
   "cell_type": "code",
   "execution_count": 4,
   "metadata": {},
   "outputs": [
    {
     "name": "stdout",
     "output_type": "stream",
     "text": [
      "Your admission cost is $10.\n"
     ]
    }
   ],
   "source": [
    "age = 21\n",
    "if age < 4:\n",
    "    print(\"Your admission cost is $0.\")\n",
    "elif age < 18:\n",
    "    print(\"Your admission cost is $5.\")\n",
    "else:\n",
    "    print(\"Your admission cost is $10.\")"
   ]
  },
  {
   "cell_type": "code",
   "execution_count": 9,
   "metadata": {},
   "outputs": [
    {
     "name": "stdout",
     "output_type": "stream",
     "text": [
      "Your admission price is 0$.\n",
      "Your admission price is 0$.\n",
      "Your admission price is 0$.\n",
      "Your admission price is 5$.\n",
      "Your admission price is 5$.\n",
      "Your admission price is 5$.\n",
      "Your admission price is 5$.\n",
      "Your admission price is 5$.\n",
      "Your admission price is 5$.\n",
      "Your admission price is 5$.\n",
      "Your admission price is 5$.\n",
      "Your admission price is 5$.\n",
      "Your admission price is 5$.\n",
      "Your admission price is 5$.\n",
      "Your admission price is 5$.\n",
      "Your admission price is 5$.\n",
      "Your admission price is 5$.\n",
      "Your admission price is 8$.\n",
      "Your admission price is 8$.\n",
      "Your admission price is 8$.\n",
      "Your admission price is 8$.\n",
      "Your admission price is 10$.\n",
      "Your admission price is 10$.\n",
      "Your admission price is 10$.\n"
     ]
    }
   ],
   "source": [
    "for age in range(1,25):\n",
    "    if age < 4:\n",
    "        price = 0\n",
    "    elif age < 18:\n",
    "        price = 5\n",
    "    elif age < 22:\n",
    "        price = 8\n",
    "    else:\n",
    "        price = 10\n",
    "    print('Your admission price is ' + str(price) + '$.')"
   ]
  },
  {
   "cell_type": "code",
   "execution_count": 10,
   "metadata": {},
   "outputs": [
    {
     "name": "stdout",
     "output_type": "stream",
     "text": [
      "Adding mushrooms.\n",
      "Adding extra cheese.\n",
      "\n",
      "Finished making your pizza!\n"
     ]
    }
   ],
   "source": [
    "requested_toppings = ['mushrooms', 'extra cheese']\n",
    "if 'mushrooms' in requested_toppings:\n",
    "    print(\"Adding mushrooms.\")\n",
    "if 'pepperoni' in requested_toppings:\n",
    "    print(\"Adding pepperoni.\")\n",
    "if 'extra cheese' in requested_toppings:\n",
    "    print(\"Adding extra cheese.\")\n",
    "print(\"\\nFinished making your pizza!\")"
   ]
  },
  {
   "cell_type": "code",
   "execution_count": 16,
   "metadata": {},
   "outputs": [
    {
     "name": "stdout",
     "output_type": "stream",
     "text": [
      "Enter the correct color\n"
     ]
    }
   ],
   "source": [
    "alien_color = ['green','yellow','red']\n",
    "if 'green' in alien_color:\n",
    "    print(\"The player earned 5 number\")\n",
    "elif 'yellow' in alien_color:\n",
    "    print(\"The player earned 10 number\")\n",
    "elif 'red' in alien_color:\n",
    "    print(\"The player earned 15 number\")\n",
    "else:\n",
    "    print(\"Enter the correct color\")"
   ]
  },
  {
   "cell_type": "code",
   "execution_count": 20,
   "metadata": {},
   "outputs": [
    {
     "name": "stdout",
     "output_type": "stream",
     "text": [
      "Adding mushrooms.\n",
      "Sorry, we are out of green peppers right now.\n",
      "Adding extra cheese.\n",
      "\n",
      "Finished making your pizza!\n"
     ]
    }
   ],
   "source": [
    "requested_toppings = ['mushrooms', 'green peppers', 'extra cheese']\n",
    "for requested_topping in requested_toppings:\n",
    "    if requested_topping == 'green peppers':\n",
    "        print(\"Sorry, we are out of green peppers right now.\")\n",
    "    else:\n",
    "        print(\"Adding \" + requested_topping + \".\")\n",
    "print(\"\\nFinished making your pizza!\")"
   ]
  },
  {
   "cell_type": "code",
   "execution_count": 21,
   "metadata": {},
   "outputs": [
    {
     "name": "stdout",
     "output_type": "stream",
     "text": [
      "Are you sure you want a plain pizza?\n"
     ]
    }
   ],
   "source": [
    "requested_toppings = []\n",
    "if requested_toppings:\n",
    "    for requested_topping in requested_toppings:\n",
    "        print(\"Adding \" + requested_topping + \".\")\n",
    "    print(\"\\nFinished making your pizza!\")\n",
    "else:\n",
    "    print(\"Are you sure you want a plain pizza?\")"
   ]
  },
  {
   "cell_type": "code",
   "execution_count": 32,
   "metadata": {},
   "outputs": [
    {
     "name": "stdout",
     "output_type": "stream",
     "text": [
      "Adding mushrooms.\n",
      "Sorry we don't have french fries.\n",
      "Adding extra cheese.\n",
      "\n",
      "Finished making your pizza!\n"
     ]
    }
   ],
   "source": [
    "requested_toppings = []\n",
    "available_toppings = ['mushrooms', 'olives', 'green peppers','pepperoni', 'pineapple', 'extra cheese']\n",
    "requested_toppings = ['mushrooms', 'french fries', 'extra cheese']\n",
    "for requested_topping in requested_toppings:\n",
    "    if requested_topping in available_toppings:\n",
    "        print(\"Adding \"+ requested_topping + \".\")\n",
    "    else:\n",
    "        print(\"Sorry we don't have \" + requested_topping + \".\")\n",
    "print(\"\\nFinished making your pizza!\")"
   ]
  },
  {
   "cell_type": "code",
   "execution_count": 46,
   "metadata": {},
   "outputs": [
    {
     "name": "stdout",
     "output_type": "stream",
     "text": [
      "welcome mushrooms.\n",
      "welcome olives.\n",
      "welcome green peppers.\n",
      "welcome pepperoni.\n",
      "welcome pineapple.\n",
      "warm welcome to you Mr. admin.\n"
     ]
    }
   ],
   "source": [
    "user_name = []\n",
    "user_names = ['mushrooms', 'olives', 'green peppers','pepperoni', 'pineapple', 'admin']\n",
    "if user_names:\n",
    "    for  user_name in user_names:\n",
    "        if user_name == 'admin':\n",
    "            print('warm welcome to you Mr. ' + user_name + '.')\n",
    "        else:\n",
    "            print('welcome '+ user_name + '.')\n",
    "else:\n",
    "    print('We need to find some users!')\n",
    "    "
   ]
  },
  {
   "cell_type": "code",
   "execution_count": 44,
   "metadata": {},
   "outputs": [
    {
     "name": "stdout",
     "output_type": "stream",
     "text": [
      "We need to find some users!\n"
     ]
    }
   ],
   "source": [
    "user_name = []\n",
    "user_names = []\n",
    "if user_names:\n",
    "    for  user_name in user_names:\n",
    "        if user_name == 'admin':\n",
    "            print('warm welcome to you Mr. ' + user_name + '.')\n",
    "        else:\n",
    "            print('welcome '+ user_name + '.')\n",
    "else:\n",
    "    print('We need to find some users!')\n",
    "    "
   ]
  },
  {
   "cell_type": "code",
   "execution_count": 55,
   "metadata": {},
   "outputs": [
    {
     "name": "stdout",
     "output_type": "stream",
     "text": [
      "[1, 2, 3, 4, 5, 6, 7, 8, 9, 10]\n",
      "1st\n",
      "2nd\n",
      "3rd\n",
      "4th\n",
      "5th\n",
      "6th\n",
      "7th\n",
      "8th\n",
      "9th\n",
      "10th\n"
     ]
    }
   ],
   "source": [
    "# 5-11\n",
    "num_list = []\n",
    "for x in range(1,11):\n",
    "    num_list.append(x)\n",
    "print(num_list)\n",
    "for num in num_list:\n",
    "        if num == 1:\n",
    "            print(str(num) + 'st')\n",
    "        if num == 2:\n",
    "                print(str(num) + 'nd')\n",
    "        if num == 3:\n",
    "                print(str(num) + 'rd')\n",
    "        elif num >= 4:\n",
    "            print(str(num) + 'th')\n"
   ]
  },
  {
   "cell_type": "markdown",
   "metadata": {},
   "source": [
    "# CHAPTER 6 DICTIONARIES"
   ]
  },
  {
   "cell_type": "code",
   "execution_count": 5,
   "metadata": {},
   "outputs": [
    {
     "name": "stdout",
     "output_type": "stream",
     "text": [
      "green\n",
      "5\n",
      "You just earned 5 points!\n",
      "{'color': 'green', 'points': 5, 'x_position': 0, 'y_position': 25}\n",
      "{'color': 'yellow', 'points': 5, 'x_position': 0, 'y_position': 25}\n"
     ]
    }
   ],
   "source": [
    "alien_0 = {'color': 'green', 'points': 5}\n",
    "print(alien_0['color'])\n",
    "print(alien_0['points'])\n",
    "new_points = alien_0['points']\n",
    "print(\"You just earned \" + str(new_points) + \" points!\")\n",
    "alien_0['x_position'] = 0\n",
    "alien_0['y_position'] = 25\n",
    "print(alien_0)\n",
    "alien_0['color'] = 'yellow'\n",
    "print(alien_0)"
   ]
  },
  {
   "cell_type": "code",
   "execution_count": 16,
   "metadata": {},
   "outputs": [
    {
     "name": "stdout",
     "output_type": "stream",
     "text": [
      "Original x-position: 0\n",
      "2\n",
      "New x-position: 2\n",
      "2\n"
     ]
    },
    {
     "data": {
      "text/plain": [
       "{'x_position': 2, 'y_position': 25}"
      ]
     },
     "execution_count": 16,
     "metadata": {},
     "output_type": "execute_result"
    }
   ],
   "source": [
    "alien_0 = {'x_position': 0, 'y_position': 25, 'speed': 'medium'}\n",
    "\n",
    "print(\"Original x-position: \" + str(alien_0['x_position']))\n",
    "if alien_0['speed'] == 'slow':\n",
    "    x_increment = 1\n",
    "elif alien_0['speed'] == 'medium':\n",
    "    x_increment = 2\n",
    "else:\n",
    "# This must be a fast alien.\n",
    "    x_increment = 3\n",
    "    \n",
    "print(x_increment)\n",
    "alien_0['x_position'] = alien_0['x_position'] + x_increment\n",
    "print(\"New x-position: \" + str(alien_0['x_position']))\n",
    "print(x_increment)\n",
    "del alien_0['speed']\n",
    "alien_0"
   ]
  },
  {
   "cell_type": "code",
   "execution_count": 17,
   "metadata": {},
   "outputs": [
    {
     "data": {
      "text/plain": [
       "{'jen': 'python', 'sarah': 'c', 'edward': 'ruby', 'phil': 'python'}"
      ]
     },
     "execution_count": 17,
     "metadata": {},
     "output_type": "execute_result"
    }
   ],
   "source": [
    "favorite_languages = {\n",
    "'jen': 'python',\n",
    "'sarah': 'c',\n",
    "'edward': 'ruby',\n",
    "'phil': 'python',\n",
    "}\n",
    "favorite_languages"
   ]
  },
  {
   "cell_type": "code",
   "execution_count": 18,
   "metadata": {},
   "outputs": [
    {
     "name": "stdout",
     "output_type": "stream",
     "text": [
      "Sarah's favorite language is C.\n"
     ]
    }
   ],
   "source": [
    "print(\"Sarah's favorite language is \" +\n",
    "favorite_languages['sarah'].title() +\n",
    "\".\")"
   ]
  },
  {
   "cell_type": "code",
   "execution_count": 24,
   "metadata": {},
   "outputs": [
    {
     "name": "stdout",
     "output_type": "stream",
     "text": [
      "python \n",
      "\n",
      "c \n",
      "\n"
     ]
    }
   ],
   "source": [
    "print(favorite_languages['jen'], '\\n')\n",
    "print(favorite_languages['sarah'], '\\n')"
   ]
  },
  {
   "cell_type": "raw",
   "metadata": {},
   "source": [
    "looping through dict"
   ]
  },
  {
   "cell_type": "code",
   "execution_count": 25,
   "metadata": {},
   "outputs": [
    {
     "name": "stdout",
     "output_type": "stream",
     "text": [
      "\n",
      "Key: username\n",
      "Value: efermi\n",
      "\n",
      "Key: first\n",
      "Value: enrico\n",
      "\n",
      "Key: last\n",
      "Value: fermi\n"
     ]
    }
   ],
   "source": [
    "user_0 = {\n",
    "'username': 'efermi',\n",
    "'first': 'enrico',\n",
    "'last': 'fermi',\n",
    "}\n",
    "for key, value in user_0.items():\n",
    "    print(\"\\nKey: \" + key)\n",
    "    print(\"Value: \" + value)"
   ]
  },
  {
   "cell_type": "code",
   "execution_count": 29,
   "metadata": {},
   "outputs": [
    {
     "name": "stdout",
     "output_type": "stream",
     "text": [
      "\n",
      " username efermi\n",
      "\n",
      " first enrico\n",
      "\n",
      " last fermi\n"
     ]
    }
   ],
   "source": [
    "for k, v in user_0.items():\n",
    "    print('\\n',k, v)\n",
    "    "
   ]
  },
  {
   "cell_type": "code",
   "execution_count": 30,
   "metadata": {},
   "outputs": [
    {
     "name": "stdout",
     "output_type": "stream",
     "text": [
      "Jen's favorite language is Python.\n",
      "Sarah's favorite language is C.\n",
      "Edward's favorite language is Ruby.\n",
      "Phil's favorite language is Python.\n"
     ]
    }
   ],
   "source": [
    "for name, language in favorite_languages.items():\n",
    "    print(name.title() + \"'s favorite language is \" + language.title() + \".\")"
   ]
  },
  {
   "cell_type": "code",
   "execution_count": 32,
   "metadata": {},
   "outputs": [
    {
     "name": "stdout",
     "output_type": "stream",
     "text": [
      "Jen\n",
      "Sarah\n",
      "Edward\n",
      "Phil\n",
      " Hi Phil, I see your favorite language is Python!\n"
     ]
    }
   ],
   "source": [
    "friends = ['phil', 'sarah']\n",
    "for name in favorite_languages.keys():\n",
    "    print(name.title())\n",
    "if name in friends:\n",
    "    print(\" Hi \" + name.title() +\n",
    "\", I see your favorite language is \" +\n",
    "favorite_languages[name].title() + \"!\")"
   ]
  },
  {
   "cell_type": "code",
   "execution_count": 41,
   "metadata": {},
   "outputs": [
    {
     "name": "stdout",
     "output_type": "stream",
     "text": [
      "EDWARD; thank you for taking the poll.\n",
      "JEN; thank you for taking the poll.\n",
      "PHIL; thank you for taking the poll.\n",
      "SARAH; thank you for taking the poll.\n",
      "\n",
      "The following languages have been mentioned:\n",
      "\n",
      "PYTHON\n",
      "C\n",
      "RUBY\n",
      "PYTHON\n"
     ]
    }
   ],
   "source": [
    "favorite_languages = {\n",
    "'jen': 'python',\n",
    "'sarah': 'c',\n",
    "'edward': 'ruby',\n",
    "'phil': 'python',\n",
    "}\n",
    "for name in sorted(favorite_languages.keys()):\n",
    "    print(name.upper() + \"; thank you for taking the poll.\")\n",
    "print(\"\\nThe following languages have been mentioned:\\n\")\n",
    "for language in favorite_languages.values():\n",
    "    print(language.upper())"
   ]
  },
  {
   "cell_type": "code",
   "execution_count": 43,
   "metadata": {},
   "outputs": [
    {
     "name": "stdout",
     "output_type": "stream",
     "text": [
      "{'color': 'green', 'points': 5}\n",
      "{'color': 'yellow', 'points': 10}\n",
      "{'color': 'red', 'points': 15}\n"
     ]
    }
   ],
   "source": [
    "# list of dict\n",
    "alien_0 = {'color': 'green', 'points': 5}\n",
    "alien_1 = {'color': 'yellow', 'points': 10}\n",
    "alien_2 = {'color': 'red', 'points': 15}\n",
    "aliens = [alien_0, alien_1, alien_2]\n",
    "for alien in aliens:\n",
    "    print(alien)"
   ]
  },
  {
   "cell_type": "code",
   "execution_count": 52,
   "metadata": {},
   "outputs": [
    {
     "name": "stdout",
     "output_type": "stream",
     "text": [
      "{'color': 'green', 'points': 5, 'speed': 'slow'}\n",
      "...\n",
      "{'color': 'green', 'points': 5, 'speed': 'slow'}\n",
      "...\n",
      "{'color': 'green', 'points': 5, 'speed': 'slow'}\n",
      "...\n",
      "{'color': 'green', 'points': 5, 'speed': 'slow'}\n",
      "...\n",
      "{'color': 'green', 'points': 5, 'speed': 'slow'}\n",
      "...\n",
      "Total number of aliens: 10\n"
     ]
    },
    {
     "data": {
      "text/plain": [
       "[{'color': 'yellow', 'points': 10, 'speed': 'medium'},\n",
       " {'color': 'yellow', 'points': 10, 'speed': 'medium'},\n",
       " {'color': 'yellow', 'points': 10, 'speed': 'medium'},\n",
       " {'color': 'green', 'points': 5, 'speed': 'slow'},\n",
       " {'color': 'green', 'points': 5, 'speed': 'slow'},\n",
       " {'color': 'green', 'points': 5, 'speed': 'slow'},\n",
       " {'color': 'green', 'points': 5, 'speed': 'slow'},\n",
       " {'color': 'green', 'points': 5, 'speed': 'slow'},\n",
       " {'color': 'green', 'points': 5, 'speed': 'slow'},\n",
       " {'color': 'green', 'points': 5, 'speed': 'slow'}]"
      ]
     },
     "execution_count": 52,
     "metadata": {},
     "output_type": "execute_result"
    }
   ],
   "source": [
    "aliens = []\n",
    "for alien_number in range(10):\n",
    "    new_alien = {'color': 'green', 'points': 5, 'speed': 'slow'}\n",
    "    aliens.append(new_alien)\n",
    "#new for loop\n",
    "for alien in aliens[:5]:\n",
    "    print(alien)\n",
    "    print(\"...\")\n",
    "print(\"Total number of aliens: \" + str(len(aliens)))\n",
    "\n",
    "for alien in aliens[0:3]:\n",
    "    if alien['color'] == 'green':\n",
    "        alien['color'] = 'yellow'\n",
    "        alien['speed'] = 'medium'\n",
    "        alien['points'] = 10\n",
    "aliens\n"
   ]
  },
  {
   "cell_type": "code",
   "execution_count": 54,
   "metadata": {},
   "outputs": [
    {
     "name": "stdout",
     "output_type": "stream",
     "text": [
      "You ordered a thick-crust pizza with the following toppings:\n",
      "\tmushrooms\n",
      "\textra cheese\n"
     ]
    },
    {
     "data": {
      "text/plain": [
       "{'crust': 'thick', 'toppings': ['mushrooms', 'extra cheese']}"
      ]
     },
     "execution_count": 54,
     "metadata": {},
     "output_type": "execute_result"
    }
   ],
   "source": [
    "# Store information about a pizza being ordered.\n",
    "pizza = {\n",
    "'crust': 'thick',\n",
    "'toppings': ['mushrooms', 'extra cheese'],\n",
    "}\n",
    "# Summarize the order.\n",
    "print(\"You ordered a \" + pizza['crust'] + \"-crust pizza \" +\n",
    "\"with the following toppings:\")\n",
    "for topping in pizza['toppings']:\n",
    "    print(\"\\t\" + topping)\n",
    "pizza"
   ]
  },
  {
   "cell_type": "markdown",
   "metadata": {},
   "source": [
    "# Chapter 7 user input and while loop"
   ]
  },
  {
   "cell_type": "code",
   "execution_count": 1,
   "metadata": {},
   "outputs": [
    {
     "name": "stdout",
     "output_type": "stream",
     "text": [
      "Tell me something, and I will repeat it back to you: go ahead\n",
      "go ahead\n"
     ]
    }
   ],
   "source": [
    "message = input(\"Tell me something, and I will repeat it back to you: \")\n",
    "print(message)"
   ]
  },
  {
   "cell_type": "code",
   "execution_count": 2,
   "metadata": {},
   "outputs": [
    {
     "name": "stdout",
     "output_type": "stream",
     "text": [
      "Please enter your name: asif\n",
      "Hello, asif!\n"
     ]
    }
   ],
   "source": [
    "name = input(\"Please enter your name: \")\n",
    "print(\"Hello, \" + name + \"!\")"
   ]
  },
  {
   "cell_type": "code",
   "execution_count": 5,
   "metadata": {},
   "outputs": [
    {
     "name": "stdout",
     "output_type": "stream",
     "text": [
      "If you tell us who you are, we can personalize the messages you see.\n",
      "What is your first name? Muhammad\n",
      "If you tell us who you are, we can personalize the messages you see.\n",
      "What is your first name? \n",
      " what is your last name?Asif\n",
      "\n",
      "Hello, Muhammad Asif!\n"
     ]
    }
   ],
   "source": [
    "prompt = \"If you tell us who you are, we can personalize the messages you see.\"\n",
    "prompt += \"\\nWhat is your first name? \"\n",
    "fname = input(prompt)\n",
    "prompt += \"\\n what is your last name?\"\n",
    "lname = input(prompt)\n",
    "print(\"\\nHello, \" + fname + \" \"+ lname+ \"!\")"
   ]
  },
  {
   "cell_type": "code",
   "execution_count": 10,
   "metadata": {},
   "outputs": [
    {
     "name": "stdout",
     "output_type": "stream",
     "text": [
      "How tall are you, in inches? 25\n",
      "\n",
      "You'll be able to ride when you're a little older.\n"
     ]
    }
   ],
   "source": [
    "height = input(\"How tall are you, in inches? \")\n",
    "height = int(height)\n",
    "if height >= 36:\n",
    "    print(\"\\nYou're tall enough to ride!\")\n",
    "else:\n",
    "    print(\"\\nYou'll be able to ride when you're a little older.\")"
   ]
  },
  {
   "cell_type": "code",
   "execution_count": 11,
   "metadata": {},
   "outputs": [
    {
     "name": "stdout",
     "output_type": "stream",
     "text": [
      "Enter a number, and I'll tell you if it's even or odd: 154895\n",
      "\n",
      "The number 154895 is odd.\n"
     ]
    }
   ],
   "source": [
    "number = input(\"Enter a number, and I'll tell you if it's even or odd: \")\n",
    "number = int(number)\n",
    "if number % 2 == 0:\n",
    "    print(\"\\nThe number \" + str(number) + \" is even.\")\n",
    "else:\n",
    "    print(\"\\nThe number \" + str(number) + \" is odd.\")"
   ]
  },
  {
   "cell_type": "code",
   "execution_count": 1,
   "metadata": {},
   "outputs": [
    {
     "name": "stdout",
     "output_type": "stream",
     "text": [
      "Please enter your choice for car?honda\n",
      "let me search honda. Please wait for a while...\n"
     ]
    }
   ],
   "source": [
    "choice = input(\"Please enter your choice for car?\")\n",
    "print(\"let me search \" + choice + \". Please wait for a while...\")"
   ]
  },
  {
   "cell_type": "code",
   "execution_count": 2,
   "metadata": {},
   "outputs": [
    {
     "name": "stdout",
     "output_type": "stream",
     "text": [
      "Enter a number, and I'll tell you if it is multiple of 10: 56\n",
      "\n",
      "The number 56 is not a multiple of 10.\n"
     ]
    }
   ],
   "source": [
    "number = input(\"Enter a number, and I'll tell you if it is multiple of 10: \")\n",
    "number = int(number)\n",
    "if number % 10 == 0:\n",
    "    print(\"\\nThe number \" + str(number) + \" is multiple of 10.\")\n",
    "else:\n",
    "    print(\"\\nThe number \" + str(number) + \" is not a multiple of 10.\")"
   ]
  },
  {
   "cell_type": "raw",
   "metadata": {},
   "source": [
    "while loop\n"
   ]
  },
  {
   "cell_type": "code",
   "execution_count": 6,
   "metadata": {},
   "outputs": [
    {
     "name": "stdout",
     "output_type": "stream",
     "text": [
      "\n",
      " 1\n",
      "\n",
      " 2\n",
      "\n",
      " 3\n",
      "\n",
      " 4\n",
      "\n",
      " 5\n"
     ]
    }
   ],
   "source": [
    "current_number = 1\n",
    "while current_number <= 5:\n",
    "    print('\\n',current_number)\n",
    "    current_number += 1"
   ]
  },
  {
   "cell_type": "code",
   "execution_count": 9,
   "metadata": {},
   "outputs": [
    {
     "name": "stdout",
     "output_type": "stream",
     "text": [
      "\n",
      " Tell me something i will repeat it for you.\n",
      " Enter 'quit' to end the input.asisd\n",
      "asisd\n",
      "\n",
      " Tell me something i will repeat it for you.\n",
      " Enter 'quit' to end the input.asif\n",
      "asif\n",
      "\n",
      " Tell me something i will repeat it for you.\n",
      " Enter 'quit' to end the input.quit\n"
     ]
    }
   ],
   "source": [
    "prompt = \"\\n Tell me something i will repeat it for you.\"\n",
    "prompt += \"\\n Enter 'quit' to end the input.\"\n",
    "message = \"\"\n",
    "while message != 'quit':\n",
    "    message = input(prompt)\n",
    "    if message != 'quit':\n",
    "        print(message)"
   ]
  },
  {
   "cell_type": "code",
   "execution_count": 10,
   "metadata": {},
   "outputs": [
    {
     "name": "stdout",
     "output_type": "stream",
     "text": [
      "\n",
      " Tell me something i will repeat it for you.\n",
      " Enter 'quit' to end the input.asi\n",
      "asi\n",
      "\n",
      " Tell me something i will repeat it for you.\n",
      " Enter 'quit' to end the input.asfi\n",
      "asfi\n",
      "\n",
      " Tell me something i will repeat it for you.\n",
      " Enter 'quit' to end the input.quit\n"
     ]
    }
   ],
   "source": [
    "prompt = \"\\n Tell me something i will repeat it for you.\"\n",
    "prompt += \"\\n Enter 'quit' to end the input.\"\n",
    "message = \"\"\n",
    "active = True\n",
    "while active:\n",
    "    message = input(prompt)\n",
    "    if message == 'quit':\n",
    "        active = False\n",
    "    else:\n",
    "        print(message)\n",
    "    "
   ]
  },
  {
   "cell_type": "code",
   "execution_count": 14,
   "metadata": {},
   "outputs": [
    {
     "name": "stdout",
     "output_type": "stream",
     "text": [
      "1\n",
      "2\n",
      "3\n",
      "4\n",
      "5\n",
      "6\n",
      "7\n",
      "8\n",
      "9\n",
      "10\n",
      "10\n"
     ]
    }
   ],
   "source": [
    "current_number = 0\n",
    "while current_number < 10:\n",
    "    current_number += 1\n",
    "#    print(current_number)\n",
    "    if current_number % 2 == 0:\n",
    "        continue\n",
    "print(current_number)"
   ]
  },
  {
   "cell_type": "raw",
   "metadata": {},
   "source": [
    "If\n",
    "your program gets stuck in an infinite loop, press ctrl-C or just close the\n",
    "terminal window displaying your program’s output."
   ]
  },
  {
   "cell_type": "code",
   "execution_count": 12,
   "metadata": {},
   "outputs": [
    {
     "name": "stdout",
     "output_type": "stream",
     "text": [
      "verifying user : Aaa\n",
      "verifying user : Bbb\n",
      "verifying user : Ccc\n",
      "\n",
      "The following users have been confirmed: \n",
      "Aaa\n",
      "Bbb\n",
      "Ccc\n"
     ]
    }
   ],
   "source": [
    "unconfirmed_users = ['aaa','bbb','ccc']\n",
    "unconfirmed_users = sorted(unconfirmed_users, reverse = True)\n",
    "\n",
    "confirmed_users   = []\n",
    "while unconfirmed_users :\n",
    "    current_user = unconfirmed_users.pop()\n",
    "    print(\"verifying user : \" + current_user.title())\n",
    "    confirmed_users.append(current_user)\n",
    "print('\\nThe following users have been confirmed: ')\n",
    "for confirmed_user in confirmed_users:\n",
    "    print(confirmed_user.title())\n",
    "    "
   ]
  },
  {
   "cell_type": "code",
   "execution_count": 17,
   "metadata": {},
   "outputs": [
    {
     "name": "stdout",
     "output_type": "stream",
     "text": [
      "['dog', 'cat', 'dog', 'goldfish', 'cat', 'rabbit', 'cat']\n",
      "['dog', 'dog', 'goldfish', 'cat', 'rabbit', 'cat']\n",
      "['dog', 'goldfish', 'cat', 'rabbit', 'cat']\n",
      "['dog', 'goldfish', 'rabbit', 'cat']\n",
      "['goldfish', 'rabbit', 'cat']\n",
      "['goldfish', 'rabbit']\n"
     ]
    },
    {
     "ename": "ValueError",
     "evalue": "list.remove(x): x not in list",
     "output_type": "error",
     "traceback": [
      "\u001b[1;31m---------------------------------------------------------------------------\u001b[0m",
      "\u001b[1;31mValueError\u001b[0m                                Traceback (most recent call last)",
      "\u001b[1;32m<ipython-input-17-adb65f47c832>\u001b[0m in \u001b[0;36m<module>\u001b[1;34m\u001b[0m\n\u001b[0;32m      4\u001b[0m     \u001b[0mpets\u001b[0m\u001b[1;33m.\u001b[0m\u001b[0mremove\u001b[0m\u001b[1;33m(\u001b[0m\u001b[1;34m'cat'\u001b[0m\u001b[1;33m)\u001b[0m\u001b[1;33m\u001b[0m\u001b[1;33m\u001b[0m\u001b[0m\n\u001b[0;32m      5\u001b[0m     \u001b[0mprint\u001b[0m\u001b[1;33m(\u001b[0m\u001b[0mpets\u001b[0m\u001b[1;33m)\u001b[0m\u001b[1;33m\u001b[0m\u001b[1;33m\u001b[0m\u001b[0m\n\u001b[1;32m----> 6\u001b[1;33m     \u001b[0mpets\u001b[0m\u001b[1;33m.\u001b[0m\u001b[0mremove\u001b[0m\u001b[1;33m(\u001b[0m\u001b[1;34m'dog'\u001b[0m\u001b[1;33m)\u001b[0m\u001b[1;33m\u001b[0m\u001b[1;33m\u001b[0m\u001b[0m\n\u001b[0m\u001b[0;32m      7\u001b[0m     \u001b[0mprint\u001b[0m\u001b[1;33m(\u001b[0m\u001b[0mpets\u001b[0m\u001b[1;33m)\u001b[0m\u001b[1;33m\u001b[0m\u001b[1;33m\u001b[0m\u001b[0m\n",
      "\u001b[1;31mValueError\u001b[0m: list.remove(x): x not in list"
     ]
    }
   ],
   "source": [
    "pets = ['dog', 'cat', 'dog', 'goldfish', 'cat', 'rabbit', 'cat']\n",
    "print(pets)\n",
    "while \"cat\" in pets:\n",
    "    pets.remove('cat')\n",
    "    print(pets)\n",
    "    pets.remove('dog')\n",
    "    print(pets)"
   ]
  },
  {
   "cell_type": "raw",
   "metadata": {},
   "source": [
    "filling a dict with user input"
   ]
  },
  {
   "cell_type": "code",
   "execution_count": 20,
   "metadata": {},
   "outputs": [
    {
     "name": "stdout",
     "output_type": "stream",
     "text": [
      "\n",
      "What is your name? asif\n",
      "\n",
      "What do you like to eat? meat\n",
      "Would anyone like to share his liking? no\n",
      "\n",
      "\n",
      "-----Poll Result-----\n",
      "Asif would like to eat Meat.\n"
     ]
    }
   ],
   "source": [
    "responses = {}\n",
    "polling_active   = True\n",
    "while polling_active :\n",
    "    name = input(\"\\nWhat is your name? \")\n",
    "    response = input(\"\\nWhat do you like to eat? \")\n",
    "    \n",
    "    responses[name] = response\n",
    "    \n",
    "    repeat = input(\"Would anyone like to share his liking? \")\n",
    "    if repeat == 'no':\n",
    "        polling_active = False\n",
    "print('\\n\\n-----Poll Result-----')\n",
    "for name, response in responses.items():\n",
    "    print(name.title() + ' would like to eat ' + response.title() + '.')"
   ]
  },
  {
   "cell_type": "markdown",
   "metadata": {},
   "source": [
    "# Chapter 8 Function"
   ]
  },
  {
   "cell_type": "code",
   "execution_count": 6,
   "metadata": {},
   "outputs": [
    {
     "name": "stdout",
     "output_type": "stream",
     "text": [
      "Hello Asif !\n"
     ]
    }
   ],
   "source": [
    "def greet_user(user_name):\n",
    "    ''''Greeet a simple greeting'''\n",
    "    print(\"Hello \" + user_name.title() + \" !\" )\n",
    "\n",
    "greet_user(\"asif\")"
   ]
  },
  {
   "cell_type": "code",
   "execution_count": 7,
   "metadata": {},
   "outputs": [],
   "source": [
    "def message():\n",
    "    print(\"I am learning chapter 8 Functions\")"
   ]
  },
  {
   "cell_type": "code",
   "execution_count": 8,
   "metadata": {},
   "outputs": [
    {
     "name": "stdout",
     "output_type": "stream",
     "text": [
      "I am learning chapter 8 Functions\n"
     ]
    }
   ],
   "source": [
    "message()"
   ]
  },
  {
   "cell_type": "code",
   "execution_count": 9,
   "metadata": {},
   "outputs": [
    {
     "name": "stdout",
     "output_type": "stream",
     "text": [
      "One of my favorite books is Alice in Wonderland\n"
     ]
    }
   ],
   "source": [
    "def f_book(title):\n",
    "    print(\"One of my favorite books is Alice in Wonderland\")\n",
    "f_book('book')"
   ]
  },
  {
   "cell_type": "raw",
   "metadata": {},
   "source": [
    "Passing Arguments"
   ]
  },
  {
   "cell_type": "raw",
   "metadata": {},
   "source": [
    "Positional Arguments"
   ]
  },
  {
   "cell_type": "code",
   "execution_count": 12,
   "metadata": {},
   "outputs": [
    {
     "name": "stdout",
     "output_type": "stream",
     "text": [
      "\n",
      "I have a hamster.\n",
      "My hamster's name is Harry.\n",
      "\n",
      "I have a dog.\n",
      "My dog's name is Willie.\n"
     ]
    }
   ],
   "source": [
    "def describe_pet(animal_type, pet_name):\n",
    "    \"\"\"Display information about a pet.\"\"\"\n",
    "    print(\"\\nI have a \" + animal_type + \".\")\n",
    "    print(\"My \" + animal_type + \"'s name is \" + pet_name.title() + \".\")\n",
    "describe_pet('hamster', 'harry')# Order Matters in Positional Arguments\n",
    "describe_pet('dog', 'willie')# multiple function call"
   ]
  },
  {
   "cell_type": "raw",
   "metadata": {},
   "source": [
    "Keyword Arguments"
   ]
  },
  {
   "cell_type": "code",
   "execution_count": 14,
   "metadata": {},
   "outputs": [
    {
     "name": "stdout",
     "output_type": "stream",
     "text": [
      "\n",
      "I have a hamster.\n",
      "My hamster's name is Harry.\n",
      "\n",
      "I have a hamster.\n",
      "My hamster's name is Harry.\n"
     ]
    }
   ],
   "source": [
    "def describe_pet(animal_type, pet_name):\n",
    "    \"\"\"Display information about a pet.\"\"\"\n",
    "    print(\"\\nI have a \" + animal_type + \".\")\n",
    "    print(\"My \" + animal_type + \"'s name is \" + pet_name.title() + \".\")\n",
    "describe_pet(animal_type='hamster', pet_name='harry')\n",
    "describe_pet( pet_name='harry', animal_type='hamster',)"
   ]
  },
  {
   "cell_type": "raw",
   "metadata": {},
   "source": [
    "Default Vaulue"
   ]
  },
  {
   "cell_type": "code",
   "execution_count": 17,
   "metadata": {},
   "outputs": [
    {
     "name": "stdout",
     "output_type": "stream",
     "text": [
      "\n",
      "I have a dog.\n",
      "My dog's name is Willie.\n",
      "\n",
      "I have a dog.\n",
      "My dog's name is Willie.\n",
      "\n",
      "I have a hamster.\n",
      "My hamster's name is Harry.\n"
     ]
    }
   ],
   "source": [
    "def describe_pet(pet_name, animal_type='dog'):\n",
    "    \"\"\"Display information about a pet.\"\"\"\n",
    "    print(\"\\nI have a \" + animal_type + \".\")\n",
    "    print(\"My \" + animal_type + \"'s name is \" + pet_name.title() + \".\")\n",
    "describe_pet(pet_name='willie')\n",
    "describe_pet('willie')\n",
    "describe_pet(pet_name='harry', animal_type='hamster')"
   ]
  },
  {
   "cell_type": "raw",
   "metadata": {},
   "source": [
    "Return Values\n",
    "A function doesn’t always have to display its output directly. Instead, it can\n",
    "process some data and then return a value or set of values. The value the\n",
    "function returns is called a return value."
   ]
  },
  {
   "cell_type": "code",
   "execution_count": 23,
   "metadata": {},
   "outputs": [
    {
     "name": "stdout",
     "output_type": "stream",
     "text": [
      "Muhammad Asif\n"
     ]
    }
   ],
   "source": [
    "def full_name(fname,lname):\n",
    "    name = fname + \" \" + lname\n",
    "    return name.title()\n",
    "\n",
    "x = full_name('Muhammad', 'Asif' )\n",
    "print(x)\n"
   ]
  },
  {
   "cell_type": "code",
   "execution_count": 113,
   "metadata": {},
   "outputs": [
    {
     "name": "stdout",
     "output_type": "stream",
     "text": [
      "\"Muhammad Asif\"\n"
     ]
    }
   ],
   "source": [
    "def full_name(fname,lname):\n",
    "    name = fname + \" \" + lname\n",
    "    return name.title()\n",
    "#x = full_name('Muhammad', 'Asif' )\n",
    "#print(x)\n",
    "full_name(\"Muhammad\", \"Asif\" )\n",
    "print('\"'+ full_name(\"Muhammad\", \"Asif\" ) + '\"')"
   ]
  },
  {
   "cell_type": "code",
   "execution_count": 26,
   "metadata": {},
   "outputs": [
    {
     "name": "stdout",
     "output_type": "stream",
     "text": [
      "John Lee Hooker\n"
     ]
    }
   ],
   "source": [
    "def get_formatted_name(first_name, middle_name, last_name):\n",
    "    \"\"\"Return a full name, neatly formatted.\"\"\"\n",
    "    full_name = first_name + ' ' + middle_name + ' ' + last_name\n",
    "    return full_name.title()\n",
    "musician = get_formatted_name('john', 'lee', 'hooker')\n",
    "print(musician)"
   ]
  },
  {
   "cell_type": "code",
   "execution_count": 36,
   "metadata": {},
   "outputs": [
    {
     "name": "stdout",
     "output_type": "stream",
     "text": [
      "Jimi \n",
      "Jimi Hendrix\n",
      "John Lee Hooker\n"
     ]
    }
   ],
   "source": [
    "def get_formatted_name(first_name, last_name='', middle_name=''):\n",
    "    \"\"\"Return a full name, neatly formatted.\"\"\"\n",
    "    if middle_name:\n",
    "        full_name = first_name + ' ' + middle_name + ' ' + last_name\n",
    "    else:\n",
    "        full_name = first_name + ' ' + last_name\n",
    "    return full_name.title()\n",
    "\n",
    "\n",
    "musician = get_formatted_name('jimi' )\n",
    "print(musician)\n",
    "musician = get_formatted_name('jimi', 'hendrix')\n",
    "print(musician)\n",
    "musician = get_formatted_name('john', 'hooker', 'lee')\n",
    "print(musician)"
   ]
  },
  {
   "cell_type": "code",
   "execution_count": null,
   "metadata": {},
   "outputs": [],
   "source": []
  },
  {
   "cell_type": "code",
   "execution_count": 49,
   "metadata": {},
   "outputs": [
    {
     "name": "stdout",
     "output_type": "stream",
     "text": [
      "{'first': 'jimi', 'last': 'hendrix', 'age': 27}\n"
     ]
    }
   ],
   "source": [
    "def build_person(first_name, last_name, age=''):\n",
    "    \"\"\"Return a dictionary of information about a person.\"\"\"\n",
    "    person = {'first': first_name, 'last': last_name}\n",
    "    if age:\n",
    "        person['age'] = age\n",
    "    return person\n",
    "musician = build_person('jimi', 'hendrix', age=27)\n",
    "print(musician)"
   ]
  },
  {
   "cell_type": "code",
   "execution_count": 54,
   "metadata": {},
   "outputs": [
    {
     "name": "stdout",
     "output_type": "stream",
     "text": [
      "{'first': 'Muhammad', 'last': 'Asif', 'age': 27}\n"
     ]
    },
    {
     "data": {
      "text/plain": [
       "'def std_names(fname, lname, age=\\'\\'):\\n    student = {\\'first\\': fname, \\'last\\' : lname,}\\n    if age:\\n        std_names[\\'age\\'] = age\\n    return student\\nroll_call = std_names(\"Muhammad\",\"Asif\",age=\\'27\\')\\nprint(roll_call)'"
      ]
     },
     "execution_count": 54,
     "metadata": {},
     "output_type": "execute_result"
    }
   ],
   "source": [
    "def built_person(fname, lname, age = ''):\n",
    "    person = {'first' : fname, 'last' : lname}\n",
    "    if age:\n",
    "        person['age'] = age\n",
    "    return person\n",
    "x = built_person(\"Muhammad\",\"Asif\",age=27)\n",
    "print(x)\n",
    "'''def std_names(fname, lname, age=''):\n",
    "    student = {'first': fname, 'last' : lname,}\n",
    "    if age:\n",
    "        std_names['age'] = age\n",
    "    return student\n",
    "roll_call = std_names(\"Muhammad\",\"Asif\",age='27')\n",
    "print(roll_call)'''"
   ]
  },
  {
   "cell_type": "code",
   "execution_count": 85,
   "metadata": {},
   "outputs": [
    {
     "data": {
      "text/plain": [
       "'def std_names(fname,lname,age=\\'\\'):\\n    student = {\\'first\\': fname, \\'last\\' : lname}\\n    if age:\\n        student[\\'age\\'] = age\\n    return student\\nroll_call = std_names(\"Muhammad\",\"Asif\",age=27 )\\nprint(roll_call)'"
      ]
     },
     "execution_count": 85,
     "metadata": {},
     "output_type": "execute_result"
    }
   ],
   "source": [
    "'''def std_names(fname,lname,age=''):\n",
    "    student = {'first': fname, 'last' : lname}\n",
    "    if age:\n",
    "        student['age'] = age\n",
    "    return student\n",
    "roll_call = std_names(\"Muhammad\",\"Asif\",age=27 )\n",
    "print(roll_call)'''"
   ]
  },
  {
   "cell_type": "code",
   "execution_count": null,
   "metadata": {},
   "outputs": [],
   "source": []
  },
  {
   "cell_type": "code",
   "execution_count": 79,
   "metadata": {},
   "outputs": [
    {
     "name": "stdout",
     "output_type": "stream",
     "text": [
      "\n",
      "Please tell me your name:\n",
      "(enter 'q' at any time to quit)\n",
      "First name: asif\n",
      "Last name: saq\n",
      "asif saq\n"
     ]
    }
   ],
   "source": [
    "print(\"\\nPlease tell me your name:\")\n",
    "print(\"(enter 'q' at any time to quit)\")\n",
    "first_name = input(\"First name: \")\n",
    "\n",
    "last_name = input(\"Last name: \")\n",
    "\n",
    "full_name = first_name + ' ' + last_name\n",
    "print(full_name)"
   ]
  },
  {
   "cell_type": "code",
   "execution_count": 80,
   "metadata": {},
   "outputs": [
    {
     "name": "stdout",
     "output_type": "stream",
     "text": [
      "\n",
      "Please tell me your name:\n",
      "(enter 'q' at any time to quit)\n",
      "First name: asif\n",
      "Last name: shahzad\n",
      "\n",
      "Please tell me your name:\n",
      "(enter 'q' at any time to quit)\n",
      "First name: q\n"
     ]
    }
   ],
   "source": [
    "while True:\n",
    "        print(\"\\nPlease tell me your name:\")\n",
    "        print(\"(enter 'q' at any time to quit)\")\n",
    "        first_name = input(\"First name: \")\n",
    "        if first_name == 'q':\n",
    "            break\n",
    "        last_name = input(\"Last name: \")\n",
    "        if last_name == 'q':\n",
    "            break"
   ]
  },
  {
   "cell_type": "code",
   "execution_count": 2,
   "metadata": {},
   "outputs": [
    {
     "name": "stdout",
     "output_type": "stream",
     "text": [
      "\n",
      "Please tell me your name:\n",
      "(enter 'q' at any time to quit)\n",
      "First name: asif\n",
      "Last name: aa\n",
      "\n",
      "Please tell me your name:\n",
      "(enter 'q' at any time to quit)\n",
      "First name: q\n"
     ]
    },
    {
     "ename": "TypeError",
     "evalue": "can only concatenate str (not \"NoneType\") to str",
     "output_type": "error",
     "traceback": [
      "\u001b[1;31m---------------------------------------------------------------------------\u001b[0m",
      "\u001b[1;31mTypeError\u001b[0m                                 Traceback (most recent call last)",
      "\u001b[1;32m<ipython-input-2-42de657c9653>\u001b[0m in \u001b[0;36m<module>\u001b[1;34m\u001b[0m\n\u001b[0;32m     13\u001b[0m         \u001b[0mprint\u001b[0m\u001b[1;33m(\u001b[0m\u001b[1;34m\"\\nHello, \"\u001b[0m \u001b[1;33m+\u001b[0m \u001b[0mformatted_name\u001b[0m \u001b[1;33m+\u001b[0m \u001b[1;34m\"!\"\u001b[0m\u001b[1;33m)\u001b[0m\u001b[1;33m\u001b[0m\u001b[1;33m\u001b[0m\u001b[0m\n\u001b[0;32m     14\u001b[0m \u001b[1;33m\u001b[0m\u001b[0m\n\u001b[1;32m---> 15\u001b[1;33m \u001b[0mget_formatted_name\u001b[0m\u001b[1;33m(\u001b[0m\u001b[1;34m''\u001b[0m\u001b[1;33m,\u001b[0m\u001b[1;34m''\u001b[0m\u001b[1;33m)\u001b[0m\u001b[1;33m\u001b[0m\u001b[1;33m\u001b[0m\u001b[0m\n\u001b[0m",
      "\u001b[1;32m<ipython-input-2-42de657c9653>\u001b[0m in \u001b[0;36mget_formatted_name\u001b[1;34m(first_name, last_name)\u001b[0m\n\u001b[0;32m     11\u001b[0m             \u001b[1;32mbreak\u001b[0m\u001b[1;33m\u001b[0m\u001b[1;33m\u001b[0m\u001b[0m\n\u001b[0;32m     12\u001b[0m         \u001b[0mformatted_name\u001b[0m \u001b[1;33m=\u001b[0m \u001b[0mget_formatted_name\u001b[0m\u001b[1;33m(\u001b[0m\u001b[1;34m\"\"\u001b[0m\u001b[1;33m,\u001b[0m \u001b[1;34m\"\"\u001b[0m\u001b[1;33m)\u001b[0m\u001b[1;33m\u001b[0m\u001b[1;33m\u001b[0m\u001b[0m\n\u001b[1;32m---> 13\u001b[1;33m         \u001b[0mprint\u001b[0m\u001b[1;33m(\u001b[0m\u001b[1;34m\"\\nHello, \"\u001b[0m \u001b[1;33m+\u001b[0m \u001b[0mformatted_name\u001b[0m \u001b[1;33m+\u001b[0m \u001b[1;34m\"!\"\u001b[0m\u001b[1;33m)\u001b[0m\u001b[1;33m\u001b[0m\u001b[1;33m\u001b[0m\u001b[0m\n\u001b[0m\u001b[0;32m     14\u001b[0m \u001b[1;33m\u001b[0m\u001b[0m\n\u001b[0;32m     15\u001b[0m \u001b[0mget_formatted_name\u001b[0m\u001b[1;33m(\u001b[0m\u001b[1;34m''\u001b[0m\u001b[1;33m,\u001b[0m\u001b[1;34m''\u001b[0m\u001b[1;33m)\u001b[0m\u001b[1;33m\u001b[0m\u001b[1;33m\u001b[0m\u001b[0m\n",
      "\u001b[1;31mTypeError\u001b[0m: can only concatenate str (not \"NoneType\") to str"
     ]
    }
   ],
   "source": [
    "def get_formatted_name(first_name, last_name):\n",
    "    \"\"\"Return a full name, neatly formatted.\"\"\"\n",
    "    while True:\n",
    "        print(\"\\nPlease tell me your name:\")\n",
    "        print(\"(enter 'q' at any time to quit)\")\n",
    "        f_name = input(\"First name: \")\n",
    "        if f_name == 'q':\n",
    "            break\n",
    "        l_name = input(\"Last name: \")\n",
    "        if l_name == 'q':\n",
    "            break\n",
    "        formatted_name = get_formatted_name(\"\", \"\")\n",
    "        print(\"\\nHello, \" + formatted_name + \"!\")\n",
    "    \n",
    "get_formatted_name('','')"
   ]
  },
  {
   "cell_type": "code",
   "execution_count": 101,
   "metadata": {},
   "outputs": [
    {
     "name": "stdout",
     "output_type": "stream",
     "text": [
      "\n",
      "Please tell me your name:\n",
      "(enter 'q' at any time to quit)\n",
      "First name: asif\n",
      "Last name: saqib\n",
      "\n",
      "Hello, asif saqib!\n",
      "\n",
      "Please tell me your name:\n",
      "(enter 'q' at any time to quit)\n",
      "First name: saq\n",
      "Last name: asi\n",
      "\n",
      "Hello, saq asi!\n",
      "\n",
      "Please tell me your name:\n",
      "(enter 'q' at any time to quit)\n",
      "First name: q\n"
     ]
    }
   ],
   "source": [
    "while True:\n",
    "        print(\"\\nPlease tell me your name:\")\n",
    "        print(\"(enter 'q' at any time to quit)\")\n",
    "        a = input(\"First name: \")\n",
    "        if a == 'q':\n",
    "            break\n",
    "        b = input(\"Last name: \")\n",
    "        if b == 'q':\n",
    "            break\n",
    "        print(\"\\nHello, \" + a + ' ' + b + \"!\")"
   ]
  },
  {
   "cell_type": "code",
   "execution_count": 115,
   "metadata": {},
   "outputs": [
    {
     "data": {
      "text/plain": [
       "'Write a function called city_country() that takes in the name\\nof a city and its country. The function should return a string formatted like this:\\n\"Santiago, Chile\"\\nCall your function with at least three city-country pairs, and print the value\\nthat’s returned.'"
      ]
     },
     "execution_count": 115,
     "metadata": {},
     "output_type": "execute_result"
    }
   ],
   "source": [
    "'''Write a function called city_country() that takes in the name\n",
    "of a city and its country. The function should return a string formatted like this:\n",
    "\"Santiago, Chile\"\n",
    "Call your function with at least three city-country pairs, and print the value\n",
    "that’s returned.'''"
   ]
  },
  {
   "cell_type": "code",
   "execution_count": 1,
   "metadata": {},
   "outputs": [
    {
     "name": "stdout",
     "output_type": "stream",
     "text": [
      "Enter city name: Dadu\n",
      "Enter country name: sindh\n",
      "\"Dadu,sindh\"\n",
      "Enter city name: q\n"
     ]
    }
   ],
   "source": [
    "def city_country(city,country):\n",
    "    while True:\n",
    "        city = input('Enter city name: ')\n",
    "        if city == 'q':\n",
    "            break\n",
    "        country = input('Enter country name: ')\n",
    "        if country == 'q':\n",
    "            break\n",
    "        print('\"'+ city + ','+ country +'\"')\n",
    "city_country('','')"
   ]
  },
  {
   "cell_type": "raw",
   "metadata": {},
   "source": [
    "\n",
    "def get_formatted_name(first_name, last_name):\n",
    "\"\"\"Return a full name, neatly formatted.\"\"\"\n",
    "full_name = first_name + ' ' + last_name\n",
    "return full_name.title()\n",
    "while True:\n",
    "print(\"\\nPlease tell me your name:\")\n",
    "print(\"(enter 'q' at any time to quit)\")\n",
    "f_name = input(\"First name: \")\n",
    "if f_name == 'q':\n",
    "break\n",
    "l_name = input(\"Last name: \")\n",
    "if l_name == 'q':\n",
    "break\n",
    "formatted_name = get_formatted_name(f_name, l_name)\n",
    "print(\"\\nHello, \" + formatted_name + \"!\")\n",
    "\n",
    "\n",
    "'''def build_person(first_name, last_name, age=''):\n",
    "    \"\"\"Return a dictionary of information about a person.\"\"\"\n",
    "    person = {'first': first_name, 'last': last_name}\n",
    "    if age:\n",
    "        person['age'] = age\n",
    "    return person\n",
    "musician = build_person('jimi', 'hendrix', age=27)\n",
    "print(musician)'''"
   ]
  },
  {
   "cell_type": "code",
   "execution_count": 22,
   "metadata": {},
   "outputs": [
    {
     "name": "stdout",
     "output_type": "stream",
     "text": [
      "{'artist': 'abc', 'album': 'xyz'}\n",
      "{'artist': 'def', 'album': 'uvw'}\n",
      "{'artist': 'ghi', 'album': 'str'}\n"
     ]
    }
   ],
   "source": [
    "def make_album(a,b):\n",
    "    album = {'artist':a, 'album':b}\n",
    "    return album\n",
    "album_1 = make_album(\"abc\",\"xyz\")\n",
    "print(album_1)\n",
    "album_2 = make_album(\"def\",\"uvw\")\n",
    "print(album_2)\n",
    "album_3 = make_album(\"ghi\",\"str\")\n",
    "print(album_3)"
   ]
  },
  {
   "cell_type": "code",
   "execution_count": null,
   "metadata": {},
   "outputs": [],
   "source": [
    "def make_album(artist,album, tracks = ''):\n",
    "    album = {'artist':artist, 'album':album}\n",
    "    if tracks:\n",
    "        album['total tracks'] = tracks\n",
    "    return album\n",
    "album_1 = make_album(\"abc\",\"xyz\",tracks =10)\n",
    "print(album_1)\n",
    "album_2 = make_album(\"def\",\"uvw\",tracks =15)\n",
    "print(album_2)\n",
    "album_3 = make_album(\"ghi\",\"str\",tracks =5)\n",
    "print(album_3)"
   ]
  },
  {
   "cell_type": "code",
   "execution_count": 9,
   "metadata": {},
   "outputs": [
    {
     "name": "stdout",
     "output_type": "stream",
     "text": [
      "\n",
      "Please Enter the Artist and Song name:\n",
      "(enter 'q' at any time to quit)\n",
      "Artist: aaa\n",
      "Song: bbb\n"
     ]
    },
    {
     "ename": "AttributeError",
     "evalue": "'dict' object attribute 'fromkeys' is read-only",
     "output_type": "error",
     "traceback": [
      "\u001b[1;31m---------------------------------------------------------------------------\u001b[0m",
      "\u001b[1;31mAttributeError\u001b[0m                            Traceback (most recent call last)",
      "\u001b[1;32m<ipython-input-9-85b25268fc87>\u001b[0m in \u001b[0;36m<module>\u001b[1;34m\u001b[0m\n\u001b[0;32m     14\u001b[0m \u001b[1;33m\u001b[0m\u001b[0m\n\u001b[0;32m     15\u001b[0m \u001b[1;33m\u001b[0m\u001b[0m\n\u001b[1;32m---> 16\u001b[1;33m \u001b[0mmake_album\u001b[0m\u001b[1;33m(\u001b[0m\u001b[1;34m\"\"\u001b[0m\u001b[1;33m,\u001b[0m\u001b[1;34m\"\"\u001b[0m\u001b[1;33m)\u001b[0m\u001b[1;33m\u001b[0m\u001b[1;33m\u001b[0m\u001b[0m\n\u001b[0m\u001b[0;32m     17\u001b[0m \u001b[1;33m\u001b[0m\u001b[0m\n",
      "\u001b[1;32m<ipython-input-9-85b25268fc87>\u001b[0m in \u001b[0;36mmake_album\u001b[1;34m(a, b)\u001b[0m\n\u001b[0;32m     10\u001b[0m         \u001b[1;32mif\u001b[0m \u001b[0mb\u001b[0m \u001b[1;33m==\u001b[0m \u001b[1;34m'q'\u001b[0m\u001b[1;33m:\u001b[0m\u001b[1;33m\u001b[0m\u001b[1;33m\u001b[0m\u001b[0m\n\u001b[0;32m     11\u001b[0m             \u001b[1;32mbreak\u001b[0m\u001b[1;33m\u001b[0m\u001b[1;33m\u001b[0m\u001b[0m\n\u001b[1;32m---> 12\u001b[1;33m         \u001b[0malbum\u001b[0m\u001b[1;33m.\u001b[0m\u001b[0mfromkeys\u001b[0m \u001b[1;33m=\u001b[0m \u001b[1;33m{\u001b[0m\u001b[1;34m'artist'\u001b[0m\u001b[1;33m:\u001b[0m\u001b[0ma\u001b[0m \u001b[1;33m,\u001b[0m \u001b[1;34m'Song'\u001b[0m\u001b[1;33m:\u001b[0m\u001b[0mb\u001b[0m\u001b[1;33m}\u001b[0m\u001b[1;33m\u001b[0m\u001b[1;33m\u001b[0m\u001b[0m\n\u001b[0m\u001b[0;32m     13\u001b[0m         \u001b[1;32mreturn\u001b[0m \u001b[0malbum\u001b[0m\u001b[1;33m\u001b[0m\u001b[1;33m\u001b[0m\u001b[0m\n\u001b[0;32m     14\u001b[0m \u001b[1;33m\u001b[0m\u001b[0m\n",
      "\u001b[1;31mAttributeError\u001b[0m: 'dict' object attribute 'fromkeys' is read-only"
     ]
    }
   ],
   "source": [
    "album = {}\n",
    "def make_album(a,b):\n",
    "     while True:\n",
    "        print(\"\\nPlease Enter the Artist and Song name:\")\n",
    "        print(\"(enter 'q' at any time to quit)\")\n",
    "        a = input(\"Artist: \")\n",
    "        if a == 'q':\n",
    "            break\n",
    "        b = input(\"Song: \")\n",
    "        if b == 'q':\n",
    "            break\n",
    "        album.fromkeys = {'artist':a , 'Song':b}\n",
    "        return album\n",
    "\n",
    "\n",
    "make_album(\"\",\"\")\n",
    "\n"
   ]
  },
  {
   "cell_type": "raw",
   "metadata": {},
   "source": [
    "passing lists to a function"
   ]
  },
  {
   "cell_type": "code",
   "execution_count": 4,
   "metadata": {},
   "outputs": [
    {
     "name": "stdout",
     "output_type": "stream",
     "text": [
      "Welcome Ali!\n",
      "Welcome Nasir!\n",
      "Welcome Asif!\n"
     ]
    }
   ],
   "source": [
    "def greet_user(names):\n",
    "    for name in names:\n",
    "        msg = (\"Welcome \" + name.title() + \"!\")\n",
    "        print(msg)\n",
    "username = ['Ali','Nasir','Asif']\n",
    "greet_user(username)"
   ]
  },
  {
   "cell_type": "code",
   "execution_count": 6,
   "metadata": {},
   "outputs": [
    {
     "name": "stdout",
     "output_type": "stream",
     "text": [
      "Printing model: dodecahedron\n",
      "Printing model: robot pendant\n",
      "Printing model: iphone case\n",
      "\n",
      "The following models have been printed:\n",
      "dodecahedron\n",
      "robot pendant\n",
      "iphone case\n"
     ]
    }
   ],
   "source": [
    "# modifying design\n",
    "# Start with some designs that need to be printed.\n",
    "unprinted_designs = ['iphone case', 'robot pendant', 'dodecahedron']\n",
    "completed_models = []\n",
    "# Simulate printing each design, until none are left.\n",
    "# Move each design to completed_models after printing.\n",
    "while unprinted_designs:\n",
    "    current_design = unprinted_designs.pop()\n",
    "    # Simulate creating a 3D print from the design.\n",
    "    print(\"Printing model: \" + current_design)\n",
    "    completed_models.append(current_design)\n",
    "# Display all completed models.\n",
    "print(\"\\nThe following models have been printed:\")\n",
    "for completed_model in completed_models:\n",
    "    print(completed_model)\n",
    "    "
   ]
  },
  {
   "cell_type": "code",
   "execution_count": 17,
   "metadata": {},
   "outputs": [
    {
     "name": "stdout",
     "output_type": "stream",
     "text": [
      "The task \"d\" is completed\n",
      "The task \"c\" is completed\n",
      "The task \"b\" is completed\n",
      "The task \"a\" is completed\n",
      "\n",
      "The completed tasks are:\n",
      "\n",
      "d\n",
      "c\n",
      "b\n",
      "a\n",
      "['d', 'c', 'b', 'a']\n",
      "['a', 'b', 'c', 'd']\n"
     ]
    },
    {
     "data": {
      "text/plain": [
       "'But\\nbecause you moved all the design names out of unprinted_designs, the list is\\nnow empty, and the empty list is the only version you have; the original is\\ngone. In this case, you can address this issue by passing the function a copy\\nof the list, not the original. Any changes the function makes to the list will\\naffect only the copy, leaving the original list intact.\\nYou can send a copy of a list to a function like this:'"
      ]
     },
     "execution_count": 17,
     "metadata": {},
     "output_type": "execute_result"
    }
   ],
   "source": [
    "def print_task(uncomleted_tasks,completed_tasks):\n",
    "    while uncomleted_tasks:\n",
    "        task = uncomleted_tasks.pop()\n",
    "        print('The task \"' + task + '\" is completed')\n",
    "        completed_tasks.append(task)\n",
    "\n",
    "\n",
    "def show_completed_tasks(completed_tasks):\n",
    "    print('\\nThe completed tasks are:\\n')\n",
    "    for completed_task in completed_tasks:\n",
    "        print(completed_task)\n",
    "\n",
    "uncomleted_tasks = ['a','b','c','d']\n",
    "completed_tasks  = []\n",
    "print_task(uncomleted_tasks[:],completed_tasks)\n",
    "show_completed_tasks(completed_tasks)\n",
    "print(completed_tasks)\n",
    "print(uncomleted_tasks)\n",
    "\n",
    "'''But\n",
    "because you moved all the design names out of unprinted_designs, the list is\n",
    "now empty, and the empty list is the only version you have; the original is\n",
    "gone. In this case, you can address this issue by passing the function a copy\n",
    "of the list, not the original. Any changes the function makes to the list will\n",
    "affect only the copy, leaving the original list intact.\n",
    "You can send a copy of a list to a function like this:'''"
   ]
  },
  {
   "cell_type": "code",
   "execution_count": 19,
   "metadata": {},
   "outputs": [
    {
     "name": "stdout",
     "output_type": "stream",
     "text": [
      "('pepperoni',)\n",
      "('mushrooms', 'green peppers', 'extra cheese')\n"
     ]
    }
   ],
   "source": [
    "# Passing an Arbitrary Number of Arguments\n",
    "def make_pizza(*toppings):\n",
    "    \"\"\"Print the list of toppings that have been requested.\"\"\"\n",
    "    print(toppings)\n",
    "make_pizza('pepperoni')\n",
    "make_pizza('mushrooms', 'green peppers', 'extra cheese')"
   ]
  },
  {
   "cell_type": "code",
   "execution_count": 24,
   "metadata": {},
   "outputs": [
    {
     "name": "stdout",
     "output_type": "stream",
     "text": [
      "\n",
      "Making a pizza with the following toppings:\n",
      "- pepperoni\n",
      "\n",
      "Making a pizza with the following toppings:\n",
      "- mushrooms\n",
      "- green peppers\n",
      "- extra cheese\n"
     ]
    }
   ],
   "source": [
    "def make_pizza(*toppings):\n",
    "    \"\"\"Summarize the pizza we are about to make.\"\"\"\n",
    "    print(\"\\nMaking a pizza with the following toppings:\")\n",
    "    for topping in toppings:\n",
    "        print(\"- \" + topping)\n",
    "make_pizza('pepperoni')\n",
    "make_pizza('mushrooms', 'green peppers', 'extra cheese')"
   ]
  },
  {
   "cell_type": "code",
   "execution_count": 25,
   "metadata": {},
   "outputs": [
    {
     "name": "stdout",
     "output_type": "stream",
     "text": [
      "\n",
      "Making a 16-inch pizza with the following toppings:\n",
      "- pepperoni\n",
      "\n",
      "Making a 12-inch pizza with the following toppings:\n",
      "- mushrooms\n",
      "- green peppers\n",
      "- extra cheese\n"
     ]
    }
   ],
   "source": [
    "#Mixing Positional and Arbitrary Arguments\n",
    "\n",
    "def make_pizza(size, *toppings):\n",
    "    \"\"\"Summarize the pizza we are about to make.\"\"\"\n",
    "    print(\"\\nMaking a \" + str(size) +\n",
    "    \"-inch pizza with the following toppings:\")\n",
    "    for topping in toppings:\n",
    "        print(\"- \" + topping)\n",
    "make_pizza(16, 'pepperoni')\n",
    "make_pizza(12, 'mushrooms', 'green peppers', 'extra cheese')"
   ]
  },
  {
   "cell_type": "code",
   "execution_count": 37,
   "metadata": {},
   "outputs": [
    {
     "name": "stdout",
     "output_type": "stream",
     "text": [
      "{'first_name': 'albert', 'last_name': 'einstein', 'field': 'physics'}\n"
     ]
    }
   ],
   "source": [
    "def build_profile(first, last, **user_info):\n",
    "    \"\"\"Build a dictionary containing everything we know about a user.\"\"\"\n",
    "    profile = {}\n",
    "    profile['first_name'] = first\n",
    "    profile['last_name'] = last\n",
    "    for key, value in user_info.items():\n",
    "        profile[key] = value\n",
    "        return profile\n",
    "\n",
    "user_profile = build_profile('albert', 'einstein',\n",
    "                             field='physics',location='princeton',)\n",
    "print(user_profile)"
   ]
  },
  {
   "cell_type": "raw",
   "metadata": {},
   "source": [
    "\n",
    "This first approach to importing, in which you simply write import followed\n",
    "by the name of the module, makes every function from the module\n",
    "available in your program. If you use this kind of import statement to import\n",
    "an entire module named module_name.py, each function in the module is\n",
    "available through the following syntax:\n",
    "module_name.function_name()\n",
    "\n",
    "from pizza import make_pizza\n",
    "make_pizza(16, 'pepperoni')\n",
    "make_pizza(12, 'mushrooms', 'green peppers', 'extra cheese')\n",
    "\n",
    "Here we give the function make_pizza() an alias, mp(), by importing\n",
    "make_pizza as mp. The as keyword renames a function using the alias you\n",
    "provide:\n",
    "from pizza import make_pizza as mp\n",
    "mp(16, 'pepperoni')\n",
    "mp(12, 'mushrooms', 'green peppers', 'extra cheese')\n",
    "\n",
    "\n",
    "from module_name import function_name as fn\n",
    "import pizza as p\n",
    "p.make_pizza(16, 'pepperoni')\n",
    "p.make_pizza(12, 'mushrooms', 'green peppers', 'extra cheese')\n",
    "\n",
    "\n",
    "from pizza import *"
   ]
  },
  {
   "cell_type": "markdown",
   "metadata": {},
   "source": [
    "# CHAPTER 9 CLASSES"
   ]
  },
  {
   "cell_type": "code",
   "execution_count": 14,
   "metadata": {},
   "outputs": [],
   "source": [
    "class Dog():\n",
    "    \"\"\"A simple machine demonstration of dog\"\"\"\n",
    "    def __init__(self,name,age):\n",
    "        self.name = name\n",
    "        self.age = age\n",
    "        \n",
    "    def sit(self):\n",
    "        print(self.name.title() + \" is sitting\")\n",
    "        \n",
    "    def roll(self):\n",
    "        print(self.name.title() + \" is rolling\")\n",
    "        \n",
    "    \n",
    "        "
   ]
  },
  {
   "cell_type": "code",
   "execution_count": 15,
   "metadata": {},
   "outputs": [
    {
     "name": "stdout",
     "output_type": "stream",
     "text": [
      "Tony is sitting\n",
      "Tony is rolling\n"
     ]
    }
   ],
   "source": [
    "my_dog = Dog(\"Tony\",\"5\")\n",
    "my_dog.sit()\n",
    "my_dog.roll()\n",
    "#Dog.roll(\"Tony\")"
   ]
  },
  {
   "cell_type": "code",
   "execution_count": 26,
   "metadata": {},
   "outputs": [],
   "source": [
    "class Resturant():\n",
    "    def __init__(self, resturant_name, cusine_type):\n",
    "        self.resturant_name = resturant_name\n",
    "        self.cusine_type    = cusine_type\n",
    "        \n",
    "        \n",
    "    def describe_resturant(self):\n",
    "        print(\"Welcome to the \" + self.resturant_name.title() + \".\\n\" )\n",
    "        print(\"It would be our plesure to serve you\")\n",
    "        \n",
    "    def open_resturant(self):\n",
    "        print(\"The resturant is open now\")\n",
    "        \n",
    "\n",
    "        "
   ]
  },
  {
   "cell_type": "code",
   "execution_count": 17,
   "metadata": {},
   "outputs": [],
   "source": [
    "resturant_1 = Resturant(\"Savour\",\"Rice\")"
   ]
  },
  {
   "cell_type": "code",
   "execution_count": 18,
   "metadata": {},
   "outputs": [
    {
     "data": {
      "text/plain": [
       "'Savour'"
      ]
     },
     "execution_count": 18,
     "metadata": {},
     "output_type": "execute_result"
    }
   ],
   "source": [
    "resturant_1.resturant_name"
   ]
  },
  {
   "cell_type": "code",
   "execution_count": 19,
   "metadata": {},
   "outputs": [
    {
     "data": {
      "text/plain": [
       "'Rice'"
      ]
     },
     "execution_count": 19,
     "metadata": {},
     "output_type": "execute_result"
    }
   ],
   "source": [
    "resturant_1.cusine_type"
   ]
  },
  {
   "cell_type": "code",
   "execution_count": 27,
   "metadata": {},
   "outputs": [
    {
     "name": "stdout",
     "output_type": "stream",
     "text": [
      "Welcome to the Savour Food.\n",
      "\n",
      "It would be our plesure to serve you\n"
     ]
    }
   ],
   "source": [
    "resturant_1 = Resturant(\"Savour Food\",\"Rice\")\n",
    "resturant_1.describe_resturant()"
   ]
  },
  {
   "cell_type": "code",
   "execution_count": 28,
   "metadata": {},
   "outputs": [
    {
     "name": "stdout",
     "output_type": "stream",
     "text": [
      "The resturant is open now\n"
     ]
    }
   ],
   "source": [
    "resturant_1.open_resturant()"
   ]
  },
  {
   "cell_type": "code",
   "execution_count": 17,
   "metadata": {},
   "outputs": [],
   "source": [
    "class User():\n",
    "    def __init__(self, full_name, father_name, course, institute):\n",
    "        self.full_name = full_name\n",
    "        self.father_name= father_name\n",
    "        self.course     = course\n",
    "        self.institute  = institute\n",
    "        \n",
    "        \n",
    "    def describe_user(self):\n",
    "        full_name   = self.full_name \n",
    "        father_name = self.father_name\n",
    "        course      = self.course     \n",
    "        institute   = self.institute  \n",
    "        message =  \"\"\"\n",
    "        STUDENT INFORMATION\n",
    "        Name     : {}\n",
    "        Father   : {}\n",
    "        Course   : {}\n",
    "        Institute: {}            \n",
    "        \"\"\".format(full_name, father_name, course, institute)\n",
    "        print(message)\n",
    "        \n",
    "    def greet_user(self):\n",
    "        print(\"Welcome \" + self.full_name.title() + \"\\nSon of \" + self.father_name.title() +\n",
    "              \"\\nIn \" + self.institute.upper() + \"\\nFor \" + self.course.upper() + \" course.\")"
   ]
  },
  {
   "cell_type": "code",
   "execution_count": 18,
   "metadata": {},
   "outputs": [],
   "source": [
    "std_1 = User(\"Muhammad Asif\",\"Irshad Ali\",\"Artificial Inteligence\",\"PIAIC\")"
   ]
  },
  {
   "cell_type": "code",
   "execution_count": 19,
   "metadata": {},
   "outputs": [
    {
     "name": "stdout",
     "output_type": "stream",
     "text": [
      "\n",
      "        STUDENT INFORMATION\n",
      "        Name     : Muhammad Asif\n",
      "        Father   : Irshad Ali\n",
      "        Course   : Artificial Inteligence\n",
      "        Institute: PIAIC            \n",
      "        \n"
     ]
    }
   ],
   "source": [
    "std_1.describe_user()"
   ]
  },
  {
   "cell_type": "code",
   "execution_count": 20,
   "metadata": {},
   "outputs": [
    {
     "name": "stdout",
     "output_type": "stream",
     "text": [
      "Welcome Muhammad Asif\n",
      "Son of Irshad Ali\n",
      "In PIAIC\n",
      "For ARTIFICIAL INTELIGENCE course.\n"
     ]
    }
   ],
   "source": [
    "std_1.greet_user()"
   ]
  },
  {
   "cell_type": "code",
   "execution_count": 11,
   "metadata": {},
   "outputs": [],
   "source": [
    "class Resturant():\n",
    "    def __init__(self, resturant_name, cusine_type):\n",
    "        self.resturant_name = resturant_name\n",
    "        self.cusine_type    = cusine_type\n",
    "        self.number_served  = 0\n",
    "        \n",
    "        \n",
    "    def describe_resturant(self):\n",
    "        print(\"Welcome to the \" + self.resturant_name.title() + \".\\n\" )\n",
    "        print(\"It would be our plesure to serve you\")\n",
    "        \n",
    "    def open_resturant(self):\n",
    "        print(\"The resturant is open now\")\n",
    "        \n",
    "    def customer_served(self):\n",
    "        print(\"The number of customer served are \"+ str(self.number_served))\n",
    "        \n",
    "    def update_customer_served(self,num):\n",
    "        self.number_served = num\n",
    "    \n",
    "        "
   ]
  },
  {
   "cell_type": "code",
   "execution_count": 12,
   "metadata": {},
   "outputs": [
    {
     "name": "stdout",
     "output_type": "stream",
     "text": [
      "The number of customer served are 0\n"
     ]
    }
   ],
   "source": [
    "resturant_1 = Resturant(\"Cusine Hub\",\"B.B.Q\")\n",
    "resturant_1.customer_served()"
   ]
  },
  {
   "cell_type": "code",
   "execution_count": 13,
   "metadata": {},
   "outputs": [
    {
     "name": "stdout",
     "output_type": "stream",
     "text": [
      "The number of customer served are 25\n"
     ]
    }
   ],
   "source": [
    "resturant_1.number_served = 25\n",
    "resturant_1.customer_served()"
   ]
  },
  {
   "cell_type": "code",
   "execution_count": 14,
   "metadata": {},
   "outputs": [],
   "source": [
    "resturant_1.update_customer_served(48)"
   ]
  },
  {
   "cell_type": "code",
   "execution_count": 15,
   "metadata": {},
   "outputs": [
    {
     "name": "stdout",
     "output_type": "stream",
     "text": [
      "The number of customer served are 48\n"
     ]
    }
   ],
   "source": [
    "resturant_1.customer_served()"
   ]
  },
  {
   "cell_type": "code",
   "execution_count": 31,
   "metadata": {},
   "outputs": [],
   "source": [
    "class User():\n",
    "    def __init__(self, full_name, father_name, course, institute):\n",
    "        self.full_name     = full_name\n",
    "        self.father_name   = father_name\n",
    "        self.course        = course\n",
    "        self.institute     = institute\n",
    "        self.login_attempts= 0\n",
    "        \n",
    "        \n",
    "    def describe_user(self):\n",
    "        full_name   = self.full_name \n",
    "        father_name = self.father_name\n",
    "        course      = self.course     \n",
    "        institute   = self.institute  \n",
    "        message =  \"\"\"\n",
    "        STUDENT INFORMATION\n",
    "        Name     : {}\n",
    "        Father   : {}\n",
    "        Course   : {}\n",
    "        Institute: {}            \n",
    "        \"\"\".format(full_name, father_name, course, institute)\n",
    "        print(message)\n",
    "        \n",
    "    def greet_user(self):\n",
    "        print(\"Welcome \" + self.full_name.title() + \"\\nSon of \" + self.father_name.title() +\n",
    "              \"\\nIn \" + self.institute.upper() + \"\\nFor \" + self.course.upper() + \" course.\")\n",
    "    \n",
    "    def increment_login(self):\n",
    "        self.login_attempts += 1\n",
    "        print(\"You login for \" + str(self.login_attempts) + \" times.\")\n",
    "        \n",
    "    def reset_login_attempts(self):\n",
    "        if self.login_attempts == 5:\n",
    "            self.login_attempts = 0"
   ]
  },
  {
   "cell_type": "code",
   "execution_count": 32,
   "metadata": {},
   "outputs": [],
   "source": [
    "std_1 = User(\"Muhammad Asif\",\"Irshad Ali\",\"Artificial Inteligence\",\"PIAIC\")\n"
   ]
  },
  {
   "cell_type": "code",
   "execution_count": 33,
   "metadata": {},
   "outputs": [
    {
     "data": {
      "text/plain": [
       "0"
      ]
     },
     "execution_count": 33,
     "metadata": {},
     "output_type": "execute_result"
    }
   ],
   "source": [
    "std_1.login_attempts"
   ]
  },
  {
   "cell_type": "code",
   "execution_count": 40,
   "metadata": {},
   "outputs": [
    {
     "name": "stdout",
     "output_type": "stream",
     "text": [
      "You login for 5 times.\n"
     ]
    },
    {
     "data": {
      "text/plain": [
       "5"
      ]
     },
     "execution_count": 40,
     "metadata": {},
     "output_type": "execute_result"
    }
   ],
   "source": [
    "std_1.increment_login()\n",
    "std_1.login_attempts"
   ]
  },
  {
   "cell_type": "code",
   "execution_count": 41,
   "metadata": {},
   "outputs": [],
   "source": [
    "std_1.reset_login_attempts()"
   ]
  },
  {
   "cell_type": "code",
   "execution_count": 42,
   "metadata": {},
   "outputs": [
    {
     "data": {
      "text/plain": [
       "0"
      ]
     },
     "execution_count": 42,
     "metadata": {},
     "output_type": "execute_result"
    }
   ],
   "source": [
    "std_1.login_attempts"
   ]
  },
  {
   "cell_type": "code",
   "execution_count": 1,
   "metadata": {},
   "outputs": [],
   "source": [
    "# Inheritance"
   ]
  },
  {
   "cell_type": "code",
   "execution_count": 12,
   "metadata": {},
   "outputs": [],
   "source": [
    "class Car():\n",
    "    \"\"\"A simple attempt to represent a car.\"\"\"\n",
    "def __init__(self, make, model, year):\n",
    "    self.make = make\n",
    "    self.model = model\n",
    "    self.year = year\n",
    "    self.odometer_reading = 0\n",
    "    \n",
    "def get_descriptive_name(self):\n",
    "    long_name = str(self.year) + ' ' + self.make + ' ' + self.model\n",
    "    return long_name.title()\n",
    "def read_odometer(self):\n",
    "    print(\"This car has \" + str(self.odometer_reading) + \" miles on it.\")\n",
    "def update_odometer(self, mileage):\n",
    "    if mileage >= self.odometer_reading:\n",
    "        self.odometer_reading = mileage\n",
    "    else:\n",
    "        print(\"You can't roll back an odometer!\")\n",
    "def increment_odometer(self, miles):\n",
    "    self.odometer_reading += miles\n",
    "\n",
    "    \n",
    "class ElectricCar(Car):\n",
    "    \"\"\"Represent aspects of a car, specific to electric vehicles.\"\"\"\n",
    "    def __init__(self, make, model, year):\n",
    "        \"\"\"Initialize attributes of the parent class.\"\"\"\n",
    "        super().__init__(make, model, year)"
   ]
  },
  {
   "cell_type": "code",
   "execution_count": 13,
   "metadata": {},
   "outputs": [
    {
     "ename": "TypeError",
     "evalue": "object.__init__() takes exactly one argument (the instance to initialize)",
     "output_type": "error",
     "traceback": [
      "\u001b[1;31m---------------------------------------------------------------------------\u001b[0m",
      "\u001b[1;31mTypeError\u001b[0m                                 Traceback (most recent call last)",
      "\u001b[1;32m<ipython-input-13-be2dfb669829>\u001b[0m in \u001b[0;36m<module>\u001b[1;34m\u001b[0m\n\u001b[1;32m----> 1\u001b[1;33m \u001b[0mmy_car\u001b[0m \u001b[1;33m=\u001b[0m \u001b[0mElectricCar\u001b[0m\u001b[1;33m(\u001b[0m\u001b[1;34m'Honda'\u001b[0m\u001b[1;33m,\u001b[0m\u001b[1;34m'Sports'\u001b[0m\u001b[1;33m,\u001b[0m\u001b[1;34m'2019'\u001b[0m\u001b[1;33m)\u001b[0m\u001b[1;33m\u001b[0m\u001b[1;33m\u001b[0m\u001b[0m\n\u001b[0m",
      "\u001b[1;32m<ipython-input-12-4c6fefd077ec>\u001b[0m in \u001b[0;36m__init__\u001b[1;34m(self, make, model, year)\u001b[0m\n\u001b[0;32m     25\u001b[0m     \u001b[1;32mdef\u001b[0m \u001b[0m__init__\u001b[0m\u001b[1;33m(\u001b[0m\u001b[0mself\u001b[0m\u001b[1;33m,\u001b[0m \u001b[0mmake\u001b[0m\u001b[1;33m,\u001b[0m \u001b[0mmodel\u001b[0m\u001b[1;33m,\u001b[0m \u001b[0myear\u001b[0m\u001b[1;33m)\u001b[0m\u001b[1;33m:\u001b[0m\u001b[1;33m\u001b[0m\u001b[1;33m\u001b[0m\u001b[0m\n\u001b[0;32m     26\u001b[0m         \u001b[1;34m\"\"\"Initialize attributes of the parent class.\"\"\"\u001b[0m\u001b[1;33m\u001b[0m\u001b[1;33m\u001b[0m\u001b[0m\n\u001b[1;32m---> 27\u001b[1;33m         \u001b[0msuper\u001b[0m\u001b[1;33m(\u001b[0m\u001b[1;33m)\u001b[0m\u001b[1;33m.\u001b[0m\u001b[0m__init__\u001b[0m\u001b[1;33m(\u001b[0m\u001b[0mmake\u001b[0m\u001b[1;33m,\u001b[0m \u001b[0mmodel\u001b[0m\u001b[1;33m,\u001b[0m \u001b[0myear\u001b[0m\u001b[1;33m)\u001b[0m\u001b[1;33m\u001b[0m\u001b[1;33m\u001b[0m\u001b[0m\n\u001b[0m",
      "\u001b[1;31mTypeError\u001b[0m: object.__init__() takes exactly one argument (the instance to initialize)"
     ]
    }
   ],
   "source": [
    "my_car = ElectricCar('Honda','Sports','2019')"
   ]
  },
  {
   "cell_type": "code",
   "execution_count": null,
   "metadata": {},
   "outputs": [],
   "source": []
  }
 ],
 "metadata": {
  "kernelspec": {
   "display_name": "Python 3",
   "language": "python",
   "name": "python3"
  },
  "language_info": {
   "codemirror_mode": {
    "name": "ipython",
    "version": 3
   },
   "file_extension": ".py",
   "mimetype": "text/x-python",
   "name": "python",
   "nbconvert_exporter": "python",
   "pygments_lexer": "ipython3",
   "version": "3.7.3"
  }
 },
 "nbformat": 4,
 "nbformat_minor": 2
}
