{
 "cells": [
  {
   "cell_type": "markdown",
   "metadata": {},
   "source": [
    "# class  25-11-19"
   ]
  },
  {
   "cell_type": "markdown",
   "metadata": {},
   "source": [
    "#installe visulstudio code or spider\n",
    "#for online python COLAB website\n"
   ]
  },
  {
   "cell_type": "code",
   "execution_count": 4,
   "metadata": {},
   "outputs": [
    {
     "name": "stdout",
     "output_type": "stream",
     "text": [
      "The Zen of Python, by Tim Peters\n",
      "\n",
      "Beautiful is better than ugly.\n",
      "Explicit is better than implicit.\n",
      "Simple is better than complex.\n",
      "Complex is better than complicated.\n",
      "Flat is better than nested.\n",
      "Sparse is better than dense.\n",
      "Readability counts.\n",
      "Special cases aren't special enough to break the rules.\n",
      "Although practicality beats purity.\n",
      "Errors should never pass silently.\n",
      "Unless explicitly silenced.\n",
      "In the face of ambiguity, refuse the temptation to guess.\n",
      "There should be one-- and preferably only one --obvious way to do it.\n",
      "Although that way may not be obvious at first unless you're Dutch.\n",
      "Now is better than never.\n",
      "Although never is often better than *right* now.\n",
      "If the implementation is hard to explain, it's a bad idea.\n",
      "If the implementation is easy to explain, it may be a good idea.\n",
      "Namespaces are one honking great idea -- let's do more of those!\n"
     ]
    }
   ],
   "source": [
    "import this"
   ]
  },
  {
   "cell_type": "code",
   "execution_count": 40,
   "metadata": {},
   "outputs": [],
   "source": [
    "a = 1.2565\n",
    "b = 56\n",
    "c = \"this is a string\"\n",
    "d = True\n",
    "e = [\"Draco\", \"Bellatrix\", \"Voldemort\"]\n",
    "f = (\"Delaware\",\"Pennsylvania\", \"New Jersey\", \"Georgia\")\n",
    "g = {\"Draco\", \"Bellatrix\", \"Voldemort\"}\n"
   ]
  },
  {
   "cell_type": "code",
   "execution_count": 41,
   "metadata": {},
   "outputs": [
    {
     "name": "stdout",
     "output_type": "stream",
     "text": [
      "<class 'float'>\n",
      "<class 'int'>\n",
      "<class 'str'>\n",
      "<class 'list'>\n",
      "<class 'tuple'>\n",
      "<class 'set'>\n",
      "1306467010912\n",
      "140723702897184\n",
      "1306467555920\n",
      "1306468218376\n",
      "1306468280104\n",
      "1306429904712\n"
     ]
    },
    {
     "data": {
      "text/plain": [
       "bool"
      ]
     },
     "execution_count": 41,
     "metadata": {},
     "output_type": "execute_result"
    }
   ],
   "source": [
    "print(type (a))\n",
    "print(type (b))\n",
    "print(type (c))\n",
    "print(type (e))\n",
    "print(type (f))\n",
    "print(type (g))\n",
    "type(d)\n",
    "print(id (a))\n",
    "print(id (b))\n",
    "print(id (c))\n",
    "print(id (e))\n",
    "print(id (f))\n",
    "print(id (g))\n",
    "type(d)"
   ]
  },
  {
   "cell_type": "code",
   "execution_count": 25,
   "metadata": {},
   "outputs": [
    {
     "name": "stdout",
     "output_type": "stream",
     "text": [
      "12\n",
      "38.5\n"
     ]
    }
   ],
   "source": [
    "print(5+7)\n",
    "# + operator\n",
    "# 5,7 operand\n",
    "# PEMDAS\n",
    "print (8*5-6+9/2)"
   ]
  },
  {
   "cell_type": "code",
   "execution_count": 37,
   "metadata": {},
   "outputs": [
    {
     "name": "stdout",
     "output_type": "stream",
     "text": [
      "140723702895552\n",
      "140723702895552\n",
      "140723702895552\n",
      "140723702895584\n"
     ]
    }
   ],
   "source": [
    "a = 5\n",
    "b = 5\n",
    "#a == b\n",
    "print(id(a))\n",
    "print(id(b))\n",
    "a = 5\n",
    "b = 6\n",
    "#a == b\n",
    "print(id(a))\n",
    "print(id(b))"
   ]
  },
  {
   "cell_type": "code",
   "execution_count": null,
   "metadata": {},
   "outputs": [],
   "source": [
    "# shallow copy -> copy by the reference only address is copied \n",
    "# if a and b is same only reference will be copied(shallow copy). \n",
    "# 140723702895552\n",
    "# 140723702895552\n",
    "\n",
    "# deep copy ->    content or value is copied\n",
    "#  \n",
    "# 140723702895552\n",
    "# 140723702895584"
   ]
  },
  {
   "cell_type": "code",
   "execution_count": 45,
   "metadata": {},
   "outputs": [
    {
     "name": "stdout",
     "output_type": "stream",
     "text": [
      "['Draco', 'Bellatrix', 'Voldemort']\n",
      "('Draco', 'Bellatrix', 'Voldemort')\n",
      "Bellatrix\n"
     ]
    }
   ],
   "source": [
    "# index 0          1           2\n",
    "z = [\"Draco\", \"Bellatrix\", \"Voldemort\"]\n",
    "y = (\"Draco\", \"Bellatrix\", \"Voldemort\")\n",
    "# index -3       -2           -1\n",
    "# homogenous data = all elements should be of same data type\n",
    "# hetrogeous data = all elements should be of different data type\n",
    "\n",
    "# array size is fix\n",
    "print(z)\n",
    "print(y)\n",
    "print(z[1])\n"
   ]
  },
  {
   "cell_type": "code",
   "execution_count": 50,
   "metadata": {},
   "outputs": [
    {
     "name": "stdout",
     "output_type": "stream",
     "text": [
      "{'Bellatrix', 'Draco', 'Voldemort'}\n",
      "<class 'set'>\n",
      "<class 'list'>\n",
      "<class 'tuple'>\n"
     ]
    }
   ],
   "source": [
    "# set data type dont print the repeted entry\n",
    "# indexing support is not availble in \"set\"\n",
    "g = {\"Draco\", \"Bellatrix\", \"Voldemort\",\"Draco\"}\n",
    "\n",
    "print (g)\n",
    "print(type(g))\n",
    "# type cast = is changing one data type in other data type\n",
    "g = list(g)\n",
    "print(type(g))\n",
    "# type cast = is changing one data type in other data type\n",
    "g = tuple(g)\n",
    "print(type(g))\n"
   ]
  },
  {
   "cell_type": "code",
   "execution_count": null,
   "metadata": {},
   "outputs": [],
   "source": [
    "# in dictionaries index is replaced by \"key\"\n",
    "#mutable = which can be change\n",
    "#imutable = which can not be change\n",
    "#key will only be that on which hash function can be applied\n",
    "data = {\"first_name\":\"Muahmmand\",\n",
    "        \"second_name\":\"Asif\",\n",
    "        \"last_name\":\"Shahzad\",}\n",
    "#data[\"first_name\"]\n",
    "#data[\"second_name\"]\n",
    "#data[\"last_name\"]\n",
    "\n",
    "print(data[\"first_name\"])\n",
    "print(data[\"second_name\"])\n",
    "print(data[\"last_name\"])"
   ]
  },
  {
   "cell_type": "markdown",
   "metadata": {},
   "source": [
    "#Basic operation with string data types"
   ]
  },
  {
   "cell_type": "code",
   "execution_count": 63,
   "metadata": {},
   "outputs": [
    {
     "name": "stdout",
     "output_type": "stream",
     "text": [
      "False\n",
      "MUHAmmad AsIf muhammad qasim\n",
      "MUHAmmad AsIf\n",
      "muhammad qasim\n",
      "1306468363888 1306468355440\n"
     ]
    },
    {
     "data": {
      "text/plain": [
       "['__add__',\n",
       " '__class__',\n",
       " '__contains__',\n",
       " '__delattr__',\n",
       " '__dir__',\n",
       " '__doc__',\n",
       " '__eq__',\n",
       " '__format__',\n",
       " '__ge__',\n",
       " '__getattribute__',\n",
       " '__getitem__',\n",
       " '__getnewargs__',\n",
       " '__gt__',\n",
       " '__hash__',\n",
       " '__init__',\n",
       " '__init_subclass__',\n",
       " '__iter__',\n",
       " '__le__',\n",
       " '__len__',\n",
       " '__lt__',\n",
       " '__mod__',\n",
       " '__mul__',\n",
       " '__ne__',\n",
       " '__new__',\n",
       " '__reduce__',\n",
       " '__reduce_ex__',\n",
       " '__repr__',\n",
       " '__rmod__',\n",
       " '__rmul__',\n",
       " '__setattr__',\n",
       " '__sizeof__',\n",
       " '__str__',\n",
       " '__subclasshook__',\n",
       " 'capitalize',\n",
       " 'casefold',\n",
       " 'center',\n",
       " 'count',\n",
       " 'encode',\n",
       " 'endswith',\n",
       " 'expandtabs',\n",
       " 'find',\n",
       " 'format',\n",
       " 'format_map',\n",
       " 'index',\n",
       " 'isalnum',\n",
       " 'isalpha',\n",
       " 'isascii',\n",
       " 'isdecimal',\n",
       " 'isdigit',\n",
       " 'isidentifier',\n",
       " 'islower',\n",
       " 'isnumeric',\n",
       " 'isprintable',\n",
       " 'isspace',\n",
       " 'istitle',\n",
       " 'isupper',\n",
       " 'join',\n",
       " 'ljust',\n",
       " 'lower',\n",
       " 'lstrip',\n",
       " 'maketrans',\n",
       " 'partition',\n",
       " 'replace',\n",
       " 'rfind',\n",
       " 'rindex',\n",
       " 'rjust',\n",
       " 'rpartition',\n",
       " 'rsplit',\n",
       " 'rstrip',\n",
       " 'split',\n",
       " 'splitlines',\n",
       " 'startswith',\n",
       " 'strip',\n",
       " 'swapcase',\n",
       " 'title',\n",
       " 'translate',\n",
       " 'upper',\n",
       " 'zfill']"
      ]
     },
     "execution_count": 63,
     "metadata": {},
     "output_type": "execute_result"
    }
   ],
   "source": [
    "name1 = \"MUHAmmad AsIf\"\n",
    "name2 = \"muhammad qasim\"\n",
    "print(name1==name2)\n",
    "print(name1, name2)\n",
    "print(name1, name2, sep='\\n')\n",
    "print(id(name1), id(name2))\n",
    "\n",
    "dir(name1)# press shift+enter\n",
    "\n"
   ]
  },
  {
   "cell_type": "code",
   "execution_count": 65,
   "metadata": {},
   "outputs": [
    {
     "name": "stdout",
     "output_type": "stream",
     "text": [
      "MUHAMMAD ASIF\n",
      "MUHAmmad AsIf\n"
     ]
    }
   ],
   "source": [
    "name1 = \"MUHAmmad AsIf\"\n",
    "print(name1.upper())\n",
    "print(name1)\n",
    "# in line = does not change the name value physicaly change"
   ]
  },
  {
   "cell_type": "code",
   "execution_count": 67,
   "metadata": {},
   "outputs": [
    {
     "name": "stdout",
     "output_type": "stream",
     "text": [
      "MUHAMMAD ASIF\n"
     ]
    }
   ],
   "source": [
    "name1 = \"MUHAmmad AsIf\"\n",
    "name1 =(name1.upper())\n",
    "print(name1)\n",
    "# in memory operation = change the name1 value physicaly on the address\n",
    "del name1"
   ]
  },
  {
   "cell_type": "code",
   "execution_count": 69,
   "metadata": {},
   "outputs": [
    {
     "ename": "NameError",
     "evalue": "name 'name1' is not defined",
     "output_type": "error",
     "traceback": [
      "\u001b[1;31m---------------------------------------------------------------------------\u001b[0m",
      "\u001b[1;31mNameError\u001b[0m                                 Traceback (most recent call last)",
      "\u001b[1;32m<ipython-input-69-6db1ff7fe4ba>\u001b[0m in \u001b[0;36m<module>\u001b[1;34m\u001b[0m\n\u001b[0;32m      1\u001b[0m \u001b[0mname1\u001b[0m \u001b[1;33m=\u001b[0m \u001b[1;34m\"MUHAmmad AsIf\"\u001b[0m\u001b[1;33m\u001b[0m\u001b[1;33m\u001b[0m\u001b[0m\n\u001b[0;32m      2\u001b[0m \u001b[1;32mdel\u001b[0m \u001b[0mname1\u001b[0m\u001b[1;33m\u001b[0m\u001b[1;33m\u001b[0m\u001b[0m\n\u001b[1;32m----> 3\u001b[1;33m \u001b[0mprint\u001b[0m\u001b[1;33m(\u001b[0m\u001b[0mname1\u001b[0m\u001b[1;33m)\u001b[0m\u001b[1;33m\u001b[0m\u001b[1;33m\u001b[0m\u001b[0m\n\u001b[0m",
      "\u001b[1;31mNameError\u001b[0m: name 'name1' is not defined"
     ]
    }
   ],
   "source": [
    "name1 = \"MUHAmmad AsIf\"\n",
    "del name1\n",
    "print(name1)"
   ]
  },
  {
   "cell_type": "code",
   "execution_count": 74,
   "metadata": {},
   "outputs": [
    {
     "name": "stdout",
     "output_type": "stream",
     "text": [
      "         Muhammad Asif          \n",
      "32\n",
      "Muhammad Asif          \n",
      "23\n",
      "         Muhammad Asif\n",
      "22\n"
     ]
    }
   ],
   "source": [
    "name1 = \"         MUHAmmad AsIf          \"\n",
    "name1 =(name1.title())\n",
    "print(name1)\n",
    "print(len(name1))\n",
    "print(name1.lstrip())\n",
    "print(len(name1.lstrip()))\n",
    "print(name1.rstrip())\n",
    "print(len(name1.rstrip()))"
   ]
  },
  {
   "cell_type": "code",
   "execution_count": 82,
   "metadata": {},
   "outputs": [
    {
     "data": {
      "text/plain": [
       "'pakistani'"
      ]
     },
     "execution_count": 82,
     "metadata": {},
     "output_type": "execute_result"
    }
   ],
   "source": [
    "a = \"we are pakistani and we love paksitan\"\n",
    "a.find(\"pakistan\")\n",
    "a[7:16:1] # slicing\n",
    "a[::1]\n",
    "a[::1]"
   ]
  },
  {
   "cell_type": "code",
   "execution_count": null,
   "metadata": {},
   "outputs": [],
   "source": [
    "#start shamil ho ga\n",
    "#end   shamil nai ho ga\n",
    "#step what is needed"
   ]
  },
  {
   "cell_type": "code",
   "execution_count": 83,
   "metadata": {},
   "outputs": [
    {
     "data": {
      "text/plain": [
       "'pksai'"
      ]
     },
     "execution_count": 83,
     "metadata": {},
     "output_type": "execute_result"
    }
   ],
   "source": [
    "a = \"we are pakistani and we love paksitan\"\n",
    "a.find(\"pakistan\")\n",
    "a[7:16:2] # slicing"
   ]
  },
  {
   "cell_type": "code",
   "execution_count": 84,
   "metadata": {},
   "outputs": [
    {
     "data": {
      "text/plain": [
       "'pakistani'"
      ]
     },
     "execution_count": 84,
     "metadata": {},
     "output_type": "execute_result"
    }
   ],
   "source": [
    "a = \"we are pakistani and we love paksitan\"\n",
    "a.find(\"pakistan\")\n",
    "a[a.find(\"pakistan\"):16] # slicing step by default is 1"
   ]
  },
  {
   "cell_type": "code",
   "execution_count": 86,
   "metadata": {},
   "outputs": [
    {
     "data": {
      "text/plain": [
       "['we', 'are', 'pakistani', 'and', 'we', 'love', 'paksitan']"
      ]
     },
     "execution_count": 86,
     "metadata": {},
     "output_type": "execute_result"
    }
   ],
   "source": [
    "a = \"we are pakistani and we love paksitan\"\n",
    "b = a.split()\n",
    "b\n"
   ]
  },
  {
   "cell_type": "code",
   "execution_count": 88,
   "metadata": {},
   "outputs": [
    {
     "data": {
      "text/plain": [
       "<generator object <genexpr> at 0x000001302F947570>"
      ]
     },
     "execution_count": 88,
     "metadata": {},
     "output_type": "execute_result"
    }
   ],
   "source": [
    "(i for i in b if i.lower()=='pakistan')"
   ]
  },
  {
   "cell_type": "code",
   "execution_count": 90,
   "metadata": {},
   "outputs": [
    {
     "name": "stdout",
     "output_type": "stream",
     "text": [
      "\n",
      "Name      :  Muhammad Asif\n",
      "Father    :  Irshad Ali\n",
      "University:  Bahria University\n",
      "\n"
     ]
    }
   ],
   "source": [
    "name = [\"Muhammad Asif\", \"Qasim Ali\"]\n",
    "father_name = [\"Irshad Ali\", \"Nazim g\"]\n",
    "university = [\"Bahria University\", \"Quaid e Azam University\"\n",
    "\n",
    "              \n",
    "#Student Name: %s \\n \n",
    "card = \"\"\"\n",
    "Name      :  {}\n",
    "Father    :  {}\n",
    "University:  {}\n",
    "\"\"\".format(name, father_name, university)\n",
    "\n",
    "print(card)"
   ]
  },
  {
   "cell_type": "code",
   "execution_count": 103,
   "metadata": {},
   "outputs": [
    {
     "name": "stdout",
     "output_type": "stream",
     "text": [
      " Student Name: asif\n",
      " Father Name: nasir\n",
      " Program: PIAIC\n"
     ]
    }
   ],
   "source": [
    "name = \"asif\"\n",
    "fname = \"nasir\"\n",
    "prg = \"PIAIC\"\n",
    "\n",
    "print(\" Student Name: \" + name + \"\\n Father Name: \" + fname + \"\\n Program: \" + prg)"
   ]
  },
  {
   "cell_type": "code",
   "execution_count": 107,
   "metadata": {},
   "outputs": [
    {
     "name": "stdout",
     "output_type": "stream",
     "text": [
      "Student Name: %s name %s \n",
      " Father Name:  %s fname %s \n",
      " Program:  %s prg\n"
     ]
    }
   ],
   "source": [
    "name = \"asif\"\n",
    "fname = \"nasir\"\n",
    "prg = \"PIAIC\"\n",
    "\n",
    "\"Student Name\"\n",
    "print(\"Student Name: %s name %s \\n Father Name:  %s fname %s \\n Program:  %s prg\")"
   ]
  },
  {
   "cell_type": "code",
   "execution_count": 98,
   "metadata": {},
   "outputs": [
    {
     "name": "stdout",
     "output_type": "stream",
     "text": [
      "Pakistan scores: 200\n",
      "<class 'int'>\n",
      "ksjdj\n"
     ]
    }
   ],
   "source": [
    "a = 200\n",
    "print(\"Pakistan scores: \" + str(a))# in line change\n",
    "print(type(a))\n",
    "a = input()\n"
   ]
  },
  {
   "cell_type": "code",
   "execution_count": 106,
   "metadata": {},
   "outputs": [
    {
     "name": "stdout",
     "output_type": "stream",
     "text": [
      " Student Name: asif\n",
      " Father Name: nasir\n",
      " Program: PIAIC\n"
     ]
    }
   ],
   "source": [
    "name = \"asif\"\n",
    "fname = \"nasir\"\n",
    "prg = \"PIAIC\"\n",
    "print(\" Student Name: \" + name + \"\\n Father Name: \" + fname + \"\\n Program: \" + prg )"
   ]
  },
  {
   "cell_type": "code",
   "execution_count": null,
   "metadata": {},
   "outputs": [],
   "source": []
  }
 ],
 "metadata": {
  "kernelspec": {
   "display_name": "Python 3",
   "language": "python",
   "name": "python3"
  },
  "language_info": {
   "codemirror_mode": {
    "name": "ipython",
    "version": 3
   },
   "file_extension": ".py",
   "mimetype": "text/x-python",
   "name": "python",
   "nbconvert_exporter": "python",
   "pygments_lexer": "ipython3",
   "version": "3.7.3"
  }
 },
 "nbformat": 4,
 "nbformat_minor": 2
}
