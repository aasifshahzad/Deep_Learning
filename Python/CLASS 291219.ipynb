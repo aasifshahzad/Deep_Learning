{
 "cells": [
  {
   "cell_type": "raw",
   "metadata": {},
   "source": [
    "RECUSIVE FUNCTION\n",
    "THE FUNCTION WHICH CALL ITSELF IN ITS OWN BODY\n",
    "generator function\n",
    "keyword argument(arguments are passed on bases of keys)\n",
    "passing argument from list then *sign is used before list name\n"
   ]
  },
  {
   "cell_type": "raw",
   "metadata": {},
   "source": [
    "function are set of instructiion\n",
    "user defined\n",
    "buit in funtion\n",
    "default function\n",
    "required argument> must be provided to run the function\n",
    "default argument> some variable have default values\n",
    "position argumnet> list\n",
    "keyword argument> take argument from keys, dict\n",
    "generator function\n",
    "remember its old value\n",
    "recursive function\n",
    "lambda function"
   ]
  },
  {
   "cell_type": "markdown",
   "metadata": {},
   "source": [
    "# Predfined Function"
   ]
  },
  {
   "cell_type": "code",
   "execution_count": 1,
   "metadata": {},
   "outputs": [
    {
     "name": "stdout",
     "output_type": "stream",
     "text": [
      "the\n",
      "3\n",
      "<class 'str'>\n",
      "1943910127520\n"
     ]
    }
   ],
   "source": [
    "print('the')\n",
    "print(len('the'))\n",
    "print(type('the'))\n",
    "print(id('the'))"
   ]
  },
  {
   "cell_type": "markdown",
   "metadata": {},
   "source": [
    "# user defined"
   ]
  },
  {
   "cell_type": "code",
   "execution_count": 2,
   "metadata": {},
   "outputs": [
    {
     "name": "stdout",
     "output_type": "stream",
     "text": [
      "Pakistan Zindabad\n",
      "we love Pakistan\n",
      "we love our country\n"
     ]
    }
   ],
   "source": [
    "print(\"Pakistan Zindabad\")\n",
    "print(\"we love Pakistan\")\n",
    "print(\"we love our country\")"
   ]
  },
  {
   "cell_type": "code",
   "execution_count": 4,
   "metadata": {},
   "outputs": [],
   "source": [
    "def pak():# Function declaration\n",
    "    print(\"Pakistan Zindabad\")# Function Body statement 1\n",
    "    print(\"we love Pakistan\")# Function Body statement 2\n",
    "    print(\"we love our country\")# Function Body statement 3"
   ]
  },
  {
   "cell_type": "code",
   "execution_count": 5,
   "metadata": {},
   "outputs": [
    {
     "name": "stdout",
     "output_type": "stream",
     "text": [
      "Pakistan Zindabad\n",
      "we love Pakistan\n",
      "we love our country\n"
     ]
    }
   ],
   "source": [
    "pak() # function calling"
   ]
  },
  {
   "cell_type": "code",
   "execution_count": 9,
   "metadata": {},
   "outputs": [
    {
     "name": "stdout",
     "output_type": "stream",
     "text": [
      "Pakistan Zindabad\n",
      "we love Pakistan\n",
      "we love our country\n",
      "Pakistan Zindabad\n",
      "we love Pakistan\n",
      "we love our country\n"
     ]
    }
   ],
   "source": [
    "for x in range(1,3):\n",
    "    pak()"
   ]
  },
  {
   "cell_type": "raw",
   "metadata": {},
   "source": [
    "function programming or procedural programming a bit solw\n",
    "    block structure( identation concept is introduced)\n",
    "linear programming is fast in relevance of execution.\n",
    "    you have to defined each task in a line\n"
   ]
  },
  {
   "cell_type": "markdown",
   "metadata": {},
   "source": [
    "# returned argument"
   ]
  },
  {
   "cell_type": "code",
   "execution_count": 24,
   "metadata": {},
   "outputs": [
    {
     "name": "stdout",
     "output_type": "stream",
     "text": [
      "\n",
      "        PIAIC ISLAMABAD\n",
      "        id   : 1\n",
      "        Student Name : Ali\n",
      "        Father's Name : Nasir\n",
      "        Course : A.I\n",
      "        Timing : 9 to 12\n",
      "    \n"
     ]
    }
   ],
   "source": [
    "def id_card(sid,sname,fname,course,timing):\n",
    "    text = '''\n",
    "        PIAIC ISLAMABAD\n",
    "        id   : {}\n",
    "        Student Name : {}\n",
    "        Father's Name : {}\n",
    "        Course : {}\n",
    "        Timing : {}\n",
    "    '''.format(sid,sname,fname,course,timing)\n",
    "    print(text)\n",
    "id_card('1','Ali','Nasir','A.I','9 to 12')"
   ]
  },
  {
   "cell_type": "code",
   "execution_count": 27,
   "metadata": {},
   "outputs": [
    {
     "name": "stdout",
     "output_type": "stream",
     "text": [
      "\n",
      "        PIAIC ISLAMABAD\n",
      "        id   : 1\n",
      "        Student Name : Ali\n",
      "        Father's Name : Nasir\n",
      "        Course : A.I\n",
      "        Timing : 9 to 12\n",
      "    \n",
      "\n",
      "        PIAIC ISLAMABAD\n",
      "        id   : 1\n",
      "        Student Name : Ali\n",
      "        Father's Name : Nasir\n",
      "        Course : A.I\n",
      "        Timing : 9 to 12\n",
      "    \n",
      "\n",
      "        PIAIC ISLAMABAD\n",
      "        id   : 1\n",
      "        Student Name : Ali\n",
      "        Father's Name : Nasir\n",
      "        Course : A.I\n",
      "        Timing : 9 to 12\n",
      "    \n"
     ]
    }
   ],
   "source": [
    "data = [(1,'Ali','Nasir','A.I','9 to 12'),\n",
    "        (1,'Ali','Nasir','A.I','9 to 12'),\n",
    "        (1,'Ali','Nasir','A.I','9 to 12'),\n",
    "       ]\n",
    "for v in data:\n",
    "       id_card(*v)\n",
    "    "
   ]
  },
  {
   "cell_type": "markdown",
   "metadata": {},
   "source": [
    "# optional argument"
   ]
  },
  {
   "cell_type": "code",
   "execution_count": 32,
   "metadata": {},
   "outputs": [
    {
     "name": "stdout",
     "output_type": "stream",
     "text": [
      "5 6 8\n",
      "240\n"
     ]
    }
   ],
   "source": [
    "def abc(x, y = 6,z = 8):\n",
    "    print(x,y,z)\n",
    "    print(x * y * z)\n",
    "abc(5)"
   ]
  },
  {
   "cell_type": "code",
   "execution_count": 33,
   "metadata": {},
   "outputs": [
    {
     "name": "stdout",
     "output_type": "stream",
     "text": [
      "5 7 8\n",
      "280\n"
     ]
    }
   ],
   "source": [
    "abc(5,7)"
   ]
  },
  {
   "cell_type": "code",
   "execution_count": 35,
   "metadata": {},
   "outputs": [
    {
     "name": "stdout",
     "output_type": "stream",
     "text": [
      "5 9 6\n",
      "270\n"
     ]
    }
   ],
   "source": [
    "abc(5,9,6)"
   ]
  },
  {
   "cell_type": "raw",
   "metadata": {},
   "source": [
    "above all are non return function"
   ]
  },
  {
   "cell_type": "code",
   "execution_count": 38,
   "metadata": {},
   "outputs": [
    {
     "name": "stdout",
     "output_type": "stream",
     "text": [
      "pakistan\n",
      "None\n"
     ]
    }
   ],
   "source": [
    "abc = print('pakistan')\n",
    "print(abc)\n"
   ]
  },
  {
   "cell_type": "code",
   "execution_count": null,
   "metadata": {},
   "outputs": [],
   "source": []
  },
  {
   "cell_type": "markdown",
   "metadata": {},
   "source": [
    "# return function"
   ]
  },
  {
   "cell_type": "code",
   "execution_count": 39,
   "metadata": {},
   "outputs": [
    {
     "name": "stdout",
     "output_type": "stream",
     "text": [
      "\n",
      "        PIAIC ISLAMABAD\n",
      "        id   : 1\n",
      "        Student Name : Ali\n",
      "        Father's Name : Nasir\n",
      "        Course : A.I\n",
      "        Timing : 9 to 12\n",
      "    \n",
      "None\n"
     ]
    }
   ],
   "source": [
    "card = id_card(1,'Ali','Nasir','A.I','9 to 12')\n",
    "print(card) # return function"
   ]
  },
  {
   "cell_type": "code",
   "execution_count": 71,
   "metadata": {},
   "outputs": [
    {
     "name": "stdout",
     "output_type": "stream",
     "text": [
      "(\"\\n        PIAIC ISLAMABAD\\n        id   : 1\\n        Student Name : Ali\\n        Father's Name : Nasir\\n        Course : A.I\\n        Timing : 9 to 12\\n    \", 'qasim', 'Ali')\n"
     ]
    }
   ],
   "source": [
    "def id_card(sid,sname,fname,course,timing):\n",
    "    text = '''\n",
    "        PIAIC ISLAMABAD\n",
    "        id   : {}\n",
    "        Student Name : {}\n",
    "        Father's Name : {}\n",
    "        Course : {}\n",
    "        Timing : {}\n",
    "    '''.format(sid,sname,fname,course,timing)\n",
    "    return text, 'qasim', 'Ali'\n",
    "\n",
    "print(id_card(1,'Ali','Nasir','A.I','9 to 12'))\n",
    "#multi return\n"
   ]
  },
  {
   "cell_type": "code",
   "execution_count": 69,
   "metadata": {},
   "outputs": [
    {
     "name": "stdout",
     "output_type": "stream",
     "text": [
      "\n",
      "        PIAIC ISLAMABAD\n",
      "        id   : 1\n",
      "        Student Name : Ali\n",
      "        Father's Name : Nasir\n",
      "        Course : A.I\n",
      "        Timing : 9 to 12\n",
      "    \n"
     ]
    }
   ],
   "source": [
    "#single return\n",
    "def id_card(sid,sname,fname,course,timing):\n",
    "    text = '''\n",
    "        PIAIC ISLAMABAD\n",
    "        id   : {}\n",
    "        Student Name : {}\n",
    "        Father's Name : {}\n",
    "        Course : {}\n",
    "        Timing : {}\n",
    "    '''.format(sid,sname,fname,course,timing)\n",
    "    return text\n",
    "\n",
    "print(id_card(1,'Ali','Nasir','A.I','9 to 12'))\n"
   ]
  },
  {
   "cell_type": "code",
   "execution_count": 70,
   "metadata": {},
   "outputs": [
    {
     "name": "stdout",
     "output_type": "stream",
     "text": [
      "\n",
      "        PIAIC ISLAMABAD\n",
      "        id   : 1\n",
      "        Student Name : Ali\n",
      "        Father's Name : Nasir\n",
      "        Course : A.I\n",
      "        Timing : 9 to 12\n",
      "     qasim Ali\n"
     ]
    }
   ],
   "source": [
    "def id_card(sid,sname,fname,course,timing):\n",
    "    text = '''\n",
    "        PIAIC ISLAMABAD\n",
    "        id   : {}\n",
    "        Student Name : {}\n",
    "        Father's Name : {}\n",
    "        Course : {}\n",
    "        Timing : {}\n",
    "    '''.format(sid,sname,fname,course,timing)\n",
    "    return text, 'qasim', 'Ali'\n",
    "\n",
    "print(*id_card(1,'Ali','Nasir','A.I','9 to 12'))\n",
    "#multi return\n"
   ]
  },
  {
   "cell_type": "code",
   "execution_count": 74,
   "metadata": {},
   "outputs": [
    {
     "name": "stdout",
     "output_type": "stream",
     "text": [
      "240\n"
     ]
    },
    {
     "data": {
      "text/plain": [
       "<function __main__.abc(x=5, y=6, z=8)>"
      ]
     },
     "execution_count": 74,
     "metadata": {},
     "output_type": "execute_result"
    }
   ],
   "source": [
    "#task 1\n",
    "def abc(x= 5, y = 6,z = 8):\n",
    "   # print(x,y,z)\n",
    "    print(x * y * z)\n",
    "    return abc\n",
    "abc()"
   ]
  },
  {
   "cell_type": "markdown",
   "metadata": {},
   "source": [
    "# keyword argument"
   ]
  },
  {
   "cell_type": "code",
   "execution_count": 80,
   "metadata": {},
   "outputs": [
    {
     "ename": "SyntaxError",
     "evalue": "invalid syntax (<ipython-input-80-0f93d8cae840>, line 1)",
     "output_type": "error",
     "traceback": [
      "\u001b[1;36m  File \u001b[1;32m\"<ipython-input-80-0f93d8cae840>\"\u001b[1;36m, line \u001b[1;32m1\u001b[0m\n\u001b[1;33m    id_card(1,sname='Ali',fname='Nasir',course='A.I',timing='9 to 12'))\u001b[0m\n\u001b[1;37m                                                                      ^\u001b[0m\n\u001b[1;31mSyntaxError\u001b[0m\u001b[1;31m:\u001b[0m invalid syntax\n"
     ]
    }
   ],
   "source": [
    "id_card(1,sname='Ali',fname='Nasir',course='A.I',timing='9 to 12'))"
   ]
  },
  {
   "cell_type": "code",
   "execution_count": 84,
   "metadata": {},
   "outputs": [
    {
     "name": "stdout",
     "output_type": "stream",
     "text": [
      "\n",
      "        PIAIC ISLAMABAD\n",
      "        id   : 1\n",
      "        Student Name : Ali\n",
      "        Father's Name : Nasir\n",
      "        Course : A.I\n",
      "        Timing : 9 to 12\n",
      "     qasim Ali\n"
     ]
    }
   ],
   "source": [
    "print(*id_card(1,'Ali','Nasir','A.I','9 to 12'))"
   ]
  },
  {
   "cell_type": "markdown",
   "metadata": {},
   "source": [
    "# Argument with list\n"
   ]
  },
  {
   "cell_type": "code",
   "execution_count": 85,
   "metadata": {},
   "outputs": [
    {
     "name": "stdout",
     "output_type": "stream",
     "text": [
      "\n",
      "        PIAIC ISLAMABAD\n",
      "        id   : 1\n",
      "        Student Name : Ali\n",
      "        Father's Name : Nasir\n",
      "        Course : A.I\n",
      "        Timing : 9 to 12\n",
      "    \n",
      "\n",
      "        PIAIC ISLAMABAD\n",
      "        id   : 1\n",
      "        Student Name : Ali\n",
      "        Father's Name : Nasir\n",
      "        Course : A.I\n",
      "        Timing : 9 to 12\n",
      "    \n"
     ]
    }
   ],
   "source": [
    "def id_card(sid,sname,fname,course,timing):\n",
    "    text = '''\n",
    "        PIAIC ISLAMABAD\n",
    "        id   : {}\n",
    "        Student Name : {}\n",
    "        Father's Name : {}\n",
    "        Course : {}\n",
    "        Timing : {}\n",
    "    '''.format(sid,sname,fname,course,timing)\n",
    "    return text\n",
    "\n",
    "l1 = [1,'Ali','Nasir','A.I','9 to 12']\n",
    "\n",
    "\n",
    "\n",
    "print(id_card(*l1))\n",
    "print(id_card(l1))\n",
    "print(id_card(1,'Ali','Nasir','A.I','9 to 12'))"
   ]
  },
  {
   "cell_type": "code",
   "execution_count": 1,
   "metadata": {},
   "outputs": [
    {
     "ename": "SyntaxError",
     "evalue": "invalid syntax (<ipython-input-1-8db92803c9a7>, line 12)",
     "output_type": "error",
     "traceback": [
      "\u001b[1;36m  File \u001b[1;32m\"<ipython-input-1-8db92803c9a7>\"\u001b[1;36m, line \u001b[1;32m12\u001b[0m\n\u001b[1;33m    d1 = ['sid' = 1,'sname' = 'Ali','fname'='Nasir','course' 'A.I','9 to 12']\u001b[0m\n\u001b[1;37m                ^\u001b[0m\n\u001b[1;31mSyntaxError\u001b[0m\u001b[1;31m:\u001b[0m invalid syntax\n"
     ]
    }
   ],
   "source": [
    "def id_card(sid,sname,fname,course,timing):\n",
    "    text = '''\n",
    "        PIAIC ISLAMABAD\n",
    "        id   : {}\n",
    "        Student Name : {}\n",
    "        Father's Name : {}\n",
    "        Course : {}\n",
    "        Timing : {}\n",
    "    '''.format(sid,sname,fname,course,timing)\n",
    "    return text\n",
    "\n",
    "d1 = ['sid' = 1,'sname' = 'Ali','fname'='Nasir','course' 'A.I','9 to 12']\n",
    "\n",
    "\n",
    "\n",
    "print(id_card(*l1))\n",
    "print(id_card(l1))\n",
    "print(id_card(1,'Ali','Nasir','A.I','9 to 12'))"
   ]
  },
  {
   "cell_type": "markdown",
   "metadata": {},
   "source": [
    "# Recursive Function "
   ]
  },
  {
   "cell_type": "code",
   "execution_count": 35,
   "metadata": {},
   "outputs": [
    {
     "data": {
      "text/plain": [
       "3628800"
      ]
     },
     "execution_count": 35,
     "metadata": {},
     "output_type": "execute_result"
    }
   ],
   "source": [
    "def abc(n):\n",
    "    if n == 1:\n",
    "        return 1\n",
    "    return n * abc(n-1)\n",
    "#factorial calculation\n",
    "abc(10)"
   ]
  },
  {
   "cell_type": "code",
   "execution_count": 34,
   "metadata": {},
   "outputs": [
    {
     "data": {
      "text/plain": [
       "55"
      ]
     },
     "execution_count": 34,
     "metadata": {},
     "output_type": "execute_result"
    }
   ],
   "source": [
    "def abc(n):\n",
    "    if n == 1:\n",
    "        return 1\n",
    "    return n + abc(n-1)\n",
    "abc(10)"
   ]
  },
  {
   "cell_type": "code",
   "execution_count": 5,
   "metadata": {},
   "outputs": [
    {
     "data": {
      "text/plain": [
       "240"
      ]
     },
     "execution_count": 5,
     "metadata": {},
     "output_type": "execute_result"
    }
   ],
   "source": [
    "abc(5)"
   ]
  },
  {
   "cell_type": "markdown",
   "metadata": {},
   "source": [
    "# Generator Function \n",
    "purani exection yad rakhata hy\n",
    "sari ki sari memry allocation nai karta"
   ]
  },
  {
   "cell_type": "code",
   "execution_count": 12,
   "metadata": {},
   "outputs": [
    {
     "name": "stdout",
     "output_type": "stream",
     "text": [
      "<generator object abc at 0x000002327297C048>\n",
      "0\n",
      "1\n",
      "2\n",
      "3\n",
      "4\n",
      "5\n",
      "6\n",
      "[7, 8, 9, 10]\n"
     ]
    }
   ],
   "source": [
    "def abc():\n",
    "    for i in range(11):\n",
    "       # print(i)\n",
    "        yield i\n",
    "\n",
    "a = abc()\n",
    "print(a)\n",
    "print(next(a))\n",
    "print(next(a))\n",
    "print(next(a))\n",
    "print(next(a))\n",
    "print(next(a))\n",
    "print(next(a))\n",
    "print(next(a))\n",
    "\n",
    "print(list(a))\n",
    "\n",
    "# efficient memory allocation benfit"
   ]
  },
  {
   "cell_type": "markdown",
   "metadata": {},
   "source": [
    "# lambda Function"
   ]
  },
  {
   "cell_type": "code",
   "execution_count": 13,
   "metadata": {},
   "outputs": [
    {
     "data": {
      "text/plain": [
       "14"
      ]
     },
     "execution_count": 13,
     "metadata": {},
     "output_type": "execute_result"
    }
   ],
   "source": [
    "def abc(a,b):\n",
    "    return a+b\n",
    "abc(8,6)"
   ]
  },
  {
   "cell_type": "code",
   "execution_count": 27,
   "metadata": {},
   "outputs": [
    {
     "data": {
      "text/plain": [
       "14"
      ]
     },
     "execution_count": 27,
     "metadata": {},
     "output_type": "execute_result"
    }
   ],
   "source": [
    "abc = lambda a , b : a + b\n",
    "abc(8,6)"
   ]
  },
  {
   "cell_type": "code",
   "execution_count": null,
   "metadata": {},
   "outputs": [],
   "source": []
  }
 ],
 "metadata": {
  "kernelspec": {
   "display_name": "Python 3",
   "language": "python",
   "name": "python3"
  },
  "language_info": {
   "codemirror_mode": {
    "name": "ipython",
    "version": 3
   },
   "file_extension": ".py",
   "mimetype": "text/x-python",
   "name": "python",
   "nbconvert_exporter": "python",
   "pygments_lexer": "ipython3",
   "version": "3.7.3"
  }
 },
 "nbformat": 4,
 "nbformat_minor": 2
}
