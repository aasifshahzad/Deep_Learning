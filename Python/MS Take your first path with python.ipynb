{
 "cells": [
  {
   "cell_type": "code",
   "execution_count": 2,
   "metadata": {},
   "outputs": [
    {
     "name": "stdout",
     "output_type": "stream",
     "text": [
      "First Number:\n",
      "9\n",
      "Second Number:\n",
      "6\n",
      "15\n"
     ]
    }
   ],
   "source": [
    "print(\"First Number:\")\n",
    "first_number = input()\n",
    "print(\"Second Number:\")\n",
    "second_number = input()\n",
    "sum = int(first_number) + int(second_number)\n",
    "print(sum)"
   ]
  },
  {
   "cell_type": "raw",
   "metadata": {},
   "source": [
    "Today's date?\n",
    "December 7th, 2020\n",
    "Breakfast calories?\n",
    "250\n",
    "Lunch calories?\n",
    "300\n",
    "Dinner calories?\n",
    "500\n",
    "Snack calories?\n",
    "150\n",
    "Calorie content for December 7th, 2020: 1200"
   ]
  },
  {
   "cell_type": "code",
   "execution_count": 12,
   "metadata": {},
   "outputs": [
    {
     "name": "stdout",
     "output_type": "stream",
     "text": [
      "Enter today's Date: 1-4-25\n",
      "1-4-25\n",
      "Enter Breakfast Calories: 456\n",
      "456\n",
      "Enter Lunch Calories: 456\n",
      "456\n",
      "Enter Dinner Calories: 456\n",
      "456\n",
      "1368\n",
      "Calorie content for  1-4-25  is : 1368\n"
     ]
    }
   ],
   "source": [
    "date = input(\"Enter today's Date: \")\n",
    "print(date)\n",
    "cal1 = input(\"Enter Breakfast Calories: \")\n",
    "print(cal1)\n",
    "cal2 = input(\"Enter Lunch Calories: \")\n",
    "print(cal2)\n",
    "cal3 = input(\"Enter Dinner Calories: \")\n",
    "print(cal3)\n",
    "total_cal = int(cal1) + int(cal2) + int(cal3)\n",
    "print(total_cal)\n",
    "print(\"Calorie content for \" , date , \" is :\" , total_cal)"
   ]
  },
  {
   "cell_type": "code",
   "execution_count": 13,
   "metadata": {},
   "outputs": [
    {
     "name": "stdout",
     "output_type": "stream",
     "text": [
      "Today's date?\n",
      "1-4-20\n",
      "Breakfast calories?\n",
      "25\n",
      "Lunch calories?\n",
      "65\n",
      "Dinner calories?\n",
      "85\n",
      "Snack calories?\n",
      "65\n",
      "Calorie content for 1-4-20: 240\n"
     ]
    }
   ],
   "source": [
    "print(\"Today's date?\")\n",
    "date = input()\n",
    "print(\"Breakfast calories?\")\n",
    "breakfast = int(input())\n",
    "print(\"Lunch calories?\")\n",
    "lunch = int(input())\n",
    "print(\"Dinner calories?\")\n",
    "dinner = int(input())\n",
    "print(\"Snack calories?\")\n",
    "snack = int(input())\n",
    "total = breakfast + lunch + dinner + snack\n",
    "print(\"Calorie content for \" + date + \": \" + str(total))"
   ]
  },
  {
   "cell_type": "code",
   "execution_count": 15,
   "metadata": {},
   "outputs": [
    {
     "name": "stdout",
     "output_type": "stream",
     "text": [
      "Finished!\n"
     ]
    }
   ],
   "source": [
    "value = '6'\n",
    "\n",
    "if value == '7':\n",
    "    print('The value is 7')\n",
    "\n",
    "print('Finished!')"
   ]
  },
  {
   "cell_type": "code",
   "execution_count": 16,
   "metadata": {},
   "outputs": [
    {
     "name": "stdout",
     "output_type": "stream",
     "text": [
      "The value is between 1 and 10.\n",
      "At least one value is greater than 1\n",
      "False\n",
      "True\n",
      "Both values do NOT pass the test\n"
     ]
    }
   ],
   "source": [
    "first_number = 5\n",
    "second_number = 0\n",
    "true_value = True\n",
    "false_value = False\n",
    "\n",
    "if first_number > 1 and first_number < 10:\n",
    "    print('The value is between 1 and 10.')\n",
    "\n",
    "if first_number > 1 or second_number < 1:\n",
    "    print('At least one value is greater than 1')\n",
    "\n",
    "print(not true_value)\n",
    "print(not false_value)\n",
    "\n",
    "if not first_number > 1 and second_number < 10:\n",
    "    print('Both values pass the test')\n",
    "else:\n",
    "    print('Both values do NOT pass the test')"
   ]
  },
  {
   "cell_type": "code",
   "execution_count": 9,
   "metadata": {},
   "outputs": [
    {
     "name": "stdout",
     "output_type": "stream",
     "text": [
      "Would you like to continue? \n",
      "yes\n",
      "Continuing ...\n",
      "Complete!\n"
     ]
    }
   ],
   "source": [
    "print(\"Would you like to continue? \")\n",
    "reply = input()\n",
    "if reply == \"no\":\n",
    "    print(\"Exiting\")\n",
    "elif reply == \"yes\":\n",
    "    print(\"Continuing ...\")\n",
    "    print(\"Complete!\")\n",
    "else:\n",
    "    print(\"Try again by replying yes'' or 'no'. \")\n"
   ]
  },
  {
   "cell_type": "code",
   "execution_count": 1,
   "metadata": {},
   "outputs": [
    {
     "name": "stdout",
     "output_type": "stream",
     "text": [
      "True\n"
     ]
    }
   ],
   "source": [
    "first_string = 'A literal string'\n",
    "second_string = \"A literal string\"\n",
    "print(second_string == first_string)"
   ]
  },
  {
   "cell_type": "code",
   "execution_count": 2,
   "metadata": {},
   "outputs": [
    {
     "name": "stdout",
     "output_type": "stream",
     "text": [
      "A single quoted literal string with a \" double quote\n",
      "A double quoted literal string with a ' single quote\n"
     ]
    }
   ],
   "source": [
    "third_string = 'A single quoted literal string with a \" double quote'\n",
    "fourth_string = \"A double quoted literal string with a ' single quote\"\n",
    "print(third_string)\n",
    "print(fourth_string)"
   ]
  },
  {
   "cell_type": "code",
   "execution_count": 3,
   "metadata": {},
   "outputs": [
    {
     "name": "stdout",
     "output_type": "stream",
     "text": [
      "A single quoted literal string with an ' escaped single quote\n",
      "A double quoted literal string with a \" double quote\n",
      "A literal string with a \n",
      " new line character\n",
      "A literal string with a \t tab character\n"
     ]
    }
   ],
   "source": [
    "fifth_string = 'A single quoted literal string with an \\' escaped single quote'\n",
    "sixth_string = \"A double quoted literal string with a \\\" double quote\"\n",
    "seventh_string = 'A literal string with a \\n new line character'\n",
    "eighth_string = 'A literal string with a \\t tab character'\n",
    "\n",
    "print(fifth_string)\n",
    "print(sixth_string)\n",
    "print(seventh_string)\n",
    "print(eighth_string)"
   ]
  },
  {
   "cell_type": "code",
   "execution_count": 4,
   "metadata": {},
   "outputs": [
    {
     "name": "stdout",
     "output_type": "stream",
     "text": [
      "A literal string with a \\n new line character printed raw\n"
     ]
    }
   ],
   "source": [
    "nineth_string = r\"A literal string with a \\n new line character printed raw\"\n",
    "\n",
    "print(nineth_string)"
   ]
  },
  {
   "cell_type": "code",
   "execution_count": 5,
   "metadata": {},
   "outputs": [
    {
     "name": "stdout",
     "output_type": "stream",
     "text": [
      "A literal string\n",
      "on more than one line\n",
      "sometimes known as a verbatim string\n",
      "Another literal string\n",
      "     on more than one line\n",
      "using double quotes\n"
     ]
    }
   ],
   "source": [
    "tenth_string = '''A literal string\n",
    "on more than one line\n",
    "sometimes known as a verbatim string'''\n",
    "\n",
    "eleventh_string = \"\"\"Another literal string\n",
    "     on more than one line\n",
    "using double quotes\"\"\"\n",
    "\n",
    "print(tenth_string)\n",
    "print(eleventh_string)"
   ]
  },
  {
   "cell_type": "code",
   "execution_count": 6,
   "metadata": {},
   "outputs": [
    {
     "name": "stdout",
     "output_type": "stream",
     "text": [
      "Conrad Grant\n",
      "Conrad Grant Bob\n",
      "Conrad-Grant-Bob\n",
      "Conrad-Grant-Bob."
     ]
    }
   ],
   "source": [
    "first = 'Conrad'\n",
    "second = 'Grant'\n",
    "third = 'Bob'\n",
    "print(first, second)\n",
    "print(first, second, third)\n",
    "print(first, second, third, sep='-')\n",
    "print(first, second, third, sep='-', end='.')"
   ]
  },
  {
   "cell_type": "code",
   "execution_count": 7,
   "metadata": {},
   "outputs": [
    {
     "name": "stdout",
     "output_type": "stream",
     "text": [
      "Pull your socks up\n",
      "Pull your socks up\n",
      "Pull your socks up\n"
     ]
    }
   ],
   "source": [
    "message = str.capitalize('Pull your socks up')\n",
    "print(message)\n",
    "message = 'Pull your socks up'.capitalize()\n",
    "print(message)\n",
    "message = 'Pull your socks up'\n",
    "print(message.capitalize())"
   ]
  },
  {
   "cell_type": "code",
   "execution_count": 8,
   "metadata": {},
   "outputs": [
    {
     "name": "stdout",
     "output_type": "stream",
     "text": [
      "HELLO WORLD\n",
      "hello world\n",
      "Hello World\n",
      "hELLO wORLD\n",
      "2\n",
      "11\n"
     ]
    }
   ],
   "source": [
    "message = 'Hello World'\n",
    "print(message.upper())\n",
    "print(message.lower())\n",
    "print(message.title())\n",
    "print(message.swapcase())\n",
    "print(message.count('o'))\n",
    "print(len(message))"
   ]
  },
  {
   "cell_type": "code",
   "execution_count": 9,
   "metadata": {},
   "outputs": [
    {
     "name": "stdout",
     "output_type": "stream",
     "text": [
      "True\n",
      "False\n",
      "True\n",
      "True\n",
      "False\n",
      "True\n"
     ]
    }
   ],
   "source": [
    "message = 'racecar'\n",
    "print(message.startswith('r'))\n",
    "print(message.startswith('a'))\n",
    "print(message.startswith('ra'))\n",
    "\n",
    "print(message.endswith('r'))\n",
    "print(message.endswith('a'))\n",
    "print(message.endswith('ar'))"
   ]
  },
  {
   "cell_type": "code",
   "execution_count": 10,
   "metadata": {},
   "outputs": [
    {
     "name": "stdout",
     "output_type": "stream",
     "text": [
      "4\n",
      "31\n",
      "0\n"
     ]
    }
   ],
   "source": [
    "message = 'The quick brown fox jumps over the lazy dog'\n",
    "print(message.find('q'))\n",
    "\n",
    "print(message.find('t'))\n",
    "print(message.find('T'))"
   ]
  },
  {
   "cell_type": "code",
   "execution_count": 11,
   "metadata": {},
   "outputs": [
    {
     "name": "stdout",
     "output_type": "stream",
     "text": [
      ".middle     .\n",
      ".    middle.\n",
      ".middle.\n"
     ]
    }
   ],
   "source": [
    "message = '    middle     '\n",
    "print('.' + message.lstrip() + '.')\n",
    "print('.' + message.rstrip() + '.')\n",
    "print('.' + message.strip() + '.')"
   ]
  },
  {
   "cell_type": "code",
   "execution_count": 12,
   "metadata": {},
   "outputs": [
    {
     "name": "stdout",
     "output_type": "stream",
     "text": [
      "brevity is the soul of wit\n"
     ]
    }
   ],
   "source": [
    "message = 'brevity is the essence of wit'\n",
    "message = message.replace('essence', 'soul')\n",
    "print(message)"
   ]
  },
  {
   "cell_type": "code",
   "execution_count": 14,
   "metadata": {},
   "outputs": [
    {
     "name": "stdout",
     "output_type": "stream",
     "text": [
      "               howdy\n",
      "...............howdy\n",
      "howdy               \n",
      "howdy---------------\n"
     ]
    }
   ],
   "source": [
    "message = 'howdy'\n",
    "print(message.rjust(20))\n",
    "print(message.rjust(20, '.'))\n",
    "print(message.ljust(20))\n",
    "print(message.ljust(20, '-'))"
   ]
  },
  {
   "cell_type": "raw",
   "metadata": {},
   "source": [
    "Exercise - Use the `format()` function and format strings"
   ]
  },
  {
   "cell_type": "code",
   "execution_count": 15,
   "metadata": {},
   "outputs": [
    {
     "name": "stdout",
     "output_type": "stream",
     "text": [
      "Coughussin - Take 5 ML by mouth every 4.5 hours\n",
      "4.5 - Take 5 ML by mouth every Coughussin hours\n",
      "Sneezergen - Take 10 ML by mouth every 6 hours\n"
     ]
    }
   ],
   "source": [
    "medicine = 'Coughussin'\n",
    "dosage = 5\n",
    "duration = 4.5\n",
    "\n",
    "instructions = '{} - Take {} ML by mouth every {} hours'.format(medicine, dosage, duration)\n",
    "print(instructions)\n",
    "\n",
    "instructions = '{2} - Take {1} ML by mouth every {0} hours'.format(medicine, dosage, duration)\n",
    "print(instructions)\n",
    "\n",
    "instructions = '{medicine} - Take {dosage} ML by mouth every {duration} hours'.format(medicine = 'Sneezergen', dosage = 10, duration = 6)\n",
    "\n",
    "print(instructions)"
   ]
  },
  {
   "cell_type": "code",
   "execution_count": 17,
   "metadata": {},
   "outputs": [
    {
     "name": "stdout",
     "output_type": "stream",
     "text": [
      "Hello , World.\n"
     ]
    }
   ],
   "source": [
    "name = 'World'\n",
    "message = f'Hello , {name}.'\n",
    "print(message)"
   ]
  },
  {
   "cell_type": "code",
   "execution_count": 20,
   "metadata": {},
   "outputs": [
    {
     "name": "stdout",
     "output_type": "stream",
     "text": [
      "Count to 5.6 and Value to 4.9.\n"
     ]
    }
   ],
   "source": [
    "count = 5.6\n",
    "value = 4.9\n",
    "message = f'Count to {count} and Value to {value}.'\n",
    "print(message)\n"
   ]
  },
  {
   "cell_type": "code",
   "execution_count": 21,
   "metadata": {},
   "outputs": [
    {
     "name": "stdout",
     "output_type": "stream",
     "text": [
      "The perimeter of a Rectangle is 30 and the area is 50.\n"
     ]
    }
   ],
   "source": [
    "width = 5\n",
    "height = 10\n",
    "\n",
    "print(f'The perimeter of a Rectangle is {(2 * width) + (2 * height)} and the area is {width * height}.')"
   ]
  },
  {
   "cell_type": "code",
   "execution_count": 27,
   "metadata": {},
   "outputs": [
    {
     "name": "stdout",
     "output_type": "stream",
     "text": [
      ".hi---.\n",
      ".---hi.\n",
      ".-hi--.\n",
      ".-hi--.\n",
      ".hi      .\n",
      ".      hi.\n",
      ".   hi   .\n",
      ".   hi   .\n",
      ".low                      .\n",
      ".                      low.\n",
      ".           low           .\n",
      ".-----------low-----------.\n"
     ]
    }
   ],
   "source": [
    "value = 'hi'\n",
    "\n",
    "print(f'.{value:-<5}.')\n",
    "print(f'.{value:->5}.')\n",
    "print(f'.{value:-^5}.')\n",
    "print(f'.{value:-^5}.')\n",
    "\n",
    "print(f'.{value:<8}.')\n",
    "print(f'.{value:>8}.')\n",
    "print(f'.{value:^8}.')\n",
    "print(f'.{value:^8}.')\n",
    "\n",
    "value = 'low'\n",
    "\n",
    "print(f'.{value:<25}.')\n",
    "print(f'.{value:>25}.')\n",
    "print(f'.{value:^25}.')\n",
    "print(f'.{value:-^25}.')"
   ]
  },
  {
   "cell_type": "raw",
   "metadata": {},
   "source": [
    "Challenge - Manipulate and format strings"
   ]
  },
  {
   "cell_type": "code",
   "execution_count": 2,
   "metadata": {},
   "outputs": [
    {
     "name": "stdout",
     "output_type": "stream",
     "text": [
      ".  First Challenge         .\n",
      "-  second challenge  -\n",
      "-  second challenge  -\n",
      "tH IR D-C HALLE NGE\n"
     ]
    }
   ],
   "source": [
    "first_value = '  FIRST challenge         '\n",
    "second_value = '-  second challenge  -'\n",
    "third_value = 'tH IR D-C HALLE NGE'\n",
    "\n",
    "fourth_value = 'fourth'\n",
    "fifth_value = 'fifth'\n",
    "sixth_value = 'sixth'\n",
    "\n",
    "# First challenge\n",
    "print(f'.{first_value.title():20}.')\n",
    "\n",
    "# Second challenge\n",
    "\n",
    "print(second_value.strip())\n",
    "\n",
    "# Third challenge\n",
    "\n",
    "\n",
    "\n",
    "print(second_value.strip())\n",
    "print(third_value)\n",
    "\n",
    "# Fourth challenge - use only the print() function (no f-strings)\n",
    "\n",
    "\n",
    "# Fifth challenge - use only a single print() function.  Create tabs and new lines using f-strings."
   ]
  },
  {
   "cell_type": "code",
   "execution_count": 26,
   "metadata": {},
   "outputs": [
    {
     "name": "stdout",
     "output_type": "stream",
     "text": [
      "       First Challenge        \n",
      "Second challenge\n",
      "               Third challenge\n",
      "fourth#fifth#sixth!\n",
      "\tfourth\n",
      "\tfifth\n",
      "\tsixth\n"
     ]
    }
   ],
   "source": [
    "first_value = '  FIRST challenge         '\n",
    "second_value = '-  second challenge  -'\n",
    "third_value = 'tH IR D-C HALLE NGE'\n",
    "\n",
    "fourth_value = 'fourth'\n",
    "fifth_value = 'fifth'\n",
    "sixth_value = 'sixth'\n",
    "\n",
    "# First challenge\n",
    "first_value = first_value.strip()\n",
    "first_value = first_value.lower()\n",
    "first_value = first_value.title()\n",
    "first_value = f'{first_value:^30}'\n",
    "\n",
    "# Second challenge\n",
    "second_value = second_value.replace('-', '')\n",
    "second_value = second_value.strip()\n",
    "second_value = second_value.capitalize()\n",
    "\n",
    "# Third challenge\n",
    "third_value = third_value.replace(' ', '')\n",
    "third_value = third_value.replace('-', ' ')\n",
    "third_value = third_value.swapcase()\n",
    "third_value = f'{third_value:>30}'\n",
    "\n",
    "print(first_value)\n",
    "print(second_value)\n",
    "print(third_value)\n",
    "\n",
    "# Fourth challenge - use only the print() function (no f-strings)\n",
    "print(fourth_value, fifth_value, sixth_value, sep='#', end='!')\n",
    "\n",
    "# Fifth challenge - use only a single print() function.  Create tabs and new lines using f-strings.\n",
    "print(f'\\n\\t{fourth_value}\\n\\t{fifth_value}\\n\\t{sixth_value}')"
   ]
  },
  {
   "cell_type": "code",
   "execution_count": 14,
   "metadata": {},
   "outputs": [
    {
     "name": "stdout",
     "output_type": "stream",
     "text": [
      "Second challenge\n"
     ]
    }
   ],
   "source": [
    "second_value = '-  second challenge  -'\n",
    "second_value  = second_value.replace('-',' ')\n",
    "second_value  = second_value.strip()\n",
    "second_value  = second_value.capitalize()\n",
    "\n",
    "print(second_value)"
   ]
  },
  {
   "cell_type": "code",
   "execution_count": 18,
   "metadata": {},
   "outputs": [
    {
     "name": "stdout",
     "output_type": "stream",
     "text": [
      "       First Challenge        \n"
     ]
    }
   ],
   "source": [
    "first_value = '  FIRST challenge         '\n",
    "first_value = first_value.strip()\n",
    "first_value = first_value.lower()\n",
    "first_value = first_value.title()\n",
    "first_value = f'{first_value:^30}'\n",
    "print(first_value)\n",
    "\n"
   ]
  },
  {
   "cell_type": "code",
   "execution_count": 23,
   "metadata": {},
   "outputs": [
    {
     "name": "stdout",
     "output_type": "stream",
     "text": [
      "               Third challenge\n"
     ]
    }
   ],
   "source": [
    "# Third challenge\n",
    "third_value = 'tH IR D-C HALLE NGE'\n",
    "third_value = third_value.replace(' ','')\n",
    "third_value = third_value.replace('-',' ')\n",
    "third_value = third_value.swapcase()\n",
    "third_value = f'{third_value:>30}'\n",
    "\n",
    "\n",
    "\n",
    "print(third_value)"
   ]
  },
  {
   "cell_type": "code",
   "execution_count": 27,
   "metadata": {},
   "outputs": [
    {
     "name": "stdout",
     "output_type": "stream",
     "text": [
      "fourth#fifth#sixth!"
     ]
    }
   ],
   "source": [
    "print(fourth_value,fifth_value,sixth_value, sep='#',end='!')"
   ]
  },
  {
   "cell_type": "code",
   "execution_count": 32,
   "metadata": {},
   "outputs": [
    {
     "name": "stdout",
     "output_type": "stream",
     "text": [
      "\n",
      "\tfourth\n",
      "\tfifth\n",
      "\tsixth\n"
     ]
    }
   ],
   "source": [
    "print(f'\\n\\t{fourth_value}\\n\\t{fifth_value}\\n\\t{sixth_value}')"
   ]
  },
  {
   "cell_type": "code",
   "execution_count": 33,
   "metadata": {},
   "outputs": [
    {
     "name": "stdout",
     "output_type": "stream",
     "text": [
      "<class 'str'>\n",
      "<class 'int'>\n",
      "<class 'float'>\n"
     ]
    }
   ],
   "source": [
    "print(type('7'))\n",
    "print(type(7))\n",
    "print(type(7.1))"
   ]
  },
  {
   "cell_type": "code",
   "execution_count": 34,
   "metadata": {},
   "outputs": [
    {
     "name": "stdout",
     "output_type": "stream",
     "text": [
      "True\n",
      "True\n",
      "True\n",
      "False\n",
      "False\n",
      "False\n"
     ]
    }
   ],
   "source": [
    "# print(type('7'))\n",
    "# print(type(7))\n",
    "# print(type(7.1))\n",
    "\n",
    "print(isinstance('7', str))\n",
    "print(isinstance(7, int))\n",
    "print(isinstance(7.1, float))\n",
    "\n",
    "print(isinstance(7, str))\n",
    "print(isinstance('7', int))\n",
    "print(isinstance('7.1', float))"
   ]
  },
  {
   "cell_type": "code",
   "execution_count": 35,
   "metadata": {},
   "outputs": [
    {
     "name": "stdout",
     "output_type": "stream",
     "text": [
      "True\n",
      "True\n",
      "True\n",
      "False\n",
      "False\n",
      "False\n"
     ]
    }
   ],
   "source": [
    "print(type('7') == str)\n",
    "print(type(7) == int)\n",
    "print(type(7.1) == float)\n",
    "\n",
    "print(type(7) == str)\n",
    "print(type('7') == int)\n",
    "print(type('7.1') == float)"
   ]
  },
  {
   "cell_type": "code",
   "execution_count": 36,
   "metadata": {},
   "outputs": [
    {
     "name": "stdout",
     "output_type": "stream",
     "text": [
      "<class 'str'>\n",
      "<class 'int'>\n",
      "<class 'bool'>\n"
     ]
    }
   ],
   "source": [
    "x = 'a string'\n",
    "print(type(x))\n",
    "x = 7\n",
    "print(type(x))\n",
    "x = False \n",
    "print(type(x))"
   ]
  },
  {
   "cell_type": "code",
   "execution_count": 37,
   "metadata": {},
   "outputs": [
    {
     "name": "stdout",
     "output_type": "stream",
     "text": [
      "First Number: 56\n",
      "Second Number: 39\n",
      "The Sum is equal to : 95\n"
     ]
    }
   ],
   "source": [
    "first_value  = int(input(\"First Number: \"))\n",
    "second_value = int(input(\"Second Number: \"))\n",
    "Sum = first_value + second_value\n",
    "print(\"The Sum is equal to : \" + str(Sum))"
   ]
  },
  {
   "cell_type": "code",
   "execution_count": 38,
   "metadata": {},
   "outputs": [
    {
     "name": "stdout",
     "output_type": "stream",
     "text": [
      "True\n",
      "False\n"
     ]
    }
   ],
   "source": [
    "numeric_value = '7'\n",
    "print(numeric_value.isnumeric())\n",
    "\n",
    "string_value = 'Bob'\n",
    "print(string_value.isnumeric())"
   ]
  },
  {
   "cell_type": "raw",
   "metadata": {},
   "source": [
    "Python's str data type supports many similar helper functions. Some of the most useful ones (as you're getting started) include:\n",
    "\n",
    "TABLE 1\n",
    "Function\tPurpose\n",
    "isnumeric() Use this to make sure the string only contains numbers\n",
    "isalnum()\tUse this to make sure the string has no special symbols, like %, $, #, @, !\n",
    "isalpha()\tUse this to make sure the string only contains letters in the alphabet\n",
    "isdecimal()\tUse this to make sure the string only contains decimal values (numbers)\n",
    "istitle()\tUse this to make sure the string follows the rules of capitalization (like in a sentence)\n",
    "isupper()\tUse this to make sure the string only has uppercase letters\n",
    "islower()\tUse this to make sure the string only has lowercase letters"
   ]
  },
  {
   "cell_type": "code",
   "execution_count": 3,
   "metadata": {},
   "outputs": [
    {
     "name": "stdout",
     "output_type": "stream",
     "text": [
      "First Number: 85\n",
      "Second Number: 96\n",
      "Sum: 181\n"
     ]
    }
   ],
   "source": [
    "first_value = input('First Number: ')\n",
    "\n",
    "if first_value.isnumeric() == False:\n",
    "    print('Value is not a number.')\n",
    "    #exit()\n",
    "\n",
    "second_value = input('Second Number: ')\n",
    "\n",
    "if second_value.isnumeric() == False:\n",
    "    print('Value is not a number.')\n",
    "    #exit()\n",
    "\n",
    "first_value = int(first_value)\n",
    "second_value = int(second_value)\n",
    "\n",
    "sum = first_value + second_value\n",
    "print('Sum: ' + str(sum))"
   ]
  },
  {
   "cell_type": "code",
   "execution_count": 5,
   "metadata": {},
   "outputs": [
    {
     "name": "stdout",
     "output_type": "stream",
     "text": [
      "First Number: 56\n",
      "Second Number: 86\n",
      "Sum: 142\n"
     ]
    }
   ],
   "source": [
    "first_value = input('First Number: ')\n",
    "second_value = input('Second Number: ')\n",
    "\n",
    "if first_value.isnumeric() == False or second_value.isnumeric() == False:\n",
    "    print('Please enter numbers only.')\n",
    "    #exit()\n",
    "\n",
    "first_value = int(first_value)\n",
    "second_value = int(second_value)\n",
    "\n",
    "sum = first_value + second_value\n",
    "print('Sum: ' + str(sum))"
   ]
  },
  {
   "cell_type": "raw",
   "metadata": {},
   "source": [
    "https://docs.python.org/3/library/math.html"
   ]
  },
  {
   "cell_type": "code",
   "execution_count": 9,
   "metadata": {},
   "outputs": [
    {
     "name": "stdout",
     "output_type": "stream",
     "text": [
      "Sum: 9\n",
      "Difference: 1\n",
      "Product: 20\n",
      "Quotient: 1.25\n",
      "Modulus: 1\n",
      "Exponent: 625\n"
     ]
    }
   ],
   "source": [
    "first_value = 5\n",
    "second_value = 4\n",
    "\n",
    "sum = first_value + second_value\n",
    "difference = first_value - second_value\n",
    "product = first_value * second_value\n",
    "quotient = first_value / second_value\n",
    "modulus = first_value % second_value\n",
    "exponent = first_value ** second_value \n",
    "\n",
    "print('Sum: ' + str(sum))\n",
    "print('Difference: ' + str(difference))\n",
    "print('Product: ' + str(product))\n",
    "print('Quotient: ' + str(quotient))\n",
    "print('Modulus: ' + str(modulus))\n",
    "print('Exponent: ' + str(exponent))"
   ]
  },
  {
   "cell_type": "raw",
   "metadata": {},
   "source": [
    "Python follows the PEMDAS acronym for the order of operations, which should be performed.\n",
    "\n",
    "Parenthesis - resolve operations between parenthesis first\n",
    "Exponents - resolve exponents\n",
    "Multiplication - next, multiplication, order of left to right\n",
    "Division - then division, order of left to right\n",
    "Addition - then addition, order of left to right\n",
    "Subtraction - then subtraction, order of left to right"
   ]
  },
  {
   "cell_type": "code",
   "execution_count": 10,
   "metadata": {},
   "outputs": [
    {
     "name": "stdout",
     "output_type": "stream",
     "text": [
      "23\n",
      "35\n"
     ]
    }
   ],
   "source": [
    "print(3 + 4 * 5)\n",
    "print((3 + 4) * 5)"
   ]
  },
  {
   "cell_type": "code",
   "execution_count": 11,
   "metadata": {},
   "outputs": [
    {
     "name": "stdout",
     "output_type": "stream",
     "text": [
      "<class 'float'>\n",
      "1.25\n"
     ]
    }
   ],
   "source": [
    "first_value = 5\n",
    "second_value = 4\n",
    "\n",
    "quotient = first_value / second_value\n",
    "\n",
    "print(type(quotient))\n",
    "print(quotient)"
   ]
  },
  {
   "cell_type": "code",
   "execution_count": 12,
   "metadata": {},
   "outputs": [
    {
     "name": "stdout",
     "output_type": "stream",
     "text": [
      "<class 'float'>\n",
      "3\n",
      "<class 'float'>\n",
      "99\n"
     ]
    }
   ],
   "source": [
    "pi = 3.14\n",
    "print(type(pi))\n",
    "print(int(pi))\n",
    "\n",
    "uptime = 99.99\n",
    "print(type(uptime))\n",
    "print(int(uptime))"
   ]
  },
  {
   "cell_type": "code",
   "execution_count": 13,
   "metadata": {},
   "outputs": [
    {
     "name": "stdout",
     "output_type": "stream",
     "text": [
      "<class 'float'>\n",
      "3\n",
      "3\n",
      "<class 'float'>\n",
      "99\n",
      "100\n"
     ]
    }
   ],
   "source": [
    "pi = 3.14\n",
    "print(type(pi))\n",
    "print(int(pi))\n",
    "print(round(pi))\n",
    "\n",
    "uptime = 99.99\n",
    "print(type(uptime))\n",
    "print(int(uptime))\n",
    "print(round(uptime))"
   ]
  },
  {
   "cell_type": "code",
   "execution_count": 14,
   "metadata": {},
   "outputs": [
    {
     "name": "stdout",
     "output_type": "stream",
     "text": [
      "7.65\n",
      "9.877\n"
     ]
    }
   ],
   "source": [
    "first_value = round(7.654321, 2)\n",
    "print(first_value)\n",
    "\n",
    "second_value = round(9.87654, 3)\n",
    "print(second_value)"
   ]
  },
  {
   "cell_type": "code",
   "execution_count": 32,
   "metadata": {},
   "outputs": [
    {
     "name": "stdout",
     "output_type": "stream",
     "text": [
      "What is the temperature in Fahrenheit?  56\n",
      "Temperature in celsius is 13\n"
     ]
    }
   ],
   "source": [
    "fahrenheit = input(\"What is the temperature in Fahrenheit?  \")\n",
    "\n",
    "if fahrenheit.isnumeric() == False:\n",
    "    print(\"Enter number only\")\n",
    "    \n",
    "fahrenheit = int(fahrenheit)\n",
    "\n",
    "celsius = int((fahrenheit - 32) * 5/9)\n",
    "print(\"Temperature in celsius is \"+ str(celsius))"
   ]
  },
  {
   "cell_type": "code",
   "execution_count": null,
   "metadata": {},
   "outputs": [],
   "source": [
    "#ORIGINAL\n",
    "fahrenheit = input('What is the temperature in Fahrenheit?  ')\n",
    "\n",
    "if fahrenheit.isnumeric() == False:\n",
    "    print('Input is not a number.')\n",
    "    #exit()\n",
    "\n",
    "fahrenheit = int(fahrenheit)\n",
    "\n",
    "celsius = int((fahrenheit - 32) * 5/9)\n",
    "print('Temperature in celsius is ' + str(celsius))"
   ]
  },
  {
   "cell_type": "raw",
   "metadata": {},
   "source": [
    "Simple calculator!\n",
    "First number? 4\n",
    "Operation? *\n",
    "Second number? 5\n",
    "product of 4 * 5 equals 20\n",
    "\n",
    "Your program should accept a symbol, like the * to perform a multiplication, and produce a product. Make sure you implement logic for the following results:\n",
    "\n",
    "sum\n",
    "difference\n",
    "product\n",
    "quotient\n",
    "exponent\n",
    "modulus\n",
    "\n",
    "If the user fails to enter a numeric value, display the message:\n",
    "Please input a number.\n",
    "\n",
    "if the operation entered by the end user is not recognized, you should display the message:\n",
    "Operation not recognized."
   ]
  },
  {
   "cell_type": "code",
   "execution_count": 2,
   "metadata": {},
   "outputs": [
    {
     "name": "stdout",
     "output_type": "stream",
     "text": [
      "Simple calculator!\n",
      "First number? 9\n",
      "Operation? %\n",
      "Second number? 2\n",
      "Modulus  of  9   %   2  equals  1\n"
     ]
    }
   ],
   "source": [
    "print(\"Simple calculator!\")\n",
    "\n",
    "first_value = input('First number? ')\n",
    "if first_value.isnumeric() == False:\n",
    "    print('Please input a number.')\n",
    "    \n",
    "    \n",
    "operation   = input('Operation? ')\n",
    "\n",
    "\n",
    "sec_value   = input('Second number? ')\n",
    "if sec_value.isnumeric() == False:\n",
    "    print('Please input a number.')\n",
    "    \n",
    "first_value = int(first_value)\n",
    "sec_value   = int(sec_value)\n",
    "\n",
    "result = 0\n",
    "\n",
    "if operation == '+':\n",
    "    result = first_value + sec_value\n",
    "    label = 'Sum'\n",
    "elif operation == '-':\n",
    "    result = first_value - sec_value\n",
    "    label = 'Difference'\n",
    "elif operation == '/':\n",
    "    result = first_value / sec_value\n",
    "    label = 'Quotient'\n",
    "elif operation == '*':\n",
    "    result = first_value * sec_value\n",
    "    label = 'Product'\n",
    "elif operation == '%':\n",
    "    result = first_value % sec_value\n",
    "    label = 'Modulus'\n",
    "elif operation == '^':\n",
    "    result = first_value ^ sec_value\n",
    "    label = 'Exponent'\n",
    "else:\n",
    "    print('Operation not recognized.')\n",
    "    \n",
    "    \n",
    "    \n",
    "print(label,\" of \" ,first_value,\" \",operation ,\" \",sec_value , \" equals \", result)\n",
    "print(label + ' of ' + str(first_number) + ' ' + operation + ' ' + str(second_number) + ' equals ' + str(result))"
   ]
  },
  {
   "cell_type": "code",
   "execution_count": 5,
   "metadata": {},
   "outputs": [
    {
     "data": {
      "text/plain": [
       "False"
      ]
     },
     "execution_count": 5,
     "metadata": {},
     "output_type": "execute_result"
    }
   ],
   "source": [
    "x = 'adfd'\n",
    "x.isnumeric()"
   ]
  },
  {
   "cell_type": "raw",
   "metadata": {},
   "source": [
    "the standard library spans a wide spectrum of functionality. These include:\n",
    "\n",
    "Date and time modules\n",
    "Numeric and mathematical modules\n",
    "File system modules\n",
    "Operating system modules\n",
    "Modules for reading and writing specific data formats like HTML, XML, and JSON\n",
    "Modules for working with Internet protocols like HTTP, SMTP, FTP, and so on\n",
    "Modules for working with multimedia data like sound and video\n",
    "Modules for working with localized information, like presenting currency and dates\n",
    "And many more\n",
    "For a complete listing of modules in the Python standard library, see the following link.\n",
    "\n",
    "https://docs.python.org/3/library/ "
   ]
  },
  {
   "cell_type": "raw",
   "metadata": {},
   "source": [
    "Use an include statement to utilize a standard library module"
   ]
  },
  {
   "cell_type": "code",
   "execution_count": 8,
   "metadata": {},
   "outputs": [
    {
     "name": "stdout",
     "output_type": "stream",
     "text": [
      "You rolled 7.\n"
     ]
    }
   ],
   "source": [
    "import random\n",
    "roll = random.randint(1,10)\n",
    "print(f'You rolled {roll}.')"
   ]
  },
  {
   "cell_type": "code",
   "execution_count": 14,
   "metadata": {},
   "outputs": [
    {
     "name": "stdout",
     "output_type": "stream",
     "text": [
      "You rolled 8\n"
     ]
    }
   ],
   "source": [
    "import random as alias\n",
    "roll = alias.randint(1, 10)\n",
    "print(f'You rolled {roll}')"
   ]
  },
  {
   "cell_type": "code",
   "execution_count": 19,
   "metadata": {},
   "outputs": [
    {
     "name": "stdout",
     "output_type": "stream",
     "text": [
      "You rolled 3\n"
     ]
    }
   ],
   "source": [
    "import random as dice\n",
    "roll = dice.randint(1, 10)\n",
    "print(f'You rolled {roll}')"
   ]
  },
  {
   "cell_type": "raw",
   "metadata": {},
   "source": [
    "A Python package is a means of organizing, collecting, and distributing code so that it can be used by other developers. Packages provide a hierarchical folder and file system means of organizing your code, and allow dependencies to be distributed along with your code as well.\n",
    "\n",
    "Creating packages is beyond the scope of this module, but you should at least know what it is and how pip installs both the package you need and the dependencies it relies on.\n",
    "A dependency is any separate package that your code needs to function properly."
   ]
  },
  {
   "cell_type": "code",
   "execution_count": 20,
   "metadata": {},
   "outputs": [
    {
     "name": "stdout",
     "output_type": "stream",
     "text": [
      "Collecting emoji\n",
      "  Downloading emoji-0.5.4.tar.gz (43 kB)\n",
      "Building wheels for collected packages: emoji\n",
      "  Building wheel for emoji (setup.py): started\n",
      "  Building wheel for emoji (setup.py): finished with status 'done'\n",
      "  Created wheel for emoji: filename=emoji-0.5.4-py3-none-any.whl size=42180 sha256=ceed58e336d0d19e987437310d4b85c628bdfc556fba13f3304297a6aa4217a5\n",
      "  Stored in directory: c:\\users\\asif\\appdata\\local\\pip\\cache\\wheels\\f6\\65\\82\\d742fe456cd8aa21ffe6c4c1eaeedf3c2d430689811bf328e1\n",
      "Successfully built emoji\n",
      "Installing collected packages: emoji\n",
      "Successfully installed emoji-0.5.4\n",
      "Note: you may need to restart the kernel to use updated packages.\n"
     ]
    }
   ],
   "source": [
    "pip install emoji\n",
    "'''On Linux and macOS\n",
    "sudo pip install emoji"
   ]
  },
  {
   "cell_type": "code",
   "execution_count": 1,
   "metadata": {},
   "outputs": [
    {
     "ename": "SyntaxError",
     "evalue": "invalid syntax (<ipython-input-1-f8a03dd9a04c>, line 2)",
     "output_type": "error",
     "traceback": [
      "\u001b[1;36m  File \u001b[1;32m\"<ipython-input-1-f8a03dd9a04c>\"\u001b[1;36m, line \u001b[1;32m2\u001b[0m\n\u001b[1;33m    py -m pip install emoji\u001b[0m\n\u001b[1;37m            ^\u001b[0m\n\u001b[1;31mSyntaxError\u001b[0m\u001b[1;31m:\u001b[0m invalid syntax\n"
     ]
    }
   ],
   "source": [
    "#For Windows\n",
    "py -m pip install emoji"
   ]
  },
  {
   "cell_type": "code",
   "execution_count": 2,
   "metadata": {},
   "outputs": [
    {
     "name": "stdout",
     "output_type": "stream",
     "text": [
      "Howdy 🌞\n"
     ]
    }
   ],
   "source": [
    "import emoji\n",
    "message = emoji.emojize('Howdy :sun_with_face:')\n",
    "print(message)"
   ]
  },
  {
   "cell_type": "raw",
   "metadata": {},
   "source": [
    "Use the pip install <packagename> command to install a package locally along with all of its dependencies."
   ]
  },
  {
   "cell_type": "raw",
   "metadata": {},
   "source": [
    "he while statement"
   ]
  },
  {
   "cell_type": "code",
   "execution_count": 11,
   "metadata": {},
   "outputs": [
    {
     "name": "stdout",
     "output_type": "stream",
     "text": [
      "3\n",
      "1\n",
      "9\n",
      "5\n",
      "9\n",
      "1\n",
      "8\n",
      "1\n",
      "8\n",
      "1\n",
      "2\n",
      "8\n",
      "9\n",
      "8\n",
      "9\n",
      "6\n",
      "5\n",
      "5\n",
      "5\n",
      "1\n",
      "2\n",
      "10\n",
      "It took 22 rolls to roll a 10!\n"
     ]
    }
   ],
   "source": [
    "import random\n",
    "\n",
    "roll = 0\n",
    "count = 0\n",
    "\n",
    "while roll != 10:\n",
    "    count = count + 1\n",
    "    roll = random.randint(1, 10)\n",
    "    print(roll)\n",
    "\n",
    "print(f'It took {count} rolls to roll a 10!')\n",
    "    "
   ]
  },
  {
   "cell_type": "code",
   "execution_count": 18,
   "metadata": {},
   "outputs": [
    {
     "name": "stdout",
     "output_type": "stream",
     "text": [
      "First person to roll a 5 wins!\n",
      "Enter a name, or 'q' to quit:  gg\n",
      "gg rolled 2\n",
      "Enter a name, or 'q' to quit:  q\n",
      "You rolled the dice 1 times.\n"
     ]
    }
   ],
   "source": [
    "import random \n",
    "\n",
    "roll = 0\n",
    "count = 0\n",
    "\n",
    "print('First person to roll a 5 wins!')\n",
    "while roll != 5:\n",
    "    name = input('Enter a name, or \\'q\\' to quit:  ' )\n",
    "    if name == 'q':\n",
    "        break\n",
    "  \n",
    "    count = count + 1\n",
    "    roll = random.randint(1, 5)\n",
    "    print(f'{name} rolled {roll}')\n",
    "else:#Both break and else are optional statements in the while looping structure\n",
    "        print(f'{name} Wins!!!')\n",
    "\n",
    "print(f'You rolled the dice {count} times.')"
   ]
  },
  {
   "cell_type": "code",
   "execution_count": 20,
   "metadata": {},
   "outputs": [
    {
     "name": "stdout",
     "output_type": "stream",
     "text": [
      "First person to roll a 5 wins!\n",
      "Enter a name, or 'q' to quit:  5\n",
      "5 rolled 1\n",
      "Enter a name, or 'q' to quit:  8\n",
      "8 rolled 4\n",
      "Enter a name, or 'q' to quit:   \n",
      "Enter a name, or 'q' to quit:  q\n",
      "You rolled the dice 2 times.\n"
     ]
    }
   ],
   "source": [
    "import random \n",
    "\n",
    "roll = 0\n",
    "count = 0\n",
    "\n",
    "print('First person to roll a 5 wins!')\n",
    "while roll != 5:\n",
    "    name = input('Enter a name, or \\'q\\' to quit:  ' )\n",
    "\n",
    "    if name.strip() == '':\n",
    "        continue\n",
    "\n",
    "    if name.strip() == 'q':\n",
    "        break\n",
    "  \n",
    "    count = count + 1\n",
    "    roll = random.randint(1, 5)\n",
    "    print(f'{name} rolled {roll}')\n",
    "else:\n",
    "    print(f'{name} Wins!!!')\n",
    "\n",
    "print(f'You rolled the dice {count} times.')"
   ]
  },
  {
   "cell_type": "raw",
   "metadata": {},
   "source": [
    "Recap\n",
    "The while statement allows you to create a looping structure that continues to loop through a code block until a Boolean expression evaluates to False.\n",
    "Add the break statement to exit out of a code block prematurely before the Boolean expression evaluates to False.\n",
    "Add the else statement to provide a second code block that runs after the while statement's Boolean expression evaluates to False.\n",
    "Add the continue statement to skip over the remainder of the code block and set the execution path back to the Boolean expression."
   ]
  },
  {
   "cell_type": "code",
   "execution_count": 21,
   "metadata": {},
   "outputs": [
    {
     "name": "stdout",
     "output_type": "stream",
     "text": [
      "1\n",
      "2\n",
      "3\n",
      "4\n",
      "5\n"
     ]
    }
   ],
   "source": [
    "count = 0\n",
    "while count != 5:\n",
    "    count += 1\n",
    "    print(count)"
   ]
  },
  {
   "cell_type": "code",
   "execution_count": 27,
   "metadata": {},
   "outputs": [
    {
     "name": "stdout",
     "output_type": "stream",
     "text": [
      "3  *  1  =  3\n",
      "3  *  2  =  6\n",
      "3  *  3  =  9\n",
      "3  *  4  =  12\n",
      "3  *  5  =  15\n",
      "3  *  6  =  18\n",
      "3  *  7  =  21\n",
      "3  *  8  =  24\n",
      "3  *  9  =  27\n",
      "3  *  10  =  30\n"
     ]
    }
   ],
   "source": [
    "count = 0\n",
    "num = 0\n",
    "while count <= 27:\n",
    "    count += 3\n",
    "    num += 1\n",
    "    print('3  * ',num, ' = ',count)"
   ]
  },
  {
   "cell_type": "raw",
   "metadata": {},
   "source": [
    "Operator\tPurpose\n",
    "=\tAssign\n",
    "+=\tAdd then assign\n",
    "-=\tSubtract then assign\n",
    "*=\tMultiply then assign\n",
    "/=\tDivide then assign\n",
    "%=\tGet the modulus then assign\n",
    "**=\tPerform exponent then assign\n",
    "//=\tPerform floor division then assign"
   ]
  },
  {
   "cell_type": "code",
   "execution_count": 2,
   "metadata": {},
   "outputs": [
    {
     "name": "stdout",
     "output_type": "stream",
     "text": [
      "3\n",
      "3\n",
      "Guess a number between 1 and 5: 3\n",
      "You guessed it in 1 tries!\n",
      "You guessed it in 1 tries!\n"
     ]
    }
   ],
   "source": [
    "import random\n",
    "\n",
    "value = random.randint(1, 5)\n",
    "print(value)\n",
    "count = 0\n",
    "guess = 0\n",
    "while guess != value:\n",
    "    count += 1\n",
    "    guess = input('Guess a number between 1 and 5: ')\n",
    "    if guess.isnumeric():\n",
    "        guess = int(guess)\n",
    "else:\n",
    "    print(f'You guessed it in {count} tries!')"
   ]
  },
  {
   "cell_type": "code",
   "execution_count": 3,
   "metadata": {},
   "outputs": [
    {
     "name": "stdout",
     "output_type": "stream",
     "text": [
      "Guess the number between 1 and 5  : 5\n",
      "Guess the number between 1 and 5  : 3\n",
      "you guessed in 2 tries.\n",
      "you guessed in 2 tries.\n"
     ]
    }
   ],
   "source": [
    "import random\n",
    "\n",
    "value = random.randint(1, 5)\n",
    "count = 0\n",
    "guess = 0\n",
    "while guess != value:\n",
    "    count += 1\n",
    "    guess = input(\"Guess the number between 1 and 5  : \")\n",
    "    if guess.isnumeric():\n",
    "        guess = int(guess)\n",
    "else:\n",
    "    print(f'you guessed in {count} tries.')"
   ]
  },
  {
   "cell_type": "code",
   "execution_count": 1,
   "metadata": {},
   "outputs": [
    {
     "name": "stdout",
     "output_type": "stream",
     "text": [
      "Guess the number between 1 and 5  : 4\n",
      "Your gurdd is too low\n",
      "Guess the number between 1 and 5  : 6\n",
      "Your gurdd is too low\n",
      "Guess the number between 1 and 5  : 9\n",
      "your guess is too high\n",
      "Guess the number between 1 and 5  : 8\n",
      "you guessed in 4 tries.\n"
     ]
    }
   ],
   "source": [
    "import random\n",
    "\n",
    "value = random.randint(1, 10)\n",
    "count = 0\n",
    "guess = 0\n",
    "while guess != value:\n",
    "    count += 1\n",
    "    guess = input(\"Guess the number between 1 and 10  : \")\n",
    "    if guess.isnumeric():\n",
    "        guess = int(guess)\n",
    "    else:\n",
    "        print(\"Plese enter the number only\")\n",
    "        \n",
    "    if guess < value:\n",
    "        print(\"Your gurdd is too low\")\n",
    "    elif guess > value:\n",
    "        print(\"your guess is too high\")\n",
    "    \n",
    "else:\n",
    "    print(f'you guessed in {count} tries.')"
   ]
  },
  {
   "cell_type": "raw",
   "metadata": {},
   "source": [
    "lists:"
   ]
  },
  {
   "cell_type": "code",
   "execution_count": 2,
   "metadata": {},
   "outputs": [
    {
     "name": "stdout",
     "output_type": "stream",
     "text": [
      "['red', 'green', 'blue', 'yellow', 'orange', 'purple', 'brown']\n",
      "<class 'list'>\n"
     ]
    }
   ],
   "source": [
    "colors = ['red', 'green', 'blue', 'yellow', 'orange', 'purple', 'brown']\n",
    "\n",
    "print(colors)\n",
    "print(type(colors))"
   ]
  },
  {
   "cell_type": "code",
   "execution_count": 3,
   "metadata": {},
   "outputs": [
    {
     "name": "stdout",
     "output_type": "stream",
     "text": [
      "['John', 3.14, 7, False]\n",
      "<class 'list'>\n"
     ]
    }
   ],
   "source": [
    "sundry = ['John', 3.14, 7, False]\n",
    "print(sundry)\n",
    "print(type(sundry))"
   ]
  },
  {
   "cell_type": "code",
   "execution_count": 4,
   "metadata": {},
   "outputs": [],
   "source": [
    "my_list = []"
   ]
  },
  {
   "cell_type": "code",
   "execution_count": 5,
   "metadata": {},
   "outputs": [
    {
     "name": "stdout",
     "output_type": "stream",
     "text": [
      "0-based indexing into the list ... second item: green\n",
      "Last item of the list: brown\n",
      "Next to last item in the list: purple\n"
     ]
    }
   ],
   "source": [
    "colors = ['red', 'green', 'blue', 'yellow', 'orange', 'purple', 'brown']\n",
    "\n",
    "# print(colors)\n",
    "# print(type(colors))\n",
    "\n",
    "print(f'0-based indexing into the list ... second item: {colors[1]}')\n",
    "\n",
    "print(f'Last item of the list: {colors[-1]}')\n",
    "\n",
    "print(f'Next to last item in the list: {colors[-2]}')"
   ]
  },
  {
   "cell_type": "code",
   "execution_count": 6,
   "metadata": {},
   "outputs": [
    {
     "name": "stdout",
     "output_type": "stream",
     "text": [
      "\n",
      "Print a SLICE, starting at index 2 and excluding index 5:\n",
      "['blue', 'yellow', 'orange']\n",
      "<class 'list'>\n",
      "\n",
      "Print a slice, starting at index 0 to index 3:\n",
      "['red', 'green', 'blue']\n",
      "\n",
      "Print a slice, starting a index 4 to the end of the list:\n",
      "['orange', 'purple', 'brown']\n",
      "\n",
      "Print a slice, from the 4th from the end up until the last item:\n",
      "['yellow', 'orange', 'purple']\n"
     ]
    }
   ],
   "source": [
    "colors = ['red', 'green', 'blue', 'yellow', 'orange', 'purple', 'brown']\n",
    "\n",
    "# print(f'0-based indexing into the list ... second item: {colors[1]}')\n",
    "\n",
    "# print(f'Last item of the list: {colors[-1]}')\n",
    "\n",
    "# print(f'Next to last item in the list: {colors[-2]}')\n",
    "\n",
    "print('\\nPrint a SLICE, starting at index 2 and excluding index 5:')\n",
    "print(colors[2:5])\n",
    "print(type(colors[2:5]))\n",
    "\n",
    "print('\\nPrint a slice, starting at index 0 to index 3:')\n",
    "print(colors[:3])\n",
    "\n",
    "print('\\nPrint a slice, starting a index 4 to the end of the list:')\n",
    "print(colors[4:])\n",
    "\n",
    "print('\\nPrint a slice, from the 4th from the end up until the last item:')\n",
    "print(colors[-4:-1])"
   ]
  },
  {
   "cell_type": "code",
   "execution_count": 8,
   "metadata": {},
   "outputs": [
    {
     "name": "stdout",
     "output_type": "stream",
     "text": [
      "['blue', 'brown', 'green', 'orange', 'purple', 'red', 'yellow']\n"
     ]
    }
   ],
   "source": [
    "colors.sort()\n",
    "print(colors)\n"
   ]
  },
  {
   "cell_type": "code",
   "execution_count": 12,
   "metadata": {},
   "outputs": [
    {
     "name": "stdout",
     "output_type": "stream",
     "text": [
      "['blue', 'brown', 'green', 'orange', 'purple', 'red', 'yellow']\n"
     ]
    }
   ],
   "source": [
    "colors.reverse()\n",
    "print(colors)"
   ]
  },
  {
   "cell_type": "code",
   "execution_count": 13,
   "metadata": {},
   "outputs": [
    {
     "name": "stdout",
     "output_type": "stream",
     "text": [
      "['blue', 'brown', 'green', 'orange', 'purple', 'red', 'yellow']\n",
      "popped blue\n",
      "['brown', 'green', 'orange', 'purple', 'red', 'yellow']\n"
     ]
    }
   ],
   "source": [
    "print(colors)\n",
    "\n",
    "color = colors.pop(0)\n",
    "print('popped', color)\n",
    "\n",
    "print(colors)"
   ]
  },
  {
   "cell_type": "code",
   "execution_count": 14,
   "metadata": {},
   "outputs": [
    {
     "name": "stdout",
     "output_type": "stream",
     "text": [
      "['brown', 'green', 'orange', 'purple', 'red', 'yellow']\n",
      "['brown', 'green', 'purple', 'red', 'black', 'white']\n"
     ]
    }
   ],
   "source": [
    "print(colors)\n",
    "\n",
    "colors.append('black')\n",
    "colors.append('white')\n",
    "\n",
    "colors.remove('yellow')\n",
    "colors.remove('orange')\n",
    "\n",
    "print(colors)"
   ]
  },
  {
   "cell_type": "code",
   "execution_count": 15,
   "metadata": {},
   "outputs": [
    {
     "name": "stdout",
     "output_type": "stream",
     "text": [
      "['brown', 'green', 'purple', 'red', 'black', 'white', 'lime', 'gray']\n"
     ]
    }
   ],
   "source": [
    "new_colors = ['lime', 'gray']\n",
    "colors.extend(new_colors)\n",
    "print(colors)"
   ]
  },
  {
   "cell_type": "code",
   "execution_count": 16,
   "metadata": {},
   "outputs": [
    {
     "name": "stdout",
     "output_type": "stream",
     "text": [
      "[]\n"
     ]
    }
   ],
   "source": [
    "colors.clear()\n",
    "print(colors)"
   ]
  },
  {
   "cell_type": "code",
   "execution_count": 17,
   "metadata": {},
   "outputs": [
    {
     "name": "stdout",
     "output_type": "stream",
     "text": [
      "True\n",
      "False\n",
      "False\n",
      "True\n"
     ]
    }
   ],
   "source": [
    "numbers = [1, 3, 5]\n",
    "\n",
    "print(5 in numbers)\n",
    "print(8 in numbers)\n",
    "\n",
    "print(5 not in numbers)\n",
    "print(8 not in numbers)"
   ]
  },
  {
   "cell_type": "code",
   "execution_count": 18,
   "metadata": {},
   "outputs": [
    {
     "name": "stdout",
     "output_type": "stream",
     "text": [
      "Chicago\n",
      "London\n",
      "Tokyo\n"
     ]
    }
   ],
   "source": [
    "cities = [\"Chicago\", \"London\", \"Tokyo\"]\n",
    "\n",
    "for city in cities:\n",
    "    print(city)"
   ]
  },
  {
   "cell_type": "code",
   "execution_count": 22,
   "metadata": {},
   "outputs": [
    {
     "name": "stdout",
     "output_type": "stream",
     "text": [
      "4\n",
      "8\n",
      "15\n",
      "16\n",
      "23\n",
      "42\n",
      "55\n"
     ]
    }
   ],
   "source": [
    "numbers = [42, 77, 16, 101, 23, 8, 4, 15, 55]\n",
    "numbers.sort()\n",
    "\n",
    "for number in numbers:\n",
    "    if number > 60:\n",
    "        break\n",
    "    print(number)"
   ]
  },
  {
   "cell_type": "code",
   "execution_count": 9,
   "metadata": {},
   "outputs": [
    {
     "name": "stdout",
     "output_type": "stream",
     "text": [
      "67\n",
      "Complete\n",
      "[67, 78, 72, 100, 64]\n"
     ]
    }
   ],
   "source": [
    "import random\n",
    "numbers = []\n",
    "\n",
    "while len(numbers) < 5:\n",
    "    numbers.append(random.randint(1, 100))\n",
    "\n",
    "for number in numbers:\n",
    "    print(number)\n",
    "    if number >= 90:\n",
    "        print('Found at least one number greater than 90')\n",
    "    break\n",
    "else:\n",
    "    print('No numbers greater than 90')\n",
    "\n",
    "print('Complete')\n",
    "\n",
    "print(numbers)"
   ]
  },
  {
   "cell_type": "code",
   "execution_count": 10,
   "metadata": {},
   "outputs": [
    {
     "name": "stdout",
     "output_type": "stream",
     "text": [
      "['laptop', 'phone', 'dslr']\n"
     ]
    }
   ],
   "source": [
    "#Use a continue statement\n",
    "values = [\"laptop\", 7, \"phone\", 3, \"dslr\", 5]\n",
    "equipment = []\n",
    "\n",
    "for value in values:\n",
    "    if isinstance(value, str) == False:\n",
    "        continue\n",
    "    equipment.append(value)\n",
    "\n",
    "print(equipment)"
   ]
  },
  {
   "cell_type": "code",
   "execution_count": 11,
   "metadata": {},
   "outputs": [
    {
     "name": "stdout",
     "output_type": "stream",
     "text": [
      "2 of Hearts\n",
      "3 of Hearts\n",
      "4 of Hearts\n",
      "5 of Hearts\n",
      "6 of Hearts\n",
      "7 of Hearts\n",
      "8 of Hearts\n",
      "9 of Hearts\n",
      "10 of Hearts\n",
      "Jack of Hearts\n",
      "Queen of Hearts\n",
      "King of Hearts\n",
      "Ace of Hearts\n",
      "2 of Spades\n",
      "3 of Spades\n",
      "4 of Spades\n",
      "5 of Spades\n",
      "6 of Spades\n",
      "7 of Spades\n",
      "8 of Spades\n",
      "9 of Spades\n",
      "10 of Spades\n",
      "Jack of Spades\n",
      "Queen of Spades\n",
      "King of Spades\n",
      "Ace of Spades\n",
      "2 of Clubs\n",
      "3 of Clubs\n",
      "4 of Clubs\n",
      "5 of Clubs\n",
      "6 of Clubs\n",
      "7 of Clubs\n",
      "8 of Clubs\n",
      "9 of Clubs\n",
      "10 of Clubs\n",
      "Jack of Clubs\n",
      "Queen of Clubs\n",
      "King of Clubs\n",
      "Ace of Clubs\n",
      "2 of Diamonds\n",
      "3 of Diamonds\n",
      "4 of Diamonds\n",
      "5 of Diamonds\n",
      "6 of Diamonds\n",
      "7 of Diamonds\n",
      "8 of Diamonds\n",
      "9 of Diamonds\n",
      "10 of Diamonds\n",
      "Jack of Diamonds\n",
      "Queen of Diamonds\n",
      "King of Diamonds\n",
      "Ace of Diamonds\n"
     ]
    }
   ],
   "source": [
    "#Step 7 - Create nested for loops\n",
    "suits = [\"Hearts\", \"Spades\", \"Clubs\", \"Diamonds\"]\n",
    "ranks = [\"2\", \"3\", \"4\", \"5\", \"6\", \"7\", \"8\", \"9\", \"10\", \"Jack\", \"Queen\", \"King\", \"Ace\"]\n",
    "\n",
    "for  suit in suits:\n",
    "    for rank in ranks:\n",
    "        print(f'{rank} of {suit}')"
   ]
  },
  {
   "cell_type": "code",
   "execution_count": 13,
   "metadata": {},
   "outputs": [
    {
     "name": "stdout",
     "output_type": "stream",
     "text": [
      "15\n",
      "[23, 15, 55, 101, 55]\n"
     ]
    }
   ],
   "source": [
    "#Step 8 - Choose randomly from a list\n",
    "import random\n",
    "\n",
    "numbers = [42, 77, 16, 101, 23, 8, 4, 15, 55]\n",
    "selected_number = random.choice(numbers)\n",
    "print(selected_number)\n",
    "\n",
    "selected_numbers = random.choices(numbers, k=5)\n",
    "print(selected_numbers)"
   ]
  },
  {
   "cell_type": "code",
   "execution_count": null,
   "metadata": {},
   "outputs": [],
   "source": [
    "Recap\n",
    "Use the in and not in keywords as part of a Boolean expression to test whether a value is part of a list.\n",
    "Use the for statement to iterate through all items in a list. Also use the statement to execute a code block that puts the current item in scope to be inspected in the logic of the code block.\n",
    "Use the continue statement to skip the remaining code block logic and continue to the next list item that's assigned by the for statement.\n",
    "Use the break statement to break out of the for statement prematurely.\n",
    "Use the else statement to create a code block that executes after you use the for statement to iterate through all items in the list.\n",
    "Nest for statements to create a list of every combination of two lists.\n",
    "Use the random module's choice() and choices() functions to select one or many items from the list, respectively."
   ]
  },
  {
   "cell_type": "code",
   "execution_count": 17,
   "metadata": {},
   "outputs": [
    {
     "name": "stdout",
     "output_type": "stream",
     "text": [
      "There are 52 cards in the deck.\n",
      "Dealing . . .\n",
      "There are 47 cards in the deck.\n",
      "Player has the following cards in their hand:\n",
      "['2 of Hearts', '3 of Hearts', '4 of Hearts', '5 of Hearts', '6 of Hearts']\n"
     ]
    }
   ],
   "source": [
    "#challagne\n",
    "suits = [\"Hearts\", \"Spades\", \"Clubs\", \"Diamonds\"]\n",
    "ranks = [\"2\", \"3\", \"4\", \"5\", \"6\", \"7\", \"8\", \"9\", \"10\", \"Jack\", \"Queen\", \"King\", \"Ace\"]\n",
    "deck = []\n",
    "card_in_hand = []\n",
    "for  suit in suits:\n",
    "    for rank in ranks:\n",
    "        deck.append(f'{rank} of {suit}')\n",
    "        \n",
    "count = len(deck)\n",
    "print(f'There are {count} cards in the deck.')\n",
    "print('Dealing . . .')\n",
    "\n",
    "for cards in deck:\n",
    "    deck.pop()\n",
    "    card_in_hand.append(cards)\n",
    "    if len(card_in_hand) == 5:\n",
    "        break\n",
    "\n",
    "count = len(deck)\n",
    "print(f'There are {count} cards in the deck.')\n",
    "print('Player has the following cards in their hand:')\n",
    "print(card_in_hand)"
   ]
  },
  {
   "cell_type": "code",
   "execution_count": 19,
   "metadata": {},
   "outputs": [
    {
     "name": "stdout",
     "output_type": "stream",
     "text": [
      "There are 52 cards in the deck.\n",
      "Dealing ...\n",
      "There are 47 cards in the deck.\n",
      "Player has the following cards in their hand:\n",
      "['10 of Hearts', '9 of Spades', 'Jack of Spades', '6 of Clubs', '4 of Clubs']\n"
     ]
    }
   ],
   "source": [
    "import random\n",
    "\n",
    "suits = [\"Hearts\", \"Spades\", \"Clubs\", \"Diamonds\"]\n",
    "ranks = [\"2\", \"3\", \"4\", \"5\", \"6\", \"7\", \"8\", \"9\", \"10\", \"Jack\", \"Queen\", \"King\", \"Ace\"]\n",
    "deck = []\n",
    "\n",
    "for  suit in suits:\n",
    "    for rank in ranks:\n",
    "        deck.append(f'{rank} of {suit}')\n",
    "\n",
    "print(f'There are {len(deck)} cards in the deck.')\n",
    "\n",
    "print('Dealing ...')\n",
    "\n",
    "hand = []\n",
    "\n",
    "while len(hand) < 5:\n",
    "    card = random.choice(deck)\n",
    "    deck.remove(card)\n",
    "    hand.append(card)\n",
    "\n",
    "print(f'There are {len(deck)} cards in the deck.')\n",
    "print('Player has the following cards in their hand:')\n",
    "print(hand)"
   ]
  },
  {
   "cell_type": "raw",
   "metadata": {},
   "source": [
    "FUNCTIONS"
   ]
  },
  {
   "cell_type": "code",
   "execution_count": 20,
   "metadata": {},
   "outputs": [
    {
     "name": "stdout",
     "output_type": "stream",
     "text": [
      "Hello World!\n",
      "Hello Bob!\n",
      "Howdy World!\n",
      "Howdy Bob!\n"
     ]
    }
   ],
   "source": [
    "def say_hello(name='World', greeting=None):\n",
    "    if greeting == None:\n",
    "        print(f'Hello {name}!')\n",
    "    else:\n",
    "        print(f'{greeting} {name}!')\n",
    "\n",
    "say_hello()\n",
    "say_hello('Bob')\n",
    "say_hello(greeting='Howdy')\n",
    "say_hello('Bob', 'Howdy')"
   ]
  },
  {
   "cell_type": "code",
   "execution_count": 21,
   "metadata": {},
   "outputs": [
    {
     "name": "stdout",
     "output_type": "stream",
     "text": [
      "<class 'NoneType'>\n"
     ]
    }
   ],
   "source": [
    "print(type(None))"
   ]
  },
  {
   "cell_type": "code",
   "execution_count": 22,
   "metadata": {},
   "outputs": [
    {
     "name": "stdout",
     "output_type": "stream",
     "text": [
      "Howdy World!\n",
      "Howdy Bob!\n"
     ]
    }
   ],
   "source": [
    "say_hello(greeting='Howdy')\n",
    "say_hello('Bob', 'Howdy')"
   ]
  },
  {
   "cell_type": "code",
   "execution_count": 24,
   "metadata": {},
   "outputs": [
    {
     "data": {
      "text/plain": [
       "10"
      ]
     },
     "execution_count": 24,
     "metadata": {},
     "output_type": "execute_result"
    }
   ],
   "source": [
    "def add_two_numbers(x, y):\n",
    "    return x + y\n",
    "\n",
    "add_two_numbers(4, 6)\n",
    "#result = add_two_numbers(5, 7)\n",
    "#print(result)"
   ]
  },
  {
   "cell_type": "code",
   "execution_count": 29,
   "metadata": {},
   "outputs": [
    {
     "name": "stdout",
     "output_type": "stream",
     "text": [
      "52\n"
     ]
    }
   ],
   "source": [
    "def create_deck():\n",
    "    suits = [\"Hearts\", \"Spades\", \"Clubs\", \"Diamonds\"]\n",
    "    ranks = [\"2\", \"3\", \"4\", \"5\", \"6\", \"7\", \"8\", \"9\", \"10\", \"Jack\", \"Queen\", \"King\", \"Ace\"]\n",
    "    deck = []\n",
    "\n",
    "    for  suit in suits:\n",
    "        for rank in ranks:\n",
    "            deck.append(f'{rank} of {suit}')\n",
    "\n",
    "    return deck\n",
    "\n",
    "my_deck = create_deck()\n",
    "print(len(my_deck))"
   ]
  },
  {
   "cell_type": "code",
   "execution_count": 30,
   "metadata": {},
   "outputs": [
    {
     "ename": "NameError",
     "evalue": "name 'value' is not defined",
     "output_type": "error",
     "traceback": [
      "\u001b[1;31m---------------------------------------------------------------------------\u001b[0m",
      "\u001b[1;31mNameError\u001b[0m                                 Traceback (most recent call last)",
      "\u001b[1;32m<ipython-input-30-f812d64e1a12>\u001b[0m in \u001b[0;36m<module>\u001b[1;34m\u001b[0m\n\u001b[0;32m      2\u001b[0m     \u001b[0mvalue\u001b[0m \u001b[1;33m=\u001b[0m \u001b[1;36m10\u001b[0m\u001b[1;33m\u001b[0m\u001b[1;33m\u001b[0m\u001b[0m\n\u001b[0;32m      3\u001b[0m \u001b[1;33m\u001b[0m\u001b[0m\n\u001b[1;32m----> 4\u001b[1;33m \u001b[0mprint\u001b[0m\u001b[1;33m(\u001b[0m\u001b[0mvalue\u001b[0m\u001b[1;33m)\u001b[0m\u001b[1;33m\u001b[0m\u001b[1;33m\u001b[0m\u001b[0m\n\u001b[0m",
      "\u001b[1;31mNameError\u001b[0m: name 'value' is not defined"
     ]
    }
   ],
   "source": [
    "def some_function():\n",
    "    value = 10\n",
    "\n",
    "print(value)"
   ]
  },
  {
   "cell_type": "code",
   "execution_count": 31,
   "metadata": {},
   "outputs": [
    {
     "name": "stdout",
     "output_type": "stream",
     "text": [
      "1\n"
     ]
    }
   ],
   "source": [
    "value = 1\n",
    "\n",
    "def some_function():\n",
    "    value = 10\n",
    "    return value\n",
    "\n",
    "print(value)"
   ]
  },
  {
   "cell_type": "code",
   "execution_count": 33,
   "metadata": {},
   "outputs": [
    {
     "name": "stdout",
     "output_type": "stream",
     "text": [
      "1\n"
     ]
    },
    {
     "data": {
      "text/plain": [
       "10"
      ]
     },
     "execution_count": 33,
     "metadata": {},
     "output_type": "execute_result"
    }
   ],
   "source": [
    "value = 1\n",
    "\n",
    "def some_function():\n",
    "    value = 10\n",
    "    return value\n",
    "\n",
    "print(value)\n",
    "some_function()\n",
    "#print(value)"
   ]
  },
  {
   "cell_type": "code",
   "execution_count": 34,
   "metadata": {},
   "outputs": [
    {
     "name": "stdout",
     "output_type": "stream",
     "text": [
      "arg = a\n",
      "arg = a\n",
      "arg = b\n",
      "arg = a\n",
      "arg = b\n",
      "arg = c\n"
     ]
    }
   ],
   "source": [
    "def print_args(*args):\n",
    "#A caller of this function can pass any number of arguments into the function\n",
    "    for arg in args:\n",
    "        print(f'arg = {arg}')\n",
    "\n",
    "print_args('a')\n",
    "print_args('a', 'b')\n",
    "print_args('a', 'b', 'c')"
   ]
  },
  {
   "cell_type": "code",
   "execution_count": 35,
   "metadata": {},
   "outputs": [
    {
     "name": "stdout",
     "output_type": "stream",
     "text": [
      "('a',)\n",
      "<class 'tuple'>\n",
      "('a', 'b')\n",
      "<class 'tuple'>\n",
      "('a', 'b', 'c')\n",
      "<class 'tuple'>\n"
     ]
    }
   ],
   "source": [
    "def print_args(*args):\n",
    "  #for arg in args:\n",
    "  #  print(f'arg = {arg}')\n",
    "    print(args)\n",
    "    print(type(args))\n",
    "\n",
    "print_args('a')\n",
    "print_args('a', 'b')\n",
    "print_args('a', 'b', 'c')"
   ]
  },
  {
   "cell_type": "code",
   "execution_count": 36,
   "metadata": {},
   "outputs": [
    {
     "ename": "NameError",
     "evalue": "name 'args' is not defined",
     "output_type": "error",
     "traceback": [
      "\u001b[1;31m---------------------------------------------------------------------------\u001b[0m",
      "\u001b[1;31mNameError\u001b[0m                                 Traceback (most recent call last)",
      "\u001b[1;32m<ipython-input-36-3c837fc9e833>\u001b[0m in \u001b[0;36m<module>\u001b[1;34m\u001b[0m\n\u001b[1;32m----> 1\u001b[1;33m \u001b[0margs\u001b[0m\u001b[1;33m[\u001b[0m\u001b[1;36m0\u001b[0m\u001b[1;33m]\u001b[0m \u001b[1;33m=\u001b[0m \u001b[1;34m'z'\u001b[0m\u001b[1;33m\u001b[0m\u001b[1;33m\u001b[0m\u001b[0m\n\u001b[0m",
      "\u001b[1;31mNameError\u001b[0m: name 'args' is not defined"
     ]
    }
   ],
   "source": [
    "args[0] = 'z'\n",
    "TypeError: 'tuple' object does not support item assignment"
   ]
  },
  {
   "cell_type": "code",
   "execution_count": 37,
   "metadata": {},
   "outputs": [
    {
     "name": "stdout",
     "output_type": "stream",
     "text": [
      "third arg = f\n"
     ]
    }
   ],
   "source": [
    "def print_keyword_args(**kwargs):\n",
    "\n",
    "    third = kwargs.get('third', None)\n",
    "    if third != None:\n",
    "        print('third arg =', third)\n",
    "\n",
    "\n",
    "print_keyword_args(first='a')\n",
    "print_keyword_args(first='b', second='c')\n",
    "print_keyword_args(first='d', second='e', third='f')"
   ]
  },
  {
   "cell_type": "code",
   "execution_count": 38,
   "metadata": {},
   "outputs": [
    {
     "name": "stdout",
     "output_type": "stream",
     "text": [
      "\n",
      "\n",
      "first = a\n",
      "\n",
      "\n",
      "first = b\n",
      "second = c\n",
      "\n",
      "\n",
      "first = d\n",
      "second = e\n",
      "third = f\n",
      "third arg = f\n"
     ]
    }
   ],
   "source": [
    "def print_keyword_args(**kwargs):\n",
    "\n",
    "    print('\\n')\n",
    "\n",
    "    for key, value in kwargs.items():\n",
    "        print(f'{key} = {value}')\n",
    "\n",
    "    third = kwargs.get('third', None)\n",
    "    if third != None:\n",
    "        print('third arg =', third)\n",
    "\n",
    "\n",
    "print_keyword_args(first='a')\n",
    "print_keyword_args(first='b', second='c')\n",
    "print_keyword_args(first='d', second='e', third='f')"
   ]
  },
  {
   "cell_type": "code",
   "execution_count": 39,
   "metadata": {},
   "outputs": [
    {
     "ename": "SyntaxError",
     "evalue": "unexpected EOF while parsing (<ipython-input-39-4f644c3287b6>, line 1)",
     "output_type": "error",
     "traceback": [
      "\u001b[1;36m  File \u001b[1;32m\"<ipython-input-39-4f644c3287b6>\"\u001b[1;36m, line \u001b[1;32m1\u001b[0m\n\u001b[1;33m    for key, value in kwargs.items():\u001b[0m\n\u001b[1;37m                                     ^\u001b[0m\n\u001b[1;31mSyntaxError\u001b[0m\u001b[1;31m:\u001b[0m unexpected EOF while parsing\n"
     ]
    }
   ],
   "source": [
    "for key, value in kwargs.items():"
   ]
  },
  {
   "cell_type": "code",
   "execution_count": 40,
   "metadata": {},
   "outputs": [
    {
     "name": "stdout",
     "output_type": "stream",
     "text": [
      "\n",
      "\n",
      "{'first': 'a'}\n",
      "<class 'dict'>\n",
      "first = a\n",
      "\n",
      "\n",
      "{'first': 'b', 'second': 'c'}\n",
      "<class 'dict'>\n",
      "first = b\n",
      "second = c\n",
      "\n",
      "\n",
      "{'first': 'd', 'second': 'e', 'third': 'f'}\n",
      "<class 'dict'>\n",
      "first = d\n",
      "second = e\n",
      "third = f\n",
      "third arg = f\n"
     ]
    }
   ],
   "source": [
    "def print_keyword_args(**kwargs):\n",
    "\n",
    "    print('\\n')\n",
    "    print(kwargs)\n",
    "    print(type(kwargs))\n",
    "\n",
    "    for key, value in kwargs.items():\n",
    "        print(f'{key} = {value}')\n",
    "\n",
    "    third = kwargs.get('third', None)\n",
    "    if third != None:\n",
    "        print('third arg =', third)\n",
    "\n",
    "\n",
    "print_keyword_args(first='a')\n",
    "print_keyword_args(first='b', second='c')\n",
    "print_keyword_args(first='d', second='e', third='f')"
   ]
  },
  {
   "cell_type": "raw",
   "metadata": {},
   "source": [
    "You can define functions that use arbitrary arguments lists. A list lets a caller pass in any number of arguments. In the previous examples, the args input parameter manages the entries as tuple values.\n",
    "You can define functions that use keyword or named arguments. A caller can pass in any number of named arguments. In the previous examples, the kwargs input parameter manages the entries as dict values."
   ]
  },
  {
   "cell_type": "code",
   "execution_count": 46,
   "metadata": {},
   "outputs": [
    {
     "ename": "ModuleNotFoundError",
     "evalue": "No module named 'deck'",
     "output_type": "error",
     "traceback": [
      "\u001b[1;31m---------------------------------------------------------------------------\u001b[0m",
      "\u001b[1;31mModuleNotFoundError\u001b[0m                       Traceback (most recent call last)",
      "\u001b[1;32m<ipython-input-46-2c0465b2337b>\u001b[0m in \u001b[0;36m<module>\u001b[1;34m\u001b[0m\n\u001b[0;32m      9\u001b[0m \u001b[1;33m\u001b[0m\u001b[0m\n\u001b[0;32m     10\u001b[0m     \u001b[1;32mreturn\u001b[0m \u001b[0mdeck\u001b[0m\u001b[1;33m\u001b[0m\u001b[1;33m\u001b[0m\u001b[0m\n\u001b[1;32m---> 11\u001b[1;33m \u001b[1;32mimport\u001b[0m \u001b[0mdeck\u001b[0m\u001b[1;33m\u001b[0m\u001b[1;33m\u001b[0m\u001b[0m\n\u001b[0m\u001b[0;32m     12\u001b[0m \u001b[1;33m\u001b[0m\u001b[0m\n\u001b[0;32m     13\u001b[0m \u001b[0mcards\u001b[0m \u001b[1;33m=\u001b[0m \u001b[0mdeck\u001b[0m\u001b[1;33m.\u001b[0m\u001b[0mcreate_deck\u001b[0m\u001b[1;33m(\u001b[0m\u001b[1;33m)\u001b[0m\u001b[1;33m\u001b[0m\u001b[1;33m\u001b[0m\u001b[0m\n",
      "\u001b[1;31mModuleNotFoundError\u001b[0m: No module named 'deck'"
     ]
    }
   ],
   "source": [
    "def create_deck():\n",
    "    suits = [\"Hearts\", \"Spades\", \"Clubs\", \"Diamonds\"]\n",
    "    ranks = [\"2\", \"3\", \"4\", \"5\", \"6\", \"7\", \"8\", \"9\", \"10\", \"Jack\", \"Queen\", \"King\", \"Ace\"]\n",
    "    deck = []\n",
    "\n",
    "    for  suit in suits:\n",
    "        for rank in ranks:\n",
    "            deck.append(f'{rank} of {suit}')\n",
    "\n",
    "    return deck\n",
    "\n",
    "'''In the same working folder as the exercise3.py file,\n",
    "create another file called deck.py.'''\n",
    "import deck\n",
    "\n",
    "cards = deck.create_deck()\n",
    "\n",
    "for card in cards:\n",
    "    print(card)"
   ]
  },
  {
   "cell_type": "raw",
   "metadata": {},
   "source": [
    "import processor\n",
    "\n",
    "my_list = [5, 'Dan', '4', 7, 'Steve', 'Amy', 'Rhonda', 4, '9', 'Jill', 7, 'Kim']\n",
    "my_bad_list = 5\n",
    "\n",
    "numbers = processor.process_numbers(my_list)\n",
    "print(numbers)\n",
    "\n",
    "names = processor.process_names(my_list)\n",
    "print(names)\n",
    "\n",
    "numbers = processor.process_numbers(my_bad_list)\n",
    "print(numbers)\n",
    "\n",
    "names = processor.process_names(my_bad_list)\n",
    "print(names)\n",
    "\n",
    "#OUTPUT\n",
    "\n",
    "[4, 4, 5, 7, 7, 9]\n",
    "['Amy', 'Dan', 'Jill', 'Kim', 'Rhonda', 'Steve']\n",
    "[]\n",
    "[]"
   ]
  },
  {
   "cell_type": "code",
   "execution_count": null,
   "metadata": {},
   "outputs": [],
   "source": []
  },
  {
   "cell_type": "code",
   "execution_count": 51,
   "metadata": {},
   "outputs": [
    {
     "ename": "AttributeError",
     "evalue": "'int' object has no attribute 'isnumeric'",
     "output_type": "error",
     "traceback": [
      "\u001b[1;31m---------------------------------------------------------------------------\u001b[0m",
      "\u001b[1;31mAttributeError\u001b[0m                            Traceback (most recent call last)",
      "\u001b[1;32m<ipython-input-51-5a2e8fbe4d8c>\u001b[0m in \u001b[0;36m<module>\u001b[1;34m\u001b[0m\n\u001b[0;32m     13\u001b[0m     hand.append(card)'''\n\u001b[0;32m     14\u001b[0m \u001b[1;32mfor\u001b[0m \u001b[0mitem\u001b[0m \u001b[1;32min\u001b[0m \u001b[0mmy_list\u001b[0m\u001b[1;33m:\u001b[0m\u001b[1;33m\u001b[0m\u001b[1;33m\u001b[0m\u001b[0m\n\u001b[1;32m---> 15\u001b[1;33m     \u001b[1;32mif\u001b[0m \u001b[0mitem\u001b[0m\u001b[1;33m.\u001b[0m\u001b[0misnumeric\u001b[0m\u001b[1;33m(\u001b[0m\u001b[1;33m)\u001b[0m \u001b[1;33m==\u001b[0m \u001b[1;32mFalse\u001b[0m\u001b[1;33m:\u001b[0m\u001b[1;33m\u001b[0m\u001b[1;33m\u001b[0m\u001b[0m\n\u001b[0m\u001b[0;32m     16\u001b[0m         \u001b[0mmy_list\u001b[0m\u001b[1;33m.\u001b[0m\u001b[0mremove\u001b[0m\u001b[1;33m(\u001b[0m\u001b[0mitem\u001b[0m\u001b[1;33m)\u001b[0m\u001b[1;33m\u001b[0m\u001b[1;33m\u001b[0m\u001b[0m\n\u001b[0;32m     17\u001b[0m         \u001b[0mnames\u001b[0m\u001b[1;33m.\u001b[0m\u001b[0mappend\u001b[0m\u001b[1;33m(\u001b[0m\u001b[0mitems\u001b[0m\u001b[1;33m)\u001b[0m\u001b[1;33m\u001b[0m\u001b[1;33m\u001b[0m\u001b[0m\n",
      "\u001b[1;31mAttributeError\u001b[0m: 'int' object has no attribute 'isnumeric'"
     ]
    }
   ],
   "source": [
    "my_list = [5, 'Dan', '4', 7, 'Steve', 'Amy', 'Rhonda', 4, '9', 'Jill', 7, 'Kim']\n",
    "numbers = []\n",
    "names = []\n",
    "'''for item in my_list:\n",
    "    if item.isnumeric() == True:\n",
    "        my_list.remove(item)\n",
    "        numbers.append(items)\n",
    "print(numbers)\n",
    "        \n",
    "while len(hand) < 5:\n",
    "    card = random.choice(deck)\n",
    "    deck.remove(card)\n",
    "    hand.append(card)'''\n",
    "for item in my_list:\n",
    "    if item.isnumeric() == False:\n",
    "        my_list.remove(item)\n",
    "        names.append(items)\n",
    "    print(names)"
   ]
  },
  {
   "cell_type": "code",
   "execution_count": null,
   "metadata": {},
   "outputs": [],
   "source": []
  }
 ],
 "metadata": {
  "kernelspec": {
   "display_name": "Python 3",
   "language": "python",
   "name": "python3"
  },
  "language_info": {
   "codemirror_mode": {
    "name": "ipython",
    "version": 3
   },
   "file_extension": ".py",
   "mimetype": "text/x-python",
   "name": "python",
   "nbconvert_exporter": "python",
   "pygments_lexer": "ipython3",
   "version": "3.7.3"
  }
 },
 "nbformat": 4,
 "nbformat_minor": 2
}
