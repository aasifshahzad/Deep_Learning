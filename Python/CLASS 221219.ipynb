{
 "cells": [
  {
   "cell_type": "markdown",
   "metadata": {},
   "source": [
    "# if else statements"
   ]
  },
  {
   "cell_type": "code",
   "execution_count": 8,
   "metadata": {},
   "outputs": [
    {
     "name": "stdout",
     "output_type": "stream",
     "text": [
      "login scessesfull\n"
     ]
    }
   ],
   "source": [
    "user_name = \"asif\"\n",
    "pasword = \"123\"\n",
    "if user_name == \"asif\" and pasword == \"123\":\n",
    "    print(\"login scessesfull\")\n",
    "else:\n",
    "    print(\"try again\")"
   ]
  },
  {
   "cell_type": "markdown",
   "metadata": {},
   "source": [
    "identation exam \n",
    "nested if\n"
   ]
  },
  {
   "cell_type": "raw",
   "metadata": {},
   "source": [
    "Boolean expression\n",
    "==\n",
    "!=\n",
    "<\n",
    ">\n"
   ]
  },
  {
   "cell_type": "code",
   "execution_count": 9,
   "metadata": {},
   "outputs": [
    {
     "ename": "SyntaxError",
     "evalue": "invalid syntax (<ipython-input-9-f0715226a23a>, line 1)",
     "output_type": "error",
     "traceback": [
      "\u001b[1;36m  File \u001b[1;32m\"<ipython-input-9-f0715226a23a>\"\u001b[1;36m, line \u001b[1;32m1\u001b[0m\n\u001b[1;33m    Truth table of & and\u001b[0m\n\u001b[1;37m              ^\u001b[0m\n\u001b[1;31mSyntaxError\u001b[0m\u001b[1;31m:\u001b[0m invalid syntax\n"
     ]
    }
   ],
   "source": [
    "Truth table of & and"
   ]
  },
  {
   "cell_type": "code",
   "execution_count": 22,
   "metadata": {},
   "outputs": [
    {
     "name": "stdout",
     "output_type": "stream",
     "text": [
      "Enter the marks obtain = 92\n",
      "Grade A\n"
     ]
    }
   ],
   "source": [
    "mark = int(input(\"Enter the marks obtain = \"))\n",
    "if mark >= 90:\n",
    "    print(\"Grade A\")\n",
    "elif mark (a >= 80):\n",
    "    print(\"Grade B\")\n",
    "elif mark (a >= 70):\n",
    "    print(\"Grade C\")\n",
    "elif mark (a >= 60):\n",
    "    print(\"Grade D\")\n",
    "else:# mark(a<60):\n",
    "    print(\"Grade E\")\n",
    "    \n",
    "        "
   ]
  },
  {
   "cell_type": "raw",
   "metadata": {},
   "source": [
    "Task 2"
   ]
  },
  {
   "cell_type": "code",
   "execution_count": 24,
   "metadata": {},
   "outputs": [
    {
     "ename": "SyntaxError",
     "evalue": "invalid syntax (<ipython-input-24-ec06b545b66d>, line 6)",
     "output_type": "error",
     "traceback": [
      "\u001b[1;36m  File \u001b[1;32m\"<ipython-input-24-ec06b545b66d>\"\u001b[1;36m, line \u001b[1;32m6\u001b[0m\n\u001b[1;33m    rent =\u001b[0m\n\u001b[1;37m           ^\u001b[0m\n\u001b[1;31mSyntaxError\u001b[0m\u001b[1;31m:\u001b[0m invalid syntax\n"
     ]
    }
   ],
   "source": [
    "cost = 1.59\n",
    "dicount_1 = \"30%\" \n",
    "dicount_2 = \"50%\" \n",
    "charge_1 = 1\n",
    "charge_2 = 2\n",
    "rent = \n",
    "day_return = [\"monday\", \"tuesday\",\"wednesday\",\"thursday\",\"friday\",\"saturday\",\"sunday\"]\n",
    "cd = input(\"CD condition = \")\n",
    "days = input(\"Enter the days return after = \")\n",
    "time = input(\"\")\n",
    "\n",
    "if day_return == \"sunday\" and cd == \"ok\":\n",
    "    print(\"30% discount is given\")\n",
    "    print(\"total fare = \" + str((cost*days) - (discount_1)))\n",
    "    if day_return == \"sunday\" and cd == \"scrached\":\n",
    "        print(\"2 $ extra is charged for cd scratched\")\n",
    "        print(\"total fare = \" + str(((cost*days) + charge_2) - (discount_1)))\n",
    "elif day_return == \"thursday\" and cd == ok:\n",
    "    print(\"50% discount is given\")\n",
    "    print(\"total fare = \" + str((cost*days) - (discount_2)))\n",
    "    if day_return == \"thursday\" and cd == \"scrached\":\n",
    "        print(\"1 $ extra is charged for cd scratched\")\n",
    "        print(\"total fare = \" + str((cost*days) + charge_1))\n",
    "else day_return == [\"monday\", \"tuesday\",\"wednesday\",\"friday\",\"saturday\"] and cd == ok:\n",
    "    if cd == \"scrached\"\n",
    "        print(\"1 $ extra is charged\")\n",
    "    print(\"total fare = \" + str(cost*days))\n",
    "\n",
    "    "
   ]
  },
  {
   "cell_type": "markdown",
   "metadata": {},
   "source": [
    "# List"
   ]
  },
  {
   "cell_type": "code",
   "execution_count": 25,
   "metadata": {},
   "outputs": [
    {
     "ename": "NameError",
     "evalue": "name 'indexing' is not defined",
     "output_type": "error",
     "traceback": [
      "\u001b[1;31m---------------------------------------------------------------------------\u001b[0m",
      "\u001b[1;31mNameError\u001b[0m                                 Traceback (most recent call last)",
      "\u001b[1;32m<ipython-input-25-b975c04f4079>\u001b[0m in \u001b[0;36m<module>\u001b[1;34m\u001b[0m\n\u001b[1;32m----> 1\u001b[1;33m \u001b[0mindexing\u001b[0m \u001b[1;32mand\u001b[0m \u001b[0mslicing\u001b[0m\u001b[1;33m\u001b[0m\u001b[1;33m\u001b[0m\u001b[0m\n\u001b[0m",
      "\u001b[1;31mNameError\u001b[0m: name 'indexing' is not defined"
     ]
    }
   ],
   "source": [
    "indexing and slicing"
   ]
  },
  {
   "cell_type": "code",
   "execution_count": 26,
   "metadata": {},
   "outputs": [
    {
     "ename": "NameError",
     "evalue": "name 'Loops' is not defined",
     "output_type": "error",
     "traceback": [
      "\u001b[1;31m---------------------------------------------------------------------------\u001b[0m",
      "\u001b[1;31mNameError\u001b[0m                                 Traceback (most recent call last)",
      "\u001b[1;32m<ipython-input-26-83def200b4b7>\u001b[0m in \u001b[0;36m<module>\u001b[1;34m\u001b[0m\n\u001b[1;32m----> 1\u001b[1;33m \u001b[0mLoops\u001b[0m\u001b[1;33m\u001b[0m\u001b[1;33m\u001b[0m\u001b[0m\n\u001b[0m",
      "\u001b[1;31mNameError\u001b[0m: name 'Loops' is not defined"
     ]
    }
   ],
   "source": [
    "Loops"
   ]
  },
  {
   "cell_type": "code",
   "execution_count": 27,
   "metadata": {},
   "outputs": [
    {
     "ename": "NameError",
     "evalue": "name 'starting' is not defined",
     "output_type": "error",
     "traceback": [
      "\u001b[1;31m---------------------------------------------------------------------------\u001b[0m",
      "\u001b[1;31mNameError\u001b[0m                                 Traceback (most recent call last)",
      "\u001b[1;32m<ipython-input-27-7086b82842ff>\u001b[0m in \u001b[0;36m<module>\u001b[1;34m\u001b[0m\n\u001b[1;32m----> 1\u001b[1;33m \u001b[0mstarting\u001b[0m \u001b[1;33m,\u001b[0m \u001b[0mending\u001b[0m \u001b[1;33m,\u001b[0m \u001b[0mincrements\u001b[0m\u001b[1;33m\u001b[0m\u001b[1;33m\u001b[0m\u001b[0m\n\u001b[0m",
      "\u001b[1;31mNameError\u001b[0m: name 'starting' is not defined"
     ]
    }
   ],
   "source": [
    "starting , ending , increments"
   ]
  },
  {
   "cell_type": "code",
   "execution_count": 28,
   "metadata": {},
   "outputs": [
    {
     "name": "stdout",
     "output_type": "stream",
     "text": [
      "2\n",
      "6\n",
      "10\n",
      "14\n",
      "18\n"
     ]
    }
   ],
   "source": [
    "for i in range(1,10,2):\n",
    "    print(str(i*2))"
   ]
  },
  {
   "cell_type": "code",
   "execution_count": 33,
   "metadata": {},
   "outputs": [
    {
     "name": "stdout",
     "output_type": "stream",
     "text": [
      "0   1   2   \n",
      "\n",
      "0   2   4   \n",
      "\n",
      "0   3   6   \n",
      "\n",
      "0   4   8   \n",
      "\n"
     ]
    }
   ],
   "source": [
    "for i in range(1,5):\n",
    "    for j in range(0,3):\n",
    "        print(str(i*j), end='   ')\n",
    "    print('\\n')"
   ]
  },
  {
   "cell_type": "code",
   "execution_count": 34,
   "metadata": {},
   "outputs": [
    {
     "ename": "SyntaxError",
     "evalue": "invalid syntax (<ipython-input-34-778b0fb0ef39>, line 1)",
     "output_type": "error",
     "traceback": [
      "\u001b[1;36m  File \u001b[1;32m\"<ipython-input-34-778b0fb0ef39>\"\u001b[1;36m, line \u001b[1;32m1\u001b[0m\n\u001b[1;33m    while loop no startign and ending is known\u001b[0m\n\u001b[1;37m                ^\u001b[0m\n\u001b[1;31mSyntaxError\u001b[0m\u001b[1;31m:\u001b[0m invalid syntax\n"
     ]
    }
   ],
   "source": [
    "while loop no startign and ending is known also known as infinite loop\n",
    "\n",
    "if some_condition\n",
    "    do this\n",
    "    \n",
    "while some_condition\n",
    "    keep doing same task\n",
    "    "
   ]
  },
  {
   "cell_type": "code",
   "execution_count": 36,
   "metadata": {},
   "outputs": [
    {
     "name": "stdout",
     "output_type": "stream",
     "text": [
      "yuiiiiii\n",
      "yuiiiiii\n",
      "yuiiiiii\n",
      "yuiiiiii\n",
      "yuiiiiii\n",
      "yuiiiiii\n",
      "yuiiiiii\n",
      "yuiiiiii\n",
      "yuiiiiii\n",
      "yuiiiiii\n",
      "yuiiiiii\n",
      "Total liter =11\n"
     ]
    }
   ],
   "source": [
    "sach = False\n",
    "counter = 0\n",
    "while(sach!= True):\n",
    "    if counter == 10:\n",
    "        sach = True\n",
    "    counter+=1\n",
    "    print('yuiiiiii')\n",
    "print('Total liter =' + str(counter))"
   ]
  },
  {
   "cell_type": "code",
   "execution_count": null,
   "metadata": {},
   "outputs": [],
   "source": [
    "for x in range(0,10):\n",
    "    if x == 6:\n",
    "        print(x)\n",
    "else:\n",
    "    print('Keep finding')"
   ]
  },
  {
   "cell_type": "code",
   "execution_count": null,
   "metadata": {},
   "outputs": [],
   "source": [
    "x = input(\"Enter the number = \")\n",
    "while x == 6:\n",
    "    print(x)\n",
    "\n",
    "    "
   ]
  },
  {
   "cell_type": "code",
   "execution_count": 61,
   "metadata": {},
   "outputs": [
    {
     "name": "stdout",
     "output_type": "stream",
     "text": [
      "0\n",
      "keep finding\n",
      "1\n",
      "keep finding\n",
      "2\n",
      "keep finding\n",
      "3\n",
      "keep finding\n",
      "4\n",
      "keep finding\n",
      "6\n",
      "keep finding\n"
     ]
    }
   ],
   "source": [
    "numbers= [0,1,2,3,4,6,7,8,9]\n",
    "index = 0\n",
    "\n",
    "while (index<10):\n",
    "    print(numbers[index])\n",
    "    print('keep finding')\n",
    "    \n",
    "    if numbers[index] == 6:\n",
    "        break\n",
    "    else:\n",
    "        index+= 1"
   ]
  },
  {
   "cell_type": "code",
   "execution_count": null,
   "metadata": {},
   "outputs": [],
   "source": []
  },
  {
   "cell_type": "markdown",
   "metadata": {},
   "source": [
    "Dictionaries"
   ]
  },
  {
   "cell_type": "code",
   "execution_count": 72,
   "metadata": {},
   "outputs": [
    {
     "name": "stdout",
     "output_type": "stream",
     "text": [
      "{'location': 'pakistan'}\n"
     ]
    },
    {
     "ename": "TypeError",
     "evalue": "'builtin_function_or_method' object is not subscriptable",
     "output_type": "error",
     "traceback": [
      "\u001b[1;31m---------------------------------------------------------------------------\u001b[0m",
      "\u001b[1;31mTypeError\u001b[0m                                 Traceback (most recent call last)",
      "\u001b[1;32m<ipython-input-72-65980d9a0ce7>\u001b[0m in \u001b[0;36m<module>\u001b[1;34m\u001b[0m\n\u001b[0;32m      9\u001b[0m \u001b[1;33m\u001b[0m\u001b[0m\n\u001b[0;32m     10\u001b[0m \u001b[0mprint\u001b[0m\u001b[1;33m(\u001b[0m\u001b[0mpersonData\u001b[0m\u001b[1;33m.\u001b[0m\u001b[0mget\u001b[0m\u001b[1;33m(\u001b[0m\u001b[1;34m'expirence'\u001b[0m\u001b[1;33m)\u001b[0m\u001b[1;33m)\u001b[0m\u001b[1;33m\u001b[0m\u001b[1;33m\u001b[0m\u001b[0m\n\u001b[1;32m---> 11\u001b[1;33m \u001b[0mprint\u001b[0m\u001b[1;33m(\u001b[0m\u001b[0mpersonData\u001b[0m\u001b[1;33m.\u001b[0m\u001b[0mget\u001b[0m\u001b[1;33m[\u001b[0m\u001b[1;34m'expirence'\u001b[0m\u001b[1;33m]\u001b[0m\u001b[1;33m[\u001b[0m\u001b[1;34m'location'\u001b[0m\u001b[1;33m]\u001b[0m\u001b[1;33m)\u001b[0m\u001b[1;33m\u001b[0m\u001b[1;33m\u001b[0m\u001b[0m\n\u001b[0m",
      "\u001b[1;31mTypeError\u001b[0m: 'builtin_function_or_method' object is not subscriptable"
     ]
    }
   ],
   "source": [
    "personData = {\n",
    "    'name' : 'asfi',\n",
    "    'age'  : 25,\n",
    "    'job'  : 'dev',\n",
    "    'hobby': ['traveling', 'gardening'],\n",
    "    'expirence':{'location' : 'pakistan'}\n",
    "}\n",
    "personData\n",
    "\n",
    "#print(personData.get('expirence'))\n",
    "print(personData.get['expirence']['location'])"
   ]
  },
  {
   "cell_type": "code",
   "execution_count": 79,
   "metadata": {},
   "outputs": [
    {
     "name": "stdout",
     "output_type": "stream",
     "text": [
      "enter nameasif\n"
     ]
    },
    {
     "ename": "TypeError",
     "evalue": "'int' object is not iterable",
     "output_type": "error",
     "traceback": [
      "\u001b[1;31m---------------------------------------------------------------------------\u001b[0m",
      "\u001b[1;31mTypeError\u001b[0m                                 Traceback (most recent call last)",
      "\u001b[1;32m<ipython-input-79-daf1c0c84312>\u001b[0m in \u001b[0;36m<module>\u001b[1;34m\u001b[0m\n\u001b[0;32m      1\u001b[0m \u001b[0mdata\u001b[0m\u001b[1;33m=\u001b[0m \u001b[1;33m[\u001b[0m\u001b[1;33m]\u001b[0m\u001b[1;33m\u001b[0m\u001b[1;33m\u001b[0m\u001b[0m\n\u001b[0;32m      2\u001b[0m \u001b[0mdata\u001b[0m\u001b[1;33m.\u001b[0m\u001b[0mappend\u001b[0m\u001b[1;33m(\u001b[0m\u001b[0minput\u001b[0m\u001b[1;33m(\u001b[0m\u001b[1;34m\"enter name\"\u001b[0m\u001b[1;33m)\u001b[0m\u001b[1;33m)\u001b[0m\u001b[1;33m\u001b[0m\u001b[1;33m\u001b[0m\u001b[0m\n\u001b[1;32m----> 3\u001b[1;33m \u001b[0mdata\u001b[0m\u001b[1;33m.\u001b[0m\u001b[0mappend\u001b[0m\u001b[1;33m(\u001b[0m\u001b[0mlist\u001b[0m\u001b[1;33m(\u001b[0m\u001b[0mx\u001b[0m\u001b[1;33m)\u001b[0m\u001b[1;33m)\u001b[0m\u001b[1;33m\u001b[0m\u001b[1;33m\u001b[0m\u001b[0m\n\u001b[0m\u001b[0;32m      4\u001b[0m \u001b[0mdata\u001b[0m\u001b[1;33m\u001b[0m\u001b[1;33m\u001b[0m\u001b[0m\n",
      "\u001b[1;31mTypeError\u001b[0m: 'int' object is not iterable"
     ]
    }
   ],
   "source": [
    "\n",
    "data= []\n",
    "data.append(input(\"enter name\"))\n",
    "data.append(list(x))\n",
    "data"
   ]
  },
  {
   "cell_type": "code",
   "execution_count": 3,
   "metadata": {},
   "outputs": [
    {
     "name": "stdout",
     "output_type": "stream",
     "text": [
      "enter nameasif\n",
      "enter your hobbies a,na,an\n"
     ]
    },
    {
     "data": {
      "text/plain": [
       "{'name': 'asif', 'hobbies': ['a', 'na', 'an']}"
      ]
     },
     "execution_count": 3,
     "metadata": {},
     "output_type": "execute_result"
    }
   ],
   "source": [
    "{  'name': input('enter name'),\n",
    "    'hobbies': input('enter your hobbies ').split(',')\n",
    "    'marks': \n",
    "}"
   ]
  },
  {
   "cell_type": "code",
   "execution_count": null,
   "metadata": {},
   "outputs": [],
   "source": [
    "data = {}\n",
    "data['names']= input('Enter your name')\n",
    "data['hobbies']=input('enter your hobbies ').split(',')\n",
    "data['marks']= {input('Subject'):input('Marks') for _ in range(3)}\n",
    "data"
   ]
  },
  {
   "cell_type": "code",
   "execution_count": null,
   "metadata": {},
   "outputs": [],
   "source": [
    "data['marks']"
   ]
  },
  {
   "cell_type": "code",
   "execution_count": null,
   "metadata": {},
   "outputs": [],
   "source": []
  }
 ],
 "metadata": {
  "kernelspec": {
   "display_name": "Python 3",
   "language": "python",
   "name": "python3"
  },
  "language_info": {
   "codemirror_mode": {
    "name": "ipython",
    "version": 3
   },
   "file_extension": ".py",
   "mimetype": "text/x-python",
   "name": "python",
   "nbconvert_exporter": "python",
   "pygments_lexer": "ipython3",
   "version": "3.7.3"
  }
 },
 "nbformat": 4,
 "nbformat_minor": 2
}
