{
 "cells": [
  {
   "cell_type": "markdown",
   "metadata": {},
   "source": [
    "# Topic\n",
    "- **Class\n",
    "\n",
    "- **instance**/objects\n",
    "\n",
    "- **Method**/things an object can do.\n",
    "\n",
    "- **Attributes**/properties/objects specifications\n",
    "\n",
    "- **class variable**\n",
    "- **instance variable**\n",
    "\n",
    "- **inheritance**/ parent to child-> top to bottom\n",
    "\n",
    "\n",
    "- **encupsolation**/ derived from capsule(for a class> some of the methods and attribtes are set as private so that noone can access them. these private methods and attributed have their own way to update or change by passing through a specfic function i.e. getter and setter function)\n",
    "\n",
    "\n",
    "- **Abstraction**/ means uncomplete. any class for which new instance/objects can not be made> child class is made and method and attributes are inhertanced from parent class. \n",
    "\n",
    "\n",
    "- **Ploymorphisim**/ poly means more than one-> any method/instance whih can do more than one work + example.\n",
    "\n",
    "- **over loading**-> same class > any uniqe function with same name but repeated more than one time > no of parameters or their sequence would be change\n",
    "\n",
    "- **over writing**-> parent class(speaking function) inhareted in child class(child also speak) but  in child class the speaking function have been written again this is called over writing.\n"
   ]
  },
  {
   "cell_type": "code",
   "execution_count": 1,
   "metadata": {},
   "outputs": [],
   "source": [
    "class Man():\n",
    "    def __init__(self,name,fname, course, city ):#Constructor self can be different also\n",
    "        self.name   = name# attribues / properties \n",
    "        self.fname  = fname\n",
    "        self.course = course\n",
    "        self.city   = city\n",
    "        \n",
    "    def speaking(self, words = \"Hello\"):\n",
    "        print(words)\n",
    "    \n",
    "    def walking(self, speed = \"10 km/h\"):\n",
    "        print(\"I am walking at the speed of \", speed)\n",
    "    \n",
    "    def eating(self, eat = \"Roti\"):\n",
    "        print(\"I am eating \", eat)\n",
    "        \n",
    "    def sleeping(self, sleep = \"Khhahaha\"):\n",
    "        print(\"my sleeping is like that \", sleep)\n",
    "        \n",
    "    def change_name(self):\n",
    "        new_name = input(\"enter new name\")\n",
    "        self.name = new_name\n",
    "            \n",
    "        \n",
    "    "
   ]
  },
  {
   "cell_type": "code",
   "execution_count": 2,
   "metadata": {},
   "outputs": [],
   "source": [
    "obj1 = Man('asif','irshad','AI','islamabad')\n",
    "obj2 = Man('kashif','ramzan','AI','rawalpindi')\n",
    "obj3 = Man('wasif','irshad','AI','texila')\n"
   ]
  },
  {
   "cell_type": "code",
   "execution_count": 4,
   "metadata": {},
   "outputs": [
    {
     "name": "stdout",
     "output_type": "stream",
     "text": [
      "my sleeping is like that  Khhahaha\n"
     ]
    }
   ],
   "source": [
    "obj2.name# calling object methods\n",
    "\n",
    "obj2.sleeping()"
   ]
  },
  {
   "cell_type": "code",
   "execution_count": 7,
   "metadata": {},
   "outputs": [
    {
     "name": "stdout",
     "output_type": "stream",
     "text": [
      "I am eating  boti\n"
     ]
    }
   ],
   "source": [
    "obj2.eating('boti')# callign object methods. it should be with ()"
   ]
  },
  {
   "cell_type": "code",
   "execution_count": 6,
   "metadata": {},
   "outputs": [
    {
     "data": {
      "text/plain": [
       "'asif'"
      ]
     },
     "execution_count": 6,
     "metadata": {},
     "output_type": "execute_result"
    }
   ],
   "source": [
    "obj3.city\n",
    "obj1.name"
   ]
  },
  {
   "cell_type": "code",
   "execution_count": 12,
   "metadata": {},
   "outputs": [
    {
     "name": "stdout",
     "output_type": "stream",
     "text": [
      "I am walking at the speed of  25 km/h\n"
     ]
    }
   ],
   "source": [
    "obj2.walking(\"25 km/h\")"
   ]
  },
  {
   "cell_type": "code",
   "execution_count": 4,
   "metadata": {},
   "outputs": [
    {
     "name": "stdout",
     "output_type": "stream",
     "text": [
      "my sleeping is like that  Khhahaha\n",
      "enter new namenamsif\n"
     ]
    },
    {
     "data": {
      "text/plain": [
       "'namsif'"
      ]
     },
     "execution_count": 4,
     "metadata": {},
     "output_type": "execute_result"
    }
   ],
   "source": [
    "obj3.sleeping()\n",
    "obj3.name\n",
    "obj3.change_name()\n",
    "obj3.name"
   ]
  },
  {
   "cell_type": "markdown",
   "metadata": {},
   "source": [
    "## inheritance"
   ]
  },
  {
   "cell_type": "code",
   "execution_count": 10,
   "metadata": {},
   "outputs": [],
   "source": [
    "class baba(Man):\n",
    "    pass"
   ]
  },
  {
   "cell_type": "code",
   "execution_count": 11,
   "metadata": {},
   "outputs": [],
   "source": [
    "ob1 = baba('saqib','irshad','cad','bahawalpur') "
   ]
  },
  {
   "cell_type": "code",
   "execution_count": 12,
   "metadata": {},
   "outputs": [
    {
     "name": "stdout",
     "output_type": "stream",
     "text": [
      "Hello\n"
     ]
    }
   ],
   "source": [
    "ob1.speaking()"
   ]
  },
  {
   "cell_type": "code",
   "execution_count": 13,
   "metadata": {},
   "outputs": [
    {
     "data": {
      "text/plain": [
       "'bahawalpur'"
      ]
     },
     "execution_count": 13,
     "metadata": {},
     "output_type": "execute_result"
    }
   ],
   "source": [
    "ob1.city"
   ]
  },
  {
   "cell_type": "markdown",
   "metadata": {},
   "source": [
    "## class variable"
   ]
  },
  {
   "cell_type": "code",
   "execution_count": 15,
   "metadata": {},
   "outputs": [],
   "source": [
    "class Man():\n",
    "    \n",
    "    counter = 0 # class variable\n",
    "    \n",
    "    def __init__(self,name,fname, course, city ):#Constructor self can be different also\n",
    "        self.name   = name# attribues / properties \n",
    "        self.fname  = fname\n",
    "        self.course = course\n",
    "        self.city   = city\n",
    "        Man.counter += 1\n",
    "        print(Man.counter)\n",
    "        \n",
    "    def speaking(self, words = \"Hello\"):\n",
    "        print(words)\n",
    "    \n",
    "    def walking(self, speed = \"10 km/h\"):\n",
    "        print(\"I am walking at the speed of \", speed)\n",
    "    \n",
    "    def eating(self, eat = \"Roti\"):\n",
    "        print(\"I am eating \", eat)\n",
    "        \n",
    "    def sleeping(self, sleep = \"Khhahaha\"):\n",
    "        print(\"my sleeping is like that \", sleep)\n",
    "        \n",
    "    \n",
    "        \n",
    "    "
   ]
  },
  {
   "cell_type": "code",
   "execution_count": 16,
   "metadata": {},
   "outputs": [
    {
     "name": "stdout",
     "output_type": "stream",
     "text": [
      "1\n",
      "2\n",
      "3\n",
      "<__main__.Man object at 0x0000021F17AC46D8>\n"
     ]
    }
   ],
   "source": [
    "obj1 = Man('asif','irshad','AI','islamabad')\n",
    "obj2 = Man('asif','irshad','AI','islamabad')\n",
    "obj3 = Man('asif','irshad','AI','islamabad')\n",
    "print(obj1)"
   ]
  },
  {
   "cell_type": "code",
   "execution_count": 23,
   "metadata": {},
   "outputs": [
    {
     "data": {
      "text/plain": [
       "3"
      ]
     },
     "execution_count": 23,
     "metadata": {},
     "output_type": "execute_result"
    }
   ],
   "source": [
    "Man.counter"
   ]
  },
  {
   "cell_type": "code",
   "execution_count": 1,
   "metadata": {},
   "outputs": [],
   "source": [
    "# class code practice begin from here"
   ]
  },
  {
   "cell_type": "code",
   "execution_count": 15,
   "metadata": {},
   "outputs": [],
   "source": [
    "class Student():\n",
    "    def __init__(this, sid):\n",
    "        this.sid = sid\n",
    "        this.name = \"\"\n",
    "        this.fname = \"\"\n",
    "        this.course = \"\"\n",
    "        this.fee = 0\n",
    "        \n",
    "        \n",
    "    def login(this):\n",
    "        pass\n",
    "    \n",
    "    def logout(this):\n",
    "        pass\n",
    "    \n",
    "    def quiz_attempt(this):\n",
    "        pass\n",
    "    \n",
    "    def attendance_mark(this):\n",
    "        pass\n",
    "        \n",
    "s1 = Student(1)\n",
    "s2 = Student(15)\n",
    "s3 = Student(100)"
   ]
  },
  {
   "cell_type": "code",
   "execution_count": 19,
   "metadata": {},
   "outputs": [
    {
     "name": "stdout",
     "output_type": "stream",
     "text": [
      "asif\n",
      "wasif\n",
      "saqib\n"
     ]
    }
   ],
   "source": [
    "print(s1.name,s2.name,s3.name, sep=\"\\n\")"
   ]
  },
  {
   "cell_type": "code",
   "execution_count": 20,
   "metadata": {},
   "outputs": [
    {
     "name": "stdout",
     "output_type": "stream",
     "text": [
      "asif\n",
      "wasif\n",
      "saqib\n"
     ]
    }
   ],
   "source": [
    "s1.name = 'asif'\n",
    "s2.name = 'wasif'\n",
    "s3.name = 'saqib'\n",
    "\n",
    "\n",
    "print(s1.name,s2.name,s3.name, sep=\"\\n\")"
   ]
  },
  {
   "cell_type": "code",
   "execution_count": 21,
   "metadata": {},
   "outputs": [
    {
     "name": "stdout",
     "output_type": "stream",
     "text": [
      "1\n",
      "15\n",
      "100\n"
     ]
    }
   ],
   "source": [
    "print(s1.sid,s2.sid,s3.sid, sep=\"\\n\")"
   ]
  },
  {
   "cell_type": "markdown",
   "metadata": {},
   "source": [
    "# Class Variable\n"
   ]
  },
  {
   "cell_type": "code",
   "execution_count": 2,
   "metadata": {},
   "outputs": [
    {
     "data": {
      "text/plain": [
       "3"
      ]
     },
     "execution_count": 2,
     "metadata": {},
     "output_type": "execute_result"
    }
   ],
   "source": [
    "class Student(): # calss name\n",
    "    \n",
    "    counter = 0 # class variable\n",
    "    \n",
    "    def __init__(this, sid): # class constructor\n",
    "        this.sid = sid # class attributes/properties/feilds/datamember\n",
    "        this.name = \"\"\n",
    "        this.fname = \"\"\n",
    "        this.course = \"\" # class attributes/properties/feilds/datamember\n",
    "        this.fee = 0\n",
    "        this.user = \"abc\"\n",
    "        Student.counter += 1\n",
    "        \n",
    "        \n",
    "    def login(this,user_name,password):# methods, function , actions\n",
    "        this.user = user_name\n",
    "        print(\"Welcome \" , this.user)\n",
    "        pass\n",
    "    \n",
    "    def logout(this):\n",
    "        pass\n",
    "    \n",
    "    def quiz_attempt(this):\n",
    "        pass\n",
    "    \n",
    "    def attendance_mark(this):\n",
    "        pass\n",
    "        \n",
    "s1 = Student(1)\n",
    "s2 = Student(15)\n",
    "s3 = Student(100)\n",
    "\n",
    "s2.counter"
   ]
  },
  {
   "cell_type": "code",
   "execution_count": 27,
   "metadata": {},
   "outputs": [
    {
     "data": {
      "text/plain": [
       "3"
      ]
     },
     "execution_count": 27,
     "metadata": {},
     "output_type": "execute_result"
    }
   ],
   "source": [
    "Student.counter"
   ]
  },
  {
   "cell_type": "code",
   "execution_count": null,
   "metadata": {},
   "outputs": [],
   "source": []
  },
  {
   "cell_type": "code",
   "execution_count": 29,
   "metadata": {},
   "outputs": [
    {
     "name": "stdout",
     "output_type": "stream",
     "text": [
      "Welcome  qasim\n"
     ]
    }
   ],
   "source": [
    "s1.login(\"qasim\",\"123\")"
   ]
  },
  {
   "cell_type": "code",
   "execution_count": 30,
   "metadata": {},
   "outputs": [
    {
     "name": "stdout",
     "output_type": "stream",
     "text": [
      "17-11-1986\n"
     ]
    }
   ],
   "source": [
    "s1.DOB = \"17-11-1986\"\n",
    "print(s1.DOB)"
   ]
  },
  {
   "cell_type": "code",
   "execution_count": 31,
   "metadata": {},
   "outputs": [],
   "source": [
    "del s1.DOB"
   ]
  },
  {
   "cell_type": "markdown",
   "metadata": {},
   "source": [
    "# Inheritance"
   ]
  },
  {
   "cell_type": "code",
   "execution_count": 33,
   "metadata": {},
   "outputs": [],
   "source": [
    "class Parent():\n",
    "    def __init__(self):\n",
    "        self.name = \"\"\n",
    "        self.fname = \"\"\n",
    "    \n",
    "    def speak(self, words=\"\"):\n",
    "        print(words,\"...\")\n",
    "    \n",
    "    def eat(self, food=\"roti\"):\n",
    "        print(food)"
   ]
  },
  {
   "cell_type": "code",
   "execution_count": 34,
   "metadata": {},
   "outputs": [],
   "source": [
    "class Child(Parent):\n",
    "    pass"
   ]
  },
  {
   "cell_type": "code",
   "execution_count": 36,
   "metadata": {},
   "outputs": [
    {
     "name": "stdout",
     "output_type": "stream",
     "text": [
      "roti\n"
     ]
    }
   ],
   "source": [
    "Child.eat(\"\")"
   ]
  },
  {
   "cell_type": "code",
   "execution_count": 1,
   "metadata": {},
   "outputs": [
    {
     "name": "stdout",
     "output_type": "stream",
     "text": [
      "Enter your workprint\n",
      "Enter your worksdd\n"
     ]
    }
   ],
   "source": [
    "class Father():\n",
    "    def __init__(self):\n",
    "        self.name = \"\"\n",
    "        self.job = \"developer\"\n",
    "        \n",
    "    def task(self, work = input(\"Enter your work\")):\n",
    "        print(\"i do \", work)\n",
    "        \n",
    "class Mother():\n",
    "    def __init__(self):\n",
    "        self.name = \"\"\n",
    "        self.job = \"House wife\"\n",
    "        \n",
    "    def task(self, work = input(\"Enter your work\")):\n",
    "        print(\"i do \", work)\n",
    "        \n",
    "\\Father.task(\"\")\n",
    "\n",
    "Mother.task(\"\")\n",
    "\n",
    "\n",
    "\n"
   ]
  },
  {
   "cell_type": "code",
   "execution_count": 13,
   "metadata": {},
   "outputs": [
    {
     "name": "stdout",
     "output_type": "stream",
     "text": [
      " ...\n",
      "Pakistan ...\n"
     ]
    },
    {
     "data": {
      "text/plain": [
       "'asif'"
      ]
     },
     "execution_count": 13,
     "metadata": {},
     "output_type": "execute_result"
    }
   ],
   "source": [
    "class Father():\n",
    "    def __init__(self):\n",
    "        self.name = \"asif\"\n",
    "        self.job = \"developer\"\n",
    "        \n",
    "    def task(self, work = ''):\n",
    "        print(\"i do \", work)\n",
    "        \n",
    "class Mother():\n",
    "    def __init__(self,name):\n",
    "        self.name = \"sara\"\n",
    "        self.job = \"House wife\"\n",
    "        \n",
    "    def speak(self, words=\"\"):\n",
    "        print(words,\"...\")\n",
    "        \n",
    "    def task(self, work = ''):\n",
    "        print(\"i do \", work)\n",
    "'''        \n",
    "Father.name = \"Saqib\"\n",
    "print(\"The Father name is \", Father.name)\n",
    "mother1 = Mother(\"\")\n",
    "\n",
    "mother1.name\n",
    "'''\n",
    "class Child(Father,Mother):\n",
    "    pass\n",
    "\n",
    "c1 = Child()\n",
    "c1.name\n",
    "c1.speak()\n",
    "c1.speak(\"Pakistan\")\n",
    "c1.name"
   ]
  },
  {
   "cell_type": "markdown",
   "metadata": {},
   "source": [
    "# POLYMORPHISM\n",
    "### Overloading"
   ]
  },
  {
   "cell_type": "code",
   "execution_count": 22,
   "metadata": {},
   "outputs": [
    {
     "name": "stdout",
     "output_type": "stream",
     "text": [
      "15\n",
      "2\n"
     ]
    }
   ],
   "source": [
    "class A():\n",
    "    \n",
    "    def abc(self,*n):\n",
    "        print(sum(n))\n",
    "obj1 = A()        \n",
    "obj1.abc(1,2,3,4,5)\n",
    "obj1.abc(2)"
   ]
  },
  {
   "cell_type": "markdown",
   "metadata": {},
   "source": [
    "# Over Riding"
   ]
  },
  {
   "cell_type": "code",
   "execution_count": 23,
   "metadata": {},
   "outputs": [
    {
     "name": "stdout",
     "output_type": "stream",
     "text": [
      "Speak Function Class A\n"
     ]
    }
   ],
   "source": [
    "class A():\n",
    "    def speak(self):\n",
    "        print(\"Speak Function Class A\")\n",
    "        \n",
    "        \n",
    "class B(A):\n",
    "  #  def speak(self): # Over Riding\n",
    "  #      print(\"Speak Function Class B\")\n",
    "    pass\n",
    "        \n",
    "obj1 = B()        \n",
    "obj1.speak()"
   ]
  },
  {
   "cell_type": "code",
   "execution_count": 24,
   "metadata": {},
   "outputs": [
    {
     "name": "stdout",
     "output_type": "stream",
     "text": [
      "Speak Function Class B\n"
     ]
    }
   ],
   "source": [
    "class A():\n",
    "    def speak(self):\n",
    "        print(\"Speak Function Class A\")\n",
    "        \n",
    "        \n",
    "class B(A):\n",
    "       def speak(self): # Over Riding\n",
    "               print(\"Speak Function Class B\")\n",
    "    \n",
    "        \n",
    "obj1 = B()        \n",
    "obj1.speak()"
   ]
  },
  {
   "cell_type": "markdown",
   "metadata": {},
   "source": [
    "# Encopsoluation\n"
   ]
  },
  {
   "cell_type": "code",
   "execution_count": null,
   "metadata": {},
   "outputs": [],
   "source": []
  }
 ],
 "metadata": {
  "kernelspec": {
   "display_name": "Python 3",
   "language": "python",
   "name": "python3"
  },
  "language_info": {
   "codemirror_mode": {
    "name": "ipython",
    "version": 3
   },
   "file_extension": ".py",
   "mimetype": "text/x-python",
   "name": "python",
   "nbconvert_exporter": "python",
   "pygments_lexer": "ipython3",
   "version": "3.7.3"
  }
 },
 "nbformat": 4,
 "nbformat_minor": 2
}
