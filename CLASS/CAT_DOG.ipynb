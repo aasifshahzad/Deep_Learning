{
 "cells": [
  {
   "cell_type": "code",
   "execution_count": 1,
   "metadata": {},
   "outputs": [],
   "source": [
    "from tensorflow.keras.preprocessing.image import ImageDataGenerator"
   ]
  },
  {
   "cell_type": "code",
   "execution_count": 2,
   "metadata": {},
   "outputs": [],
   "source": [
    "train_data_gen = ImageDataGenerator(rescale=1.0/255) # Normalization\n",
    "test_data_gen = ImageDataGenerator(rescale=1.0/255) # Normalization"
   ]
  },
  {
   "cell_type": "code",
   "execution_count": 3,
   "metadata": {},
   "outputs": [
    {
     "name": "stdout",
     "output_type": "stream",
     "text": [
      "Found 2202 images belonging to 2 classes.\n"
     ]
    }
   ],
   "source": [
    "train_data = train_data_gen.flow_from_directory(\n",
    "                                            './data/cat_dog',\n",
    "                                            target_size=(150,150),\n",
    "                                            batch_size= 20,\n",
    "                                            class_mode= 'binary')"
   ]
  },
  {
   "cell_type": "code",
   "execution_count": 4,
   "metadata": {},
   "outputs": [
    {
     "name": "stdout",
     "output_type": "stream",
     "text": [
      "Found 2202 images belonging to 2 classes.\n"
     ]
    }
   ],
   "source": [
    "test_data = test_data_gen.flow_from_directory(\n",
    "                                            './data/cat_dog',\n",
    "                                            target_size=(150, 150),\n",
    "                                            batch_size=20,\n",
    "                                            class_mode='binary')"
   ]
  },
  {
   "cell_type": "code",
   "execution_count": 5,
   "metadata": {},
   "outputs": [],
   "source": [
    "from tensorflow.keras.models import Sequential\n",
    "from tensorflow.keras.layers import Dense,Convolution2D,MaxPooling2D,Activation,Flatten\n",
    "from tensorflow.keras.optimizers import Adam, SGD,RMSprop"
   ]
  },
  {
   "cell_type": "code",
   "execution_count": 6,
   "metadata": {},
   "outputs": [],
   "source": [
    "model = Sequential()\n",
    "model.add(Flatten())\n",
    "model.add(Dense(512, activation = 'relu',input_shape = (22500,)))\n",
    "model.add(Dense(256, activation = 'relu'))\n",
    "model.add(Dense(128, activation = 'relu'))\n",
    "model.add(Dense(64, activation = 'relu'))\n",
    "model.add(Dense(1,activation = 'sigmoid'))\n"
   ]
  },
  {
   "cell_type": "code",
   "execution_count": 7,
   "metadata": {},
   "outputs": [],
   "source": [
    "model.compile(\n",
    "            loss = 'binary_crossentropy',\n",
    "            optimizer= RMSprop(learning_rate=0.002),\n",
    "            metrics = ['acc'])"
   ]
  },
  {
   "cell_type": "code",
   "execution_count": 8,
   "metadata": {},
   "outputs": [
    {
     "name": "stdout",
     "output_type": "stream",
     "text": [
      "Epoch 1/10\n",
      "111/111 [==============================] - 58s 518ms/step - loss: 9.5839 - acc: 0.7916\n",
      "Epoch 2/10\n",
      "111/111 [==============================] - 56s 505ms/step - loss: 0.5952 - acc: 0.8851\n",
      "Epoch 3/10\n",
      "111/111 [==============================] - 59s 530ms/step - loss: 0.3516 - acc: 0.9092\n",
      "Epoch 4/10\n",
      "111/111 [==============================] - 61s 548ms/step - loss: 0.3748 - acc: 0.9092\n",
      "Epoch 5/10\n",
      "111/111 [==============================] - 62s 556ms/step - loss: 0.3422 - acc: 0.9092\n",
      "Epoch 6/10\n",
      "111/111 [==============================] - 63s 565ms/step - loss: 0.3337 - acc: 0.9092\n",
      "Epoch 7/10\n",
      "111/111 [==============================] - 63s 565ms/step - loss: 0.3686 - acc: 0.9087\n",
      "Epoch 8/10\n",
      "111/111 [==============================] - 63s 564ms/step - loss: 0.3162 - acc: 0.9092\n",
      "Epoch 9/10\n",
      "111/111 [==============================] - 64s 576ms/step - loss: 0.3181 - acc: 0.9092\n",
      "Epoch 10/10\n",
      "111/111 [==============================] - 63s 572ms/step - loss: 0.3066 - acc: 0.9092\n"
     ]
    }
   ],
   "source": [
    "history = model.fit(train_data,epochs = 10)"
   ]
  },
  {
   "cell_type": "code",
   "execution_count": 9,
   "metadata": {},
   "outputs": [
    {
     "data": {
      "text/plain": [
       "dict_keys(['loss', 'acc'])"
      ]
     },
     "execution_count": 9,
     "metadata": {},
     "output_type": "execute_result"
    }
   ],
   "source": [
    "history_dict = history.history\n",
    "history_dict.keys()"
   ]
  },
  {
   "cell_type": "code",
   "execution_count": 13,
   "metadata": {},
   "outputs": [
    {
     "data": {
      "text/plain": [
       "0.3066176474094391"
      ]
     },
     "execution_count": 13,
     "metadata": {},
     "output_type": "execute_result"
    }
   ],
   "source": [
    "min(history_dict['loss'])"
   ]
  },
  {
   "cell_type": "code",
   "execution_count": 14,
   "metadata": {},
   "outputs": [
    {
     "data": {
      "text/plain": [
       "0.9091734886169434"
      ]
     },
     "execution_count": 14,
     "metadata": {},
     "output_type": "execute_result"
    }
   ],
   "source": [
    "max(history_dict['acc'])"
   ]
  },
  {
   "cell_type": "code",
   "execution_count": 16,
   "metadata": {},
   "outputs": [
    {
     "data": {
      "text/plain": [
       "{'test': 0, 'train': 1}"
      ]
     },
     "execution_count": 16,
     "metadata": {},
     "output_type": "execute_result"
    }
   ],
   "source": [
    "train_data.class_indices\n"
   ]
  },
  {
   "cell_type": "code",
   "execution_count": 25,
   "metadata": {},
   "outputs": [
    {
     "name": "stdout",
     "output_type": "stream",
     "text": [
      "cat\n"
     ]
    }
   ],
   "source": [
    "# make a prediction for a new image.\n",
    "from tensorflow.keras.preprocessing.image import load_img\n",
    "from tensorflow.keras.preprocessing.image import img_to_array\n",
    "from tensorflow.keras.models import load_model\n",
    "\n",
    "# load and prepare the image\n",
    "def load_image(filename):\n",
    "\t# load the image\n",
    "\timg = load_img(filename, target_size=(150,150))\n",
    "\t# convert to array\n",
    "\timg = img_to_array(img)\n",
    "\t# reshape into a single sample with 3 channels\n",
    "\timg = img.reshape(1,150,150, 3)\n",
    "\t# center pixel data\n",
    "\timg = img.astype('float32')\n",
    "\timg = img - [123.68, 116.779, 103.939]\n",
    "\treturn img\n",
    "\n",
    "# load an image and predict the class\n",
    "\t# load the image\n",
    "img = load_image('C:/Users/Asif/QUARTER 2/Deep Learning/ CLASS/data/cat_dog/test/200.jpg')\n",
    "\n",
    "# predict the class\n",
    "result = model.predict(img)\n",
    "if(result[0]==0):\n",
    "    print(\"dog\")\n",
    "else:\n",
    "    print(\"cat\")"
   ]
  },
  {
   "cell_type": "code",
   "execution_count": null,
   "metadata": {},
   "outputs": [],
   "source": []
  }
 ],
 "metadata": {
  "kernelspec": {
   "display_name": "Python 3",
   "language": "python",
   "name": "python3"
  },
  "language_info": {
   "codemirror_mode": {
    "name": "ipython",
    "version": 3
   },
   "file_extension": ".py",
   "mimetype": "text/x-python",
   "name": "python",
   "nbconvert_exporter": "python",
   "pygments_lexer": "ipython3",
   "version": "3.7.3"
  }
 },
 "nbformat": 4,
 "nbformat_minor": 2
}
