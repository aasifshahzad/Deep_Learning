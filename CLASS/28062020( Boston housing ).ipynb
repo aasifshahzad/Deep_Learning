{
 "cells": [
  {
   "cell_type": "code",
   "execution_count": 2,
   "metadata": {},
   "outputs": [],
   "source": [
    "from tensorflow.keras.datasets import boston_housing"
   ]
  },
  {
   "cell_type": "code",
   "execution_count": 4,
   "metadata": {},
   "outputs": [
    {
     "name": "stdout",
     "output_type": "stream",
     "text": [
      "Downloading data from https://storage.googleapis.com/tensorflow/tf-keras-datasets/boston_housing.npz\n",
      "57344/57026 [==============================] - 1s 18us/step\n"
     ]
    }
   ],
   "source": [
    "(X_train,y_train),(X_test,y_test) = boston_housing.load_data()"
   ]
  },
  {
   "cell_type": "code",
   "execution_count": 5,
   "metadata": {},
   "outputs": [
    {
     "name": "stdout",
     "output_type": "stream",
     "text": [
      "[  1.23247   0.        8.14      0.        0.538     6.142    91.7\n",
      "   3.9769    4.      307.       21.      396.9      18.72   ] 15.2\n"
     ]
    }
   ],
   "source": [
    "# sample of features\n",
    "print(X_train[0],y_train[0])"
   ]
  },
  {
   "cell_type": "code",
   "execution_count": 8,
   "metadata": {},
   "outputs": [
    {
     "data": {
      "text/plain": [
       "StandardScaler(copy=True, with_mean=True, with_std=True)"
      ]
     },
     "execution_count": 8,
     "metadata": {},
     "output_type": "execute_result"
    }
   ],
   "source": [
    "# Scaling of data (preprocessing step)\n",
    "from sklearn.preprocessing import StandardScaler\n",
    "scalar = StandardScaler()\n",
    "\n",
    "# we first fit the scalar on training dataset\n",
    "scalar.fit(X_train)"
   ]
  },
  {
   "cell_type": "code",
   "execution_count": 10,
   "metadata": {},
   "outputs": [],
   "source": [
    "# then we call the transform method to scale both training and testing data\n",
    "X_train_scaled = scalar.transform(X_train)\n",
    "X_test_scaled = scalar.transform(X_test)"
   ]
  },
  {
   "cell_type": "code",
   "execution_count": 12,
   "metadata": {},
   "outputs": [
    {
     "data": {
      "text/plain": [
       "array([-0.27224633, -0.48361547, -0.43576161, -0.25683275, -0.1652266 ,\n",
       "       -0.1764426 ,  0.81306188,  0.1166983 , -0.62624905, -0.59517003,\n",
       "        1.14850044,  0.44807713,  0.8252202 ])"
      ]
     },
     "execution_count": 12,
     "metadata": {},
     "output_type": "execute_result"
    }
   ],
   "source": [
    "# a sample output\n",
    "X_train_scaled[0]"
   ]
  },
  {
   "cell_type": "code",
   "execution_count": 21,
   "metadata": {},
   "outputs": [],
   "source": [
    "from tensorflow.keras import models,layers\n",
    "from tensorflow.keras.models import Sequential\n",
    "from tensorflow.keras.layers import Dense"
   ]
  },
  {
   "cell_type": "code",
   "execution_count": 22,
   "metadata": {},
   "outputs": [],
   "source": [
    "model = Sequential()\n",
    "model.add(Dense(8, activation = 'relu',input_shape = [X_train.shape[1]]))\n",
    "model.add(Dense(16, activation = 'relu'))\n",
    "model.add(Dense(1))"
   ]
  },
  {
   "cell_type": "code",
   "execution_count": 24,
   "metadata": {},
   "outputs": [],
   "source": [
    "model.compile(\n",
    "optimizer = 'rmsprop',\n",
    "loss      = 'mse',\n",
    "metrics   = ['mae'])"
   ]
  },
  {
   "cell_type": "code",
   "execution_count": 25,
   "metadata": {},
   "outputs": [
    {
     "name": "stdout",
     "output_type": "stream",
     "text": [
      "Epoch 1/100\n",
      "11/11 [==============================] - 1s 106ms/step - loss: 501.8830 - mae: 20.5935 - val_loss: 555.2729 - val_mae: 21.7740\n",
      "Epoch 2/100\n",
      "11/11 [==============================] - 0s 22ms/step - loss: 481.5596 - mae: 20.1399 - val_loss: 537.6854 - val_mae: 21.3773\n",
      "Epoch 3/100\n",
      "11/11 [==============================] - 0s 30ms/step - loss: 464.6949 - mae: 19.7476 - val_loss: 519.6302 - val_mae: 20.9561\n",
      "Epoch 4/100\n",
      "11/11 [==============================] - 0s 26ms/step - loss: 447.0765 - mae: 19.3218 - val_loss: 499.9209 - val_mae: 20.4889\n",
      "Epoch 5/100\n",
      "11/11 [==============================] - 1s 46ms/step - loss: 427.3670 - mae: 18.8452 - val_loss: 476.6523 - val_mae: 19.9244\n",
      "Epoch 6/100\n",
      "11/11 [==============================] - 0s 23ms/step - loss: 405.7132 - mae: 18.3004 - val_loss: 454.5361 - val_mae: 19.3678\n",
      "Epoch 7/100\n",
      "11/11 [==============================] - 0s 28ms/step - loss: 384.5599 - mae: 17.7399 - val_loss: 430.0230 - val_mae: 18.7291\n",
      "Epoch 8/100\n",
      "11/11 [==============================] - 0s 27ms/step - loss: 362.0950 - mae: 17.1163 - val_loss: 407.0743 - val_mae: 18.0987\n",
      "Epoch 9/100\n",
      "11/11 [==============================] - 0s 24ms/step - loss: 339.6895 - mae: 16.4649 - val_loss: 380.2852 - val_mae: 17.3317\n",
      "Epoch 10/100\n",
      "11/11 [==============================] - 0s 22ms/step - loss: 314.9945 - mae: 15.7315 - val_loss: 352.4280 - val_mae: 16.4882\n",
      "Epoch 11/100\n",
      "11/11 [==============================] - 0s 33ms/step - loss: 290.3213 - mae: 14.9196 - val_loss: 329.1330 - val_mae: 15.7145\n",
      "Epoch 12/100\n",
      "11/11 [==============================] - 0s 14ms/step - loss: 267.9935 - mae: 14.1418 - val_loss: 304.2488 - val_mae: 14.8496\n",
      "Epoch 13/100\n",
      "11/11 [==============================] - 0s 17ms/step - loss: 245.2943 - mae: 13.2909 - val_loss: 277.1005 - val_mae: 13.8808\n",
      "Epoch 14/100\n",
      "11/11 [==============================] - 0s 18ms/step - loss: 222.0718 - mae: 12.4232 - val_loss: 256.7013 - val_mae: 13.1503\n",
      "Epoch 15/100\n",
      "11/11 [==============================] - 0s 18ms/step - loss: 203.0017 - mae: 11.6257 - val_loss: 234.7429 - val_mae: 12.3065\n",
      "Epoch 16/100\n",
      "11/11 [==============================] - 0s 15ms/step - loss: 184.2231 - mae: 10.8151 - val_loss: 212.8828 - val_mae: 11.4982\n",
      "Epoch 17/100\n",
      "11/11 [==============================] - 0s 22ms/step - loss: 166.0207 - mae: 10.0128 - val_loss: 196.5579 - val_mae: 10.9277\n",
      "Epoch 18/100\n",
      "11/11 [==============================] - 0s 16ms/step - loss: 151.9439 - mae: 9.4209 - val_loss: 180.9551 - val_mae: 10.4087\n",
      "Epoch 19/100\n",
      "11/11 [==============================] - 0s 15ms/step - loss: 139.3132 - mae: 8.8821 - val_loss: 166.1030 - val_mae: 9.9309\n",
      "Epoch 20/100\n",
      "11/11 [==============================] - 0s 15ms/step - loss: 127.6858 - mae: 8.3925 - val_loss: 153.3063 - val_mae: 9.5085\n",
      "Epoch 21/100\n",
      "11/11 [==============================] - 0s 20ms/step - loss: 117.6900 - mae: 7.9649 - val_loss: 142.5869 - val_mae: 9.1227\n",
      "Epoch 22/100\n",
      "11/11 [==============================] - 0s 18ms/step - loss: 109.9956 - mae: 7.6267 - val_loss: 132.1034 - val_mae: 8.7394\n",
      "Epoch 23/100\n",
      "11/11 [==============================] - 0s 17ms/step - loss: 102.2458 - mae: 7.3094 - val_loss: 123.1960 - val_mae: 8.3778\n",
      "Epoch 24/100\n",
      "11/11 [==============================] - 0s 22ms/step - loss: 96.1348 - mae: 7.0187 - val_loss: 114.1973 - val_mae: 8.0697\n",
      "Epoch 25/100\n",
      "11/11 [==============================] - 0s 12ms/step - loss: 90.0790 - mae: 6.7618 - val_loss: 107.4878 - val_mae: 7.7929\n",
      "Epoch 26/100\n",
      "11/11 [==============================] - 0s 15ms/step - loss: 85.2295 - mae: 6.5504 - val_loss: 100.1119 - val_mae: 7.4705\n",
      "Epoch 27/100\n",
      "11/11 [==============================] - 0s 14ms/step - loss: 80.6898 - mae: 6.3454 - val_loss: 94.1814 - val_mae: 7.1945\n",
      "Epoch 28/100\n",
      "11/11 [==============================] - 0s 16ms/step - loss: 76.7294 - mae: 6.1632 - val_loss: 87.9066 - val_mae: 6.9339\n",
      "Epoch 29/100\n",
      "11/11 [==============================] - 0s 14ms/step - loss: 72.6300 - mae: 5.9875 - val_loss: 82.6327 - val_mae: 6.6815\n",
      "Epoch 30/100\n",
      "11/11 [==============================] - 0s 12ms/step - loss: 69.0209 - mae: 5.8214 - val_loss: 77.0323 - val_mae: 6.4146\n",
      "Epoch 31/100\n",
      "11/11 [==============================] - 0s 12ms/step - loss: 65.2873 - mae: 5.6555 - val_loss: 71.8483 - val_mae: 6.1626\n",
      "Epoch 32/100\n",
      "11/11 [==============================] - 0s 29ms/step - loss: 61.9282 - mae: 5.5014 - val_loss: 68.3883 - val_mae: 6.0321\n",
      "Epoch 33/100\n",
      "11/11 [==============================] - 0s 32ms/step - loss: 59.4040 - mae: 5.3891 - val_loss: 64.9459 - val_mae: 5.8473\n",
      "Epoch 34/100\n",
      "11/11 [==============================] - 0s 21ms/step - loss: 56.8377 - mae: 5.2514 - val_loss: 61.4003 - val_mae: 5.6633\n",
      "Epoch 35/100\n",
      "11/11 [==============================] - 0s 20ms/step - loss: 54.2516 - mae: 5.1175 - val_loss: 57.3921 - val_mae: 5.4610\n",
      "Epoch 36/100\n",
      "11/11 [==============================] - 0s 14ms/step - loss: 51.6755 - mae: 4.9816 - val_loss: 54.7425 - val_mae: 5.2801\n",
      "Epoch 37/100\n",
      "11/11 [==============================] - 0s 20ms/step - loss: 49.6673 - mae: 4.8581 - val_loss: 51.9848 - val_mae: 5.1553\n",
      "Epoch 38/100\n",
      "11/11 [==============================] - 0s 14ms/step - loss: 47.6884 - mae: 4.7600 - val_loss: 50.0242 - val_mae: 5.0616\n",
      "Epoch 39/100\n",
      "11/11 [==============================] - 0s 11ms/step - loss: 46.1875 - mae: 4.6807 - val_loss: 47.5835 - val_mae: 4.9744\n",
      "Epoch 40/100\n",
      "11/11 [==============================] - 0s 12ms/step - loss: 44.3870 - mae: 4.6059 - val_loss: 45.9464 - val_mae: 4.8922\n",
      "Epoch 41/100\n",
      "11/11 [==============================] - 0s 11ms/step - loss: 42.9204 - mae: 4.5181 - val_loss: 44.4625 - val_mae: 4.8298\n",
      "Epoch 42/100\n",
      "11/11 [==============================] - 0s 11ms/step - loss: 41.4246 - mae: 4.4298 - val_loss: 42.0109 - val_mae: 4.6836\n",
      "Epoch 43/100\n",
      "11/11 [==============================] - 0s 10ms/step - loss: 39.9381 - mae: 4.3505 - val_loss: 41.1071 - val_mae: 4.6428\n",
      "Epoch 44/100\n",
      "11/11 [==============================] - 0s 10ms/step - loss: 38.9032 - mae: 4.2882 - val_loss: 40.3572 - val_mae: 4.5345\n",
      "Epoch 45/100\n",
      "11/11 [==============================] - 0s 12ms/step - loss: 38.0817 - mae: 4.2260 - val_loss: 38.9650 - val_mae: 4.4592\n",
      "Epoch 46/100\n",
      "11/11 [==============================] - 0s 14ms/step - loss: 36.9531 - mae: 4.1595 - val_loss: 37.9921 - val_mae: 4.4810\n",
      "Epoch 47/100\n",
      "11/11 [==============================] - 0s 12ms/step - loss: 35.8301 - mae: 4.0931 - val_loss: 36.9008 - val_mae: 4.4385\n",
      "Epoch 48/100\n",
      "11/11 [==============================] - 0s 12ms/step - loss: 34.8366 - mae: 4.0399 - val_loss: 35.4462 - val_mae: 4.2883\n",
      "Epoch 49/100\n",
      "11/11 [==============================] - 0s 10ms/step - loss: 33.7366 - mae: 3.9770 - val_loss: 34.3716 - val_mae: 4.3079\n",
      "Epoch 50/100\n",
      "11/11 [==============================] - 0s 12ms/step - loss: 32.9643 - mae: 3.9273 - val_loss: 33.4083 - val_mae: 4.2569\n",
      "Epoch 51/100\n",
      "11/11 [==============================] - 0s 12ms/step - loss: 32.0299 - mae: 3.8837 - val_loss: 32.5250 - val_mae: 4.1690\n",
      "Epoch 52/100\n",
      "11/11 [==============================] - 0s 11ms/step - loss: 31.2864 - mae: 3.8273 - val_loss: 31.3415 - val_mae: 4.0719\n",
      "Epoch 53/100\n",
      "11/11 [==============================] - 0s 12ms/step - loss: 30.4387 - mae: 3.7890 - val_loss: 30.5968 - val_mae: 4.0707\n",
      "Epoch 54/100\n",
      "11/11 [==============================] - 0s 12ms/step - loss: 29.6454 - mae: 3.7479 - val_loss: 29.9357 - val_mae: 4.0348\n",
      "Epoch 55/100\n",
      "11/11 [==============================] - 0s 14ms/step - loss: 28.9291 - mae: 3.6918 - val_loss: 29.1801 - val_mae: 3.9508\n",
      "Epoch 56/100\n",
      "11/11 [==============================] - 0s 11ms/step - loss: 28.2126 - mae: 3.6469 - val_loss: 28.5136 - val_mae: 3.9028\n",
      "Epoch 57/100\n",
      "11/11 [==============================] - 0s 14ms/step - loss: 27.6754 - mae: 3.6264 - val_loss: 27.6525 - val_mae: 3.9122\n",
      "Epoch 58/100\n",
      "11/11 [==============================] - 0s 17ms/step - loss: 26.9542 - mae: 3.5771 - val_loss: 27.4426 - val_mae: 3.9611\n",
      "Epoch 59/100\n",
      "11/11 [==============================] - 0s 13ms/step - loss: 26.4843 - mae: 3.5518 - val_loss: 26.8970 - val_mae: 3.8961\n",
      "Epoch 60/100\n",
      "11/11 [==============================] - 0s 9ms/step - loss: 25.9653 - mae: 3.5117 - val_loss: 26.2027 - val_mae: 3.8152\n",
      "Epoch 61/100\n",
      "11/11 [==============================] - 0s 17ms/step - loss: 25.4587 - mae: 3.5032 - val_loss: 25.8696 - val_mae: 3.7514\n",
      "Epoch 62/100\n",
      "11/11 [==============================] - 0s 11ms/step - loss: 25.0726 - mae: 3.4732 - val_loss: 25.7436 - val_mae: 3.8051\n",
      "Epoch 63/100\n",
      "11/11 [==============================] - 0s 11ms/step - loss: 24.6537 - mae: 3.4455 - val_loss: 25.7126 - val_mae: 3.8390\n",
      "Epoch 64/100\n",
      "11/11 [==============================] - 0s 9ms/step - loss: 24.2198 - mae: 3.4179 - val_loss: 25.6797 - val_mae: 3.8778\n",
      "Epoch 65/100\n",
      "11/11 [==============================] - 0s 14ms/step - loss: 23.8595 - mae: 3.4033 - val_loss: 24.8559 - val_mae: 3.7298\n",
      "Epoch 66/100\n",
      "11/11 [==============================] - 1s 47ms/step - loss: 23.3781 - mae: 3.3505 - val_loss: 24.5850 - val_mae: 3.7276\n",
      "Epoch 67/100\n",
      "11/11 [==============================] - 0s 37ms/step - loss: 23.0659 - mae: 3.3379 - val_loss: 24.3626 - val_mae: 3.7530\n",
      "Epoch 68/100\n",
      "11/11 [==============================] - 0s 18ms/step - loss: 22.7198 - mae: 3.3334 - val_loss: 23.7472 - val_mae: 3.6538\n",
      "Epoch 69/100\n",
      "11/11 [==============================] - 0s 26ms/step - loss: 22.1993 - mae: 3.2789 - val_loss: 23.3434 - val_mae: 3.5750\n",
      "Epoch 70/100\n",
      "11/11 [==============================] - 0s 20ms/step - loss: 21.9397 - mae: 3.2724 - val_loss: 23.3123 - val_mae: 3.6668\n",
      "Epoch 71/100\n",
      "11/11 [==============================] - 0s 15ms/step - loss: 21.4986 - mae: 3.2539 - val_loss: 23.1092 - val_mae: 3.6516\n",
      "Epoch 72/100\n",
      "11/11 [==============================] - 0s 28ms/step - loss: 21.2234 - mae: 3.2181 - val_loss: 23.1093 - val_mae: 3.7012\n",
      "Epoch 73/100\n",
      "11/11 [==============================] - 0s 15ms/step - loss: 21.0468 - mae: 3.2019 - val_loss: 22.7865 - val_mae: 3.6599\n",
      "Epoch 74/100\n",
      "11/11 [==============================] - 0s 14ms/step - loss: 20.6808 - mae: 3.1822 - val_loss: 22.4428 - val_mae: 3.5877\n",
      "Epoch 75/100\n",
      "11/11 [==============================] - 0s 27ms/step - loss: 20.3928 - mae: 3.1551 - val_loss: 22.3757 - val_mae: 3.6042\n",
      "Epoch 76/100\n",
      "11/11 [==============================] - 0s 18ms/step - loss: 20.1172 - mae: 3.1193 - val_loss: 22.0345 - val_mae: 3.5532\n",
      "Epoch 77/100\n",
      "11/11 [==============================] - 0s 21ms/step - loss: 19.8226 - mae: 3.1268 - val_loss: 21.8548 - val_mae: 3.5168\n",
      "Epoch 78/100\n",
      "11/11 [==============================] - 0s 18ms/step - loss: 19.6705 - mae: 3.1103 - val_loss: 21.7110 - val_mae: 3.5302\n",
      "Epoch 79/100\n",
      "11/11 [==============================] - 0s 15ms/step - loss: 19.4911 - mae: 3.0858 - val_loss: 21.8811 - val_mae: 3.6122\n",
      "Epoch 80/100\n",
      "11/11 [==============================] - 0s 13ms/step - loss: 19.3142 - mae: 3.0711 - val_loss: 21.3259 - val_mae: 3.5133\n",
      "Epoch 81/100\n",
      "11/11 [==============================] - 0s 14ms/step - loss: 19.0947 - mae: 3.0526 - val_loss: 21.1341 - val_mae: 3.4968\n",
      "Epoch 82/100\n",
      "11/11 [==============================] - 0s 23ms/step - loss: 18.9325 - mae: 3.0236 - val_loss: 21.0591 - val_mae: 3.5201\n",
      "Epoch 83/100\n",
      "11/11 [==============================] - 0s 11ms/step - loss: 18.6088 - mae: 2.9985 - val_loss: 20.9667 - val_mae: 3.5165\n",
      "Epoch 84/100\n",
      "11/11 [==============================] - 0s 9ms/step - loss: 18.3783 - mae: 2.9911 - val_loss: 20.7149 - val_mae: 3.5048\n",
      "Epoch 85/100\n",
      "11/11 [==============================] - 0s 8ms/step - loss: 18.2202 - mae: 3.0022 - val_loss: 19.9892 - val_mae: 3.3643\n",
      "Epoch 86/100\n",
      "11/11 [==============================] - 0s 10ms/step - loss: 17.9988 - mae: 2.9523 - val_loss: 20.2044 - val_mae: 3.4480\n",
      "Epoch 87/100\n",
      "11/11 [==============================] - 0s 9ms/step - loss: 17.8925 - mae: 2.9480 - val_loss: 20.0530 - val_mae: 3.4299\n",
      "Epoch 88/100\n",
      "11/11 [==============================] - 0s 12ms/step - loss: 17.6541 - mae: 2.9282 - val_loss: 19.8025 - val_mae: 3.3981\n",
      "Epoch 89/100\n",
      "11/11 [==============================] - 0s 10ms/step - loss: 17.4141 - mae: 2.8864 - val_loss: 19.6262 - val_mae: 3.3417\n",
      "Epoch 90/100\n",
      "11/11 [==============================] - 0s 10ms/step - loss: 17.2140 - mae: 2.8618 - val_loss: 19.6659 - val_mae: 3.3873\n",
      "Epoch 91/100\n",
      "11/11 [==============================] - 0s 10ms/step - loss: 17.1087 - mae: 2.8662 - val_loss: 20.0368 - val_mae: 3.4528\n",
      "Epoch 92/100\n",
      "11/11 [==============================] - 0s 13ms/step - loss: 16.8969 - mae: 2.8984 - val_loss: 19.3861 - val_mae: 3.3212\n",
      "Epoch 93/100\n",
      "11/11 [==============================] - 0s 10ms/step - loss: 16.7644 - mae: 2.8656 - val_loss: 19.4570 - val_mae: 3.3712\n",
      "Epoch 94/100\n",
      "11/11 [==============================] - 0s 9ms/step - loss: 16.6131 - mae: 2.8580 - val_loss: 19.2705 - val_mae: 3.3606\n",
      "Epoch 95/100\n",
      "11/11 [==============================] - 0s 8ms/step - loss: 16.3987 - mae: 2.8458 - val_loss: 18.9227 - val_mae: 3.3049\n",
      "Epoch 96/100\n",
      "11/11 [==============================] - 0s 8ms/step - loss: 16.2714 - mae: 2.8115 - val_loss: 18.6811 - val_mae: 3.2716\n",
      "Epoch 97/100\n",
      "11/11 [==============================] - 0s 9ms/step - loss: 16.1663 - mae: 2.7827 - val_loss: 18.6285 - val_mae: 3.2782\n",
      "Epoch 98/100\n",
      "11/11 [==============================] - 0s 11ms/step - loss: 15.9537 - mae: 2.7669 - val_loss: 18.9480 - val_mae: 3.3512\n",
      "Epoch 99/100\n",
      "11/11 [==============================] - 0s 12ms/step - loss: 15.8689 - mae: 2.7795 - val_loss: 18.3809 - val_mae: 3.2676\n",
      "Epoch 100/100\n",
      "11/11 [==============================] - 0s 10ms/step - loss: 15.5514 - mae: 2.7257 - val_loss: 18.2078 - val_mae: 3.2158\n"
     ]
    }
   ],
   "source": [
    "history = model.fit(X_train_scaled,y_train,validation_split = 0.2,epochs = 100)"
   ]
  },
  {
   "cell_type": "code",
   "execution_count": 26,
   "metadata": {},
   "outputs": [
    {
     "name": "stdout",
     "output_type": "stream",
     "text": [
      "4/4 [==============================] - 0s 27ms/step - loss: 25.7687 - mae: 3.7213\n"
     ]
    },
    {
     "data": {
      "text/plain": [
       "[25.768674850463867, 3.721346378326416]"
      ]
     },
     "execution_count": 26,
     "metadata": {},
     "output_type": "execute_result"
    }
   ],
   "source": [
    "model.evaluate(X_test_scaled,y_test)\n",
    "#Output"
   ]
  },
  {
   "cell_type": "code",
   "execution_count": 29,
   "metadata": {},
   "outputs": [
    {
     "name": "stdout",
     "output_type": "stream",
     "text": [
      "[[13.387224]\n",
      " [41.24841 ]\n",
      " [28.5482  ]]\n",
      "[15.2 42.3 50. ]\n"
     ]
    }
   ],
   "source": [
    "#Model Prediction\n",
    "# we get a sample data (the first 2 inputs from the training data)\n",
    "to_predict = X_train_scaled[:3]\n",
    "# we call the predict method\n",
    "predictions = model.predict(to_predict)\n",
    "# print the predictions\n",
    "print(predictions)\n",
    "# output\n",
    "# array([[13.272537], [39.808475]], dtype=float32)\n",
    "# print the real values\n",
    "print(y_train[:3])\n",
    "# array([15.2, 42.3])"
   ]
  },
  {
   "cell_type": "code",
   "execution_count": null,
   "metadata": {},
   "outputs": [],
   "source": []
  }
 ],
 "metadata": {
  "kernelspec": {
   "display_name": "Python 3",
   "language": "python",
   "name": "python3"
  },
  "language_info": {
   "codemirror_mode": {
    "name": "ipython",
    "version": 3
   },
   "file_extension": ".py",
   "mimetype": "text/x-python",
   "name": "python",
   "nbconvert_exporter": "python",
   "pygments_lexer": "ipython3",
   "version": "3.8.5"
  }
 },
 "nbformat": 4,
 "nbformat_minor": 2
}
