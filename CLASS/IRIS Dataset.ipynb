{
 "cells": [
  {
   "cell_type": "code",
   "execution_count": 1,
   "metadata": {},
   "outputs": [],
   "source": [
    "import numpy as np # linear algebra\n",
    "import pandas as pd # data processing, CSV file I/O (e.g. pd.read_csv)"
   ]
  },
  {
   "cell_type": "code",
   "execution_count": 2,
   "metadata": {},
   "outputs": [],
   "source": [
    "path = './data/iris.data.csv'\n",
    "df = pd.read_csv(path)"
   ]
  },
  {
   "cell_type": "code",
   "execution_count": 3,
   "metadata": {},
   "outputs": [],
   "source": [
    "import matplotlib.pyplot as plt\n",
    "import os"
   ]
  },
  {
   "cell_type": "code",
   "execution_count": 4,
   "metadata": {},
   "outputs": [],
   "source": [
    "names = ['sepal.length', 'sepal.width','petal.length','petal.width','variaty']\n",
    "data_iris = pd.read_csv(path, names=names)"
   ]
  },
  {
   "cell_type": "code",
   "execution_count": 5,
   "metadata": {},
   "outputs": [
    {
     "data": {
      "text/html": [
       "<div>\n",
       "<style scoped>\n",
       "    .dataframe tbody tr th:only-of-type {\n",
       "        vertical-align: middle;\n",
       "    }\n",
       "\n",
       "    .dataframe tbody tr th {\n",
       "        vertical-align: top;\n",
       "    }\n",
       "\n",
       "    .dataframe thead th {\n",
       "        text-align: right;\n",
       "    }\n",
       "</style>\n",
       "<table border=\"1\" class=\"dataframe\">\n",
       "  <thead>\n",
       "    <tr style=\"text-align: right;\">\n",
       "      <th></th>\n",
       "      <th>sepal.length</th>\n",
       "      <th>sepal.width</th>\n",
       "      <th>petal.length</th>\n",
       "      <th>petal.width</th>\n",
       "      <th>variaty</th>\n",
       "    </tr>\n",
       "  </thead>\n",
       "  <tbody>\n",
       "    <tr>\n",
       "      <th>0</th>\n",
       "      <td>5.1</td>\n",
       "      <td>3.5</td>\n",
       "      <td>1.4</td>\n",
       "      <td>0.2</td>\n",
       "      <td>Iris-setosa</td>\n",
       "    </tr>\n",
       "    <tr>\n",
       "      <th>1</th>\n",
       "      <td>4.9</td>\n",
       "      <td>3.0</td>\n",
       "      <td>1.4</td>\n",
       "      <td>0.2</td>\n",
       "      <td>Iris-setosa</td>\n",
       "    </tr>\n",
       "    <tr>\n",
       "      <th>2</th>\n",
       "      <td>4.7</td>\n",
       "      <td>3.2</td>\n",
       "      <td>1.3</td>\n",
       "      <td>0.2</td>\n",
       "      <td>Iris-setosa</td>\n",
       "    </tr>\n",
       "    <tr>\n",
       "      <th>3</th>\n",
       "      <td>4.6</td>\n",
       "      <td>3.1</td>\n",
       "      <td>1.5</td>\n",
       "      <td>0.2</td>\n",
       "      <td>Iris-setosa</td>\n",
       "    </tr>\n",
       "    <tr>\n",
       "      <th>4</th>\n",
       "      <td>5.0</td>\n",
       "      <td>3.6</td>\n",
       "      <td>1.4</td>\n",
       "      <td>0.2</td>\n",
       "      <td>Iris-setosa</td>\n",
       "    </tr>\n",
       "  </tbody>\n",
       "</table>\n",
       "</div>"
      ],
      "text/plain": [
       "   sepal.length  sepal.width  petal.length  petal.width      variaty\n",
       "0           5.1          3.5           1.4          0.2  Iris-setosa\n",
       "1           4.9          3.0           1.4          0.2  Iris-setosa\n",
       "2           4.7          3.2           1.3          0.2  Iris-setosa\n",
       "3           4.6          3.1           1.5          0.2  Iris-setosa\n",
       "4           5.0          3.6           1.4          0.2  Iris-setosa"
      ]
     },
     "execution_count": 5,
     "metadata": {},
     "output_type": "execute_result"
    }
   ],
   "source": [
    "data_iris.head()"
   ]
  },
  {
   "cell_type": "code",
   "execution_count": 6,
   "metadata": {},
   "outputs": [
    {
     "data": {
      "text/plain": [
       "Iris-setosa        50\n",
       "Iris-versicolor    50\n",
       "Iris-virginica     50\n",
       "Name: variaty, dtype: int64"
      ]
     },
     "execution_count": 6,
     "metadata": {},
     "output_type": "execute_result"
    }
   ],
   "source": [
    "data_iris.variaty.value_counts()"
   ]
  },
  {
   "cell_type": "code",
   "execution_count": 7,
   "metadata": {},
   "outputs": [
    {
     "data": {
      "text/html": [
       "<div>\n",
       "<style scoped>\n",
       "    .dataframe tbody tr th:only-of-type {\n",
       "        vertical-align: middle;\n",
       "    }\n",
       "\n",
       "    .dataframe tbody tr th {\n",
       "        vertical-align: top;\n",
       "    }\n",
       "\n",
       "    .dataframe thead th {\n",
       "        text-align: right;\n",
       "    }\n",
       "</style>\n",
       "<table border=\"1\" class=\"dataframe\">\n",
       "  <thead>\n",
       "    <tr style=\"text-align: right;\">\n",
       "      <th></th>\n",
       "      <th>sepal.length</th>\n",
       "      <th>sepal.width</th>\n",
       "      <th>petal.length</th>\n",
       "      <th>petal.width</th>\n",
       "    </tr>\n",
       "  </thead>\n",
       "  <tbody>\n",
       "    <tr>\n",
       "      <th>count</th>\n",
       "      <td>150.000000</td>\n",
       "      <td>150.000000</td>\n",
       "      <td>150.000000</td>\n",
       "      <td>150.000000</td>\n",
       "    </tr>\n",
       "    <tr>\n",
       "      <th>mean</th>\n",
       "      <td>5.843333</td>\n",
       "      <td>3.054000</td>\n",
       "      <td>3.758667</td>\n",
       "      <td>1.198667</td>\n",
       "    </tr>\n",
       "    <tr>\n",
       "      <th>std</th>\n",
       "      <td>0.828066</td>\n",
       "      <td>0.433594</td>\n",
       "      <td>1.764420</td>\n",
       "      <td>0.763161</td>\n",
       "    </tr>\n",
       "    <tr>\n",
       "      <th>min</th>\n",
       "      <td>4.300000</td>\n",
       "      <td>2.000000</td>\n",
       "      <td>1.000000</td>\n",
       "      <td>0.100000</td>\n",
       "    </tr>\n",
       "    <tr>\n",
       "      <th>25%</th>\n",
       "      <td>5.100000</td>\n",
       "      <td>2.800000</td>\n",
       "      <td>1.600000</td>\n",
       "      <td>0.300000</td>\n",
       "    </tr>\n",
       "    <tr>\n",
       "      <th>50%</th>\n",
       "      <td>5.800000</td>\n",
       "      <td>3.000000</td>\n",
       "      <td>4.350000</td>\n",
       "      <td>1.300000</td>\n",
       "    </tr>\n",
       "    <tr>\n",
       "      <th>75%</th>\n",
       "      <td>6.400000</td>\n",
       "      <td>3.300000</td>\n",
       "      <td>5.100000</td>\n",
       "      <td>1.800000</td>\n",
       "    </tr>\n",
       "    <tr>\n",
       "      <th>max</th>\n",
       "      <td>7.900000</td>\n",
       "      <td>4.400000</td>\n",
       "      <td>6.900000</td>\n",
       "      <td>2.500000</td>\n",
       "    </tr>\n",
       "  </tbody>\n",
       "</table>\n",
       "</div>"
      ],
      "text/plain": [
       "       sepal.length  sepal.width  petal.length  petal.width\n",
       "count    150.000000   150.000000    150.000000   150.000000\n",
       "mean       5.843333     3.054000      3.758667     1.198667\n",
       "std        0.828066     0.433594      1.764420     0.763161\n",
       "min        4.300000     2.000000      1.000000     0.100000\n",
       "25%        5.100000     2.800000      1.600000     0.300000\n",
       "50%        5.800000     3.000000      4.350000     1.300000\n",
       "75%        6.400000     3.300000      5.100000     1.800000\n",
       "max        7.900000     4.400000      6.900000     2.500000"
      ]
     },
     "execution_count": 7,
     "metadata": {},
     "output_type": "execute_result"
    }
   ],
   "source": [
    "data_iris.describe()"
   ]
  },
  {
   "cell_type": "code",
   "execution_count": 8,
   "metadata": {},
   "outputs": [],
   "source": [
    "dic = {\n",
    "    'Iris-setosa':1,\n",
    "    'Iris-versicolor':2,\n",
    "    'Iris-virginica':3,\n",
    "}\n"
   ]
  },
  {
   "cell_type": "code",
   "execution_count": 9,
   "metadata": {},
   "outputs": [
    {
     "data": {
      "text/html": [
       "<div>\n",
       "<style scoped>\n",
       "    .dataframe tbody tr th:only-of-type {\n",
       "        vertical-align: middle;\n",
       "    }\n",
       "\n",
       "    .dataframe tbody tr th {\n",
       "        vertical-align: top;\n",
       "    }\n",
       "\n",
       "    .dataframe thead th {\n",
       "        text-align: right;\n",
       "    }\n",
       "</style>\n",
       "<table border=\"1\" class=\"dataframe\">\n",
       "  <thead>\n",
       "    <tr style=\"text-align: right;\">\n",
       "      <th></th>\n",
       "      <th>sepal.length</th>\n",
       "      <th>sepal.width</th>\n",
       "      <th>petal.length</th>\n",
       "      <th>petal.width</th>\n",
       "      <th>variaty</th>\n",
       "      <th>variaty_num</th>\n",
       "    </tr>\n",
       "  </thead>\n",
       "  <tbody>\n",
       "    <tr>\n",
       "      <th>0</th>\n",
       "      <td>5.1</td>\n",
       "      <td>3.5</td>\n",
       "      <td>1.4</td>\n",
       "      <td>0.2</td>\n",
       "      <td>Iris-setosa</td>\n",
       "      <td>1</td>\n",
       "    </tr>\n",
       "    <tr>\n",
       "      <th>1</th>\n",
       "      <td>4.9</td>\n",
       "      <td>3.0</td>\n",
       "      <td>1.4</td>\n",
       "      <td>0.2</td>\n",
       "      <td>Iris-setosa</td>\n",
       "      <td>1</td>\n",
       "    </tr>\n",
       "    <tr>\n",
       "      <th>2</th>\n",
       "      <td>4.7</td>\n",
       "      <td>3.2</td>\n",
       "      <td>1.3</td>\n",
       "      <td>0.2</td>\n",
       "      <td>Iris-setosa</td>\n",
       "      <td>1</td>\n",
       "    </tr>\n",
       "    <tr>\n",
       "      <th>3</th>\n",
       "      <td>4.6</td>\n",
       "      <td>3.1</td>\n",
       "      <td>1.5</td>\n",
       "      <td>0.2</td>\n",
       "      <td>Iris-setosa</td>\n",
       "      <td>1</td>\n",
       "    </tr>\n",
       "    <tr>\n",
       "      <th>4</th>\n",
       "      <td>5.0</td>\n",
       "      <td>3.6</td>\n",
       "      <td>1.4</td>\n",
       "      <td>0.2</td>\n",
       "      <td>Iris-setosa</td>\n",
       "      <td>1</td>\n",
       "    </tr>\n",
       "  </tbody>\n",
       "</table>\n",
       "</div>"
      ],
      "text/plain": [
       "   sepal.length  sepal.width  petal.length  petal.width      variaty  \\\n",
       "0           5.1          3.5           1.4          0.2  Iris-setosa   \n",
       "1           4.9          3.0           1.4          0.2  Iris-setosa   \n",
       "2           4.7          3.2           1.3          0.2  Iris-setosa   \n",
       "3           4.6          3.1           1.5          0.2  Iris-setosa   \n",
       "4           5.0          3.6           1.4          0.2  Iris-setosa   \n",
       "\n",
       "   variaty_num  \n",
       "0            1  \n",
       "1            1  \n",
       "2            1  \n",
       "3            1  \n",
       "4            1  "
      ]
     },
     "execution_count": 9,
     "metadata": {},
     "output_type": "execute_result"
    }
   ],
   "source": [
    "data_iris['variaty_num'] = data_iris['variaty'].map(dic)\n",
    "data_iris.head()"
   ]
  },
  {
   "cell_type": "code",
   "execution_count": 10,
   "metadata": {},
   "outputs": [
    {
     "data": {
      "text/plain": [
       "3    50\n",
       "2    50\n",
       "1    50\n",
       "Name: variaty_num, dtype: int64"
      ]
     },
     "execution_count": 10,
     "metadata": {},
     "output_type": "execute_result"
    }
   ],
   "source": [
    "data_iris.variaty_num.value_counts()"
   ]
  },
  {
   "cell_type": "code",
   "execution_count": 11,
   "metadata": {},
   "outputs": [],
   "source": [
    "X = data_iris[['sepal.length','sepal.width','petal.length','petal.width']]"
   ]
  },
  {
   "cell_type": "code",
   "execution_count": 12,
   "metadata": {},
   "outputs": [
    {
     "data": {
      "text/html": [
       "<div>\n",
       "<style scoped>\n",
       "    .dataframe tbody tr th:only-of-type {\n",
       "        vertical-align: middle;\n",
       "    }\n",
       "\n",
       "    .dataframe tbody tr th {\n",
       "        vertical-align: top;\n",
       "    }\n",
       "\n",
       "    .dataframe thead th {\n",
       "        text-align: right;\n",
       "    }\n",
       "</style>\n",
       "<table border=\"1\" class=\"dataframe\">\n",
       "  <thead>\n",
       "    <tr style=\"text-align: right;\">\n",
       "      <th></th>\n",
       "      <th>sepal.length</th>\n",
       "      <th>sepal.width</th>\n",
       "      <th>petal.length</th>\n",
       "      <th>petal.width</th>\n",
       "    </tr>\n",
       "  </thead>\n",
       "  <tbody>\n",
       "    <tr>\n",
       "      <th>0</th>\n",
       "      <td>5.1</td>\n",
       "      <td>3.5</td>\n",
       "      <td>1.4</td>\n",
       "      <td>0.2</td>\n",
       "    </tr>\n",
       "    <tr>\n",
       "      <th>1</th>\n",
       "      <td>4.9</td>\n",
       "      <td>3.0</td>\n",
       "      <td>1.4</td>\n",
       "      <td>0.2</td>\n",
       "    </tr>\n",
       "    <tr>\n",
       "      <th>2</th>\n",
       "      <td>4.7</td>\n",
       "      <td>3.2</td>\n",
       "      <td>1.3</td>\n",
       "      <td>0.2</td>\n",
       "    </tr>\n",
       "    <tr>\n",
       "      <th>3</th>\n",
       "      <td>4.6</td>\n",
       "      <td>3.1</td>\n",
       "      <td>1.5</td>\n",
       "      <td>0.2</td>\n",
       "    </tr>\n",
       "    <tr>\n",
       "      <th>4</th>\n",
       "      <td>5.0</td>\n",
       "      <td>3.6</td>\n",
       "      <td>1.4</td>\n",
       "      <td>0.2</td>\n",
       "    </tr>\n",
       "  </tbody>\n",
       "</table>\n",
       "</div>"
      ],
      "text/plain": [
       "   sepal.length  sepal.width  petal.length  petal.width\n",
       "0           5.1          3.5           1.4          0.2\n",
       "1           4.9          3.0           1.4          0.2\n",
       "2           4.7          3.2           1.3          0.2\n",
       "3           4.6          3.1           1.5          0.2\n",
       "4           5.0          3.6           1.4          0.2"
      ]
     },
     "execution_count": 12,
     "metadata": {},
     "output_type": "execute_result"
    }
   ],
   "source": [
    "X.head()"
   ]
  },
  {
   "cell_type": "code",
   "execution_count": 13,
   "metadata": {},
   "outputs": [],
   "source": [
    "y = data_iris['variaty_num']"
   ]
  },
  {
   "cell_type": "code",
   "execution_count": 14,
   "metadata": {},
   "outputs": [
    {
     "data": {
      "text/plain": [
       "0    1\n",
       "1    1\n",
       "2    1\n",
       "3    1\n",
       "4    1\n",
       "Name: variaty_num, dtype: int64"
      ]
     },
     "execution_count": 14,
     "metadata": {},
     "output_type": "execute_result"
    }
   ],
   "source": [
    "y.head()"
   ]
  },
  {
   "cell_type": "code",
   "execution_count": 15,
   "metadata": {},
   "outputs": [
    {
     "name": "stdout",
     "output_type": "stream",
     "text": [
      "X_train:       sepal.length  sepal.width  petal.length  petal.width\n",
      "4             5.0          3.6           1.4          0.2\n",
      "57            4.9          2.4           3.3          1.0\n",
      "108           6.7          2.5           5.8          1.8\n",
      "92            5.8          2.6           4.0          1.2\n",
      "37            4.9          3.1           1.5          0.1\n",
      "39            5.1          3.4           1.5          0.2\n",
      "91            6.1          3.0           4.6          1.4\n",
      "6             4.6          3.4           1.4          0.3\n",
      "51            6.4          3.2           4.5          1.5\n",
      "118           7.7          2.6           6.9          2.3\n",
      "136           6.3          3.4           5.6          2.4\n",
      "84            5.4          3.0           4.5          1.5\n",
      "14            5.8          4.0           1.2          0.2\n",
      "78            6.0          2.9           4.5          1.5\n",
      "3             4.6          3.1           1.5          0.2\n",
      "142           5.8          2.7           5.1          1.9\n",
      "120           6.9          3.2           5.7          2.3\n",
      "85            6.0          3.4           4.5          1.6\n",
      "148           6.2          3.4           5.4          2.3\n",
      "58            6.6          2.9           4.6          1.3\n",
      "100           6.3          3.3           6.0          2.5\n",
      "2             4.7          3.2           1.3          0.2\n",
      "45            4.8          3.0           1.4          0.3\n",
      "9             4.9          3.1           1.5          0.1\n",
      "54            6.5          2.8           4.6          1.5\n",
      "47            4.6          3.2           1.4          0.2\n",
      "46            5.1          3.8           1.6          0.2\n",
      "26            5.0          3.4           1.6          0.4\n",
      "130           7.4          2.8           6.1          1.9\n",
      "27            5.2          3.5           1.5          0.2\n",
      "..            ...          ...           ...          ...\n",
      "144           6.7          3.3           5.7          2.5\n",
      "107           7.3          2.9           6.3          1.8\n",
      "149           5.9          3.0           5.1          1.8\n",
      "76            6.8          2.8           4.8          1.4\n",
      "10            5.4          3.7           1.5          0.2\n",
      "19            5.1          3.8           1.5          0.3\n",
      "121           5.6          2.8           4.9          2.0\n",
      "72            6.3          2.5           4.9          1.5\n",
      "44            5.1          3.8           1.9          0.4\n",
      "59            5.2          2.7           3.9          1.4\n",
      "131           7.9          3.8           6.4          2.0\n",
      "115           6.4          3.2           5.3          2.3\n",
      "111           6.4          2.7           5.3          1.9\n",
      "83            6.0          2.7           5.1          1.6\n",
      "49            5.0          3.3           1.4          0.2\n",
      "141           6.9          3.1           5.1          2.3\n",
      "5             5.4          3.9           1.7          0.4\n",
      "110           6.5          3.2           5.1          2.0\n",
      "60            5.0          2.0           3.5          1.0\n",
      "145           6.7          3.0           5.2          2.3\n",
      "132           6.4          2.8           5.6          2.2\n",
      "40            5.0          3.5           1.3          0.3\n",
      "137           6.4          3.1           5.5          1.8\n",
      "75            6.6          3.0           4.4          1.4\n",
      "87            6.3          2.3           4.4          1.3\n",
      "63            6.1          2.9           4.7          1.4\n",
      "70            5.9          3.2           4.8          1.8\n",
      "81            5.5          2.4           3.7          1.0\n",
      "11            4.8          3.4           1.6          0.2\n",
      "95            5.7          3.0           4.2          1.2\n",
      "\n",
      "[97 rows x 4 columns]\n",
      "y_train:  4      1\n",
      "57     2\n",
      "108    3\n",
      "92     2\n",
      "37     1\n",
      "39     1\n",
      "91     2\n",
      "6      1\n",
      "51     2\n",
      "118    3\n",
      "136    3\n",
      "84     2\n",
      "14     1\n",
      "78     2\n",
      "3      1\n",
      "142    3\n",
      "120    3\n",
      "85     2\n",
      "148    3\n",
      "58     2\n",
      "100    3\n",
      "2      1\n",
      "45     1\n",
      "9      1\n",
      "54     2\n",
      "47     1\n",
      "46     1\n",
      "26     1\n",
      "130    3\n",
      "27     1\n",
      "      ..\n",
      "144    3\n",
      "107    3\n",
      "149    3\n",
      "76     2\n",
      "10     1\n",
      "19     1\n",
      "121    3\n",
      "72     2\n",
      "44     1\n",
      "59     2\n",
      "131    3\n",
      "115    3\n",
      "111    3\n",
      "83     2\n",
      "49     1\n",
      "141    3\n",
      "5      1\n",
      "110    3\n",
      "60     2\n",
      "145    3\n",
      "132    3\n",
      "40     1\n",
      "137    3\n",
      "75     2\n",
      "87     2\n",
      "63     2\n",
      "70     2\n",
      "81     2\n",
      "11     1\n",
      "95     2\n",
      "Name: variaty_num, Length: 97, dtype: int64\n",
      "X_test:       sepal.length  sepal.width  petal.length  petal.width\n",
      "33            5.5          4.2           1.4          0.2\n",
      "16            5.4          3.9           1.3          0.4\n",
      "43            5.0          3.5           1.6          0.6\n",
      "129           7.2          3.0           5.8          1.6\n",
      "50            7.0          3.2           4.7          1.4\n",
      "123           6.3          2.7           4.9          1.8\n",
      "68            6.2          2.2           4.5          1.5\n",
      "53            5.5          2.3           4.0          1.3\n",
      "146           6.3          2.5           5.0          1.9\n",
      "1             4.9          3.0           1.4          0.2\n",
      "147           6.5          3.0           5.2          2.0\n",
      "32            5.2          4.1           1.5          0.1\n",
      "31            5.4          3.4           1.5          0.4\n",
      "122           7.7          2.8           6.7          2.0\n",
      "127           6.1          3.0           4.9          1.8\n",
      "74            6.4          2.9           4.3          1.3\n",
      "88            5.6          3.0           4.1          1.3\n",
      "96            5.7          2.9           4.2          1.3\n",
      "42            4.4          3.2           1.3          0.2\n",
      "134           6.1          2.6           5.6          1.4\n",
      "80            5.5          2.4           3.8          1.1\n",
      "48            5.3          3.7           1.5          0.2\n",
      "90            5.5          2.6           4.4          1.2\n",
      "65            6.7          3.1           4.4          1.4\n",
      "97            6.2          2.9           4.3          1.3\n",
      "64            5.6          2.9           3.6          1.3\n",
      "93            5.0          2.3           3.3          1.0\n",
      "114           5.8          2.8           5.1          2.4\n",
      "25            5.0          3.0           1.6          0.2\n",
      "41            4.5          2.3           1.3          0.3\n",
      "104           6.5          3.0           5.8          2.2\n",
      "89            5.5          2.5           4.0          1.3\n",
      "116           6.5          3.0           5.5          1.8\n",
      "82            5.8          2.7           3.9          1.2\n",
      "112           6.8          3.0           5.5          2.1\n",
      "55            5.7          2.8           4.5          1.3\n",
      "86            6.7          3.1           4.7          1.5\n",
      "61            5.9          3.0           4.2          1.5\n",
      "94            5.6          2.7           4.2          1.3\n",
      "135           7.7          3.0           6.1          2.3\n",
      "21            5.1          3.7           1.5          0.4\n",
      "22            4.6          3.6           1.0          0.2\n",
      "29            4.7          3.2           1.6          0.2\n",
      "77            6.7          3.0           5.0          1.7\n",
      "66            5.6          3.0           4.5          1.5\n",
      "13            4.3          3.0           1.1          0.1\n",
      "102           7.1          3.0           5.9          2.1\n",
      "67            5.8          2.7           4.1          1.0\n",
      "34            4.9          3.1           1.5          0.1\n",
      "98            5.1          2.5           3.0          1.1\n",
      "69            5.6          2.5           3.9          1.1\n",
      "23            5.1          3.3           1.7          0.5\n",
      "101           5.8          2.7           5.1          1.9\n",
      "y_test:  33     1\n",
      "16     1\n",
      "43     1\n",
      "129    3\n",
      "50     2\n",
      "123    3\n",
      "68     2\n",
      "53     2\n",
      "146    3\n",
      "1      1\n",
      "147    3\n",
      "32     1\n",
      "31     1\n",
      "122    3\n",
      "127    3\n",
      "74     2\n",
      "88     2\n",
      "96     2\n",
      "42     1\n",
      "134    3\n",
      "80     2\n",
      "48     1\n",
      "90     2\n",
      "65     2\n",
      "97     2\n",
      "64     2\n",
      "93     2\n",
      "114    3\n",
      "25     1\n",
      "41     1\n",
      "104    3\n",
      "89     2\n",
      "116    3\n",
      "82     2\n",
      "112    3\n",
      "55     2\n",
      "86     2\n",
      "61     2\n",
      "94     2\n",
      "135    3\n",
      "21     1\n",
      "22     1\n",
      "29     1\n",
      "77     2\n",
      "66     2\n",
      "13     1\n",
      "102    3\n",
      "67     2\n",
      "34     1\n",
      "98     2\n",
      "69     2\n",
      "23     1\n",
      "101    3\n",
      "Name: variaty_num, dtype: int64\n"
     ]
    }
   ],
   "source": [
    "import sklearn.model_selection as model_selection\n",
    "X_train, X_test, y_train, y_test = model_selection.train_test_split(X, y, train_size=0.65,test_size=0.35, random_state=101)\n",
    "print (\"X_train: \", X_train)\n",
    "print (\"y_train: \", y_train)\n",
    "print(\"X_test: \", X_test)\n",
    "print (\"y_test: \", y_test)"
   ]
  },
  {
   "cell_type": "code",
   "execution_count": 16,
   "metadata": {},
   "outputs": [
    {
     "data": {
      "text/html": [
       "<div>\n",
       "<style scoped>\n",
       "    .dataframe tbody tr th:only-of-type {\n",
       "        vertical-align: middle;\n",
       "    }\n",
       "\n",
       "    .dataframe tbody tr th {\n",
       "        vertical-align: top;\n",
       "    }\n",
       "\n",
       "    .dataframe thead th {\n",
       "        text-align: right;\n",
       "    }\n",
       "</style>\n",
       "<table border=\"1\" class=\"dataframe\">\n",
       "  <thead>\n",
       "    <tr style=\"text-align: right;\">\n",
       "      <th></th>\n",
       "      <th>1</th>\n",
       "      <th>2</th>\n",
       "      <th>3</th>\n",
       "    </tr>\n",
       "  </thead>\n",
       "  <tbody>\n",
       "    <tr>\n",
       "      <th>4</th>\n",
       "      <td>1</td>\n",
       "      <td>0</td>\n",
       "      <td>0</td>\n",
       "    </tr>\n",
       "    <tr>\n",
       "      <th>57</th>\n",
       "      <td>0</td>\n",
       "      <td>1</td>\n",
       "      <td>0</td>\n",
       "    </tr>\n",
       "    <tr>\n",
       "      <th>108</th>\n",
       "      <td>0</td>\n",
       "      <td>0</td>\n",
       "      <td>1</td>\n",
       "    </tr>\n",
       "    <tr>\n",
       "      <th>92</th>\n",
       "      <td>0</td>\n",
       "      <td>1</td>\n",
       "      <td>0</td>\n",
       "    </tr>\n",
       "    <tr>\n",
       "      <th>37</th>\n",
       "      <td>1</td>\n",
       "      <td>0</td>\n",
       "      <td>0</td>\n",
       "    </tr>\n",
       "  </tbody>\n",
       "</table>\n",
       "</div>"
      ],
      "text/plain": [
       "     1  2  3\n",
       "4    1  0  0\n",
       "57   0  1  0\n",
       "108  0  0  1\n",
       "92   0  1  0\n",
       "37   1  0  0"
      ]
     },
     "execution_count": 16,
     "metadata": {},
     "output_type": "execute_result"
    }
   ],
   "source": [
    "y_train = pd.get_dummies(y_train)\n",
    "y_train.head()"
   ]
  },
  {
   "cell_type": "code",
   "execution_count": 17,
   "metadata": {},
   "outputs": [
    {
     "data": {
      "text/plain": [
       "33     1\n",
       "16     1\n",
       "43     1\n",
       "129    3\n",
       "50     2\n",
       "Name: variaty_num, dtype: int64"
      ]
     },
     "execution_count": 17,
     "metadata": {},
     "output_type": "execute_result"
    }
   ],
   "source": [
    "#y_test = pd.get_dummies(y_test)\n",
    "y_test.head()"
   ]
  },
  {
   "cell_type": "code",
   "execution_count": 18,
   "metadata": {},
   "outputs": [
    {
     "name": "stdout",
     "output_type": "stream",
     "text": [
      "Model: \"sequential\"\n",
      "_________________________________________________________________\n",
      "Layer (type)                 Output Shape              Param #   \n",
      "=================================================================\n",
      "dense (Dense)                (None, 64)                320       \n",
      "_________________________________________________________________\n",
      "dense_1 (Dense)              (None, 32)                2080      \n",
      "_________________________________________________________________\n",
      "dense_2 (Dense)              (None, 16)                528       \n",
      "_________________________________________________________________\n",
      "dense_3 (Dense)              (None, 8)                 136       \n",
      "_________________________________________________________________\n",
      "dense_4 (Dense)              (None, 3)                 27        \n",
      "=================================================================\n",
      "Total params: 3,091\n",
      "Trainable params: 3,091\n",
      "Non-trainable params: 0\n",
      "_________________________________________________________________\n"
     ]
    }
   ],
   "source": [
    "from tensorflow.keras.models import Sequential\n",
    "from tensorflow.keras.layers import Dense\n",
    "from tensorflow.keras.optimizers import Adam, SGD\n",
    "\n",
    "model = Sequential()\n",
    "model.add(Dense(64, activation = 'tanh' , input_shape =(4,)))\n",
    "model.add(Dense(32, activation = 'tanh'))\n",
    "model.add(Dense(16, activation = 'tanh'))\n",
    "model.add(Dense(8, activation = 'tanh'))\n",
    "model.add(Dense(3, activation = 'softmax'))\n",
    "model.summary()"
   ]
  },
  {
   "cell_type": "code",
   "execution_count": 23,
   "metadata": {},
   "outputs": [],
   "source": [
    "model.compile(optimizer = 'rmsprop',\n",
    "              loss      = ('categorical_crossentropy'),\n",
    "              metrics   = ['acc'])\n"
   ]
  },
  {
   "cell_type": "code",
   "execution_count": 24,
   "metadata": {},
   "outputs": [
    {
     "name": "stdout",
     "output_type": "stream",
     "text": [
      "Epoch 1/30\n",
      "4/4 [==============================] - 0s 5ms/step - loss: 0.4238 - acc: 0.8763\n",
      "Epoch 2/30\n",
      "4/4 [==============================] - 0s 7ms/step - loss: 0.3760 - acc: 0.9485\n",
      "Epoch 3/30\n",
      "4/4 [==============================] - 0s 7ms/step - loss: 0.3645 - acc: 0.9278\n",
      "Epoch 4/30\n",
      "4/4 [==============================] - 0s 11ms/step - loss: 0.3569 - acc: 0.9691\n",
      "Epoch 5/30\n",
      "4/4 [==============================] - 0s 9ms/step - loss: 0.3695 - acc: 0.9175\n",
      "Epoch 6/30\n",
      "4/4 [==============================] - 0s 9ms/step - loss: 0.3165 - acc: 0.9588\n",
      "Epoch 7/30\n",
      "4/4 [==============================] - 0s 10ms/step - loss: 0.3132 - acc: 0.9175\n",
      "Epoch 8/30\n",
      "4/4 [==============================] - 0s 8ms/step - loss: 0.3084 - acc: 0.9588\n",
      "Epoch 9/30\n",
      "4/4 [==============================] - 0s 9ms/step - loss: 0.3448 - acc: 0.8969\n",
      "Epoch 10/30\n",
      "4/4 [==============================] - 0s 9ms/step - loss: 0.2792 - acc: 0.9588\n",
      "Epoch 11/30\n",
      "4/4 [==============================] - 0s 11ms/step - loss: 0.2724 - acc: 0.9588\n",
      "Epoch 12/30\n",
      "4/4 [==============================] - 0s 10ms/step - loss: 0.2686 - acc: 0.9691\n",
      "Epoch 13/30\n",
      "4/4 [==============================] - 0s 9ms/step - loss: 0.2602 - acc: 0.9691\n",
      "Epoch 14/30\n",
      "4/4 [==============================] - 0s 11ms/step - loss: 0.2591 - acc: 0.9588\n",
      "Epoch 15/30\n",
      "4/4 [==============================] - 0s 5ms/step - loss: 0.2702 - acc: 0.9278\n",
      "Epoch 16/30\n",
      "4/4 [==============================] - 0s 7ms/step - loss: 0.2552 - acc: 0.9485\n",
      "Epoch 17/30\n",
      "4/4 [==============================] - 0s 6ms/step - loss: 0.2288 - acc: 0.9691\n",
      "Epoch 18/30\n",
      "4/4 [==============================] - ETA: 0s - loss: 0.2287 - acc: 0.937 - 0s 10ms/step - loss: 0.2251 - acc: 0.9588\n",
      "Epoch 19/30\n",
      "4/4 [==============================] - 0s 6ms/step - loss: 0.3160 - acc: 0.8763\n",
      "Epoch 20/30\n",
      "4/4 [==============================] - 0s 7ms/step - loss: 0.2216 - acc: 0.9588\n",
      "Epoch 21/30\n",
      "4/4 [==============================] - 0s 8ms/step - loss: 0.2069 - acc: 0.9588\n",
      "Epoch 22/30\n",
      "4/4 [==============================] - 0s 9ms/step - loss: 0.3405 - acc: 0.8660\n",
      "Epoch 23/30\n",
      "4/4 [==============================] - 0s 5ms/step - loss: 0.1988 - acc: 0.9691\n",
      "Epoch 24/30\n",
      "4/4 [==============================] - 0s 10ms/step - loss: 0.1981 - acc: 0.9691\n",
      "Epoch 25/30\n",
      "4/4 [==============================] - 0s 28ms/step - loss: 0.1943 - acc: 0.9691\n",
      "Epoch 26/30\n",
      "4/4 [==============================] - 0s 8ms/step - loss: 0.2561 - acc: 0.9072\n",
      "Epoch 27/30\n",
      "4/4 [==============================] - 0s 7ms/step - loss: 0.2175 - acc: 0.9588\n",
      "Epoch 28/30\n",
      "4/4 [==============================] - 0s 4ms/step - loss: 0.1898 - acc: 0.9588\n",
      "Epoch 29/30\n",
      "4/4 [==============================] - 0s 6ms/step - loss: 0.1860 - acc: 0.9691\n",
      "Epoch 30/30\n",
      "4/4 [==============================] - 0s 9ms/step - loss: 0.1786 - acc: 0.9588\n"
     ]
    }
   ],
   "source": [
    "history = model.fit(X_train,y_train,epochs = 30)"
   ]
  },
  {
   "cell_type": "code",
   "execution_count": 25,
   "metadata": {},
   "outputs": [
    {
     "data": {
      "text/plain": [
       "dict_keys(['loss', 'acc'])"
      ]
     },
     "execution_count": 25,
     "metadata": {},
     "output_type": "execute_result"
    }
   ],
   "source": [
    "history_dict = history.history\n",
    "history_dict.keys()\n"
   ]
  },
  {
   "cell_type": "code",
   "execution_count": 27,
   "metadata": {},
   "outputs": [
    {
     "data": {
      "image/png": "[encoded data removed]",
      "text/plain": [
       "<Figure size 432x288 with 1 Axes>"
      ]
     },
     "metadata": {
      "needs_background": "light"
     },
     "output_type": "display_data"
    }
   ],
   "source": [
    "import matplotlib.pyplot as plt\n",
    "\n",
    "history_dict = history.history\n",
    "loss_values  = history_dict['loss']\n",
    "acc_values  = history_dict['acc']\n",
    "epochs = range(1,len(history_dict['acc']) + 1)\n",
    "\n",
    "plt.plot(epochs,loss_values,'bo',label = 'Loss')\n",
    "plt.plot(epochs,acc_values,'b',label = 'Accuracy')\n",
    "plt.title('Loss and Accuracy')\n",
    "plt.xlabel('Epochs')\n",
    "plt.ylabel('Loss')\n",
    "plt.legend()\n",
    "\n",
    "plt.show()"
   ]
  },
  {
   "cell_type": "code",
   "execution_count": 28,
   "metadata": {},
   "outputs": [
    {
     "data": {
      "text/plain": [
       "0.969072163105011"
      ]
     },
     "execution_count": 28,
     "metadata": {},
     "output_type": "execute_result"
    }
   ],
   "source": [
    "max(history_dict['acc'])"
   ]
  },
  {
   "cell_type": "code",
   "execution_count": null,
   "metadata": {},
   "outputs": [],
   "source": []
  }
 ],
 "metadata": {
  "kernelspec": {
   "display_name": "Python 3",
   "language": "python",
   "name": "python3"
  },
  "language_info": {
   "codemirror_mode": {
    "name": "ipython",
    "version": 3
   },
   "file_extension": ".py",
   "mimetype": "text/x-python",
   "name": "python",
   "nbconvert_exporter": "python",
   "pygments_lexer": "ipython3",
   "version": "3.7.3"
  }
 },
 "nbformat": 4,
 "nbformat_minor": 2
}
