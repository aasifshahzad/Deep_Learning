{
 "cells": [
  {
   "cell_type": "code",
   "execution_count": 1,
   "metadata": {
    "id": "4gs9htvM7n_x"
   },
   "outputs": [],
   "source": [
    "# Run this to ensure TensorFlow 2.x is used\n",
    "try:\n",
    "  # %tensorflow_version only exists in Colab.\n",
    "  %tensorflow_version 2.x\n",
    "except Exception:\n",
    "  pass"
   ]
  },
  {
   "cell_type": "code",
   "execution_count": 2,
   "metadata": {
    "id": "XYYDvoskkE61"
   },
   "outputs": [],
   "source": [
    "import json\n",
    "import tensorflow as tf\n",
    "\n",
    "from tensorflow.keras.preprocessing.text import Tokenizer\n",
    "from tensorflow.keras.preprocessing.sequence import pad_sequences"
   ]
  },
  {
   "cell_type": "code",
   "execution_count": 3,
   "metadata": {
    "id": "0eJSTTYnkJQd"
   },
   "outputs": [],
   "source": [
    "vocab_size = 10000\n",
    "embedding_dim = 16\n",
    "max_length = 100\n",
    "trunc_type='post'\n",
    "padding_type='post'\n",
    "oov_tok = \"<OOV>\"\n",
    "training_size = 20000\n"
   ]
  },
  {
   "cell_type": "code",
   "execution_count": 9,
   "metadata": {
    "id": "BQVuQrZNkPn9"
   },
   "outputs": [
    {
     "name": "stderr",
     "output_type": "stream",
     "text": [
      "--2021-01-20 23:56:37--  https://storage.googleapis.com/laurencemoroney-blog.appspot.com/sarcasm.json\n",
      "Resolving storage.googleapis.com (storage.googleapis.com)... 172.217.169.240, 216.58.209.144, 216.58.210.80, ...\n",
      "Connecting to storage.googleapis.com (storage.googleapis.com)|172.217.169.240|:443... connected.\n",
      "WARNING: cannot verify storage.googleapis.com's certificate, issued by 'CN=GTS CA 1O1,O=Google Trust Services,C=US':\n",
      "  Unable to locally verify the issuer's authority.\n",
      "HTTP request sent, awaiting response... 200 OK\n",
      "Length: 5643545 (5.4M) [application/json]\n",
      "Saving to: '/tmp/sarcasm.json'\n",
      "\n",
      "     0K .......... .......... .......... .......... ..........  0%  144K 38s\n",
      "    50K .......... .......... .......... .......... ..........  1% 9.31K 5m9s\n",
      "   100K .......... .......... .......... .......... ..........  2% 1.55M 3m26s\n",
      "   150K .......... .......... .......... .......... ..........  3% 3.22M 2m33s\n",
      "   200K .......... .......... .......... .......... ..........  4% 13.6K 3m19s\n",
      "   250K .......... .......... .......... .......... ..........  5%  139K 2m50s\n",
      "   300K .......... .......... .......... .......... ..........  6% 83.7K 2m33s\n",
      "   350K .......... .......... .......... .......... ..........  7% 53.2K 2m25s\n",
      "   400K .......... .......... .......... .......... ..........  8%  154K 2m11s\n",
      "   450K .......... .......... .......... .......... ..........  9% 82.4K 2m3s\n",
      "   500K .......... .......... .......... .......... ..........  9%  172K 1m53s\n",
      "   550K .......... .......... .......... .......... .......... 10% 28.6K 1m57s\n",
      "   600K .......... .......... .......... .......... .......... 11%  197K 1m49s\n",
      "   650K .......... .......... .......... .......... .......... 12%  132K 1m43s\n",
      "   700K .......... .......... .......... .......... .......... 13%  156K 97s\n",
      "   750K .......... .......... .......... .......... .......... 14%  214K 91s\n",
      "   800K .......... .......... .......... .......... .......... 15%  159K 87s\n",
      "   850K .......... .......... .......... .......... .......... 16%  151K 83s\n",
      "   900K .......... .......... .......... .......... .......... 17%  193K 79s\n",
      "   950K .......... .......... .......... .......... .......... 18%  193K 75s\n",
      "  1000K .......... .......... .......... .......... .......... 19%  168K 72s\n",
      "  1050K .......... .......... .......... .......... .......... 19% 74.0K 71s\n",
      "  1100K .......... .......... .......... .......... .......... 20% 1.27M 67s\n",
      "  1150K .......... .......... .......... .......... .......... 21%  200K 64s\n",
      "  1200K .......... .......... .......... .......... .......... 22%  201K 62s\n",
      "  1250K .......... .......... .......... .......... .......... 23%  212K 60s\n",
      "  1300K .......... .......... .......... .......... .......... 24% 42.1K 60s\n",
      "  1350K .......... .......... .......... .......... .......... 25% 63.5K 60s\n",
      "  1400K .......... .......... .......... .......... .......... 26%  108K 58s\n",
      "  1450K .......... .......... .......... .......... .......... 27% 81.9K 57s\n",
      "  1500K .......... .......... .......... .......... .......... 28% 37.1K 58s\n",
      "  1550K .......... .......... .......... .......... .......... 29%  221K 56s\n",
      "  1600K .......... .......... .......... .......... .......... 29% 33.7K 57s\n",
      "  1650K .......... .......... .......... .......... .......... 30% 27.4K 59s\n",
      "  1700K .......... .......... .......... .......... .......... 31%  258K 57s\n",
      "  1750K .......... .......... .......... .......... .......... 32%  996K 55s\n",
      "  1800K .......... .......... .......... .......... .......... 33%  120K 53s\n",
      "  1850K .......... .......... .......... .......... .......... 34%  129K 52s\n",
      "  1900K .......... .......... .......... .......... .......... 35% 1.79M 50s\n",
      "  1950K .......... .......... .......... .......... .......... 36%  236K 48s\n",
      "  2000K .......... .......... .......... .......... .......... 37%  193K 47s\n",
      "  2050K .......... .......... .......... .......... .......... 38%  190K 46s\n",
      "  2100K .......... .......... .......... .......... .......... 39%  205K 44s\n",
      "  2150K .......... .......... .......... .......... .......... 39%  203K 43s\n",
      "  2200K .......... .......... .......... .......... .......... 40%  240K 42s\n",
      "  2250K .......... .......... .......... .......... .......... 41%  194K 41s\n",
      "  2300K .......... .......... .......... .......... .......... 42%  261K 39s\n",
      "  2350K .......... .......... .......... .......... .......... 43%  216K 38s\n",
      "  2400K .......... .......... .......... .......... .......... 44%  247K 37s\n",
      "  2450K .......... .......... .......... .......... .......... 45%  251K 36s\n",
      "  2500K .......... .......... .......... .......... .......... 46%  176K 35s\n",
      "  2550K .......... .......... .......... .......... .......... 47%  504K 34s\n",
      "  2600K .......... .......... .......... .......... .......... 48%  304K 33s\n",
      "  2650K .......... .......... .......... .......... .......... 48%  102K 32s\n",
      "  2700K .......... .......... .......... .......... .......... 49%  711K 31s\n",
      "  2750K .......... .......... .......... .......... .......... 50%  703K 30s\n",
      "  2800K .......... .......... .......... .......... .......... 51%  270K 29s\n",
      "  2850K .......... .......... .......... .......... .......... 52%  303K 28s\n",
      "  2900K .......... .......... .......... .......... .......... 53%  361K 27s\n",
      "  2950K .......... .......... .......... .......... .......... 54%  161K 27s\n",
      "  3000K .......... .......... .......... .......... .......... 55% 1.37M 26s\n",
      "  3050K .......... .......... .......... .......... .......... 56%  167K 25s\n",
      "  3100K .......... .......... .......... .......... .......... 57% 75.5K 25s\n",
      "  3150K .......... .......... .......... .......... .......... 58% 3.52M 24s\n",
      "  3200K .......... .......... .......... .......... .......... 58%  549K 23s\n",
      "  3250K .......... .......... .......... .......... .......... 59% 31.1K 23s\n",
      "  3300K .......... .......... .......... .......... .......... 60%  238K 22s\n",
      "  3350K .......... .......... .......... .......... .......... 61% 6.60M 22s\n",
      "  3400K .......... .......... .......... .......... .......... 62%  587K 21s\n",
      "  3450K .......... .......... .......... .......... .......... 63%  197K 20s\n",
      "  3500K .......... .......... .......... .......... .......... 64% 76.7K 20s\n",
      "  3550K .......... .......... .......... .......... .......... 65%  489K 19s\n",
      "  3600K .......... .......... .......... .......... .......... 66%  539K 18s\n",
      "  3650K .......... .......... .......... .......... .......... 67% 1.11M 18s\n",
      "  3700K .......... .......... .......... .......... .......... 68%  947K 17s\n",
      "  3750K .......... .......... .......... .......... .......... 68%  320K 16s\n",
      "  3800K .......... .......... .......... .......... .......... 69%  330K 16s\n",
      "  3850K .......... .......... .......... .......... .......... 70%  547K 15s\n",
      "  3900K .......... .......... .......... .......... .......... 71%  193K 15s\n",
      "  3950K .......... .......... .......... .......... .......... 72% 1.65M 14s\n",
      "  4000K .......... .......... .......... .......... .......... 73% 40.8K 14s\n",
      "  4050K .......... .......... .......... .......... .......... 74% 4.87K 17s\n",
      "  4100K .......... .......... .......... .......... .......... 75% 4.34K 20s\n",
      "  4150K .......... .......... .......... .......... .......... 76% 1.39M 19s\n",
      "  4200K .......... .......... .......... .......... .......... 77% 3.49M 18s\n",
      "  4250K .......... .......... .......... .......... .......... 78% 4.67M 17s\n",
      "  4300K .......... .......... .......... .......... .......... 78% 7.05M 16s\n",
      "  4350K .......... .......... .......... .......... .......... 79% 38.0K 15s\n",
      "  4400K .......... .......... .......... .......... .......... 80% 1.55M 15s\n",
      "  4450K .......... .......... .......... .......... .......... 81%  117K 14s\n",
      "  4500K .......... .......... .......... .......... .......... 82% 2.25M 13s\n",
      "  4550K .......... .......... .......... .......... .......... 83% 2.53M 12s\n",
      "  4600K .......... .......... .......... .......... .......... 84% 2.91M 11s\n",
      "  4650K .......... .......... .......... .......... .......... 85% 32.3K 11s\n",
      "  4700K .......... .......... .......... .......... .......... 86% 58.2K 10s\n",
      "  4750K .......... .......... .......... .......... .......... 87% 1.09M 10s\n",
      "  4800K .......... .......... .......... .......... .......... 88% 4.31M 9s\n",
      "  4850K .......... .......... .......... .......... .......... 88% 47.5K 8s\n",
      "  4900K .......... .......... .......... .......... .......... 89%  138K 7s\n",
      "  4950K .......... .......... .......... .......... .......... 90% 1.50M 7s\n",
      "  5000K .......... .......... .......... .......... .......... 91% 1.31M 6s\n",
      "  5050K .......... .......... .......... .......... .......... 92% 1.62M 5s\n",
      "  5100K .......... .......... .......... .......... .......... 93% 1.41M 5s\n",
      "  5150K .......... .......... .......... .......... .......... 94% 1.49M 4s\n",
      "  5200K .......... .......... .......... .......... .......... 95%  630K 3s\n",
      "  5250K .......... .......... .......... .......... .......... 96%  253K 3s\n",
      "  5300K .......... .......... .......... .......... .......... 97% 1.49M 2s\n",
      "  5350K .......... .......... .......... .......... .......... 97%  328K 1s\n",
      "  5400K .......... .......... .......... .......... .......... 98%  976K 1s\n",
      "  5450K .......... .......... .......... .......... .......... 99%  418K 0s\n",
      "  5500K .......... .                                          100%  286K=66s\n",
      "\n",
      "2021-01-20 23:57:45 (82.9 KB/s) - '/tmp/sarcasm.json' saved [5643545/5643545]\n",
      "\n"
     ]
    }
   ],
   "source": [
    "!wget --no-check-certificate \\\n",
    "    https://storage.googleapis.com/laurencemoroney-blog.appspot.com/sarcasm.json \\\n",
    "    -O /tmp/sarcasm.json\n"
   ]
  },
  {
   "cell_type": "code",
   "execution_count": 7,
   "metadata": {
    "id": "oaLaaqhNkUPd"
   },
   "outputs": [
    {
     "name": "stdout",
     "output_type": "stream",
     "text": [
      "<module 'ntpath' from 'C:\\\\Users\\\\asif1\\\\anaconda3\\\\lib\\\\ntpath.py'>\n"
     ]
    }
   ],
   "source": [
    "import os\n",
    "with open(\"/tmp/sarcasm.json\", 'r') as f:\n",
    "    datastore = json.load(f)\n",
    "    print(os.path)\n",
    "\n",
    "sentences = []\n",
    "labels = []\n",
    "\n",
    "for item in datastore:\n",
    "    sentences.append(item['headline'])\n",
    "    labels.append(item['is_sarcastic'])"
   ]
  },
  {
   "cell_type": "code",
   "execution_count": 5,
   "metadata": {},
   "outputs": [
    {
     "data": {
      "text/plain": [
       "'C:\\\\Users\\\\asif1\\\\Git\\\\Deep Learning\\\\NLP_Zero_to_Hero'"
      ]
     },
     "execution_count": 5,
     "metadata": {},
     "output_type": "execute_result"
    }
   ],
   "source": [
    "pwd"
   ]
  },
  {
   "cell_type": "code",
   "execution_count": 8,
   "metadata": {
    "id": "S1sD-7v0kYWk"
   },
   "outputs": [],
   "source": [
    "training_sentences = sentences[0:training_size]\n",
    "training_labels = labels[0:training_size]\n",
    "\n",
    "testing_sentences = sentences[training_size:]\n",
    "testing_labels = labels[training_size:]"
   ]
  },
  {
   "cell_type": "code",
   "execution_count": 9,
   "metadata": {
    "id": "3u8UB0MCkZ5N"
   },
   "outputs": [],
   "source": [
    "tokenizer = Tokenizer(num_words=vocab_size, oov_token=oov_tok)\n",
    "tokenizer.fit_on_texts(training_sentences)\n",
    "\n",
    "word_index = tokenizer.word_index\n",
    "\n",
    "training_sequences = tokenizer.texts_to_sequences(training_sentences)\n",
    "training_padded = pad_sequences(training_sequences, maxlen=max_length, padding=padding_type, truncating=trunc_type)\n",
    "\n",
    "testing_sequences = tokenizer.texts_to_sequences(testing_sentences)\n",
    "testing_padded = pad_sequences(testing_sequences, maxlen=max_length, padding=padding_type, truncating=trunc_type)"
   ]
  },
  {
   "cell_type": "code",
   "execution_count": 11,
   "metadata": {
    "id": "GrAlWBKf99Ya"
   },
   "outputs": [],
   "source": [
    "# Need this block to get it to work with TensorFlow 2.x\n",
    "import numpy as np\n",
    "training_padded = np.array(training_padded)\n",
    "training_labels = np.array(training_labels)\n",
    "testing_padded = np.array(testing_padded)\n",
    "testing_labels = np.array(testing_labels)"
   ]
  },
  {
   "cell_type": "code",
   "execution_count": 12,
   "metadata": {
    "id": "FufaT4vlkiDE"
   },
   "outputs": [],
   "source": [
    "model = tf.keras.Sequential([\n",
    "    tf.keras.layers.Embedding(vocab_size, embedding_dim, input_length=max_length),\n",
    "    tf.keras.layers.GlobalAveragePooling1D(),\n",
    "    tf.keras.layers.Dense(24, activation='relu'),\n",
    "    tf.keras.layers.Dense(1, activation='sigmoid')\n",
    "])\n",
    "model.compile(loss='binary_crossentropy',optimizer='adam',metrics=['accuracy'])"
   ]
  },
  {
   "cell_type": "code",
   "execution_count": 13,
   "metadata": {
    "id": "XfDt1hmYkiys"
   },
   "outputs": [
    {
     "name": "stdout",
     "output_type": "stream",
     "text": [
      "Model: \"sequential\"\n",
      "_________________________________________________________________\n",
      "Layer (type)                 Output Shape              Param #   \n",
      "=================================================================\n",
      "embedding (Embedding)        (None, 100, 16)           160000    \n",
      "_________________________________________________________________\n",
      "global_average_pooling1d (Gl (None, 16)                0         \n",
      "_________________________________________________________________\n",
      "dense (Dense)                (None, 24)                408       \n",
      "_________________________________________________________________\n",
      "dense_1 (Dense)              (None, 1)                 25        \n",
      "=================================================================\n",
      "Total params: 160,433\n",
      "Trainable params: 160,433\n",
      "Non-trainable params: 0\n",
      "_________________________________________________________________\n"
     ]
    }
   ],
   "source": [
    "model.summary()\n"
   ]
  },
  {
   "cell_type": "code",
   "execution_count": 14,
   "metadata": {
    "id": "2DTKQFf1kkyc"
   },
   "outputs": [
    {
     "name": "stdout",
     "output_type": "stream",
     "text": [
      "Epoch 1/30\n",
      "625/625 - 4s - loss: 0.6565 - accuracy: 0.5987 - val_loss: 0.5512 - val_accuracy: 0.7387\n",
      "Epoch 2/30\n",
      "625/625 - 2s - loss: 0.4163 - accuracy: 0.8357 - val_loss: 0.3819 - val_accuracy: 0.8413\n",
      "Epoch 3/30\n",
      "625/625 - 2s - loss: 0.3070 - accuracy: 0.8801 - val_loss: 0.3591 - val_accuracy: 0.8457\n",
      "Epoch 4/30\n",
      "625/625 - 2s - loss: 0.2563 - accuracy: 0.9001 - val_loss: 0.3521 - val_accuracy: 0.8454\n",
      "Epoch 5/30\n",
      "625/625 - 2s - loss: 0.2197 - accuracy: 0.9164 - val_loss: 0.3452 - val_accuracy: 0.8541\n",
      "Epoch 6/30\n",
      "625/625 - 2s - loss: 0.1953 - accuracy: 0.9259 - val_loss: 0.3552 - val_accuracy: 0.8547\n",
      "Epoch 7/30\n",
      "625/625 - 2s - loss: 0.1746 - accuracy: 0.9344 - val_loss: 0.3707 - val_accuracy: 0.8501\n",
      "Epoch 8/30\n",
      "625/625 - 2s - loss: 0.1544 - accuracy: 0.9441 - val_loss: 0.3896 - val_accuracy: 0.8466\n",
      "Epoch 9/30\n",
      "625/625 - 2s - loss: 0.1408 - accuracy: 0.9491 - val_loss: 0.3960 - val_accuracy: 0.8505\n",
      "Epoch 10/30\n",
      "625/625 - 2s - loss: 0.1279 - accuracy: 0.9542 - val_loss: 0.4241 - val_accuracy: 0.8457\n",
      "Epoch 11/30\n",
      "625/625 - 2s - loss: 0.1171 - accuracy: 0.9602 - val_loss: 0.4433 - val_accuracy: 0.8447\n",
      "Epoch 12/30\n",
      "625/625 - 2s - loss: 0.1062 - accuracy: 0.9633 - val_loss: 0.4578 - val_accuracy: 0.8468\n",
      "Epoch 13/30\n",
      "625/625 - 2s - loss: 0.0976 - accuracy: 0.9667 - val_loss: 0.4883 - val_accuracy: 0.8393\n",
      "Epoch 14/30\n",
      "625/625 - 2s - loss: 0.0890 - accuracy: 0.9693 - val_loss: 0.5086 - val_accuracy: 0.8417\n",
      "Epoch 15/30\n",
      "625/625 - 2s - loss: 0.0830 - accuracy: 0.9730 - val_loss: 0.5526 - val_accuracy: 0.8354\n",
      "Epoch 16/30\n",
      "625/625 - 2s - loss: 0.0784 - accuracy: 0.9736 - val_loss: 0.5691 - val_accuracy: 0.8347\n",
      "Epoch 17/30\n",
      "625/625 - 2s - loss: 0.0703 - accuracy: 0.9776 - val_loss: 0.5885 - val_accuracy: 0.8334\n",
      "Epoch 18/30\n",
      "625/625 - 2s - loss: 0.0639 - accuracy: 0.9804 - val_loss: 0.6208 - val_accuracy: 0.8299\n",
      "Epoch 19/30\n",
      "625/625 - 2s - loss: 0.0595 - accuracy: 0.9822 - val_loss: 0.6525 - val_accuracy: 0.8299\n",
      "Epoch 20/30\n",
      "625/625 - 2s - loss: 0.0549 - accuracy: 0.9839 - val_loss: 0.6851 - val_accuracy: 0.8283\n",
      "Epoch 21/30\n",
      "625/625 - 2s - loss: 0.0501 - accuracy: 0.9848 - val_loss: 0.7198 - val_accuracy: 0.8256\n",
      "Epoch 22/30\n",
      "625/625 - 2s - loss: 0.0463 - accuracy: 0.9858 - val_loss: 0.7771 - val_accuracy: 0.8246\n",
      "Epoch 23/30\n",
      "625/625 - 2s - loss: 0.0447 - accuracy: 0.9857 - val_loss: 0.7902 - val_accuracy: 0.8223\n",
      "Epoch 24/30\n",
      "625/625 - 1s - loss: 0.0394 - accuracy: 0.9882 - val_loss: 0.8229 - val_accuracy: 0.8179\n",
      "Epoch 25/30\n",
      "625/625 - 2s - loss: 0.0385 - accuracy: 0.9886 - val_loss: 0.8746 - val_accuracy: 0.8189\n",
      "Epoch 26/30\n",
      "625/625 - 2s - loss: 0.0330 - accuracy: 0.9909 - val_loss: 0.9535 - val_accuracy: 0.8170\n",
      "Epoch 27/30\n",
      "625/625 - 2s - loss: 0.0331 - accuracy: 0.9902 - val_loss: 0.9503 - val_accuracy: 0.8183\n",
      "Epoch 28/30\n",
      "625/625 - 2s - loss: 0.0313 - accuracy: 0.9908 - val_loss: 0.9974 - val_accuracy: 0.8177\n",
      "Epoch 29/30\n",
      "625/625 - 2s - loss: 0.0264 - accuracy: 0.9934 - val_loss: 1.0661 - val_accuracy: 0.8161\n",
      "Epoch 30/30\n",
      "625/625 - 1s - loss: 0.0253 - accuracy: 0.9930 - val_loss: 1.0345 - val_accuracy: 0.8141\n"
     ]
    }
   ],
   "source": [
    "num_epochs = 30\n",
    "history = model.fit(training_padded, training_labels, epochs=num_epochs, validation_data=(testing_padded, testing_labels), verbose=2)"
   ]
  },
  {
   "cell_type": "code",
   "execution_count": 18,
   "metadata": {
    "id": "2HYfBKXjkmU8"
   },
   "outputs": [
    {
     "data": {
      "image/png": "[encoded data removed]",
      "text/plain": [
       "<Figure size 432x288 with 1 Axes>"
      ]
     },
     "metadata": {
      "needs_background": "light"
     },
     "output_type": "display_data"
    },
    {
     "data": {
      "image/png": "[encoded data removed]",
      "text/plain": [
       "<Figure size 432x288 with 1 Axes>"
      ]
     },
     "metadata": {
      "needs_background": "light"
     },
     "output_type": "display_data"
    }
   ],
   "source": [
    "import matplotlib.pyplot as plt\n",
    "\n",
    "\n",
    "def plot_graphs(history, string):\n",
    "  plt.plot(history.history[string])\n",
    "  plt.plot(history.history['val_'+string])\n",
    "  plt.xlabel(\"Epochs\")\n",
    "  plt.ylabel(string)\n",
    "  plt.legend([string, 'val_'+string])\n",
    "  plt.show()\n",
    "  \n",
    "plot_graphs(history, \"accuracy\")\n",
    "plot_graphs(history, \"loss\")"
   ]
  },
  {
   "cell_type": "code",
   "execution_count": 19,
   "metadata": {
    "id": "7SBdAZAenvzL"
   },
   "outputs": [
    {
     "name": "stdout",
     "output_type": "stream",
     "text": [
      "former <OOV> store clerk sues over secret 'black <OOV> for minority shoppers ? ? ? ? ? ? ? ? ? ? ? ? ? ? ? ? ? ? ? ? ? ? ? ? ? ? ? ? ? ? ? ? ? ? ? ? ? ? ? ? ? ? ? ? ? ? ? ? ? ? ? ? ? ? ? ? ? ? ? ? ? ? ? ? ? ? ? ? ? ? ? ? ? ? ? ? ? ? ? ? ? ? ? ? ? ? ? ?\n",
      "mom starting to fear son's web series closest thing she will have to grandchild\n",
      "1\n"
     ]
    }
   ],
   "source": [
    "reverse_word_index = dict([(value, key) for (key, value) in word_index.items()])\n",
    "\n",
    "def decode_sentence(text):\n",
    "    return ' '.join([reverse_word_index.get(i, '?') for i in text])\n",
    "\n",
    "print(decode_sentence(training_padded[0]))\n",
    "print(training_sentences[2])\n",
    "print(labels[2])"
   ]
  },
  {
   "cell_type": "code",
   "execution_count": 20,
   "metadata": {
    "id": "c9MqihtEkzQ9"
   },
   "outputs": [
    {
     "name": "stdout",
     "output_type": "stream",
     "text": [
      "(10000, 16)\n"
     ]
    }
   ],
   "source": [
    "e = model.layers[0]\n",
    "weights = e.get_weights()[0]\n",
    "print(weights.shape) # shape: (vocab_size, embedding_dim)\n"
   ]
  },
  {
   "cell_type": "code",
   "execution_count": 21,
   "metadata": {
    "id": "LoBXVffknldU"
   },
   "outputs": [],
   "source": [
    "import io\n",
    "\n",
    "out_v = io.open('vecs.tsv', 'w', encoding='utf-8')\n",
    "out_m = io.open('meta.tsv', 'w', encoding='utf-8')\n",
    "for word_num in range(1, vocab_size):\n",
    "  word = reverse_word_index[word_num]\n",
    "  embeddings = weights[word_num]\n",
    "  out_m.write(word + \"\\n\")\n",
    "  out_v.write('\\t'.join([str(x) for x in embeddings]) + \"\\n\")\n",
    "out_v.close()\n",
    "out_m.close()"
   ]
  },
  {
   "cell_type": "code",
   "execution_count": 22,
   "metadata": {
    "id": "U4eZ5HtVnnEE"
   },
   "outputs": [],
   "source": [
    "try:\n",
    "  from google.colab import files\n",
    "except ImportError:\n",
    "  pass\n",
    "else:\n",
    "  files.download('vecs.tsv')\n",
    "  files.download('meta.tsv')"
   ]
  },
  {
   "cell_type": "code",
   "execution_count": 23,
   "metadata": {
    "id": "cG8-ArY-qDcz"
   },
   "outputs": [
    {
     "name": "stdout",
     "output_type": "stream",
     "text": [
      "[[9.4816089e-01]\n",
      " [2.9930472e-04]]\n"
     ]
    }
   ],
   "source": [
    "sentence = [\"granny starting to fear spiders in the garden might be real\", \"game of thrones season finale showing this sunday night\"]\n",
    "sequences = tokenizer.texts_to_sequences(sentence)\n",
    "padded = pad_sequences(sequences, maxlen=max_length, padding=padding_type, truncating=trunc_type)\n",
    "print(model.predict(padded))"
   ]
  },
  {
   "cell_type": "code",
   "execution_count": null,
   "metadata": {},
   "outputs": [],
   "source": []
  }
 ],
 "metadata": {
  "accelerator": "GPU",
  "colab": {
   "collapsed_sections": [],
   "name": "Course 3 - Week 2 - Lesson 2.ipynb",
   "provenance": [],
   "toc_visible": true
  },
  "kernelspec": {
   "display_name": "Python 3",
   "language": "python",
   "name": "python3"
  },
  "language_info": {
   "codemirror_mode": {
    "name": "ipython",
    "version": 3
   },
   "file_extension": ".py",
   "mimetype": "text/x-python",
   "name": "python",
   "nbconvert_exporter": "python",
   "pygments_lexer": "ipython3",
   "version": "3.8.5"
  }
 },
 "nbformat": 4,
 "nbformat_minor": 1
}
