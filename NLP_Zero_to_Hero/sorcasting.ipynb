{
 "cells": [
  {
   "cell_type": "code",
   "execution_count": 1,
   "id": "dense-register",
   "metadata": {},
   "outputs": [
    {
     "name": "stdout",
     "output_type": "stream",
     "text": [
      "[\r\n",
      "{\"article_link\": \"https://www.huffingtonpost.com/entry/versace-black-code_us_5861fbefe4b0de3a08f600d5\", \"headline\": \"former versace store clerk sues over secret 'black code' for minority shoppers\", \"is_sarcastic\": 0},\r\n",
      "{\"article_link\": \"https://www.huffingtonpost.com/entry/roseanne-revival-review_us_5ab3a497e4b054d118e04365\", \"headline\": \"the 'roseanne' revival catches up to our thorny political mood, for better and worse\", \"is_sarcastic\": 0},\n"
     ]
    }
   ],
   "source": [
    "# Importing required libraries\n",
    "import json\n",
    "import tensorflow as tf\n",
    "import requests\n",
    "import numpy as np\n",
    "import pandas as pd\n",
    "from tensorflow.keras.preprocessing.text import Tokenizer\n",
    "from tensorflow.keras.preprocessing.sequence import pad_sequences\n",
    "# Get the dataset\n",
    "srcsm_json = requests.get('https://storage.googleapis.com/laurencemoroney-blog.appspot.com/sarcasm.json')\n",
    "# Inspecting the data, print 450 characters\n",
    "print(srcsm_json.text[0:450])"
   ]
  },
  {
   "cell_type": "code",
   "execution_count": 4,
   "id": "dirty-deputy",
   "metadata": {},
   "outputs": [
    {
     "name": "stdout",
     "output_type": "stream",
     "text": [
      "                                            sentence  label  urls\n",
      "0  former versace store clerk sues over secret 'b...      0     0\n",
      "1  the 'roseanne' revival catches up to our thorn...      0     0\n",
      "2  mom starting to fear son's web series closest ...      1     1\n",
      "3  boehner just wants wife to listen, not come up...      1     1\n",
      "4  j.k. rowling wishes snape happy birthday in th...      0     0\n",
      "5                        advancing the world's women      0     0\n",
      "6     the fascinating case for eating lab-grown meat      0     0\n",
      "7  this ceo will send your kids to school, if you...      0     0\n",
      "8  top snake handler leaves sinking huckabee camp...      1     1\n",
      "9  friday's morning email: inside trump's presser...      0     0\n"
     ]
    }
   ],
   "source": [
    "# Separate the json into sentences and labels\n",
    "sentences = []\n",
    "labels = []\n",
    "urls = []\n",
    "for item in srcsm_json.json():\n",
    "    sentences.append(item['headline'])\n",
    "    labels.append(item['is_sarcastic'])\n",
    "    urls.append(item['article_link'])\n",
    "print(pd.DataFrame({'sentence' : sentences[0:10], 'label':labels[0:10],'urls':labels[0:10]}))"
   ]
  },
  {
   "cell_type": "code",
   "execution_count": 5,
   "id": "exceptional-barrel",
   "metadata": {},
   "outputs": [],
   "source": [
    "# Splitting the dataset into Train and Test\n",
    "training_size = round(len(sentences) * .75)\n",
    "training_sentences = sentences[0:training_size]\n",
    "testing_sentences = sentences[training_size:]\n",
    "training_labels = labels[0:training_size]\n",
    "testing_labels = labels[training_size:]\n",
    "# Setting tokenizer properties\n",
    "vocab_size = 10000\n",
    "oov_tok = \"<oov>\"\n",
    "# Fit the tokenizer on Training data\n",
    "tokenizer = Tokenizer(num_words=vocab_size, oov_token=oov_tok)\n",
    "tokenizer.fit_on_texts(training_sentences)\n",
    "word_index = tokenizer.word_index\n",
    "# Setting the padding properties\n",
    "max_length = 100\n",
    "trunc_type='post'\n",
    "padding_type='post'\n",
    "# Creating padded sequences from train and test data\n",
    "training_sequences = tokenizer.texts_to_sequences(training_sentences)\n",
    "training_padded = pad_sequences(training_sequences, maxlen=max_length, padding=padding_type, truncating=trunc_type)\n",
    "testing_sequences = tokenizer.texts_to_sequences(testing_sentences)\n",
    "testing_padded = pad_sequences(testing_sequences, maxlen=max_length, padding=padding_type, truncating=trunc_type)"
   ]
  },
  {
   "cell_type": "code",
   "execution_count": 6,
   "id": "increasing-purchase",
   "metadata": {},
   "outputs": [
    {
     "name": "stdout",
     "output_type": "stream",
     "text": [
      "Model: \"sequential\"\n",
      "_________________________________________________________________\n",
      "Layer (type)                 Output Shape              Param #   \n",
      "=================================================================\n",
      "embedding (Embedding)        (None, 100, 16)           160000    \n",
      "_________________________________________________________________\n",
      "global_average_pooling1d (Gl (None, 16)                0         \n",
      "_________________________________________________________________\n",
      "dense (Dense)                (None, 24)                408       \n",
      "_________________________________________________________________\n",
      "dense_1 (Dense)              (None, 1)                 25        \n",
      "=================================================================\n",
      "Total params: 160,433\n",
      "Trainable params: 160,433\n",
      "Non-trainable params: 0\n",
      "_________________________________________________________________\n"
     ]
    }
   ],
   "source": [
    "# Setting the model parameters\n",
    "embedding_dim = 16\n",
    "model = tf.keras.Sequential([\n",
    "    tf.keras.layers.Embedding(vocab_size, embedding_dim, input_length=max_length),\n",
    "    tf.keras.layers.GlobalAveragePooling1D(),\n",
    "    tf.keras.layers.Dense(24, activation='relu'),\n",
    "    tf.keras.layers.Dense(1, activation='sigmoid')\n",
    "])\n",
    "model.compile(loss='binary_crossentropy',optimizer='adam',metrics=['accuracy'])\n",
    "model.summary()"
   ]
  },
  {
   "cell_type": "code",
   "execution_count": 7,
   "id": "personal-compilation",
   "metadata": {},
   "outputs": [
    {
     "name": "stdout",
     "output_type": "stream",
     "text": [
      "Epoch 1/30\n",
      "626/626 - 5s - loss: 0.6662 - accuracy: 0.5764 - val_loss: 0.5957 - val_accuracy: 0.7428\n",
      "Epoch 2/30\n",
      "626/626 - 2s - loss: 0.4566 - accuracy: 0.8234 - val_loss: 0.4023 - val_accuracy: 0.8287\n",
      "Epoch 3/30\n",
      "626/626 - 2s - loss: 0.3250 - accuracy: 0.8744 - val_loss: 0.3599 - val_accuracy: 0.8496\n",
      "Epoch 4/30\n",
      "626/626 - 2s - loss: 0.2709 - accuracy: 0.8948 - val_loss: 0.3775 - val_accuracy: 0.8290\n",
      "Epoch 5/30\n",
      "626/626 - 2s - loss: 0.2336 - accuracy: 0.9098 - val_loss: 0.3431 - val_accuracy: 0.8553\n",
      "Epoch 6/30\n",
      "626/626 - 2s - loss: 0.2053 - accuracy: 0.9217 - val_loss: 0.3497 - val_accuracy: 0.8520\n",
      "Epoch 7/30\n",
      "626/626 - 2s - loss: 0.1827 - accuracy: 0.9316 - val_loss: 0.3569 - val_accuracy: 0.8564\n",
      "Epoch 8/30\n",
      "626/626 - 2s - loss: 0.1647 - accuracy: 0.9375 - val_loss: 0.3668 - val_accuracy: 0.8555\n",
      "Epoch 9/30\n",
      "626/626 - 2s - loss: 0.1473 - accuracy: 0.9468 - val_loss: 0.3834 - val_accuracy: 0.8564\n",
      "Epoch 10/30\n",
      "626/626 - 2s - loss: 0.1345 - accuracy: 0.9528 - val_loss: 0.4080 - val_accuracy: 0.8495\n",
      "Epoch 11/30\n",
      "626/626 - 2s - loss: 0.1220 - accuracy: 0.9574 - val_loss: 0.4215 - val_accuracy: 0.8505\n",
      "Epoch 12/30\n",
      "626/626 - 2s - loss: 0.1123 - accuracy: 0.9616 - val_loss: 0.4453 - val_accuracy: 0.8483\n",
      "Epoch 13/30\n",
      "626/626 - 2s - loss: 0.1021 - accuracy: 0.9657 - val_loss: 0.4953 - val_accuracy: 0.8362\n",
      "Epoch 14/30\n",
      "626/626 - 2s - loss: 0.0953 - accuracy: 0.9681 - val_loss: 0.4985 - val_accuracy: 0.8390\n",
      "Epoch 15/30\n",
      "626/626 - 2s - loss: 0.0879 - accuracy: 0.9704 - val_loss: 0.5241 - val_accuracy: 0.8409\n",
      "Epoch 16/30\n",
      "626/626 - 2s - loss: 0.0791 - accuracy: 0.9745 - val_loss: 0.5699 - val_accuracy: 0.8345\n",
      "Epoch 17/30\n",
      "626/626 - 2s - loss: 0.0746 - accuracy: 0.9761 - val_loss: 0.5833 - val_accuracy: 0.8375\n",
      "Epoch 18/30\n",
      "626/626 - 2s - loss: 0.0685 - accuracy: 0.9786 - val_loss: 0.6035 - val_accuracy: 0.8356\n",
      "Epoch 19/30\n",
      "626/626 - 2s - loss: 0.0629 - accuracy: 0.9799 - val_loss: 0.6569 - val_accuracy: 0.8314\n",
      "Epoch 20/30\n",
      "626/626 - 2s - loss: 0.0583 - accuracy: 0.9822 - val_loss: 0.6809 - val_accuracy: 0.8296\n",
      "Epoch 21/30\n",
      "626/626 - 2s - loss: 0.0542 - accuracy: 0.9831 - val_loss: 0.7214 - val_accuracy: 0.8287\n",
      "Epoch 22/30\n",
      "626/626 - 2s - loss: 0.0515 - accuracy: 0.9837 - val_loss: 0.7242 - val_accuracy: 0.8300\n",
      "Epoch 23/30\n",
      "626/626 - 2s - loss: 0.0457 - accuracy: 0.9864 - val_loss: 0.7641 - val_accuracy: 0.8276\n",
      "Epoch 24/30\n",
      "626/626 - 2s - loss: 0.0424 - accuracy: 0.9879 - val_loss: 0.8174 - val_accuracy: 0.8227\n",
      "Epoch 25/30\n",
      "626/626 - 2s - loss: 0.0401 - accuracy: 0.9885 - val_loss: 0.8296 - val_accuracy: 0.8230\n",
      "Epoch 26/30\n",
      "626/626 - 2s - loss: 0.0359 - accuracy: 0.9891 - val_loss: 0.9193 - val_accuracy: 0.8200\n",
      "Epoch 27/30\n",
      "626/626 - 2s - loss: 0.0331 - accuracy: 0.9907 - val_loss: 0.9980 - val_accuracy: 0.8185\n",
      "Epoch 28/30\n",
      "626/626 - 1s - loss: 0.0316 - accuracy: 0.9910 - val_loss: 0.9650 - val_accuracy: 0.8200\n",
      "Epoch 29/30\n",
      "626/626 - 2s - loss: 0.0276 - accuracy: 0.9923 - val_loss: 1.0028 - val_accuracy: 0.8170\n",
      "Epoch 30/30\n",
      "626/626 - 2s - loss: 0.0256 - accuracy: 0.9933 - val_loss: 1.0178 - val_accuracy: 0.8164\n"
     ]
    }
   ],
   "source": [
    "# Converting the lists to numpy arrays for Tensorflow 2.x\n",
    "training_padded = np.array(training_padded)\n",
    "training_labels = np.array(training_labels)\n",
    "testing_padded = np.array(testing_padded)\n",
    "testing_labels = np.array(testing_labels)\n",
    "# Training the model\n",
    "num_epochs = 30\n",
    "history = model.fit(training_padded, training_labels, epochs=num_epochs, validation_data=(testing_padded, testing_labels), verbose=2)"
   ]
  },
  {
   "cell_type": "code",
   "execution_count": 8,
   "id": "affected-marketing",
   "metadata": {},
   "outputs": [
    {
     "name": "stdout",
     "output_type": "stream",
     "text": [
      "[[0.9996165 ]\n",
      " [0.20619968]]\n"
     ]
    }
   ],
   "source": [
    "sentence = [\"Coworkers At Bathroom Sink Locked In Tense Standoff Over Who Going To Wash Hands Longer\", \n",
    "            \"Spiking U.S. coronavirus cases could force rationing decisions similar to those made in Italy, China.\"]\n",
    "sequences = tokenizer.texts_to_sequences(sentence)\n",
    "padded = pad_sequences(sequences, maxlen=max_length, padding=padding_type, truncating=trunc_type)\n",
    "print(model.predict(padded))"
   ]
  },
  {
   "cell_type": "code",
   "execution_count": null,
   "id": "enormous-gross",
   "metadata": {},
   "outputs": [],
   "source": []
  }
 ],
 "metadata": {
  "kernelspec": {
   "display_name": "Python 3",
   "language": "python",
   "name": "python3"
  },
  "language_info": {
   "codemirror_mode": {
    "name": "ipython",
    "version": 3
   },
   "file_extension": ".py",
   "mimetype": "text/x-python",
   "name": "python",
   "nbconvert_exporter": "python",
   "pygments_lexer": "ipython3",
   "version": "3.8.5"
  }
 },
 "nbformat": 4,
 "nbformat_minor": 5
}
